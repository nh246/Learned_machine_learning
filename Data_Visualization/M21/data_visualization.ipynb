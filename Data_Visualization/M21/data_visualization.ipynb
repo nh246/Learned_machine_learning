{
 "cells": [
  {
   "cell_type": "markdown",
   "id": "43db1ea9",
   "metadata": {},
   "source": [
    "# Dataviz"
   ]
  },
  {
   "cell_type": "markdown",
   "id": "49fdd453",
   "metadata": {},
   "source": [
    "## Import libraries"
   ]
  },
  {
   "cell_type": "code",
   "execution_count": 1,
   "id": "33813f29",
   "metadata": {},
   "outputs": [],
   "source": [
    "import pandas as pd\n",
    "import numpy as np\n",
    "import matplotlib.pyplot as plt\n",
    "import seaborn as sns"
   ]
  },
  {
   "cell_type": "code",
   "execution_count": 5,
   "id": "23346b4b",
   "metadata": {},
   "outputs": [
    {
     "data": {
      "application/vnd.microsoft.datawrangler.viewer.v0+json": {
       "columns": [
        {
         "name": "index",
         "rawType": "int64",
         "type": "integer"
        },
        {
         "name": "survived",
         "rawType": "int64",
         "type": "integer"
        },
        {
         "name": "pclass",
         "rawType": "int64",
         "type": "integer"
        },
        {
         "name": "sex",
         "rawType": "object",
         "type": "string"
        },
        {
         "name": "age",
         "rawType": "float64",
         "type": "float"
        },
        {
         "name": "sibsp",
         "rawType": "int64",
         "type": "integer"
        },
        {
         "name": "parch",
         "rawType": "int64",
         "type": "integer"
        },
        {
         "name": "fare",
         "rawType": "float64",
         "type": "float"
        },
        {
         "name": "embarked",
         "rawType": "object",
         "type": "string"
        },
        {
         "name": "class",
         "rawType": "category",
         "type": "unknown"
        },
        {
         "name": "who",
         "rawType": "object",
         "type": "string"
        },
        {
         "name": "adult_male",
         "rawType": "bool",
         "type": "boolean"
        },
        {
         "name": "deck",
         "rawType": "category",
         "type": "unknown"
        },
        {
         "name": "embark_town",
         "rawType": "object",
         "type": "string"
        },
        {
         "name": "alive",
         "rawType": "object",
         "type": "string"
        },
        {
         "name": "alone",
         "rawType": "bool",
         "type": "boolean"
        }
       ],
       "ref": "87d1b047-70d4-422b-a349-16167cbf3353",
       "rows": [
        [
         "0",
         "0",
         "3",
         "male",
         "22.0",
         "1",
         "0",
         "7.25",
         "S",
         "Third",
         "man",
         "True",
         null,
         "Southampton",
         "no",
         "False"
        ],
        [
         "1",
         "1",
         "1",
         "female",
         "38.0",
         "1",
         "0",
         "71.2833",
         "C",
         "First",
         "woman",
         "False",
         "C",
         "Cherbourg",
         "yes",
         "False"
        ],
        [
         "2",
         "1",
         "3",
         "female",
         "26.0",
         "0",
         "0",
         "7.925",
         "S",
         "Third",
         "woman",
         "False",
         null,
         "Southampton",
         "yes",
         "True"
        ],
        [
         "3",
         "1",
         "1",
         "female",
         "35.0",
         "1",
         "0",
         "53.1",
         "S",
         "First",
         "woman",
         "False",
         "C",
         "Southampton",
         "yes",
         "False"
        ],
        [
         "4",
         "0",
         "3",
         "male",
         "35.0",
         "0",
         "0",
         "8.05",
         "S",
         "Third",
         "man",
         "True",
         null,
         "Southampton",
         "no",
         "True"
        ]
       ],
       "shape": {
        "columns": 15,
        "rows": 5
       }
      },
      "text/html": [
       "<div>\n",
       "<style scoped>\n",
       "    .dataframe tbody tr th:only-of-type {\n",
       "        vertical-align: middle;\n",
       "    }\n",
       "\n",
       "    .dataframe tbody tr th {\n",
       "        vertical-align: top;\n",
       "    }\n",
       "\n",
       "    .dataframe thead th {\n",
       "        text-align: right;\n",
       "    }\n",
       "</style>\n",
       "<table border=\"1\" class=\"dataframe\">\n",
       "  <thead>\n",
       "    <tr style=\"text-align: right;\">\n",
       "      <th></th>\n",
       "      <th>survived</th>\n",
       "      <th>pclass</th>\n",
       "      <th>sex</th>\n",
       "      <th>age</th>\n",
       "      <th>sibsp</th>\n",
       "      <th>parch</th>\n",
       "      <th>fare</th>\n",
       "      <th>embarked</th>\n",
       "      <th>class</th>\n",
       "      <th>who</th>\n",
       "      <th>adult_male</th>\n",
       "      <th>deck</th>\n",
       "      <th>embark_town</th>\n",
       "      <th>alive</th>\n",
       "      <th>alone</th>\n",
       "    </tr>\n",
       "  </thead>\n",
       "  <tbody>\n",
       "    <tr>\n",
       "      <th>0</th>\n",
       "      <td>0</td>\n",
       "      <td>3</td>\n",
       "      <td>male</td>\n",
       "      <td>22.0</td>\n",
       "      <td>1</td>\n",
       "      <td>0</td>\n",
       "      <td>7.2500</td>\n",
       "      <td>S</td>\n",
       "      <td>Third</td>\n",
       "      <td>man</td>\n",
       "      <td>True</td>\n",
       "      <td>NaN</td>\n",
       "      <td>Southampton</td>\n",
       "      <td>no</td>\n",
       "      <td>False</td>\n",
       "    </tr>\n",
       "    <tr>\n",
       "      <th>1</th>\n",
       "      <td>1</td>\n",
       "      <td>1</td>\n",
       "      <td>female</td>\n",
       "      <td>38.0</td>\n",
       "      <td>1</td>\n",
       "      <td>0</td>\n",
       "      <td>71.2833</td>\n",
       "      <td>C</td>\n",
       "      <td>First</td>\n",
       "      <td>woman</td>\n",
       "      <td>False</td>\n",
       "      <td>C</td>\n",
       "      <td>Cherbourg</td>\n",
       "      <td>yes</td>\n",
       "      <td>False</td>\n",
       "    </tr>\n",
       "    <tr>\n",
       "      <th>2</th>\n",
       "      <td>1</td>\n",
       "      <td>3</td>\n",
       "      <td>female</td>\n",
       "      <td>26.0</td>\n",
       "      <td>0</td>\n",
       "      <td>0</td>\n",
       "      <td>7.9250</td>\n",
       "      <td>S</td>\n",
       "      <td>Third</td>\n",
       "      <td>woman</td>\n",
       "      <td>False</td>\n",
       "      <td>NaN</td>\n",
       "      <td>Southampton</td>\n",
       "      <td>yes</td>\n",
       "      <td>True</td>\n",
       "    </tr>\n",
       "    <tr>\n",
       "      <th>3</th>\n",
       "      <td>1</td>\n",
       "      <td>1</td>\n",
       "      <td>female</td>\n",
       "      <td>35.0</td>\n",
       "      <td>1</td>\n",
       "      <td>0</td>\n",
       "      <td>53.1000</td>\n",
       "      <td>S</td>\n",
       "      <td>First</td>\n",
       "      <td>woman</td>\n",
       "      <td>False</td>\n",
       "      <td>C</td>\n",
       "      <td>Southampton</td>\n",
       "      <td>yes</td>\n",
       "      <td>False</td>\n",
       "    </tr>\n",
       "    <tr>\n",
       "      <th>4</th>\n",
       "      <td>0</td>\n",
       "      <td>3</td>\n",
       "      <td>male</td>\n",
       "      <td>35.0</td>\n",
       "      <td>0</td>\n",
       "      <td>0</td>\n",
       "      <td>8.0500</td>\n",
       "      <td>S</td>\n",
       "      <td>Third</td>\n",
       "      <td>man</td>\n",
       "      <td>True</td>\n",
       "      <td>NaN</td>\n",
       "      <td>Southampton</td>\n",
       "      <td>no</td>\n",
       "      <td>True</td>\n",
       "    </tr>\n",
       "  </tbody>\n",
       "</table>\n",
       "</div>"
      ],
      "text/plain": [
       "   survived  pclass     sex   age  sibsp  parch     fare embarked  class  \\\n",
       "0         0       3    male  22.0      1      0   7.2500        S  Third   \n",
       "1         1       1  female  38.0      1      0  71.2833        C  First   \n",
       "2         1       3  female  26.0      0      0   7.9250        S  Third   \n",
       "3         1       1  female  35.0      1      0  53.1000        S  First   \n",
       "4         0       3    male  35.0      0      0   8.0500        S  Third   \n",
       "\n",
       "     who  adult_male deck  embark_town alive  alone  \n",
       "0    man        True  NaN  Southampton    no  False  \n",
       "1  woman       False    C    Cherbourg   yes  False  \n",
       "2  woman       False  NaN  Southampton   yes   True  \n",
       "3  woman       False    C  Southampton   yes  False  \n",
       "4    man        True  NaN  Southampton    no   True  "
      ]
     },
     "execution_count": 5,
     "metadata": {},
     "output_type": "execute_result"
    }
   ],
   "source": [
    "# import titanic dataset\n",
    "df= sns.load_dataset('titanic')\n",
    "df.head()"
   ]
  },
  {
   "cell_type": "code",
   "execution_count": 9,
   "id": "b255cc84",
   "metadata": {},
   "outputs": [
    {
     "data": {
      "text/plain": [
       "<Axes: xlabel='age', ylabel='fare'>"
      ]
     },
     "execution_count": 9,
     "metadata": {},
     "output_type": "execute_result"
    },
    {
     "data": {
      "image/png": "[encoded data removed]",
      "text/plain": [
       "<Figure size 640x480 with 1 Axes>"
      ]
     },
     "metadata": {},
     "output_type": "display_data"
    }
   ],
   "source": [
    "df.plot(kind='scatter', x='age', y='fare',color='red')\n"
   ]
  },
  {
   "cell_type": "code",
   "execution_count": 10,
   "id": "f1f9f13d",
   "metadata": {},
   "outputs": [
    {
     "data": {
      "text/plain": [
       "<Axes: xlabel='sex'>"
      ]
     },
     "execution_count": 10,
     "metadata": {},
     "output_type": "execute_result"
    },
    {
     "data": {
      "image/png": "[encoded data removed]",
      "text/plain": [
       "<Figure size 640x480 with 1 Axes>"
      ]
     },
     "metadata": {},
     "output_type": "display_data"
    }
   ],
   "source": [
    "df.groupby('sex')['age'].mean().plot(kind='bar', color=['blue','pink'])"
   ]
  },
  {
   "cell_type": "code",
   "execution_count": 13,
   "id": "8659f7d5",
   "metadata": {},
   "outputs": [
    {
     "data": {
      "text/plain": [
       "<Axes: xlabel='survived', ylabel='fare'>"
      ]
     },
     "execution_count": 13,
     "metadata": {},
     "output_type": "execute_result"
    },
    {
     "data": {
      "image/png": "[encoded data removed]",
      "text/plain": [
       "<Figure size 640x480 with 1 Axes>"
      ]
     },
     "metadata": {},
     "output_type": "display_data"
    }
   ],
   "source": [
    "# seaborn plots\n",
    "sns.barplot(data=df, x='survived', y='fare')\n"
   ]
  },
  {
   "cell_type": "code",
   "execution_count": 15,
   "id": "89419179",
   "metadata": {},
   "outputs": [
    {
     "data": {
      "text/plain": [
       "<Axes: xlabel='survived', ylabel='age'>"
      ]
     },
     "execution_count": 15,
     "metadata": {},
     "output_type": "execute_result"
    },
    {
     "data": {
      "image/png": "[encoded data removed]",
      "text/plain": [
       "<Figure size 640x480 with 1 Axes>"
      ]
     },
     "metadata": {},
     "output_type": "display_data"
    }
   ],
   "source": [
    "sns.barplot(data=df, x='survived', y='age' , hue='class')\n"
   ]
  },
  {
   "cell_type": "code",
   "execution_count": null,
   "id": "334018f1",
   "metadata": {},
   "outputs": [
    {
     "ename": "SyntaxError",
     "evalue": "invalid syntax (3060239195.py, line 3)",
     "output_type": "error",
     "traceback": [
      "  \u001b[36mCell\u001b[39m\u001b[36m \u001b[39m\u001b[32mIn[16]\u001b[39m\u001b[32m, line 3\u001b[39m\n\u001b[31m    \u001b[39m\u001b[31mpip install plotly\u001b[39m\n        ^\n\u001b[31mSyntaxError\u001b[39m\u001b[31m:\u001b[39m invalid syntax\n"
     ]
    }
   ],
   "source": [
    "# using plotly\n",
    "\n"
   ]
  },
  {
   "cell_type": "code",
   "execution_count": 17,
   "id": "d88521da",
   "metadata": {},
   "outputs": [
    {
     "name": "stdout",
     "output_type": "stream",
     "text": [
      "Requirement already satisfied: plotly in e:\\conda_envs\\mynewenv\\lib\\site-packages (6.0.1)\n",
      "Requirement already satisfied: narwhals>=1.15.1 in e:\\conda_envs\\mynewenv\\lib\\site-packages (from plotly) (1.37.1)\n",
      "Requirement already satisfied: packaging in e:\\conda_envs\\mynewenv\\lib\\site-packages (from plotly) (25.0)\n",
      "Note: you may need to restart the kernel to use updated packages.\n"
     ]
    }
   ],
   "source": [
    "pip install plotly"
   ]
  },
  {
   "cell_type": "code",
   "execution_count": 18,
   "id": "7a724356",
   "metadata": {},
   "outputs": [],
   "source": [
    "import plotly.express as px"
   ]
  },
  {
   "cell_type": "code",
   "execution_count": 19,
   "id": "9ebf6cb8",
   "metadata": {},
   "outputs": [],
   "source": [
    "fig = px.scatter(df, x='age', y='fare', color='survived')"
   ]
  },
  {
   "cell_type": "code",
   "execution_count": 20,
   "id": "f41726ae",
   "metadata": {},
   "outputs": [
    {
     "data": {
      "application/vnd.plotly.v1+json": {
       "config": {
        "plotlyServerURL": "https://plot.ly"
       },
       "data": [
        {
         "hovertemplate": "age=%{x}<br>fare=%{y}<br>survived=%{marker.color}<extra></extra>",
         "legendgroup": "",
         "marker": {
          "color": {
           "bdata": "AAEBAQAAAAABAQEBAAAAAQABAAEAAQEBAAEAAAEAAAEBAAAAAQAAAQAAAAEBAAABAAAAAAEBAAEBAAEAAAEAAAABAQABAAAAAAABAAAAAQEAAQEAAQEAAAEAAAAAAAAAAAEBAAAAAAAAAAEBAAEAAAAAAAAAAAAAAAAAAQABAAEBAAAAAAEAAAEAAAAAAQEAAAABAAAAAAEAAAAAAQAAAAABAAAAAQEAAAAAAAEAAAAAAAAAAAAAAQEAAQEAAAEAAQEBAQAAAQAAAAAAAQAAAQEBAAEAAAABAQABAAEAAAABAAEAAAABAAABAAAAAQAAAAEAAAAAAAEBAAAAAAAAAQEBAQEAAQAAAAAAAQEBAAEBAAEBAAAAAQAAAAEAAAEAAQEBAQAAAAAAAAEBAQEAAQABAQEAAQEBAAAAAQEAAQEAAAEBAAEAAQEBAQAAAAEAAAEBAAEBAAAAAQEBAQAAAAAAAAABAAEBAAAAAAAAAQEBAQEAAAAAAQEAAAABAQABAAAAAQABAQEAAQEAAAAAAQEAAAAAAAABAAAAAAEAAQABAQAAAAAAAAAAAQEAAQEBAQAAAQABAAABAAABAQEBAQEBAAAAAQABAAEBAAEAAAAAAAAAAAEAAAEBAAAAAAABAAAAAQEAAQAAAQAAAAAAAAEAAAAAAAAAAQABAQABAQABAQAAAQABAAEAAAEAAAEAAAABAAABAAEAAQABAQAAAQAAAQEAAQEAAAEBAAEAAQEAAAAAAAAAAAABAQEBAQAAAQEAAQEBAAAAAQABAAAAAQAAAAABAAABAQAAAAEAAAEBAQAAAQAAAQAAAQAAAQEAAAAAAQAAAQABAAABAAAAAAABAAEBAQABAAEAAQABAAAAAAAAAQAAAAEAAAAAAQEAAAEAAAABAAEAAQAAAAAAAAABAQEBAAAAAAEAAAEBAAAAAAEBAQEBAAEAAAABAQAAAQAAAAEAAQEAAAEAAAAAAAABAAABAAEAAQAAAQAAAQEAAAEBAAAAAQAAAQEAAQAAAAAAAAAAAQAAAQABAQEAAAAAAQABAAAAAAAAAAEBAAAAAQEBAQAAAAABAAAAAAAAAAAAAAEBAAEAAAABAQEBAQAAAAEAAAEBAAABAAAAAAAAAQAAAAEAAQEBAQAAAAEAAAEBAAABAAEAAAEBAAAAAQEAAAAAAAABAAEA",
           "dtype": "i1"
          },
          "coloraxis": "coloraxis",
          "symbol": "circle"
         },
         "mode": "markers",
         "name": "",
         "orientation": "v",
         "showlegend": false,
         "type": "scatter",
         "x": {
          "bdata": "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",
          "dtype": "f8"
         },
         "xaxis": "x",
         "y": {
          "bdata": "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",
          "dtype": "f8"
         },
         "yaxis": "y"
        }
       ],
       "layout": {
        "coloraxis": {
         "colorbar": {
          "title": {
           "text": "survived"
          }
         },
         "colorscale": [
          [
           0,
           "#0d0887"
          ],
          [
           0.1111111111111111,
           "#46039f"
          ],
          [
           0.2222222222222222,
           "#7201a8"
          ],
          [
           0.3333333333333333,
           "#9c179e"
          ],
          [
           0.4444444444444444,
           "#bd3786"
          ],
          [
           0.5555555555555556,
           "#d8576b"
          ],
          [
           0.6666666666666666,
           "#ed7953"
          ],
          [
           0.7777777777777778,
           "#fb9f3a"
          ],
          [
           0.8888888888888888,
           "#fdca26"
          ],
          [
           1,
           "#f0f921"
          ]
         ]
        },
        "legend": {
         "tracegroupgap": 0
        },
        "margin": {
         "t": 60
        },
        "template": {
         "data": {
          "bar": [
           {
            "error_x": {
             "color": "#2a3f5f"
            },
            "error_y": {
             "color": "#2a3f5f"
            },
            "marker": {
             "line": {
              "color": "#E5ECF6",
              "width": 0.5
             },
             "pattern": {
              "fillmode": "overlay",
              "size": 10,
              "solidity": 0.2
             }
            },
            "type": "bar"
           }
          ],
          "barpolar": [
           {
            "marker": {
             "line": {
              "color": "#E5ECF6",
              "width": 0.5
             },
             "pattern": {
              "fillmode": "overlay",
              "size": 10,
              "solidity": 0.2
             }
            },
            "type": "barpolar"
           }
          ],
          "carpet": [
           {
            "aaxis": {
             "endlinecolor": "#2a3f5f",
             "gridcolor": "white",
             "linecolor": "white",
             "minorgridcolor": "white",
             "startlinecolor": "#2a3f5f"
            },
            "baxis": {
             "endlinecolor": "#2a3f5f",
             "gridcolor": "white",
             "linecolor": "white",
             "minorgridcolor": "white",
             "startlinecolor": "#2a3f5f"
            },
            "type": "carpet"
           }
          ],
          "choropleth": [
           {
            "colorbar": {
             "outlinewidth": 0,
             "ticks": ""
            },
            "type": "choropleth"
           }
          ],
          "contour": [
           {
            "colorbar": {
             "outlinewidth": 0,
             "ticks": ""
            },
            "colorscale": [
             [
              0,
              "#0d0887"
             ],
             [
              0.1111111111111111,
              "#46039f"
             ],
             [
              0.2222222222222222,
              "#7201a8"
             ],
             [
              0.3333333333333333,
              "#9c179e"
             ],
             [
              0.4444444444444444,
              "#bd3786"
             ],
             [
              0.5555555555555556,
              "#d8576b"
             ],
             [
              0.6666666666666666,
              "#ed7953"
             ],
             [
              0.7777777777777778,
              "#fb9f3a"
             ],
             [
              0.8888888888888888,
              "#fdca26"
             ],
             [
              1,
              "#f0f921"
             ]
            ],
            "type": "contour"
           }
          ],
          "contourcarpet": [
           {
            "colorbar": {
             "outlinewidth": 0,
             "ticks": ""
            },
            "type": "contourcarpet"
           }
          ],
          "heatmap": [
           {
            "colorbar": {
             "outlinewidth": 0,
             "ticks": ""
            },
            "colorscale": [
             [
              0,
              "#0d0887"
             ],
             [
              0.1111111111111111,
              "#46039f"
             ],
             [
              0.2222222222222222,
              "#7201a8"
             ],
             [
              0.3333333333333333,
              "#9c179e"
             ],
             [
              0.4444444444444444,
              "#bd3786"
             ],
             [
              0.5555555555555556,
              "#d8576b"
             ],
             [
              0.6666666666666666,
              "#ed7953"
             ],
             [
              0.7777777777777778,
              "#fb9f3a"
             ],
             [
              0.8888888888888888,
              "#fdca26"
             ],
             [
              1,
              "#f0f921"
             ]
            ],
            "type": "heatmap"
           }
          ],
          "histogram": [
           {
            "marker": {
             "pattern": {
              "fillmode": "overlay",
              "size": 10,
              "solidity": 0.2
             }
            },
            "type": "histogram"
           }
          ],
          "histogram2d": [
           {
            "colorbar": {
             "outlinewidth": 0,
             "ticks": ""
            },
            "colorscale": [
             [
              0,
              "#0d0887"
             ],
             [
              0.1111111111111111,
              "#46039f"
             ],
             [
              0.2222222222222222,
              "#7201a8"
             ],
             [
              0.3333333333333333,
              "#9c179e"
             ],
             [
              0.4444444444444444,
              "#bd3786"
             ],
             [
              0.5555555555555556,
              "#d8576b"
             ],
             [
              0.6666666666666666,
              "#ed7953"
             ],
             [
              0.7777777777777778,
              "#fb9f3a"
             ],
             [
              0.8888888888888888,
              "#fdca26"
             ],
             [
              1,
              "#f0f921"
             ]
            ],
            "type": "histogram2d"
           }
          ],
          "histogram2dcontour": [
           {
            "colorbar": {
             "outlinewidth": 0,
             "ticks": ""
            },
            "colorscale": [
             [
              0,
              "#0d0887"
             ],
             [
              0.1111111111111111,
              "#46039f"
             ],
             [
              0.2222222222222222,
              "#7201a8"
             ],
             [
              0.3333333333333333,
              "#9c179e"
             ],
             [
              0.4444444444444444,
              "#bd3786"
             ],
             [
              0.5555555555555556,
              "#d8576b"
             ],
             [
              0.6666666666666666,
              "#ed7953"
             ],
             [
              0.7777777777777778,
              "#fb9f3a"
             ],
             [
              0.8888888888888888,
              "#fdca26"
             ],
             [
              1,
              "#f0f921"
             ]
            ],
            "type": "histogram2dcontour"
           }
          ],
          "mesh3d": [
           {
            "colorbar": {
             "outlinewidth": 0,
             "ticks": ""
            },
            "type": "mesh3d"
           }
          ],
          "parcoords": [
           {
            "line": {
             "colorbar": {
              "outlinewidth": 0,
              "ticks": ""
             }
            },
            "type": "parcoords"
           }
          ],
          "pie": [
           {
            "automargin": true,
            "type": "pie"
           }
          ],
          "scatter": [
           {
            "fillpattern": {
             "fillmode": "overlay",
             "size": 10,
             "solidity": 0.2
            },
            "type": "scatter"
           }
          ],
          "scatter3d": [
           {
            "line": {
             "colorbar": {
              "outlinewidth": 0,
              "ticks": ""
             }
            },
            "marker": {
             "colorbar": {
              "outlinewidth": 0,
              "ticks": ""
             }
            },
            "type": "scatter3d"
           }
          ],
          "scattercarpet": [
           {
            "marker": {
             "colorbar": {
              "outlinewidth": 0,
              "ticks": ""
             }
            },
            "type": "scattercarpet"
           }
          ],
          "scattergeo": [
           {
            "marker": {
             "colorbar": {
              "outlinewidth": 0,
              "ticks": ""
             }
            },
            "type": "scattergeo"
           }
          ],
          "scattergl": [
           {
            "marker": {
             "colorbar": {
              "outlinewidth": 0,
              "ticks": ""
             }
            },
            "type": "scattergl"
           }
          ],
          "scattermap": [
           {
            "marker": {
             "colorbar": {
              "outlinewidth": 0,
              "ticks": ""
             }
            },
            "type": "scattermap"
           }
          ],
          "scattermapbox": [
           {
            "marker": {
             "colorbar": {
              "outlinewidth": 0,
              "ticks": ""
             }
            },
            "type": "scattermapbox"
           }
          ],
          "scatterpolar": [
           {
            "marker": {
             "colorbar": {
              "outlinewidth": 0,
              "ticks": ""
             }
            },
            "type": "scatterpolar"
           }
          ],
          "scatterpolargl": [
           {
            "marker": {
             "colorbar": {
              "outlinewidth": 0,
              "ticks": ""
             }
            },
            "type": "scatterpolargl"
           }
          ],
          "scatterternary": [
           {
            "marker": {
             "colorbar": {
              "outlinewidth": 0,
              "ticks": ""
             }
            },
            "type": "scatterternary"
           }
          ],
          "surface": [
           {
            "colorbar": {
             "outlinewidth": 0,
             "ticks": ""
            },
            "colorscale": [
             [
              0,
              "#0d0887"
             ],
             [
              0.1111111111111111,
              "#46039f"
             ],
             [
              0.2222222222222222,
              "#7201a8"
             ],
             [
              0.3333333333333333,
              "#9c179e"
             ],
             [
              0.4444444444444444,
              "#bd3786"
             ],
             [
              0.5555555555555556,
              "#d8576b"
             ],
             [
              0.6666666666666666,
              "#ed7953"
             ],
             [
              0.7777777777777778,
              "#fb9f3a"
             ],
             [
              0.8888888888888888,
              "#fdca26"
             ],
             [
              1,
              "#f0f921"
             ]
            ],
            "type": "surface"
           }
          ],
          "table": [
           {
            "cells": {
             "fill": {
              "color": "#EBF0F8"
             },
             "line": {
              "color": "white"
             }
            },
            "header": {
             "fill": {
              "color": "#C8D4E3"
             },
             "line": {
              "color": "white"
             }
            },
            "type": "table"
           }
          ]
         },
         "layout": {
          "annotationdefaults": {
           "arrowcolor": "#2a3f5f",
           "arrowhead": 0,
           "arrowwidth": 1
          },
          "autotypenumbers": "strict",
          "coloraxis": {
           "colorbar": {
            "outlinewidth": 0,
            "ticks": ""
           }
          },
          "colorscale": {
           "diverging": [
            [
             0,
             "#8e0152"
            ],
            [
             0.1,
             "#c51b7d"
            ],
            [
             0.2,
             "#de77ae"
            ],
            [
             0.3,
             "#f1b6da"
            ],
            [
             0.4,
             "#fde0ef"
            ],
            [
             0.5,
             "#f7f7f7"
            ],
            [
             0.6,
             "#e6f5d0"
            ],
            [
             0.7,
             "#b8e186"
            ],
            [
             0.8,
             "#7fbc41"
            ],
            [
             0.9,
             "#4d9221"
            ],
            [
             1,
             "#276419"
            ]
           ],
           "sequential": [
            [
             0,
             "#0d0887"
            ],
            [
             0.1111111111111111,
             "#46039f"
            ],
            [
             0.2222222222222222,
             "#7201a8"
            ],
            [
             0.3333333333333333,
             "#9c179e"
            ],
            [
             0.4444444444444444,
             "#bd3786"
            ],
            [
             0.5555555555555556,
             "#d8576b"
            ],
            [
             0.6666666666666666,
             "#ed7953"
            ],
            [
             0.7777777777777778,
             "#fb9f3a"
            ],
            [
             0.8888888888888888,
             "#fdca26"
            ],
            [
             1,
             "#f0f921"
            ]
           ],
           "sequentialminus": [
            [
             0,
             "#0d0887"
            ],
            [
             0.1111111111111111,
             "#46039f"
            ],
            [
             0.2222222222222222,
             "#7201a8"
            ],
            [
             0.3333333333333333,
             "#9c179e"
            ],
            [
             0.4444444444444444,
             "#bd3786"
            ],
            [
             0.5555555555555556,
             "#d8576b"
            ],
            [
             0.6666666666666666,
             "#ed7953"
            ],
            [
             0.7777777777777778,
             "#fb9f3a"
            ],
            [
             0.8888888888888888,
             "#fdca26"
            ],
            [
             1,
             "#f0f921"
            ]
           ]
          },
          "colorway": [
           "#636efa",
           "#EF553B",
           "#00cc96",
           "#ab63fa",
           "#FFA15A",
           "#19d3f3",
           "#FF6692",
           "#B6E880",
           "#FF97FF",
           "#FECB52"
          ],
          "font": {
           "color": "#2a3f5f"
          },
          "geo": {
           "bgcolor": "white",
           "lakecolor": "white",
           "landcolor": "#E5ECF6",
           "showlakes": true,
           "showland": true,
           "subunitcolor": "white"
          },
          "hoverlabel": {
           "align": "left"
          },
          "hovermode": "closest",
          "mapbox": {
           "style": "light"
          },
          "paper_bgcolor": "white",
          "plot_bgcolor": "#E5ECF6",
          "polar": {
           "angularaxis": {
            "gridcolor": "white",
            "linecolor": "white",
            "ticks": ""
           },
           "bgcolor": "#E5ECF6",
           "radialaxis": {
            "gridcolor": "white",
            "linecolor": "white",
            "ticks": ""
           }
          },
          "scene": {
           "xaxis": {
            "backgroundcolor": "#E5ECF6",
            "gridcolor": "white",
            "gridwidth": 2,
            "linecolor": "white",
            "showbackground": true,
            "ticks": "",
            "zerolinecolor": "white"
           },
           "yaxis": {
            "backgroundcolor": "#E5ECF6",
            "gridcolor": "white",
            "gridwidth": 2,
            "linecolor": "white",
            "showbackground": true,
            "ticks": "",
            "zerolinecolor": "white"
           },
           "zaxis": {
            "backgroundcolor": "#E5ECF6",
            "gridcolor": "white",
            "gridwidth": 2,
            "linecolor": "white",
            "showbackground": true,
            "ticks": "",
            "zerolinecolor": "white"
           }
          },
          "shapedefaults": {
           "line": {
            "color": "#2a3f5f"
           }
          },
          "ternary": {
           "aaxis": {
            "gridcolor": "white",
            "linecolor": "white",
            "ticks": ""
           },
           "baxis": {
            "gridcolor": "white",
            "linecolor": "white",
            "ticks": ""
           },
           "bgcolor": "#E5ECF6",
           "caxis": {
            "gridcolor": "white",
            "linecolor": "white",
            "ticks": ""
           }
          },
          "title": {
           "x": 0.05
          },
          "xaxis": {
           "automargin": true,
           "gridcolor": "white",
           "linecolor": "white",
           "ticks": "",
           "title": {
            "standoff": 15
           },
           "zerolinecolor": "white",
           "zerolinewidth": 2
          },
          "yaxis": {
           "automargin": true,
           "gridcolor": "white",
           "linecolor": "white",
           "ticks": "",
           "title": {
            "standoff": 15
           },
           "zerolinecolor": "white",
           "zerolinewidth": 2
          }
         }
        },
        "xaxis": {
         "anchor": "y",
         "domain": [
          0,
          1
         ],
         "title": {
          "text": "age"
         }
        },
        "yaxis": {
         "anchor": "x",
         "domain": [
          0,
          1
         ],
         "title": {
          "text": "fare"
         }
        }
       }
      }
     },
     "metadata": {},
     "output_type": "display_data"
    }
   ],
   "source": [
    "fig.show()"
   ]
  },
  {
   "cell_type": "code",
   "execution_count": 21,
   "id": "f2a7f703",
   "metadata": {},
   "outputs": [
    {
     "data": {
      "application/vnd.plotly.v1+json": {
       "config": {
        "plotlyServerURL": "https://plot.ly"
       },
       "data": [
        {
         "hovertemplate": "<b>%{hovertext}</b><br><br>continent=Asia<br>year=1952<br>gdpPercap=%{x}<br>lifeExp=%{y}<br>pop=%{marker.size}<extra></extra>",
         "hovertext": [
          "Afghanistan",
          "Bahrain",
          "Bangladesh",
          "Cambodia",
          "China",
          "Hong Kong, China",
          "India",
          "Indonesia",
          "Iran",
          "Iraq",
          "Israel",
          "Japan",
          "Jordan",
          "Korea, Dem. Rep.",
          "Korea, Rep.",
          "Kuwait",
          "Lebanon",
          "Malaysia",
          "Mongolia",
          "Myanmar",
          "Nepal",
          "Oman",
          "Pakistan",
          "Philippines",
          "Saudi Arabia",
          "Singapore",
          "Sri Lanka",
          "Syria",
          "Taiwan",
          "Thailand",
          "Vietnam",
          "West Bank and Gaza",
          "Yemen, Rep."
         ],
         "ids": [
          "Afghanistan",
          "Bahrain",
          "Bangladesh",
          "Cambodia",
          "China",
          "Hong Kong, China",
          "India",
          "Indonesia",
          "Iran",
          "Iraq",
          "Israel",
          "Japan",
          "Jordan",
          "Korea, Dem. Rep.",
          "Korea, Rep.",
          "Kuwait",
          "Lebanon",
          "Malaysia",
          "Mongolia",
          "Myanmar",
          "Nepal",
          "Oman",
          "Pakistan",
          "Philippines",
          "Saudi Arabia",
          "Singapore",
          "Sri Lanka",
          "Syria",
          "Taiwan",
          "Thailand",
          "Vietnam",
          "West Bank and Gaza",
          "Yemen, Rep."
         ],
         "legendgroup": "Asia",
         "marker": {
          "color": "#636efa",
          "size": {
           "bdata": "dY+AAH/WAQDLb8sCTJ9HAGfoJyFMcCAAAEUsFqAD5ATAjAcB5ghTALK7GACRQicFqkYJANBGhwBzoj8BAHECACn3FQDa+GYAlzcMAESYMgFIHYwAub8HAADmdgIjY1YBLR89AFgyEQAGzXkA7d43ANp3ggC62UQBt36QAbm5DwD1vUsA",
           "dtype": "i4"
          },
          "sizemode": "area",
          "sizeref": 435928.2961983471,
          "symbol": "circle"
         },
         "mode": "markers",
         "name": "Asia",
         "orientation": "v",
         "showlegend": true,
         "type": "scatter",
         "x": {
          "bdata": "em8MAZBbiEBsW5TZikXDQOVkPRD0YYVAvQeeMYIHd0AEWrqCLQd5QJC/tKjX3KdA4amRp4YUgUBYsVMHdG2HQNzwu+mmtqdA6Po+HMQhsECneFxUC+2vQEFhUKbpIalAUoAomKErmEDP2JdsHAGRQF0XfnBeGpBAbHh6peV1+kDLvFXXzeKyQFdfXRWInJxA8L+V7IiUiEAAAAAAALB0QC63IADtDoFAKSSZ1euQnEARIFTzxmSFQMKjjSOG45NAElDhCI47uUDZeLDFRhaiQPfpeMwg7pBA7pOjAPGtmUDQmbSpytuSQAP2hxxhrodApefMLIjogkDiTX6LXq6XQCHPiZi9bYhA",
          "dtype": "f8"
         },
         "xaxis": "x",
         "y": {
          "bdata": "kxgEVg7NPEDUeOkmMXhJQMuhRbbzvUJATDeJQWC1Q0AAAAAAAABGQHsUrkfhek5AO7TIdr6vQkCWQ4ts57tCQKwcWmQ7b0ZAKVyPwvWoRkApXI/C9VhQQKRwPQrXg09ATmIQWDmURUC6SQwCKwdJQESLbOf7uUdAuB6F61HIS0AQWDm0yPZLQCUGgZVDO0hArBxaZDsfRUBGtvP91ChCQGq8dJMYFEJARIts5/vJQkAshxbZzrdFQMdLN4lB4EdAAAAAAADwQ0Cmm8QgsDJOQJZDi2zny0xAGy/dJAbxRkAAAAAAAEBNQAaBlUOLbElA2/l+arw0REAUrkfhepRFQKAaL90kRkBA",
          "dtype": "f8"
         },
         "yaxis": "y"
        },
        {
         "hovertemplate": "<b>%{hovertext}</b><br><br>continent=Europe<br>year=1952<br>gdpPercap=%{x}<br>lifeExp=%{y}<br>pop=%{marker.size}<extra></extra>",
         "hovertext": [
          "Albania",
          "Austria",
          "Belgium",
          "Bosnia and Herzegovina",
          "Bulgaria",
          "Croatia",
          "Czech Republic",
          "Denmark",
          "Finland",
          "France",
          "Germany",
          "Greece",
          "Hungary",
          "Iceland",
          "Ireland",
          "Italy",
          "Montenegro",
          "Netherlands",
          "Norway",
          "Poland",
          "Portugal",
          "Romania",
          "Serbia",
          "Slovak Republic",
          "Slovenia",
          "Spain",
          "Sweden",
          "Switzerland",
          "Turkey",
          "United Kingdom"
         ],
         "ids": [
          "Albania",
          "Austria",
          "Belgium",
          "Bosnia and Herzegovina",
          "Bulgaria",
          "Croatia",
          "Czech Republic",
          "Denmark",
          "Finland",
          "France",
          "Germany",
          "Greece",
          "Hungary",
          "Iceland",
          "Ireland",
          "Italy",
          "Montenegro",
          "Netherlands",
          "Norway",
          "Poland",
          "Portugal",
          "Romania",
          "Serbia",
          "Slovak Republic",
          "Slovenia",
          "Spain",
          "Sweden",
          "Switzerland",
          "Turkey",
          "United Kingdom"
         ],
         "legendgroup": "Europe",
         "marker": {
          "color": "#EF553B",
          "size": {
           "bdata": "iZITAJy1aQAlN4UAWJYqAJQBbwD1PDsAPz2LALAhQgCEaj4AE+KHAmAVHwQCAHYAAAWRAPpBAgDcCy0AUFPXAopQBgCkap4A8MYyAPediAHiGIIA8MD9AHOtaAD5SjYAbroWAO6iswHBtmwAmHhJAB1KUwEwgAED",
           "dtype": "i4"
          },
          "sizemode": "area",
          "sizeref": 435928.2961983471,
          "symbol": "circle"
         },
         "mode": "markers",
         "name": "Europe",
         "orientation": "v",
         "showlegend": true,
         "type": "scatter",
         "x": {
          "bdata": "gzC3ezkEmUBozvqUE/m3QHYxzXSNS8BALqOi+0NsjkDt0obDkhijQLNBJhl5XqhARIts5yPcukD5SbVPMe7CQE1J1uGEGLlAxeQNMM91u0DmEdxIHei7QBk6dlBhlatAhpM0f6yPtECnQdE8sGO8QCdok8NHWrRAgruzdmdDs0AD7+TTK6+kQPqXpDLJdsFACcTr+rW3w0AMrU7OqHqvQCSAm8Wj+KdAu/CD8zmRqEBtrMQ86/qrQKosCruo0rNA58WJrwp3sECYE7TJEfStQBdp4h3sp8BAEoPAyh3HzEAzFk1nZ8SeQLgdGhbBfcNA",
          "dtype": "f8"
         },
         "xaxis": "x",
         "y": {
          "bdata": "PQrXo3CdS0AzMzMzM7NQQAAAAAAAAFFAKVyPwvXoSkDNzMzMzMxNQHsUrkfhmk5ASOF6FK63UEBSuB6F67FRQDMzMzMzo1BACtejcD3aUEAAAAAAAOBQQNejcD0Kd1BAUrgehesBUECPwvUoXB9SQArXo3A9ulBAXI/C9Sh8UECiRbbz/ZRNQLgehetRCFJAexSuR+EqUkBI4XoUrqdOQClcj8L16E1AZmZmZmaGTkBzaJHtfP9MQNejcD0KF1BAFK5H4XpkUEBcj8L1KDxQQNejcD0K91FASOF6FK5nUUB7FK5H4cpFQOxRuB6FS1FA",
          "dtype": "f8"
         },
         "yaxis": "y"
        },
        {
         "hovertemplate": "<b>%{hovertext}</b><br><br>continent=Africa<br>year=1952<br>gdpPercap=%{x}<br>lifeExp=%{y}<br>pop=%{marker.size}<extra></extra>",
         "hovertext": [
          "Algeria",
          "Angola",
          "Benin",
          "Botswana",
          "Burkina Faso",
          "Burundi",
          "Cameroon",
          "Central African Republic",
          "Chad",
          "Comoros",
          "Congo, Dem. Rep.",
          "Congo, Rep.",
          "Cote d'Ivoire",
          "Djibouti",
          "Egypt",
          "Equatorial Guinea",
          "Eritrea",
          "Ethiopia",
          "Gabon",
          "Gambia",
          "Ghana",
          "Guinea",
          "Guinea-Bissau",
          "Kenya",
          "Lesotho",
          "Liberia",
          "Libya",
          "Madagascar",
          "Malawi",
          "Mali",
          "Mauritania",
          "Mauritius",
          "Morocco",
          "Mozambique",
          "Namibia",
          "Niger",
          "Nigeria",
          "Reunion",
          "Rwanda",
          "Sao Tome and Principe",
          "Senegal",
          "Sierra Leone",
          "Somalia",
          "South Africa",
          "Sudan",
          "Swaziland",
          "Tanzania",
          "Togo",
          "Tunisia",
          "Uganda",
          "Zambia",
          "Zimbabwe"
         ],
         "ids": [
          "Algeria",
          "Angola",
          "Benin",
          "Botswana",
          "Burkina Faso",
          "Burundi",
          "Cameroon",
          "Central African Republic",
          "Chad",
          "Comoros",
          "Congo, Dem. Rep.",
          "Congo, Rep.",
          "Cote d'Ivoire",
          "Djibouti",
          "Egypt",
          "Equatorial Guinea",
          "Eritrea",
          "Ethiopia",
          "Gabon",
          "Gambia",
          "Ghana",
          "Guinea",
          "Guinea-Bissau",
          "Kenya",
          "Lesotho",
          "Liberia",
          "Libya",
          "Madagascar",
          "Malawi",
          "Mali",
          "Mauritania",
          "Mauritius",
          "Morocco",
          "Mozambique",
          "Namibia",
          "Niger",
          "Nigeria",
          "Reunion",
          "Rwanda",
          "Sao Tome and Principe",
          "Senegal",
          "Sierra Leone",
          "Somalia",
          "South Africa",
          "Sudan",
          "Swaziland",
          "Tanzania",
          "Togo",
          "Tunisia",
          "Uganda",
          "Zambia",
          "Zimbabwe"
         ],
         "legendgroup": "Africa",
         "marker": {
          "color": "#00cc96",
          "size": {
           "bdata": "JZiNAJ+TQABLhhoAxL8GANs0RAAyUSUAq25MAK+1EwBe7igAUFkCACUm1wBlCw0A+2wtAK32AADNGVMBhE8DACj0FQANUD4BXmsGAKBWBADJKFUAOacoAC3cCAAuomIAy2wLAEwsDQBRjw8AIK1IAKqFLADYkDoAXJoPAMzhBwARqZcA7FxiAMdpBwAMkTMAeFv5AaTuAwAPriYAa+oAAAUMKgARtCAAEo8mAGeq2QBbxYEAw20EAG3/fgApmhIA96g3AB3hWACAxSgAywIvAA==",
           "dtype": "i4"
          },
          "sizemode": "area",
          "sizeref": 435928.2961983471,
          "symbol": "circle"
         },
         "mode": "markers",
         "name": "Africa",
         "orientation": "v",
         "showlegend": true,
         "type": "scatter",
         "x": {
          "bdata": "owbTMAQio0BD4bN1OIGrQDSAt0ACm5BA4OEs2+2ZikC1YPO7CvqAQNZReku+NHVAC5jAratSkkDFdYwrPr2QQBh6xOipapJAt0Htt/Y7kUA+StuuVmSIQEsGgCo+m6BAiudsAWGylUAZ4lgXD9ukQAmnBS9KK5ZA1pxyO0p6d0BWCJqFDI90QCchRylXonZAXf5D+nnFsEBmsJjHsFN+QH1gIjlkeoxAqSYc1STjf0Cughjomr1yQEY2V81TrIpArO+yFYqtckDksfp+lfyBQH4AUpsYp6JAflcE/wuMlkB5wyIrpBJ3QCLe30VkRXxAUJYQYu04h0A8Ftuk0r+eQMlxp3TQYJpAMz/tpmpIfUDJkjmWj++iQBnHSPYIz4dAuvjbniDVkECg4GJFxT2lQMT/wpcu1X5AXOffLqt8i0DpmPOMbamWQBtXbUhNfotAq8yU1v++kUD2a+unS3WyQHhEher2P5lASwM/qoHxkUBWTABZM2WGQIgBASF43opA2xfQC+fxlkB5kJ4iB/aGQK+ytimO7ZFAjn6PVSVueUA=",
          "dtype": "f8"
         },
         "xaxis": "x",
         "y": {
          "bdata": "YOXQItuJRUCkcD0K1wM+QAaBlUOLHENAVg4tsp3PR0CamZmZmfk/QIcW2c73g0NAbef7qfFCQ0AlBoGVQ7tBQLKd76fGC0NA7FG4HoVbRED8qfHSTZJDQJHtfD81DkVAkxgEVg49REAOLbKd72dBQPyp8dJN8kRABFYOLbI9QUASWDm0yPZBQESLbOf7CUFAqvHSTWKAQkAAAAAAAAA+QFCNl24Sk0VAy6FFtvPNQEAAAAAAAEBAQMP1KFyPIkVAjWzn+6kRRUA9CtejcD1DQAaBlUOLXEVAukkMAitXQkBU46WbxCBCQEjhehSu10BAL90kBoFFRECR7Xw/NX5JQDu0yHa+b0VA8KfGSzdJP0DNzMzMzNxEQEa28/3UuEJAtvP91HgpQkDpJjEIrFxKQAAAAAAAAERAPzVeukk8R0DdJAaBlaNCQNv5fmq8VD5Ad76fGi99QED91HjpJoFGQOF6FK5HUUNAarx0kxi0REDsUbgehZtEQD81XrpJTENAzczMzMxMRkB3vp8aL/1DQL6fGi/dBEVAfT81Xro5SEA=",
          "dtype": "f8"
         },
         "yaxis": "y"
        },
        {
         "hovertemplate": "<b>%{hovertext}</b><br><br>continent=Americas<br>year=1952<br>gdpPercap=%{x}<br>lifeExp=%{y}<br>pop=%{marker.size}<extra></extra>",
         "hovertext": [
          "Argentina",
          "Bolivia",
          "Brazil",
          "Canada",
          "Chile",
          "Colombia",
          "Costa Rica",
          "Cuba",
          "Dominican Republic",
          "Ecuador",
          "El Salvador",
          "Guatemala",
          "Haiti",
          "Honduras",
          "Jamaica",
          "Mexico",
          "Nicaragua",
          "Panama",
          "Paraguay",
          "Peru",
          "Puerto Rico",
          "Trinidad and Tobago",
          "United States",
          "Uruguay",
          "Venezuela"
         ],
         "ids": [
          "Argentina",
          "Bolivia",
          "Brazil",
          "Canada",
          "Chile",
          "Colombia",
          "Costa Rica",
          "Cuba",
          "Dominican Republic",
          "Ecuador",
          "El Salvador",
          "Guatemala",
          "Haiti",
          "Honduras",
          "Jamaica",
          "Mexico",
          "Nicaragua",
          "Panama",
          "Paraguay",
          "Peru",
          "Puerto Rico",
          "Trinidad and Tobago",
          "United States",
          "Uruguay",
          "Venezuela"
         ],
         "legendgroup": "Americas",
         "marker": {
          "color": "#ab63fa",
          "size": {
           "bdata": "3McQAfP+KwDAr18DMJzhAJNQYQAzdbwAbSIOAPWrWwDSAyYAUSY2APErHwCNAjAA0NkwAI0nFwCvwhUAPffLAd7JEQAwWA4ApL0XAGR2egA4+yEAQh0KAGgRZAmlYCIAUABTAA==",
           "dtype": "i4"
          },
          "sizemode": "area",
          "sizeref": 435928.2961983471,
          "symbol": "circle"
         },
         "mode": "markers",
         "name": "Americas",
         "orientation": "v",
         "showlegend": true,
         "type": "scatter",
         "x": {
          "bdata": "gjtQp1AXt0BMOPQWp+qkQKGhf4LjeaBAXoWUn5QzxkBe8dQj9ceuQM3n3O06wKBAhwZi2QSGpEC9b3ztidK1QAJnKVne1pVAOQzmrziEq0Drc7UVm9CnQAO+27x5+KJAgnLbvnfBnEDZImk32iWhQCNqos8PpaZAZktWRUAsq0DkamRXulCoQB1XI7vCYKNA+GwdHDyBnkAIOe//C12tQGKE8GjrE6hAvJUlOouep0AIJcy0PVPLQGe0VUnEVLZAngsjvcwJvkA=",
          "dtype": "f8"
         },
         "xaxis": "x",
         "y": {
          "bdata": "rkfhehQ+T0CiRbbz/TREQEw3iUFgdUlAAAAAAAAwUUCPwvUoXF9LQPyp8dJNUklA7nw/NV6aTEDazvdT47VNQBBYObTI9kZABFYOLbItSECoxks3iaFGQG3n+6nxAkVAJzEIrBzKQkDb+X5qvPREQKRwPQrXQ01AokW28/1kSUDUeOkmMShFQJzEILBymEtAUI2XbhJTT0D6fmq8dPNFQFK4HoXrEVBAzczMzMyMTUBcj8L1KBxRQAaBlUOLhFBAJQaBlUOLS0A=",
          "dtype": "f8"
         },
         "yaxis": "y"
        },
        {
         "hovertemplate": "<b>%{hovertext}</b><br><br>continent=Oceania<br>year=1952<br>gdpPercap=%{x}<br>lifeExp=%{y}<br>pop=%{marker.size}<extra></extra>",
         "hovertext": [
          "Australia",
          "New Zealand"
         ],
         "ids": [
          "Australia",
          "New Zealand"
         ],
         "legendgroup": "Oceania",
         "marker": {
          "color": "#FFA15A",
          "size": {
           "bdata": "DJ6EACpwHgA=",
           "dtype": "i4"
          },
          "sizemode": "area",
          "sizeref": 435928.2961983471,
          "symbol": "circle"
         },
         "mode": "markers",
         "name": "Oceania",
         "orientation": "v",
         "showlegend": true,
         "type": "scatter",
         "x": {
          "bdata": "GHjuPcybw0DPFDqvSZ7EQA==",
          "dtype": "f8"
         },
         "xaxis": "x",
         "y": {
          "bdata": "SOF6FK5HUUApXI/C9VhRQA==",
          "dtype": "f8"
         },
         "yaxis": "y"
        }
       ],
       "frames": [
        {
         "data": [
          {
           "hovertemplate": "<b>%{hovertext}</b><br><br>continent=Asia<br>year=1952<br>gdpPercap=%{x}<br>lifeExp=%{y}<br>pop=%{marker.size}<extra></extra>",
           "hovertext": [
            "Afghanistan",
            "Bahrain",
            "Bangladesh",
            "Cambodia",
            "China",
            "Hong Kong, China",
            "India",
            "Indonesia",
            "Iran",
            "Iraq",
            "Israel",
            "Japan",
            "Jordan",
            "Korea, Dem. Rep.",
            "Korea, Rep.",
            "Kuwait",
            "Lebanon",
            "Malaysia",
            "Mongolia",
            "Myanmar",
            "Nepal",
            "Oman",
            "Pakistan",
            "Philippines",
            "Saudi Arabia",
            "Singapore",
            "Sri Lanka",
            "Syria",
            "Taiwan",
            "Thailand",
            "Vietnam",
            "West Bank and Gaza",
            "Yemen, Rep."
           ],
           "ids": [
            "Afghanistan",
            "Bahrain",
            "Bangladesh",
            "Cambodia",
            "China",
            "Hong Kong, China",
            "India",
            "Indonesia",
            "Iran",
            "Iraq",
            "Israel",
            "Japan",
            "Jordan",
            "Korea, Dem. Rep.",
            "Korea, Rep.",
            "Kuwait",
            "Lebanon",
            "Malaysia",
            "Mongolia",
            "Myanmar",
            "Nepal",
            "Oman",
            "Pakistan",
            "Philippines",
            "Saudi Arabia",
            "Singapore",
            "Sri Lanka",
            "Syria",
            "Taiwan",
            "Thailand",
            "Vietnam",
            "West Bank and Gaza",
            "Yemen, Rep."
           ],
           "legendgroup": "Asia",
           "marker": {
            "color": "#636efa",
            "size": {
             "bdata": "dY+AAH/WAQDLb8sCTJ9HAGfoJyFMcCAAAEUsFqAD5ATAjAcB5ghTALK7GACRQicFqkYJANBGhwBzoj8BAHECACn3FQDa+GYAlzcMAESYMgFIHYwAub8HAADmdgIjY1YBLR89AFgyEQAGzXkA7d43ANp3ggC62UQBt36QAbm5DwD1vUsA",
             "dtype": "i4"
            },
            "sizemode": "area",
            "sizeref": 435928.2961983471,
            "symbol": "circle"
           },
           "mode": "markers",
           "name": "Asia",
           "orientation": "v",
           "showlegend": true,
           "type": "scatter",
           "x": {
            "bdata": "em8MAZBbiEBsW5TZikXDQOVkPRD0YYVAvQeeMYIHd0AEWrqCLQd5QJC/tKjX3KdA4amRp4YUgUBYsVMHdG2HQNzwu+mmtqdA6Po+HMQhsECneFxUC+2vQEFhUKbpIalAUoAomKErmEDP2JdsHAGRQF0XfnBeGpBAbHh6peV1+kDLvFXXzeKyQFdfXRWInJxA8L+V7IiUiEAAAAAAALB0QC63IADtDoFAKSSZ1euQnEARIFTzxmSFQMKjjSOG45NAElDhCI47uUDZeLDFRhaiQPfpeMwg7pBA7pOjAPGtmUDQmbSpytuSQAP2hxxhrodApefMLIjogkDiTX6LXq6XQCHPiZi9bYhA",
            "dtype": "f8"
           },
           "xaxis": "x",
           "y": {
            "bdata": "kxgEVg7NPEDUeOkmMXhJQMuhRbbzvUJATDeJQWC1Q0AAAAAAAABGQHsUrkfhek5AO7TIdr6vQkCWQ4ts57tCQKwcWmQ7b0ZAKVyPwvWoRkApXI/C9VhQQKRwPQrXg09ATmIQWDmURUC6SQwCKwdJQESLbOf7uUdAuB6F61HIS0AQWDm0yPZLQCUGgZVDO0hArBxaZDsfRUBGtvP91ChCQGq8dJMYFEJARIts5/vJQkAshxbZzrdFQMdLN4lB4EdAAAAAAADwQ0Cmm8QgsDJOQJZDi2zny0xAGy/dJAbxRkAAAAAAAEBNQAaBlUOLbElA2/l+arw0REAUrkfhepRFQKAaL90kRkBA",
            "dtype": "f8"
           },
           "yaxis": "y"
          },
          {
           "hovertemplate": "<b>%{hovertext}</b><br><br>continent=Europe<br>year=1952<br>gdpPercap=%{x}<br>lifeExp=%{y}<br>pop=%{marker.size}<extra></extra>",
           "hovertext": [
            "Albania",
            "Austria",
            "Belgium",
            "Bosnia and Herzegovina",
            "Bulgaria",
            "Croatia",
            "Czech Republic",
            "Denmark",
            "Finland",
            "France",
            "Germany",
            "Greece",
            "Hungary",
            "Iceland",
            "Ireland",
            "Italy",
            "Montenegro",
            "Netherlands",
            "Norway",
            "Poland",
            "Portugal",
            "Romania",
            "Serbia",
            "Slovak Republic",
            "Slovenia",
            "Spain",
            "Sweden",
            "Switzerland",
            "Turkey",
            "United Kingdom"
           ],
           "ids": [
            "Albania",
            "Austria",
            "Belgium",
            "Bosnia and Herzegovina",
            "Bulgaria",
            "Croatia",
            "Czech Republic",
            "Denmark",
            "Finland",
            "France",
            "Germany",
            "Greece",
            "Hungary",
            "Iceland",
            "Ireland",
            "Italy",
            "Montenegro",
            "Netherlands",
            "Norway",
            "Poland",
            "Portugal",
            "Romania",
            "Serbia",
            "Slovak Republic",
            "Slovenia",
            "Spain",
            "Sweden",
            "Switzerland",
            "Turkey",
            "United Kingdom"
           ],
           "legendgroup": "Europe",
           "marker": {
            "color": "#EF553B",
            "size": {
             "bdata": "iZITAJy1aQAlN4UAWJYqAJQBbwD1PDsAPz2LALAhQgCEaj4AE+KHAmAVHwQCAHYAAAWRAPpBAgDcCy0AUFPXAopQBgCkap4A8MYyAPediAHiGIIA8MD9AHOtaAD5SjYAbroWAO6iswHBtmwAmHhJAB1KUwEwgAED",
             "dtype": "i4"
            },
            "sizemode": "area",
            "sizeref": 435928.2961983471,
            "symbol": "circle"
           },
           "mode": "markers",
           "name": "Europe",
           "orientation": "v",
           "showlegend": true,
           "type": "scatter",
           "x": {
            "bdata": "gzC3ezkEmUBozvqUE/m3QHYxzXSNS8BALqOi+0NsjkDt0obDkhijQLNBJhl5XqhARIts5yPcukD5SbVPMe7CQE1J1uGEGLlAxeQNMM91u0DmEdxIHei7QBk6dlBhlatAhpM0f6yPtECnQdE8sGO8QCdok8NHWrRAgruzdmdDs0AD7+TTK6+kQPqXpDLJdsFACcTr+rW3w0AMrU7OqHqvQCSAm8Wj+KdAu/CD8zmRqEBtrMQ86/qrQKosCruo0rNA58WJrwp3sECYE7TJEfStQBdp4h3sp8BAEoPAyh3HzEAzFk1nZ8SeQLgdGhbBfcNA",
            "dtype": "f8"
           },
           "xaxis": "x",
           "y": {
            "bdata": "PQrXo3CdS0AzMzMzM7NQQAAAAAAAAFFAKVyPwvXoSkDNzMzMzMxNQHsUrkfhmk5ASOF6FK63UEBSuB6F67FRQDMzMzMzo1BACtejcD3aUEAAAAAAAOBQQNejcD0Kd1BAUrgehesBUECPwvUoXB9SQArXo3A9ulBAXI/C9Sh8UECiRbbz/ZRNQLgehetRCFJAexSuR+EqUkBI4XoUrqdOQClcj8L16E1AZmZmZmaGTkBzaJHtfP9MQNejcD0KF1BAFK5H4XpkUEBcj8L1KDxQQNejcD0K91FASOF6FK5nUUB7FK5H4cpFQOxRuB6FS1FA",
            "dtype": "f8"
           },
           "yaxis": "y"
          },
          {
           "hovertemplate": "<b>%{hovertext}</b><br><br>continent=Africa<br>year=1952<br>gdpPercap=%{x}<br>lifeExp=%{y}<br>pop=%{marker.size}<extra></extra>",
           "hovertext": [
            "Algeria",
            "Angola",
            "Benin",
            "Botswana",
            "Burkina Faso",
            "Burundi",
            "Cameroon",
            "Central African Republic",
            "Chad",
            "Comoros",
            "Congo, Dem. Rep.",
            "Congo, Rep.",
            "Cote d'Ivoire",
            "Djibouti",
            "Egypt",
            "Equatorial Guinea",
            "Eritrea",
            "Ethiopia",
            "Gabon",
            "Gambia",
            "Ghana",
            "Guinea",
            "Guinea-Bissau",
            "Kenya",
            "Lesotho",
            "Liberia",
            "Libya",
            "Madagascar",
            "Malawi",
            "Mali",
            "Mauritania",
            "Mauritius",
            "Morocco",
            "Mozambique",
            "Namibia",
            "Niger",
            "Nigeria",
            "Reunion",
            "Rwanda",
            "Sao Tome and Principe",
            "Senegal",
            "Sierra Leone",
            "Somalia",
            "South Africa",
            "Sudan",
            "Swaziland",
            "Tanzania",
            "Togo",
            "Tunisia",
            "Uganda",
            "Zambia",
            "Zimbabwe"
           ],
           "ids": [
            "Algeria",
            "Angola",
            "Benin",
            "Botswana",
            "Burkina Faso",
            "Burundi",
            "Cameroon",
            "Central African Republic",
            "Chad",
            "Comoros",
            "Congo, Dem. Rep.",
            "Congo, Rep.",
            "Cote d'Ivoire",
            "Djibouti",
            "Egypt",
            "Equatorial Guinea",
            "Eritrea",
            "Ethiopia",
            "Gabon",
            "Gambia",
            "Ghana",
            "Guinea",
            "Guinea-Bissau",
            "Kenya",
            "Lesotho",
            "Liberia",
            "Libya",
            "Madagascar",
            "Malawi",
            "Mali",
            "Mauritania",
            "Mauritius",
            "Morocco",
            "Mozambique",
            "Namibia",
            "Niger",
            "Nigeria",
            "Reunion",
            "Rwanda",
            "Sao Tome and Principe",
            "Senegal",
            "Sierra Leone",
            "Somalia",
            "South Africa",
            "Sudan",
            "Swaziland",
            "Tanzania",
            "Togo",
            "Tunisia",
            "Uganda",
            "Zambia",
            "Zimbabwe"
           ],
           "legendgroup": "Africa",
           "marker": {
            "color": "#00cc96",
            "size": {
             "bdata": "JZiNAJ+TQABLhhoAxL8GANs0RAAyUSUAq25MAK+1EwBe7igAUFkCACUm1wBlCw0A+2wtAK32AADNGVMBhE8DACj0FQANUD4BXmsGAKBWBADJKFUAOacoAC3cCAAuomIAy2wLAEwsDQBRjw8AIK1IAKqFLADYkDoAXJoPAMzhBwARqZcA7FxiAMdpBwAMkTMAeFv5AaTuAwAPriYAa+oAAAUMKgARtCAAEo8mAGeq2QBbxYEAw20EAG3/fgApmhIA96g3AB3hWACAxSgAywIvAA==",
             "dtype": "i4"
            },
            "sizemode": "area",
            "sizeref": 435928.2961983471,
            "symbol": "circle"
           },
           "mode": "markers",
           "name": "Africa",
           "orientation": "v",
           "showlegend": true,
           "type": "scatter",
           "x": {
            "bdata": "owbTMAQio0BD4bN1OIGrQDSAt0ACm5BA4OEs2+2ZikC1YPO7CvqAQNZReku+NHVAC5jAratSkkDFdYwrPr2QQBh6xOipapJAt0Htt/Y7kUA+StuuVmSIQEsGgCo+m6BAiudsAWGylUAZ4lgXD9ukQAmnBS9KK5ZA1pxyO0p6d0BWCJqFDI90QCchRylXonZAXf5D+nnFsEBmsJjHsFN+QH1gIjlkeoxAqSYc1STjf0Cughjomr1yQEY2V81TrIpArO+yFYqtckDksfp+lfyBQH4AUpsYp6JAflcE/wuMlkB5wyIrpBJ3QCLe30VkRXxAUJYQYu04h0A8Ftuk0r+eQMlxp3TQYJpAMz/tpmpIfUDJkjmWj++iQBnHSPYIz4dAuvjbniDVkECg4GJFxT2lQMT/wpcu1X5AXOffLqt8i0DpmPOMbamWQBtXbUhNfotAq8yU1v++kUD2a+unS3WyQHhEher2P5lASwM/qoHxkUBWTABZM2WGQIgBASF43opA2xfQC+fxlkB5kJ4iB/aGQK+ytimO7ZFAjn6PVSVueUA=",
            "dtype": "f8"
           },
           "xaxis": "x",
           "y": {
            "bdata": "YOXQItuJRUCkcD0K1wM+QAaBlUOLHENAVg4tsp3PR0CamZmZmfk/QIcW2c73g0NAbef7qfFCQ0AlBoGVQ7tBQLKd76fGC0NA7FG4HoVbRED8qfHSTZJDQJHtfD81DkVAkxgEVg49REAOLbKd72dBQPyp8dJN8kRABFYOLbI9QUASWDm0yPZBQESLbOf7CUFAqvHSTWKAQkAAAAAAAAA+QFCNl24Sk0VAy6FFtvPNQEAAAAAAAEBAQMP1KFyPIkVAjWzn+6kRRUA9CtejcD1DQAaBlUOLXEVAukkMAitXQkBU46WbxCBCQEjhehSu10BAL90kBoFFRECR7Xw/NX5JQDu0yHa+b0VA8KfGSzdJP0DNzMzMzNxEQEa28/3UuEJAtvP91HgpQkDpJjEIrFxKQAAAAAAAAERAPzVeukk8R0DdJAaBlaNCQNv5fmq8VD5Ad76fGi99QED91HjpJoFGQOF6FK5HUUNAarx0kxi0REDsUbgehZtEQD81XrpJTENAzczMzMxMRkB3vp8aL/1DQL6fGi/dBEVAfT81Xro5SEA=",
            "dtype": "f8"
           },
           "yaxis": "y"
          },
          {
           "hovertemplate": "<b>%{hovertext}</b><br><br>continent=Americas<br>year=1952<br>gdpPercap=%{x}<br>lifeExp=%{y}<br>pop=%{marker.size}<extra></extra>",
           "hovertext": [
            "Argentina",
            "Bolivia",
            "Brazil",
            "Canada",
            "Chile",
            "Colombia",
            "Costa Rica",
            "Cuba",
            "Dominican Republic",
            "Ecuador",
            "El Salvador",
            "Guatemala",
            "Haiti",
            "Honduras",
            "Jamaica",
            "Mexico",
            "Nicaragua",
            "Panama",
            "Paraguay",
            "Peru",
            "Puerto Rico",
            "Trinidad and Tobago",
            "United States",
            "Uruguay",
            "Venezuela"
           ],
           "ids": [
            "Argentina",
            "Bolivia",
            "Brazil",
            "Canada",
            "Chile",
            "Colombia",
            "Costa Rica",
            "Cuba",
            "Dominican Republic",
            "Ecuador",
            "El Salvador",
            "Guatemala",
            "Haiti",
            "Honduras",
            "Jamaica",
            "Mexico",
            "Nicaragua",
            "Panama",
            "Paraguay",
            "Peru",
            "Puerto Rico",
            "Trinidad and Tobago",
            "United States",
            "Uruguay",
            "Venezuela"
           ],
           "legendgroup": "Americas",
           "marker": {
            "color": "#ab63fa",
            "size": {
             "bdata": "3McQAfP+KwDAr18DMJzhAJNQYQAzdbwAbSIOAPWrWwDSAyYAUSY2APErHwCNAjAA0NkwAI0nFwCvwhUAPffLAd7JEQAwWA4ApL0XAGR2egA4+yEAQh0KAGgRZAmlYCIAUABTAA==",
             "dtype": "i4"
            },
            "sizemode": "area",
            "sizeref": 435928.2961983471,
            "symbol": "circle"
           },
           "mode": "markers",
           "name": "Americas",
           "orientation": "v",
           "showlegend": true,
           "type": "scatter",
           "x": {
            "bdata": "gjtQp1AXt0BMOPQWp+qkQKGhf4LjeaBAXoWUn5QzxkBe8dQj9ceuQM3n3O06wKBAhwZi2QSGpEC9b3ztidK1QAJnKVne1pVAOQzmrziEq0Drc7UVm9CnQAO+27x5+KJAgnLbvnfBnEDZImk32iWhQCNqos8PpaZAZktWRUAsq0DkamRXulCoQB1XI7vCYKNA+GwdHDyBnkAIOe//C12tQGKE8GjrE6hAvJUlOouep0AIJcy0PVPLQGe0VUnEVLZAngsjvcwJvkA=",
            "dtype": "f8"
           },
           "xaxis": "x",
           "y": {
            "bdata": "rkfhehQ+T0CiRbbz/TREQEw3iUFgdUlAAAAAAAAwUUCPwvUoXF9LQPyp8dJNUklA7nw/NV6aTEDazvdT47VNQBBYObTI9kZABFYOLbItSECoxks3iaFGQG3n+6nxAkVAJzEIrBzKQkDb+X5qvPREQKRwPQrXQ01AokW28/1kSUDUeOkmMShFQJzEILBymEtAUI2XbhJTT0D6fmq8dPNFQFK4HoXrEVBAzczMzMyMTUBcj8L1KBxRQAaBlUOLhFBAJQaBlUOLS0A=",
            "dtype": "f8"
           },
           "yaxis": "y"
          },
          {
           "hovertemplate": "<b>%{hovertext}</b><br><br>continent=Oceania<br>year=1952<br>gdpPercap=%{x}<br>lifeExp=%{y}<br>pop=%{marker.size}<extra></extra>",
           "hovertext": [
            "Australia",
            "New Zealand"
           ],
           "ids": [
            "Australia",
            "New Zealand"
           ],
           "legendgroup": "Oceania",
           "marker": {
            "color": "#FFA15A",
            "size": {
             "bdata": "DJ6EACpwHgA=",
             "dtype": "i4"
            },
            "sizemode": "area",
            "sizeref": 435928.2961983471,
            "symbol": "circle"
           },
           "mode": "markers",
           "name": "Oceania",
           "orientation": "v",
           "showlegend": true,
           "type": "scatter",
           "x": {
            "bdata": "GHjuPcybw0DPFDqvSZ7EQA==",
            "dtype": "f8"
           },
           "xaxis": "x",
           "y": {
            "bdata": "SOF6FK5HUUApXI/C9VhRQA==",
            "dtype": "f8"
           },
           "yaxis": "y"
          }
         ],
         "name": "1952"
        },
        {
         "data": [
          {
           "hovertemplate": "<b>%{hovertext}</b><br><br>continent=Asia<br>year=1957<br>gdpPercap=%{x}<br>lifeExp=%{y}<br>pop=%{marker.size}<extra></extra>",
           "hovertext": [
            "Afghanistan",
            "Bahrain",
            "Bangladesh",
            "Cambodia",
            "China",
            "Hong Kong, China",
            "India",
            "Indonesia",
            "Iran",
            "Iraq",
            "Israel",
            "Japan",
            "Jordan",
            "Korea, Dem. Rep.",
            "Korea, Rep.",
            "Kuwait",
            "Lebanon",
            "Malaysia",
            "Mongolia",
            "Myanmar",
            "Nepal",
            "Oman",
            "Pakistan",
            "Philippines",
            "Saudi Arabia",
            "Singapore",
            "Sri Lanka",
            "Syria",
            "Taiwan",
            "Thailand",
            "Vietnam",
            "West Bank and Gaza",
            "Yemen, Rep."
           ],
           "ids": [
            "Afghanistan",
            "Bahrain",
            "Bangladesh",
            "Cambodia",
            "China",
            "Hong Kong, China",
            "India",
            "Indonesia",
            "Iran",
            "Iraq",
            "Israel",
            "Japan",
            "Jordan",
            "Korea, Dem. Rep.",
            "Korea, Rep.",
            "Kuwait",
            "Lebanon",
            "Malaysia",
            "Mongolia",
            "Myanmar",
            "Nepal",
            "Oman",
            "Pakistan",
            "Philippines",
            "Saudi Arabia",
            "Singapore",
            "Sri Lanka",
            "Syria",
            "Taiwan",
            "Thailand",
            "Vietnam",
            "West Bank and Gaza",
            "Yemen, Rep."
           ],
           "legendgroup": "Asia",
           "marker": {
            "color": "#636efa",
            "size": {
             "bdata": "ZgGNAJ8dAgBcxg8DKDdRAAAT/iWswCkAQNhgGOAuXwWAAC4Bw1hfAFGrHQABJHUFP2QLADWbjwBgBlkBbj8DADQjGQBjF3YA1nUNAASaSwGivZMAOZMIAIhHyAKC1I0BQnBDACkQFgBiSosAlFI/APcXmwD9G34Bj3u6AWdVEADq5FMA",
             "dtype": "i4"
            },
            "sizemode": "area",
            "sizeref": 435928.2961983471,
            "symbol": "circle"
           },
           "mode": "markers",
           "name": "Asia",
           "orientation": "v",
           "showlegend": true,
           "type": "scatter",
           "x": {
            "bdata": "KdQuAdOmiUBlqmBU5rnGQKswbIMZrYRA8QOhBp0ge0D7VLpg5f+BQBo1XyUnWqxA3UPC935wgkBi8B/BM9eKQBaGyOmDtKlAMLlRZFVVuECKkpBIRwm1QH2W58Gx3bBAaHVyhlJ4nUD5FADjiYyYQN3PKchfPpdAGsBbIDK3+0AesoF0ycm3QGMEjZlESJxAamyvBU2FjEAAAAAAAOB1QFsTHKh9r4JAmMPuO36FoUAXclsRq1iHQEp/L4XHL5hA1WcHXJfdv0DRsBh1NTamQLZHb7gvwpBAHjLlQ3iKoEB9eQH2cY+XQM6RpouezIhAty3bmEgihUBDqiheRYycQHoKb8WkJolA",
            "dtype": "f8"
           },
           "xaxis": "x",
           "y": {
            "bdata": "okW28/1UPkDRItv5fupKQAaBlUOLrENAAyuHFtmuRED1Zz9SREZJQAAAAAAAMFBAHVpkO98fREAv3SQGgfVDQLpJDAIrl0dADi2yne83SED2KFyPwvVQQAAAAAAAYFBAEoPAyqHVRkDufD81XgpLQLpJDAIrV0pATmIQWDkETUA730+Nl75NQJMYBFYODUpAO7TIdr6fRkCkcD0K1/NEQCuHFtnO10JACtejcD0KRECe76fGS8dGQJhuEoPAqklAyXa+nxpvRUD0/dR46ZZPQO58PzVeuk5AMQisHFokSEAzMzMzMzNPQHE9Ctej0EpAqMZLN4lxRUDazvdT49VGQFyPwvUo/EBA",
            "dtype": "f8"
           },
           "yaxis": "y"
          },
          {
           "hovertemplate": "<b>%{hovertext}</b><br><br>continent=Europe<br>year=1957<br>gdpPercap=%{x}<br>lifeExp=%{y}<br>pop=%{marker.size}<extra></extra>",
           "hovertext": [
            "Albania",
            "Austria",
            "Belgium",
            "Bosnia and Herzegovina",
            "Bulgaria",
            "Croatia",
            "Czech Republic",
            "Denmark",
            "Finland",
            "France",
            "Germany",
            "Greece",
            "Hungary",
            "Iceland",
            "Ireland",
            "Italy",
            "Montenegro",
            "Netherlands",
            "Norway",
            "Poland",
            "Portugal",
            "Romania",
            "Serbia",
            "Slovak Republic",
            "Slovenia",
            "Spain",
            "Sweden",
            "Switzerland",
            "Turkey",
            "United Kingdom"
           ],
           "ids": [
            "Albania",
            "Austria",
            "Belgium",
            "Bosnia and Herzegovina",
            "Bulgaria",
            "Croatia",
            "Czech Republic",
            "Denmark",
            "Finland",
            "France",
            "Germany",
            "Greece",
            "Hungary",
            "Iceland",
            "Ireland",
            "Italy",
            "Montenegro",
            "Netherlands",
            "Norway",
            "Poland",
            "Portugal",
            "Romania",
            "Serbia",
            "Slovak Republic",
            "Slovenia",
            "Spain",
            "Sweden",
            "Switzerland",
            "Turkey",
            "United Kingdom"
           ],
           "legendgroup": "Europe",
           "marker": {
            "color": "#EF553B",
            "size": {
             "bdata": "mYcWAGRKagC3KYkAoO8uALa/dADK5jwAHiuRAJd6RACg+kEATyGkAj2qOwTaiXsAmCGWAPaEAgAM6ysAMHXuAs3BBgDPP6gAYkg1AFLWrgHyi4YAzw0QAd/ybgC1qDoAjmQXAM5YxwHaXHAAcDdOABu1hwFwwhAD",
             "dtype": "i4"
            },
            "sizemode": "area",
            "sizeref": 435928.2961983471,
            "symbol": "circle"
           },
           "mode": "markers",
           "name": "Europe",
           "orientation": "v",
           "showlegend": true,
           "type": "scatter",
           "x": {
            "bdata": "VvDbECNZnkADPj+MTEXBQGXIsfV6+cJA9KeN6vQnlUAXg4dpV4GnQDNwQEs78rBAQUmBBSwgwEBPr5Rl1K3FQDelvFZqeb1AwArw3WrrwECfzarP6eXDQG6HhsVMNLNA7G0zFS6Yt0DptkQuAA7CQEZda+8T37VAlwLS/qdouEBEigEShcSsQN5UpMIYBsZA2iCTjPzCxkBEatrFQH6yQG+df7skfa1AU5Yhjr3OrkCA8KFEF3WzQIFDqFJDzbdAIHwo0UbmtkD8471qzdSxQECmtWnwW8NAeH+8V1990UCPN/ktglWhQCnLEMeWCcZA",
            "dtype": "f8"
           },
           "xaxis": "x",
           "y": {
            "bdata": "pHA9CtejTUAfhetRuN5QQI/C9ShcT1FAmpmZmZk5TUDXo3A9CqdQQOF6FK5HMVBAUrgehetBUUCkcD0K1/NRQI/C9Shc31BA7FG4HoU7UUBmZmZmZkZRQNejcD0K91BACtejcD2aUECuR+F6FF5SQJqZmZmZOVFApHA9CtfzUEDTTWIQWLlOQI/C9ShcP1JAXI/C9ShcUkDhehSuR3FQQOF6FK5HwU5AZmZmZmYGUEBI4XoUrtdOQM3MzMzM3FBAZmZmZmb2UEAK16NwPapQQI/C9ShcH1JApHA9CtejUUAmMQisHApIQHsUrkfhmlFA",
            "dtype": "f8"
           },
           "yaxis": "y"
          },
          {
           "hovertemplate": "<b>%{hovertext}</b><br><br>continent=Africa<br>year=1957<br>gdpPercap=%{x}<br>lifeExp=%{y}<br>pop=%{marker.size}<extra></extra>",
           "hovertext": [
            "Algeria",
            "Angola",
            "Benin",
            "Botswana",
            "Burkina Faso",
            "Burundi",
            "Cameroon",
            "Central African Republic",
            "Chad",
            "Comoros",
            "Congo, Dem. Rep.",
            "Congo, Rep.",
            "Cote d'Ivoire",
            "Djibouti",
            "Egypt",
            "Equatorial Guinea",
            "Eritrea",
            "Ethiopia",
            "Gabon",
            "Gambia",
            "Ghana",
            "Guinea",
            "Guinea-Bissau",
            "Kenya",
            "Lesotho",
            "Liberia",
            "Libya",
            "Madagascar",
            "Malawi",
            "Mali",
            "Mauritania",
            "Mauritius",
            "Morocco",
            "Mozambique",
            "Namibia",
            "Niger",
            "Nigeria",
            "Reunion",
            "Rwanda",
            "Sao Tome and Principe",
            "Senegal",
            "Sierra Leone",
            "Somalia",
            "South Africa",
            "Sudan",
            "Swaziland",
            "Tanzania",
            "Togo",
            "Tunisia",
            "Uganda",
            "Zambia",
            "Zimbabwe"
           ],
           "ids": [
            "Algeria",
            "Angola",
            "Benin",
            "Botswana",
            "Burkina Faso",
            "Burundi",
            "Cameroon",
            "Central African Republic",
            "Chad",
            "Comoros",
            "Congo, Dem. Rep.",
            "Congo, Rep.",
            "Cote d'Ivoire",
            "Djibouti",
            "Egypt",
            "Equatorial Guinea",
            "Eritrea",
            "Ethiopia",
            "Gabon",
            "Gambia",
            "Ghana",
            "Guinea",
            "Guinea-Bissau",
            "Kenya",
            "Lesotho",
            "Liberia",
            "Libya",
            "Madagascar",
            "Malawi",
            "Mali",
            "Mauritania",
            "Mauritius",
            "Morocco",
            "Mozambique",
            "Namibia",
            "Niger",
            "Nigeria",
            "Reunion",
            "Rwanda",
            "Sao Tome and Principe",
            "Senegal",
            "Sierra Leone",
            "Somalia",
            "South Africa",
            "Sudan",
            "Swaziland",
            "Tanzania",
            "Togo",
            "Tunisia",
            "Uganda",
            "Zambia",
            "Zimbabwe"
           ],
           "legendgroup": "Africa",
           "marker": {
            "color": "#00cc96",
            "size": {
             "bdata": "iLicANGZRQA1YB0ADz4HAMjrRwD+sygAM8lRAJw+FQAHLCwAsJsCAEyz7QCqWQ4AoFoyAKsYAQBNnn0B2o0DANOJFwB+I1wB2KIGAE7uBAD4hWEANuUrAAcsCQA7wHEAGmkMAE7kDgCqVRIA7xBPAPYmMQDcuUAAdG4QABhOCQAODK4AU2RrAPBcCACYVjgAXDg3Aty1BADCDysAje8AANObLgB+ByMA/2wqAP1z9gAw05QAVfwEABo9kACFthQAAUk8AC3cZQBABS4AhKM3AA==",
             "dtype": "i4"
            },
            "sizemode": "area",
            "sizeref": 435928.2961983471,
            "symbol": "circle"
           },
           "mode": "markers",
           "name": "Africa",
           "orientation": "v",
           "showlegend": true,
           "type": "scatter",
           "x": {
            "bdata": "SmJJufOLp0AR5KCE4eetQBsOSwPP/I1AbvVBO9yxjEC7n2S8d0mDQHN+ebcIuXdA4j/dQDGElEBj7ISXYJuSQJl+iXj7cZRAi4f3HJjskkA6bGzA4U6MQL1TAfccFqJArfpcbZVzl0Cvvroq8GGmQMcrED2py5ZAHUk444qhekDwYqsVl4J1QPPj1HN3rndAX7adtjJws0C5WoLnaUeAQPgpjgM/TpBA2bW93SICgkCH3tG1pfx6QLhKZquBg41Ako32LvT/dECNZyuKwmeDQEuwOJyR8KpADi2ync/UmECgnR266gV6QHUXzW8dpn5AzHOOS/ZwikB6w33kJsifQEvpmV4CqJlARXtQq2P5fkBssdtn5XqkQCphpu0vHIpAScfVyF4ykUDKxRhY56KlQCRQDrBQ4oBAs7owLeXlikBe2JqtnH6YQMd/gSDgY49ABfhu85aok0CfrBiuGm+1QFM57SlZqZtAqFZfXdVyk0D+53rsSNSFQF+KYT1E74xAd2UXDO7MlUBu9CDz9zKIQLNfd7rTf5RAAveXOB02gEA=",
            "dtype": "f8"
           },
           "xaxis": "x",
           "y": {
            "bdata": "SOF6FK7XRkA5tMh2vv8/QOf7qfHSLURAyXa+nxrPSECHFtnO93NBQE5iEFg5RERAEFg5tMg2REAIrBxaZLtCQFTjpZvE8ENAexSuR+E6RUD6fmq8dFNEQBBYObTIhkZAeekmMQg8RUBEi2zn+6lCQEa28/3UOEZA6fup8dL9QUC8dJMYBAZDQEw3iUFgVUJAHVpkO99/Q0C4HoXrUQhAQMHKoUW2Y0ZAgZVDi2xHQUA830+Nl75AQCyHFtnOV0ZAvHSTGASGRkCR7Xw/Nb5DQKJFtvP9pEZAH4XrUbhuQ0DRItv5fppCQJzvp8ZLp0FAJQaBlUMrRUAIrBxaZAtNQKAaL90ktkZAwcqhRbbjQECxcmiR7ZxGQAaBlUOLTENALbKd76fmQkDsUbgehYtLQAAAAAAAwERAKVyPwvV4SEAnMQisHKpDQFK4HoXrkT9AkxgEVg59QUCuR+F6FP5HQB1aZDvfz0NAg8DKoUW2RUDpJjEIrHxFQLTIdr6fmkRAzczMzMyMR0AOAiuHFklFQGDl0CLbCUZAeekmMQg8SUA=",
            "dtype": "f8"
           },
           "yaxis": "y"
          },
          {
           "hovertemplate": "<b>%{hovertext}</b><br><br>continent=Americas<br>year=1957<br>gdpPercap=%{x}<br>lifeExp=%{y}<br>pop=%{marker.size}<extra></extra>",
           "hovertext": [
            "Argentina",
            "Bolivia",
            "Brazil",
            "Canada",
            "Chile",
            "Colombia",
            "Costa Rica",
            "Cuba",
            "Dominican Republic",
            "Ecuador",
            "El Salvador",
            "Guatemala",
            "Haiti",
            "Honduras",
            "Jamaica",
            "Mexico",
            "Nicaragua",
            "Panama",
            "Paraguay",
            "Peru",
            "Puerto Rico",
            "Trinidad and Tobago",
            "United States",
            "Uruguay",
            "Venezuela"
           ],
           "ids": [
            "Argentina",
            "Bolivia",
            "Brazil",
            "Canada",
            "Chile",
            "Colombia",
            "Costa Rica",
            "Cuba",
            "Dominican Republic",
            "Ecuador",
            "El Salvador",
            "Guatemala",
            "Haiti",
            "Honduras",
            "Jamaica",
            "Mexico",
            "Nicaragua",
            "Panama",
            "Paraguay",
            "Peru",
            "Puerto Rico",
            "Trinidad and Tobago",
            "United States",
            "Uruguay",
            "Venezuela"
           ],
           "legendgroup": "Americas",
           "marker": {
            "color": "#ab63fa",
            "size": {
             "bdata": "qjsrAdoBMQBDO+gD6o0DAeqMawDpCd0A7PgQAHBUZQCymiwAEe09AF3yIwAsjjcA9YU1AJYDGwBybBcAfEsWAuy7FABSOhAAlgUbAPSOiwAgfCIA5KsLAIBEQAp/ACUATEZmAA==",
             "dtype": "i4"
            },
            "sizemode": "area",
            "sizeref": 435928.2961983471,
            "symbol": "circle"
           },
           "mode": "markers",
           "name": "Americas",
           "orientation": "v",
           "showlegend": true,
           "type": "scatter",
           "x": {
            "bdata": "c6q1MNvIukDKGB9mX5+gQGQD6WK7bqNAnuqQm/lkyEB4R8Zqn9uwQI/iHHWcJ6JAdvnWhwVcp0DFmsqiLMy3QM6luKqcIZhAp86j4heJrUBbzTrjC7uqQIMY6NpPcqRA1GLwMI37mkCygXSx+VihQNxnlZmGlLJApyGq8IsjsEC9UwH31AKrQGhcOBCaI6dA++k/a574n0DyyvW2QZWwQP0tAfhPhq5AP8bctWQEsEBV2XdFkP/MQNLfS+HFBrhAXrwftzslw0A=",
            "dtype": "f8"
           },
           "xaxis": "x",
           "y": {
            "bdata": "qMZLN4kZUEBSuB6F6/FEQBSuR+F6pEpAPQrXo3B9UUC28/3UeAlMQMl2vp8aj0tAF9nO91MDTkCamZmZmSlPQESLbOf76UhAIbByaJGtSUApXI/C9UhIQBkEVg4tEkZADAIrhxZZRECF61G4HlVGQK5H4XoUTk9AuB6F61GYS0Ce76fGS7dGQH0/NV66mU1ADgIrhxaZT0CNbOf7qSFHQMP1KFyPIlFAZmZmZmbmTkCPwvUoXF9RQIlBYOXQwlBAarx0kxj0TEA=",
            "dtype": "f8"
           },
           "yaxis": "y"
          },
          {
           "hovertemplate": "<b>%{hovertext}</b><br><br>continent=Oceania<br>year=1957<br>gdpPercap=%{x}<br>lifeExp=%{y}<br>pop=%{marker.size}<extra></extra>",
           "hovertext": [
            "Australia",
            "New Zealand"
           ],
           "ids": [
            "Australia",
            "New Zealand"
           ],
           "legendgroup": "Oceania",
           "marker": {
            "color": "#FFA15A",
            "size": {
             "bdata": "uTOUAJ8EIgA=",
             "dtype": "i4"
            },
            "sizemode": "area",
            "sizeref": 435928.2961983471,
            "symbol": "circle"
           },
           "mode": "markers",
           "name": "Oceania",
           "orientation": "v",
           "showlegend": true,
           "type": "scatter",
           "x": {
            "bdata": "6N7DJdNixUC6g9iZsuvHQA==",
            "dtype": "f8"
           },
           "xaxis": "x",
           "y": {
            "bdata": "hetRuB6VUUBxPQrXo5BRQA==",
            "dtype": "f8"
           },
           "yaxis": "y"
          }
         ],
         "name": "1957"
        },
        {
         "data": [
          {
           "hovertemplate": "<b>%{hovertext}</b><br><br>continent=Asia<br>year=1962<br>gdpPercap=%{x}<br>lifeExp=%{y}<br>pop=%{marker.size}<extra></extra>",
           "hovertext": [
            "Afghanistan",
            "Bahrain",
            "Bangladesh",
            "Cambodia",
            "China",
            "Hong Kong, China",
            "India",
            "Indonesia",
            "Iran",
            "Iraq",
            "Israel",
            "Japan",
            "Jordan",
            "Korea, Dem. Rep.",
            "Korea, Rep.",
            "Kuwait",
            "Lebanon",
            "Malaysia",
            "Mongolia",
            "Myanmar",
            "Nepal",
            "Oman",
            "Pakistan",
            "Philippines",
            "Saudi Arabia",
            "Singapore",
            "Sri Lanka",
            "Syria",
            "Taiwan",
            "Thailand",
            "Vietnam",
            "West Bank and Gaza",
            "Yemen, Rep."
           ],
           "ids": [
            "Afghanistan",
            "Bahrain",
            "Bangladesh",
            "Cambodia",
            "China",
            "Hong Kong, China",
            "India",
            "Indonesia",
            "Iran",
            "Iraq",
            "Israel",
            "Japan",
            "Jordan",
            "Korea, Dem. Rep.",
            "Korea, Rep.",
            "Kuwait",
            "Lebanon",
            "Malaysia",
            "Mongolia",
            "Myanmar",
            "Nepal",
            "Oman",
            "Pakistan",
            "Philippines",
            "Saudi Arabia",
            "Singapore",
            "Sri Lanka",
            "Syria",
            "Taiwan",
            "Thailand",
            "Vietnam",
            "West Bank and Gaza",
            "Yemen, Rep."
           ],
           "legendgroup": "Asia",
           "marker": {
            "color": "#636efa",
            "size": {
             "bdata": "y6mcAFefAgB5TGMDI9RcABDYrifwbjIAgH0PGyAM5wWQB10BRHpuAPhCIwDNRrYFtz4OAHaWpgBTJJMBencFAIDKHACR5ocAaGoPAASiaAGZp50AxJUJAH9AKgMQus4BtWxLALi0GgCwBp8APcVJAFretQAlhr4BLLADAk5KEQCRYl0A",
             "dtype": "i4"
            },
            "sizemode": "area",
            "sizeref": 435928.2961983471,
            "symbol": "circle"
           },
           "mode": "markers",
           "name": "Asia",
           "orientation": "v",
           "showlegend": true,
           "type": "scatter",
           "x": {
            "bdata": "CWMLQc6oikDpmsk3o+jIQJcGj4C7coVAGiHyTJ4Of0B9tmnHyHp+QOleJ/WlVLJANxIN98aShEDddvxyUYqKQChk521UW7BAwM+4cN5KwEBky/J1ocG7QAd7E0OmsLlA/nxbsARYokBJ2o0+xlaZQKxY/KZgAZhAkNrEySFO90DH1jOEj1K2QCqLwi6K059AoUj3c2qBkEAAAAAAAEB4QOiUkcQsY4RATkS/tkbZpkDHr2nvvRqJQI6VmGc1xplAPzVeujW1xkC1p+SceLWsQBV0e0njyZBANLkYAxMioUATgeofhHucQDtSfeeXUY9AIFoarmQgiECN+bmh6S2hQMiemFD8zIlA",
            "dtype": "f8"
           },
           "xaxis": "x",
           "y": {
            "bdata": "rBxaZDv/P0CgGi/dJHZMQM/3U+Olm0RAhetRuB61RUDjwoGQLEBGQJqZmZmZ6VBAPQrXo3DNRUD8qfHSTUJFQJqZmZmZqUhA0SLb+X66SUApXI/C9VhRQB+F61G4LlFA5aWbxCAQSECJFtnO91NMQEw3iUFgpUtAXI/C9Sg8TkB56SYxCAxPQHWTGARW3ktA5aWbxCAgSEDn+6nx0o1GQPyp8dJNskNAhetRuB6VRUD2KFyPwtVHQDeJQWDlYEtAokW28/30RkBQjZduEnNQQH9qvHSTGE9A16NwPQonSUDNzMzMzExQQCyHFtnOB0xAWDm0yHauRkDHSzeJQRBIQNejcD0Kl0FA",
            "dtype": "f8"
           },
           "yaxis": "y"
          },
          {
           "hovertemplate": "<b>%{hovertext}</b><br><br>continent=Europe<br>year=1962<br>gdpPercap=%{x}<br>lifeExp=%{y}<br>pop=%{marker.size}<extra></extra>",
           "hovertext": [
            "Albania",
            "Austria",
            "Belgium",
            "Bosnia and Herzegovina",
            "Bulgaria",
            "Croatia",
            "Czech Republic",
            "Denmark",
            "Finland",
            "France",
            "Germany",
            "Greece",
            "Hungary",
            "Iceland",
            "Ireland",
            "Italy",
            "Montenegro",
            "Netherlands",
            "Norway",
            "Poland",
            "Portugal",
            "Romania",
            "Serbia",
            "Slovak Republic",
            "Slovenia",
            "Spain",
            "Sweden",
            "Switzerland",
            "Turkey",
            "United Kingdom"
           ],
           "ids": [
            "Albania",
            "Austria",
            "Belgium",
            "Bosnia and Herzegovina",
            "Bulgaria",
            "Croatia",
            "Czech Republic",
            "Denmark",
            "Finland",
            "France",
            "Germany",
            "Greece",
            "Hungary",
            "Iceland",
            "Ireland",
            "Italy",
            "Montenegro",
            "Netherlands",
            "Norway",
            "Poland",
            "Portugal",
            "Romania",
            "Serbia",
            "Slovak Republic",
            "Slovenia",
            "Spain",
            "Sweden",
            "Switzerland",
            "Turkey",
            "United Kingdom"
           ],
           "legendgroup": "Europe",
           "marker": {
            "color": "#EF553B",
            "size": {
             "bdata": "iV4aAAjLbABgqYwACBozAJJEegANND4AOsuSAPPnRgCziEQAIA7PAm0rZQTp6IAAmIyZACXHAgCwLisAQM4HA6A9BwD5I7QAh4Y3ABHLzgGYoYkAkQsdATw2dABIqEAAcicYAC1v2wF0YXMA0HRWABeKxgHgKy0D",
             "dtype": "i4"
            },
            "sizemode": "area",
            "sizeref": 435928.2961983471,
            "symbol": "circle"
           },
           "mode": "markers",
           "name": "Europe",
           "orientation": "v",
           "showlegend": true,
           "type": "scatter",
           "x": {
            "bdata": "CcOAJccRokBpHVVNXP/EQA+XHHead8VA2QdZFry2mkBQ4J18Vp6wQNo6ONjjZbVAsacd/m7Mw0B8fhghqIfKQPHxCdnrTcJAndfYJT6gxEB/h6JAOzPJQES94NMwgbdAlSnmIFx+vUAN/RNcFDfEQHH/kemY57lAlPsdisoZwEDbM0sCmCmyQP/PYb5s+8hAgv+tZDNFykDqknGMwNq0QE8Cm3P0d7JA88zLYf9+skAN424QoZG4QB3jiosbOb1AxXJLq03qvEDIQnQI2D22QLml1ZC4FMhAFvvL7sXz00AP1ZRkvSWiQI3ROqqWXshA",
            "dtype": "f8"
           },
           "xaxis": "x",
           "y": {
            "bdata": "FK5H4Xo0UEDD9Shcj2JRQAAAAAAAkFFA16NwPQr3TkBxPQrXo2BRQLgehetRyFBAmpmZmZl5UUBmZmZmZhZSQAAAAAAAMFFAcT0K16OgUUAzMzMzM5NRQHE9CtejYFFAPQrXo3D9UEDsUbgehWtSQMP1KFyPklFAj8L1KFxPUUB3vp8aL91PQB+F61G4TlJArkfhehReUkApXI/C9ehQQClcj8L1GFBAMzMzMzOzUEBEi2zn+yFQQIXrUbgelVFAmpmZmZlJUUBcj8L1KGxRQEjhehSuV1JAFK5H4XrUUUAGgZVDiwxKQHE9CtejsFFA",
            "dtype": "f8"
           },
           "yaxis": "y"
          },
          {
           "hovertemplate": "<b>%{hovertext}</b><br><br>continent=Africa<br>year=1962<br>gdpPercap=%{x}<br>lifeExp=%{y}<br>pop=%{marker.size}<extra></extra>",
           "hovertext": [
            "Algeria",
            "Angola",
            "Benin",
            "Botswana",
            "Burkina Faso",
            "Burundi",
            "Cameroon",
            "Central African Republic",
            "Chad",
            "Comoros",
            "Congo, Dem. Rep.",
            "Congo, Rep.",
            "Cote d'Ivoire",
            "Djibouti",
            "Egypt",
            "Equatorial Guinea",
            "Eritrea",
            "Ethiopia",
            "Gabon",
            "Gambia",
            "Ghana",
            "Guinea",
            "Guinea-Bissau",
            "Kenya",
            "Lesotho",
            "Liberia",
            "Libya",
            "Madagascar",
            "Malawi",
            "Mali",
            "Mauritania",
            "Mauritius",
            "Morocco",
            "Mozambique",
            "Namibia",
            "Niger",
            "Nigeria",
            "Reunion",
            "Rwanda",
            "Sao Tome and Principe",
            "Senegal",
            "Sierra Leone",
            "Somalia",
            "South Africa",
            "Sudan",
            "Swaziland",
            "Tanzania",
            "Togo",
            "Tunisia",
            "Uganda",
            "Zambia",
            "Zimbabwe"
           ],
           "ids": [
            "Algeria",
            "Angola",
            "Benin",
            "Botswana",
            "Burkina Faso",
            "Burundi",
            "Cameroon",
            "Central African Republic",
            "Chad",
            "Comoros",
            "Congo, Dem. Rep.",
            "Congo, Rep.",
            "Cote d'Ivoire",
            "Djibouti",
            "Egypt",
            "Equatorial Guinea",
            "Eritrea",
            "Ethiopia",
            "Gabon",
            "Gambia",
            "Ghana",
            "Guinea",
            "Guinea-Bissau",
            "Kenya",
            "Lesotho",
            "Liberia",
            "Libya",
            "Madagascar",
            "Malawi",
            "Mali",
            "Mauritania",
            "Mauritius",
            "Morocco",
            "Mozambique",
            "Namibia",
            "Niger",
            "Nigeria",
            "Reunion",
            "Rwanda",
            "Sao Tome and Principe",
            "Senegal",
            "Sierra Leone",
            "Somalia",
            "South Africa",
            "Sudan",
            "Swaziland",
            "Tanzania",
            "Togo",
            "Tunisia",
            "Uganda",
            "Zambia",
            "Zimbabwe"
           ],
           "legendgroup": "Africa",
           "marker": {
            "color": "#00cc96",
            "size": {
             "bdata": "dNynAJ+jSQDX1SAA/NIHAFARSwD7MS0AYWdYABY/FwBREjAAyewCAGLSCgF0/Q8AWHo6ACpfAQD9460BhM0DADpuGQAcsH8B7fMGAAS1BQBwO3AAo+kvAGyUCQCdbIQA16ANANz6EABHABYAnAZXAEBeNwDEkUcAhX8RAFiyCgBcOscAkNl2AFB7CQDoMT4A9+d+AvR5BQDqji4AQf8AAGNXNAA3qCUA2f8uALEZGAF7pKoAVqUFAFbFpQAiURcAWGhBAF1SdQBIMzQA6EVBAA==",
             "dtype": "i4"
            },
            "sizemode": "area",
            "sizeref": 435928.2961983471,
            "symbol": "circle"
           },
           "mode": "markers",
           "name": "Africa",
           "orientation": "v",
           "showlegend": true,
           "type": "scatter",
           "x": {
            "bdata": "g2kYPqLto0BuT5DYRq2wQN2gURX+q41A2ZL6Vzu9jkAHn0GeGJSGQHjyRGtAM3ZAAHUDBW7elUACui9nRqSSQHwqpz1Ft5VA3SIw1pf6lUDQhZFehAKMQERN9PmQQaNA6WhVS3oDm0BJEK6A+pmnQA5N2elXdZpAVVmAW7w2gkAPV2L57s93QOPt93pNN3pAm6+Sj3XnuUD9SufDM72CQBxF1hoqmJJA8969SP1yhUAO2xZlRlCAQNlN3yG7B4xA7HTWXc+8eUA/V1uxj9GDQDKwjuMHZbpA0VeQZoytmUBY7rvYar56QLAErRvKAn9AKBB2ipV/kEDR86eNIsKjQHapEfppeZhA2w8dp31lgUBdxHdibsqoQGf8sf8gLo9ACPfKvLX7kUDH155ZcsuoQAz5VtrIq4JA0QSKWDS+kEA2V81z9NuZQNiR6juPcpFA1jVaDvRllUBWurvOuoi2QMfZdARgnp5AI9v5froAnUDjJx/MB5CGQEyOO6UjrpBASKeufDbxmUArkOqFLPqHQDLKMy/nspZAiMymbS16gEA=",
            "dtype": "f8"
           },
           "xaxis": "x",
           "y": {
            "bdata": "EFg5tMgmSEAAAAAAAABBQMl2vp8aT0VAw/UoXI/CSUDVeOkmMehCQPYoXI/CBUVA/Knx0k1SRUDNzMzMzLxDQM/3U+Ol20RAsp3vp8Y7RkBWDi2ynQ9FQEjhehSuN0hA16NwPQp3RkBkEFg5tNhDQOXQItv5fkdArkfhehS+QkBOYhBYORREQGQ730+NB0RAO99PjZc+RECmm8QgsPJAQGDl0CLbOUdAqvHSTWLgQUBYObTIdj5BQLbz/dR4+UdAVg4tsp3fR0DHSzeJQUBEQIGVQ4ts50dABoGVQ4tsREAUrkfhejRDQCuHFtnOd0JAO7TIdr4fRkBzaJHtfB9OQIPAyqFF9kdA+FPjpZsUQkDFILByaDFIQHWTGARWvkNArkfhehSuQ0Boke18P9VMQAAAAAAAgEVA/Knx0k3ySUAmMQisHLpEQBkEVg4tYkBAIbByaJF9QkB9PzVeuvlIQI/C9Shcb0RA5dAi2/l+RkBzaJHtfB9GQLx0kxgE9kVAJjEIrBzKSEB56SYxCKxGQG3n+6nxAkdA5/up8dItSkA=",
            "dtype": "f8"
           },
           "yaxis": "y"
          },
          {
           "hovertemplate": "<b>%{hovertext}</b><br><br>continent=Americas<br>year=1962<br>gdpPercap=%{x}<br>lifeExp=%{y}<br>pop=%{marker.size}<extra></extra>",
           "hovertext": [
            "Argentina",
            "Bolivia",
            "Brazil",
            "Canada",
            "Chile",
            "Colombia",
            "Costa Rica",
            "Cuba",
            "Dominican Republic",
            "Ecuador",
            "El Salvador",
            "Guatemala",
            "Haiti",
            "Honduras",
            "Jamaica",
            "Mexico",
            "Nicaragua",
            "Panama",
            "Paraguay",
            "Peru",
            "Puerto Rico",
            "Trinidad and Tobago",
            "United States",
            "Uruguay",
            "Venezuela"
           ],
           "ids": [
            "Argentina",
            "Bolivia",
            "Brazil",
            "Canada",
            "Chile",
            "Colombia",
            "Costa Rica",
            "Cuba",
            "Dominican Republic",
            "Ecuador",
            "El Salvador",
            "Guatemala",
            "Haiti",
            "Honduras",
            "Jamaica",
            "Mexico",
            "Nicaragua",
            "Panama",
            "Paraguay",
            "Peru",
            "Puerto Rico",
            "Trinidad and Tobago",
            "United States",
            "Uruguay",
            "Venezuela"
           ],
           "legendgroup": "Americas",
           "marker": {
            "color": "#ab63fa",
            "size": {
             "bdata": "x8NEAb7WNgDeRIgEebMhAap6eQDdjAMBo4YUAGWxbgD6sTQA629HACftKQDaOEAAwjQ7ALLkHwBoaBkAzXZzAkVFGADtjBIA1aoeABR4oACuWiUAyooNABBYHgtCpicAD0J8AA==",
             "dtype": "i4"
            },
            "sizemode": "area",
            "sizeref": 435928.2961983471,
            "symbol": "circle"
           },
           "mode": "markers",
           "name": "Americas",
           "orientation": "v",
           "showlegend": true,
           "type": "scatter",
           "x": {
            "bdata": "ZLt7gCrdu0C2n4zx8QmhQN1fPe4rEapASZ2AJj5LykAAkBMmGKexQKoQj8SzeKNAEqW9wd8Jq0C4WFGDwTy0QD9z1qeM+JlAY35uaDrsr0Bdhv90m4GtQFGGqpi6fKVAMWE0K1sSnEC8V61MUOahQIlfsYYbfrRArMWnAJzlsUDvWGyTumSsQP4pVaIUoatAb5wU5g3IoEDWNzC5CV2zQDjzqzlY9LNAD6X2IoaFs0DmXIqrkpbPQDlgV5Nb47VA9U9wsXxzwEA=",
            "dtype": "f8"
           },
           "xaxis": "x",
           "y": {
            "bdata": "DAIrhxZJUEAQWDm0yLZFQIXrUbge1UtAMzMzMzPTUUCDwMqhRfZMQFg5tMh27kxAsp3vp8ZrT0A6tMh2vk9QQJhuEoPAukpAUrgehetRS0Ce76fGSydKQCYxCKwcekdA7FG4HoXLRUBoke18PwVIQNejcD0KZ1BAg8DKoUUmTUA3iUFg5VBIQH9qvHST6E5AyXa+nxoXUEA/NV66SYxIQEjhehSuZ1FAmpmZmZk5UEA9CtejcI1RQNV46SYxEFFAw/UoXI9iTkA=",
            "dtype": "f8"
           },
           "yaxis": "y"
          },
          {
           "hovertemplate": "<b>%{hovertext}</b><br><br>continent=Oceania<br>year=1962<br>gdpPercap=%{x}<br>lifeExp=%{y}<br>pop=%{marker.size}<extra></extra>",
           "hovertext": [
            "Australia",
            "New Zealand"
           ],
           "ids": [
            "Australia",
            "New Zealand"
           ],
           "legendgroup": "Oceania",
           "marker": {
            "color": "#FFA15A",
            "size": {
             "bdata": "2LekAOb4JQA=",
             "dtype": "i4"
            },
            "sizemode": "area",
            "sizeref": 435928.2961983471,
            "symbol": "circle"
           },
           "mode": "markers",
           "name": "Oceania",
           "orientation": "v",
           "showlegend": true,
           "type": "scatter",
           "x": {
            "bdata": "Y5y/CZ3cx0BYObTI1rvJQA==",
            "dtype": "f8"
           },
           "xaxis": "x",
           "y": {
            "bdata": "7FG4HoW7UUCPwvUoXM9RQA==",
            "dtype": "f8"
           },
           "yaxis": "y"
          }
         ],
         "name": "1962"
        },
        {
         "data": [
          {
           "hovertemplate": "<b>%{hovertext}</b><br><br>continent=Asia<br>year=1967<br>gdpPercap=%{x}<br>lifeExp=%{y}<br>pop=%{marker.size}<extra></extra>",
           "hovertext": [
            "Afghanistan",
            "Bahrain",
            "Bangladesh",
            "Cambodia",
            "China",
            "Hong Kong, China",
            "India",
            "Indonesia",
            "Iran",
            "Iraq",
            "Israel",
            "Japan",
            "Jordan",
            "Korea, Dem. Rep.",
            "Korea, Rep.",
            "Kuwait",
            "Lebanon",
            "Malaysia",
            "Mongolia",
            "Myanmar",
            "Nepal",
            "Oman",
            "Pakistan",
            "Philippines",
            "Saudi Arabia",
            "Singapore",
            "Sri Lanka",
            "Syria",
            "Taiwan",
            "Thailand",
            "Vietnam",
            "West Bank and Gaza",
            "Yemen, Rep."
           ],
           "ids": [
            "Afghanistan",
            "Bahrain",
            "Bangladesh",
            "Cambodia",
            "China",
            "Hong Kong, China",
            "India",
            "Indonesia",
            "Iran",
            "Iraq",
            "Israel",
            "Japan",
            "Jordan",
            "Korea, Dem. Rep.",
            "Korea, Rep.",
            "Kuwait",
            "Lebanon",
            "Malaysia",
            "Mongolia",
            "Myanmar",
            "Nepal",
            "Oman",
            "Pakistan",
            "Philippines",
            "Saudi Arabia",
            "Singapore",
            "Sri Lanka",
            "Syria",
            "Taiwan",
            "Thailand",
            "Vietnam",
            "West Bank and Gaza",
            "Yemen, Rep."
           ],
           "legendgroup": "Asia",
           "marker": {
            "color": "#636efa",
            "size": {
             "bdata": "Lg6wAMYVAwD8lb4DwzNqAPCE+SwwzjgAgPIoHhhxhAYQ8JQBcv6BANEZKQC/eAIGkiYTADGFwAA4w8sBG8YIAI5eIQB+85oAPIoRAL+/igH61qsAF+gKAGtSnQO4fxsCFrpVAAAtHgA0GbMArK5WADRD0AA5KwcC5itaAmxvEQAx22YA",
             "dtype": "i4"
            },
            "sizemode": "area",
            "sizeref": 435928.2961983471,
            "symbol": "circle"
           },
           "mode": "markers",
           "name": "Asia",
           "orientation": "v",
           "showlegend": true,
           "type": "scatter",
           "x": {
            "bdata": "V04xvZMhikACmggbVurMQOf5whp9iYZAxbQlYXVbgEAG0JRCpSWDQCJy+nr2NbhAllPxNSrmhUCaRu5EdNOHQAyOkle7ErdArDsW27pxwUCQhlPm3mTAQDP9EvHkO8NAwJZXrpdrpUDZ7bPKFL+gQGBzDp7ptJ9A3jzVIe6/80CY+KOo+3a3QF0ZVBt8y6FAipP7HSook0AAAAAAANB1QK9zeK2JI4VAXWvvU/FwskBvkjAdRHONQB6KAn2CWJxAhbGFIMOB0EAR/G8la3GzQO6VeasOvpFAKEaWzLFnnUBlOQmlt6ekQE1KQbfXPZRAuzPJfvzog0DSwmUVbrOkQGHU/4OJ84pA",
            "dtype": "f8"
           },
           "xaxis": "x",
           "y": {
            "bdata": "w/UoXI8CQUCgGi/dJPZNQESLbOf7uUVAhetRuB61RkD/7EeKyDBNQAAAAAAAgFFAZBBYObSYR0AIrBxaZPtGQHnpJjEIPEpAmG4Sg8A6S0AAAAAAALBRQOxRuB6F21FAjZduEoPQSUB/arx0k/hNQM/3U+Ol20xADi2yne8nUECPwvUoXO9PQHNoke18r01AqvHSTWKgSUCNl24Sg7BIQCPb+X5qvERAWDm0yHZ+R0BmZmZmZuZIQPyp8dJNMkxAF9nO91PzSEAGgZVDi/xQQBsv3SQGEVBApHA9CtfTSkAAAAAAAOBQQBSuR+F6JE1AJQaBlUPrR0BU46WbxNBJQMuhRbbzfUJA",
            "dtype": "f8"
           },
           "yaxis": "y"
          },
          {
           "hovertemplate": "<b>%{hovertext}</b><br><br>continent=Europe<br>year=1967<br>gdpPercap=%{x}<br>lifeExp=%{y}<br>pop=%{marker.size}<extra></extra>",
           "hovertext": [
            "Albania",
            "Austria",
            "Belgium",
            "Bosnia and Herzegovina",
            "Bulgaria",
            "Croatia",
            "Czech Republic",
            "Denmark",
            "Finland",
            "France",
            "Germany",
            "Greece",
            "Hungary",
            "Iceland",
            "Ireland",
            "Italy",
            "Montenegro",
            "Netherlands",
            "Norway",
            "Poland",
            "Portugal",
            "Romania",
            "Serbia",
            "Slovak Republic",
            "Slovenia",
            "Spain",
            "Sweden",
            "Switzerland",
            "Turkey",
            "United Kingdom"
           ],
           "ids": [
            "Albania",
            "Austria",
            "Belgium",
            "Bosnia and Herzegovina",
            "Bulgaria",
            "Croatia",
            "Czech Republic",
            "Denmark",
            "Finland",
            "France",
            "Germany",
            "Greece",
            "Hungary",
            "Iceland",
            "Ireland",
            "Italy",
            "Montenegro",
            "Netherlands",
            "Norway",
            "Poland",
            "Portugal",
            "Romania",
            "Serbia",
            "Slovak Republic",
            "Slovenia",
            "Spain",
            "Sweden",
            "Switzerland",
            "Turkey",
            "United Kingdom"
           ],
           "legendgroup": "Europe",
           "marker": {
            "color": "#EF553B",
            "size": {
             "bdata": "PEYeAGaQcAAU0pEA6LM2ANLNfgAesj8AZRKWAJDVSQAwR0YA6Fz0AkVKjQSZAIUAPv+bABQIAwCEQCwA3KIjAyulBwBWNsAAI8U5AKIB5QGY5ooATkMmAZaheQB+yEMAQCEZAGNB9QEbDngAmINcAPXQ/QGYm0YD",
             "dtype": "i4"
            },
            "sizemode": "area",
            "sizeref": 435928.2961983471,
            "symbol": "circle"
           },
           "mode": "markers",
           "name": "Europe",
           "orientation": "v",
           "showlegend": true,
           "type": "scatter",
           "x": {
            "bdata": "I9kj1GSQpUCOdXEbTRHJQHbDtkWFrslAuZbJcLT4oEBuNIC3AMm1QMFVnkBMMLtAKdAn8rhDxkD4qpUJmyDPQOC593DRVMVAbATidfVjyUAGDf0T0MzMQJgxBWuMoMBAW+uLhFI3wkDXaaSl8gPKQKIlj6eR571Ax0YgXjOTw0D12QHX2RO3QMOBkCygAc5A9kArMPD0z0Cd81McJ525QI9yMJuE2bhAg6Pk1d1GuUAdAkcCtTe/QIGxvoFzbsBA4ZaPpL5ewkDwF7Mlgzm/QPLqHAMmzc1ACvSJPIlt1kByW1t4thSmQD+p9ulsn8tA",
            "dtype": "f8"
           },
           "xaxis": "x",
           "y": {
            "bdata": "rkfhehSOUEApXI/C9YhRQFyPwvUovFFAw/UoXI8yUEB7FK5H4ZpRQAAAAAAAIFFAuB6F61GYUUA9CtejcD1SQIXrUbgedVFAMzMzMzPjUUAzMzMzM7NRQAAAAAAAwFFAAAAAAABgUUAfhetRuG5SQIXrUbgexVFApHA9CtfDUUAIrBxaZMtQQBSuR+F6dFJAhetRuB6FUkDXo3A9CmdRQGZmZmZmplBAMzMzMzOzUEDRItv5frpQQB+F61G4vlFA7FG4HoVLUUBcj8L1KNxRQArXo3A9ilJA4XoUrkcxUkBgukkMAitLQNejcD0K11FA",
            "dtype": "f8"
           },
           "yaxis": "y"
          },
          {
           "hovertemplate": "<b>%{hovertext}</b><br><br>continent=Africa<br>year=1967<br>gdpPercap=%{x}<br>lifeExp=%{y}<br>pop=%{marker.size}<extra></extra>",
           "hovertext": [
            "Algeria",
            "Angola",
            "Benin",
            "Botswana",
            "Burkina Faso",
            "Burundi",
            "Cameroon",
            "Central African Republic",
            "Chad",
            "Comoros",
            "Congo, Dem. Rep.",
            "Congo, Rep.",
            "Cote d'Ivoire",
            "Djibouti",
            "Egypt",
            "Equatorial Guinea",
            "Eritrea",
            "Ethiopia",
            "Gabon",
            "Gambia",
            "Ghana",
            "Guinea",
            "Guinea-Bissau",
            "Kenya",
            "Lesotho",
            "Liberia",
            "Libya",
            "Madagascar",
            "Malawi",
            "Mali",
            "Mauritania",
            "Mauritius",
            "Morocco",
            "Mozambique",
            "Namibia",
            "Niger",
            "Nigeria",
            "Reunion",
            "Rwanda",
            "Sao Tome and Principe",
            "Senegal",
            "Sierra Leone",
            "Somalia",
            "South Africa",
            "Sudan",
            "Swaziland",
            "Tanzania",
            "Togo",
            "Tunisia",
            "Uganda",
            "Zambia",
            "Zimbabwe"
           ],
           "ids": [
            "Algeria",
            "Angola",
            "Benin",
            "Botswana",
            "Burkina Faso",
            "Burundi",
            "Cameroon",
            "Central African Republic",
            "Chad",
            "Comoros",
            "Congo, Dem. Rep.",
            "Congo, Rep.",
            "Cote d'Ivoire",
            "Djibouti",
            "Egypt",
            "Equatorial Guinea",
            "Eritrea",
            "Ethiopia",
            "Gabon",
            "Gambia",
            "Ghana",
            "Guinea",
            "Guinea-Bissau",
            "Kenya",
            "Lesotho",
            "Liberia",
            "Libya",
            "Madagascar",
            "Malawi",
            "Mali",
            "Mauritania",
            "Mauritius",
            "Morocco",
            "Mozambique",
            "Namibia",
            "Niger",
            "Nigeria",
            "Reunion",
            "Rwanda",
            "Sao Tome and Principe",
            "Senegal",
            "Sierra Leone",
            "Somalia",
            "South Africa",
            "Sudan",
            "Swaziland",
            "Tanzania",
            "Togo",
            "Tunisia",
            "Uganda",
            "Zambia",
            "Zimbabwe"
           ],
           "legendgroup": "Africa",
           "marker": {
            "color": "#00cc96",
            "size": {
             "bdata": "s7XCAO0RUADGCSUARXIIAP8+TgCt0zIAEqxgAAZ0GgAfWDUAIlEDANFGMAFwABIApmZIAIHyAQCkauMBGPcDAJ/GGwBJHakBLHYHACm1BgDljIEAGqo0AMcsCQCYgpsAHDQPAK6FEwD41xoAXKhgADRIPwAAiU8AzsYSAD0LDAB4YOEAzXWEAFDICgAuL0UAyI3RAkhRBgDHqDQAgxQBAJGDPAAunygA51E0AMlkQAFhCMIAUmsGAFBfwAB+exoAKgtJAMbOhwBggjsAaDlMAA==",
             "dtype": "i4"
            },
            "sizemode": "area",
            "sizeref": 435928.2961983471,
            "symbol": "circle"
           },
           "mode": "markers",
           "name": "Africa",
           "orientation": "v",
           "showlegend": true,
           "type": "scatter",
           "x": {
            "bdata": "PpRoyftdqUBvEoPAxpK1QCO6Z11TL5BA/5QqUdb6kkCI/VTLnNaIQFT2TOWjz3lA/oAHBtCRl0DaVUj5OcCRQCFZwAQ+s5JAOQ68Wh5QnUDOFN/1vuyKQOeXwRjh66RAqdiY1xkIoEAMBtfcGZinQLCSj92FW5xArW71nMScjEDfnFsyuEx9QPxGhfvyIIBAfT7KiGFTwEAQjZNnQ/aGQFGgT+TJlpFAzOstihMmhkDzbbAmpVyGQKSnyCHygpBAcOzZczkqf0BIVo9F1EyGQK9fsBswVdJAwk6xajCImUDYGZWKPPh+QCrxyj8UCIFAb0p5rZQ0lkBYxoZuxlajQF7XL9gtvJpA7SNcbVq1gUCZS6q2Y6OtQBnG3SCKeZBA8dWO4hy0j0BDU3b6WWqvQA67lF9r739A/FBpxFyjlUCp29lXnjGZQBXGFoIs2JJAVei8xu4SlEButU5cesq7QJgwmpX9X5pATFRvDTRqpEAz3IDPv4GKQD6uDRVjFpdAZziez3AxnkBVsechWWeMQJIlcyxPxJtA7w9KTlzOgUA=",
            "dtype": "f8"
           },
           "xaxis": "x",
           "y": {
            "bdata": "arx0kxi0SUCuR+F6FP5BQOF6FK5HcUZAoBov3SSmSkDwp8ZLN1lEQKAaL90kxkVAg8DKoUVmRkB3vp8aL71EQLFyaJHtzEVAI9v5fmo8R0C6SQwCKwdGQIXrUbgeBUpAzczMzMysR0C28/3UeAlFQC/dJAaBpUhAdZMYBFZ+Q0DUeOkmMRhFQB+F61G4DkVABoGVQ4tMRkAEVg4tsu1BQPCnxks3CUhA8KfGSzeZQkDl0CLb+b5BQMHKoUW2U0lA5dAi2/k+SED4U+Olm8REQJMYBFYOHUlAVOOlm8RwRUB1kxgEVr5DQHWTGARWPkNAokW28/0kR0Ce76fGS8dOQHsUrkfhKklAWDm0yHYOQ0AxCKwcWpRJQMl2vp8aD0RAhetRuB6FREBMN4lBYEVOQM3MzMzMDEZAZmZmZmY2S0Dy0k1iEMhFQFg5tMh2DkFAkxgEVg59Q0Atsp3vp/ZJQOf7qfHSbUVAGy/dJAZRR0A3iUFg5eBGQN9PjZduYkdAEFg5tMgGSkBKDAIrhwZIQPyp8dJN4kdAj8L1KFz/SkA=",
            "dtype": "f8"
           },
           "yaxis": "y"
          },
          {
           "hovertemplate": "<b>%{hovertext}</b><br><br>continent=Americas<br>year=1967<br>gdpPercap=%{x}<br>lifeExp=%{y}<br>pop=%{marker.size}<extra></extra>",
           "hovertext": [
            "Argentina",
            "Bolivia",
            "Brazil",
            "Canada",
            "Chile",
            "Colombia",
            "Costa Rica",
            "Cuba",
            "Dominican Republic",
            "Ecuador",
            "El Salvador",
            "Guatemala",
            "Haiti",
            "Honduras",
            "Jamaica",
            "Mexico",
            "Nicaragua",
            "Panama",
            "Paraguay",
            "Peru",
            "Puerto Rico",
            "Trinidad and Tobago",
            "United States",
            "Uruguay",
            "Venezuela"
           ],
           "ids": [
            "Argentina",
            "Bolivia",
            "Brazil",
            "Canada",
            "Chile",
            "Colombia",
            "Costa Rica",
            "Cuba",
            "Dominican Republic",
            "Ecuador",
            "El Salvador",
            "Guatemala",
            "Haiti",
            "Honduras",
            "Jamaica",
            "Mexico",
            "Nicaragua",
            "Panama",
            "Paraguay",
            "Peru",
            "Puerto Rico",
            "Trinidad and Tobago",
            "United States",
            "Uruguay",
            "Venezuela"
           ],
           "legendgroup": "Americas",
           "marker": {
            "color": "#ab63fa",
            "size": {
             "bdata": "0fJdAdmnPQCfiD8FN689ARwthwA7ky0B7T0YAEQyfAD6yD0AaORSAJ9UMQBVk0cAueNBAFEoJgDoZRwAp1rcAhJ3HAAuchUAcekiAGgfuQCBaygAm6YOAMAa2Auj8CkA8CeUAA==",
             "dtype": "i4"
            },
            "sizemode": "area",
            "sizeref": 435928.2961983471,
            "symbol": "circle"
           },
           "mode": "markers",
           "name": "Americas",
           "orientation": "v",
           "showlegend": true,
           "type": "scatter",
           "x": {
            "bdata": "ZSsv+fN0v0AMI72oxTWkQCMuAI26y6pAiSmRREtmz0BZiA6Bp/KzQLEYda117aRA6zpUU7pBsEDWi6GcRDq2QKL/5Vrk1plA3xXB/xLjsUBE96xrmAaxQL3kf/IPValAXcDLDDuwlkDVsUrpidSjQFZfXRW07LdAF5zB37t6tkDf66S+ZCOyQOs6VFMCRbFAQNzVq8D2oUC8kXnkF5y2QKTDQxhHEbtAflUuVF71tUCatn9llxLTQPOTap+eRLVAFEAxsryiwkA=",
            "dtype": "f8"
           },
           "xaxis": "x",
           "y": {
            "bdata": "f2q8dJNoUEBqvHSTGIRGQDeJQWDl0ExAuB6F61EIUkBt5/up8UJOQCUGgZVD+01AQWDl0CJbUEDD9ShcjxJRQOWlm8QgYExAEFg5tMhWTEA9CtejcO1LQDdeukkMAklAyXa+nxofR0CDwMqhRXZJQHE9Ctej4FBArkfhehQOTkD91HjpJvFJQAaBlUOLBFBAv58aL908UEApXI/C9bhJQGZmZmZmxlFAmpmZmZlZUEBxPQrXo7BRQMuhRbbzHVFAWmQ730+9T0A=",
            "dtype": "f8"
           },
           "yaxis": "y"
          },
          {
           "hovertemplate": "<b>%{hovertext}</b><br><br>continent=Oceania<br>year=1967<br>gdpPercap=%{x}<br>lifeExp=%{y}<br>pop=%{marker.size}<extra></extra>",
           "hovertext": [
            "Australia",
            "New Zealand"
           ],
           "ids": [
            "Australia",
            "New Zealand"
           ],
           "legendgroup": "Oceania",
           "marker": {
            "color": "#FFA15A",
            "size": {
             "bdata": "CCi1ANagKQA=",
             "dtype": "i4"
            },
            "sizemode": "area",
            "sizeref": 435928.2961983471,
            "symbol": "circle"
           },
           "mode": "markers",
           "name": "Oceania",
           "orientation": "v",
           "showlegend": true,
           "type": "scatter",
           "x": {
            "bdata": "ufyH9A9fzECpjH+f9T/MQA==",
            "dtype": "f8"
           },
           "xaxis": "x",
           "y": {
            "bdata": "ZmZmZmbGUUDhehSuR+FRQA==",
            "dtype": "f8"
           },
           "yaxis": "y"
          }
         ],
         "name": "1967"
        },
        {
         "data": [
          {
           "hovertemplate": "<b>%{hovertext}</b><br><br>continent=Asia<br>year=1972<br>gdpPercap=%{x}<br>lifeExp=%{y}<br>pop=%{marker.size}<extra></extra>",
           "hovertext": [
            "Afghanistan",
            "Bahrain",
            "Bangladesh",
            "Cambodia",
            "China",
            "Hong Kong, China",
            "India",
            "Indonesia",
            "Iran",
            "Iraq",
            "Israel",
            "Japan",
            "Jordan",
            "Korea, Dem. Rep.",
            "Korea, Rep.",
            "Kuwait",
            "Lebanon",
            "Malaysia",
            "Mongolia",
            "Myanmar",
            "Nepal",
            "Oman",
            "Pakistan",
            "Philippines",
            "Saudi Arabia",
            "Singapore",
            "Sri Lanka",
            "Syria",
            "Taiwan",
            "Thailand",
            "Vietnam",
            "West Bank and Gaza",
            "Yemen, Rep."
           ],
           "ids": [
            "Afghanistan",
            "Bahrain",
            "Bangladesh",
            "Cambodia",
            "China",
            "Hong Kong, China",
            "India",
            "Indonesia",
            "Iran",
            "Iraq",
            "Israel",
            "Japan",
            "Jordan",
            "Korea, Dem. Rep.",
            "Korea, Rep.",
            "Kuwait",
            "Lebanon",
            "Malaysia",
            "Mongolia",
            "Myanmar",
            "Nepal",
            "Oman",
            "Pakistan",
            "Philippines",
            "Saudi Arabia",
            "Singapore",
            "Sri Lanka",
            "Syria",
            "Taiwan",
            "Thailand",
            "Vietnam",
            "West Bank and Gaza",
            "Yemen, Rep."
           ],
           "legendgroup": "Asia",
           "marker": {
            "color": "#636efa",
            "size": {
             "bdata": "pJPHAJCFAwB/szcE7q9xALCIYTP0zD4AwLvLIdCdOgfwIdMBwoaZAFU9LwAxkGMG754YADmL4QDoPv8BztgMANLkKAA2la4ANCYUANZcsgGxZr0AeqYMAGHUIQTdUm8CNMRiANDXIACdnsYAdEBmALdU6AB5TlcCpmGpAiSgEADjBXEA",
             "dtype": "i4"
            },
            "sizemode": "area",
            "sizeref": 435928.2961983471,
            "symbol": "circle"
           },
           "mode": "markers",
           "name": "Asia",
           "orientation": "v",
           "showlegend": true,
           "type": "scatter",
           "x": {
            "bdata": "Umf/Tdkfh0CBzw8jKtfRQNUHknfesYNA0VVfAvxZekAbp3xjMyeFQHmSdM32PcBA5QmEnUKghkAKMCx/blyRQKM6HcjoxsJAOxvyzwS0wkAtCVBTd/nIQHHJcadk3cxAihwibrZ9oEC7JqQ1PuusQBTQRNjAradAWmQ73z2y+kCD+StkYj69QKEQAYcwQqZAzF1LyPc2lkAAAAAAAFB2QBRI5BZOFoVAodY07wS9xEBDOjyEwWeQQKnBNAx/FZ9A3GgAb1tB2ECWJTrL4MrAQFn60AWV9ZJAgH9KldgWpEDyQjo8DL2vQG4164xv0ZdA2l37XQPchUADRMGM0XqoQJj75CgwxJNA",
            "dtype": "f8"
           },
           "xaxis": "x",
           "y": {
            "bdata": "JQaBlUMLQkBmZmZmZqZPQMdLN4lBoEZAf2q8dJMoREABE7h1N49PQAAAAAAAAFJAF9nO91NTSUBEi2zn+5lIQMuhRbbznUtAmpmZmZl5TEC4HoXrUehRQHsUrkfhWlJA3SQGgZVDTEDn+6nx0v1PQHWTGARWTk9AIbByaJHtUEBt5/up8VpQQOF6FK5HgU9AjZduEoPgSkApXI/C9YhKQD81XrpJ/EVA/Knx0k0SSkD0/dR46fZJQLgehetRCE1AxSCwcmjxSkDTTWIQWGFRQKabxCCwQlBA2s73U+OlTEApXI/C9VhRQKRwPQrXM05AjZduEoMgSUBqvHSTGERMQAaBlUOL7ENA",
            "dtype": "f8"
           },
           "yaxis": "y"
          },
          {
           "hovertemplate": "<b>%{hovertext}</b><br><br>continent=Europe<br>year=1972<br>gdpPercap=%{x}<br>lifeExp=%{y}<br>pop=%{marker.size}<extra></extra>",
           "hovertext": [
            "Albania",
            "Austria",
            "Belgium",
            "Bosnia and Herzegovina",
            "Bulgaria",
            "Croatia",
            "Czech Republic",
            "Denmark",
            "Finland",
            "France",
            "Germany",
            "Greece",
            "Hungary",
            "Iceland",
            "Ireland",
            "Italy",
            "Montenegro",
            "Netherlands",
            "Norway",
            "Poland",
            "Portugal",
            "Romania",
            "Serbia",
            "Slovak Republic",
            "Slovenia",
            "Spain",
            "Sweden",
            "Switzerland",
            "Turkey",
            "United Kingdom"
           ],
           "ids": [
            "Albania",
            "Austria",
            "Belgium",
            "Bosnia and Herzegovina",
            "Bulgaria",
            "Croatia",
            "Czech Republic",
            "Denmark",
            "Finland",
            "France",
            "Germany",
            "Greece",
            "Hungary",
            "Iceland",
            "Ireland",
            "Italy",
            "Montenegro",
            "Netherlands",
            "Norway",
            "Poland",
            "Portugal",
            "Romania",
            "Serbia",
            "Slovak Republic",
            "Slovenia",
            "Spain",
            "Sweden",
            "Switzerland",
            "Turkey",
            "United Kingdom"
           ],
           "legendgroup": "Europe",
           "marker": {
            "color": "#EF553B",
            "size": {
             "bdata": "AooiAIkdcwAsJpQA+EU6AMjcggAeeUAADnyWAGwqTACpy0YAIF4VA6AgsQQ0oYcA65meAHsxAwAQJi4AfI09Az4NCADSZcsATAM8ALkk+AHS4IgAeEk7AcjZfgAZF0YALtsZAAmhDgK173sAeK1hANkYPAKYslcD",
             "dtype": "i4"
            },
            "sizemode": "area",
            "sizeref": 435928.2961983471,
            "symbol": "circle"
           },
           "mode": "markers",
           "name": "Europe",
           "orientation": "v",
           "showlegend": true,
           "type": "scatter",
           "x": {
            "bdata": "h4kGKdjiqUAYldQJaEXQQEFIFjAJSNBA/tR46VZYpkA1Cd6QfsW5QL4SSIkL5sFAvJaQDzqayUBau+1CjWzSQEi/fR1wC8xAKAr0iZh1z0CdLouJC5jRQN+JWS9q2shASphp+1Pcw0CwPbMkCNvOQJuRQe5incJAJhk5C6P2x0D9ogT9aWK+QOepDrmvWtJAptB5jUOF0kBOEkvKgUa/QL05XKsfn8FAZN0/FmpLv0BnJ4OjCI3EQPvNxHQV5cJAqDXNO74vyECUE+0qYMfEQIums5MBatFAyR8MPMeO2kAtW+uLZPWqQHfbheaOC89A",
            "dtype": "f8"
           },
           "xaxis": "x",
           "y": {
            "bdata": "XI/C9SjsUEC4HoXrUahRQFyPwvUo3FFAzczMzMzcUECamZmZmblRQNejcD0KZ1FAw/UoXI+SUUCuR+F6FF5SQEjhehSut1FAuB6F61EYUkAAAAAAAMBRQPYoXI/CFVJAcT0K16NwUUA9CtejcJ1SQFK4HoXr0VFAXI/C9SgMUkBkEFg5tKhRQAAAAAAAcFJA9ihcj8KVUkBmZmZmZrZRQHE9CtejUFFAPQrXo3BNUUDNzMzMzCxRQGZmZmZmllFAFK5H4Xp0UUCkcD0K10NSQK5H4XoUrlJAUrgehetxUkBxPQrXo4BMQHE9CtejAFJA",
            "dtype": "f8"
           },
           "yaxis": "y"
          },
          {
           "hovertemplate": "<b>%{hovertext}</b><br><br>continent=Africa<br>year=1972<br>gdpPercap=%{x}<br>lifeExp=%{y}<br>pop=%{marker.size}<extra></extra>",
           "hovertext": [
            "Algeria",
            "Angola",
            "Benin",
            "Botswana",
            "Burkina Faso",
            "Burundi",
            "Cameroon",
            "Central African Republic",
            "Chad",
            "Comoros",
            "Congo, Dem. Rep.",
            "Congo, Rep.",
            "Cote d'Ivoire",
            "Djibouti",
            "Egypt",
            "Equatorial Guinea",
            "Eritrea",
            "Ethiopia",
            "Gabon",
            "Gambia",
            "Ghana",
            "Guinea",
            "Guinea-Bissau",
            "Kenya",
            "Lesotho",
            "Liberia",
            "Libya",
            "Madagascar",
            "Malawi",
            "Mali",
            "Mauritania",
            "Mauritius",
            "Morocco",
            "Mozambique",
            "Namibia",
            "Niger",
            "Nigeria",
            "Reunion",
            "Rwanda",
            "Sao Tome and Principe",
            "Senegal",
            "Sierra Leone",
            "Somalia",
            "South Africa",
            "Sudan",
            "Swaziland",
            "Tanzania",
            "Togo",
            "Tunisia",
            "Uganda",
            "Zambia",
            "Zimbabwe"
           ],
           "ids": [
            "Algeria",
            "Angola",
            "Benin",
            "Botswana",
            "Burkina Faso",
            "Burundi",
            "Cameroon",
            "Central African Republic",
            "Chad",
            "Comoros",
            "Congo, Dem. Rep.",
            "Congo, Rep.",
            "Cote d'Ivoire",
            "Djibouti",
            "Egypt",
            "Equatorial Guinea",
            "Eritrea",
            "Ethiopia",
            "Gabon",
            "Gambia",
            "Ghana",
            "Guinea",
            "Guinea-Bissau",
            "Kenya",
            "Lesotho",
            "Liberia",
            "Libya",
            "Madagascar",
            "Malawi",
            "Mali",
            "Mauritania",
            "Mauritius",
            "Morocco",
            "Mozambique",
            "Namibia",
            "Niger",
            "Nigeria",
            "Reunion",
            "Rwanda",
            "Sao Tome and Principe",
            "Senegal",
            "Sierra Leone",
            "Somalia",
            "South Africa",
            "Sudan",
            "Swaziland",
            "Tanzania",
            "Togo",
            "Tunisia",
            "Uganda",
            "Zambia",
            "Zimbabwe"
           ],
           "legendgroup": "Africa",
           "marker": {
            "color": "#00cc96",
            "size": {
             "bdata": "UzvhAMryWQC/IioAV3MJAB7qUgD/3DUA5CFrAFxoHQC8fjsAq9ADALURXwEqdBQAkKVcAKC6AgB5HhMCYzwEANt8IgDEhNUBeTUIAO3jBwCIu44AOyg6ANGKCQDxybcAawoRAISfFgDFUiEAvhFsAHUwSAA+7lgAMlYUAIb9DAC+OP4AvK6VABaKDACmNk0ANQI0A0ELBwA56jwAMysBAJgERgAl7isAoZg6AEI7bQGbu94AaVMHAKFn4ACfYB8A0+xQAM19mwCBw0QAD29ZAA==",
             "dtype": "i4"
            },
            "sizemode": "area",
            "sizeref": 435928.2961983471,
            "symbol": "circle"
           },
           "mode": "markers",
           "name": "Africa",
           "orientation": "v",
           "showlegend": true,
           "type": "scatter",
           "x": {
            "bdata": "Mo6R7KlWsEAVGLK6SWG1QHpvDAEw95BAQyjv4zivoUAO2YpH47WKQDHFZpGXAX1AzJ9vC5ZQmkBrK/aXDbiQQNZwkXtqQJFA3gIJik9GnkDOM/YlK0eMQE9XdyxOGqlAu18F+GaUokB+vma5bNysQD7qr1cIoJ9AWlBzTUwDhUDBAHj6lxKAQGVIBJnzsYFAmrZ/ZflExkDY5DrXsaCHQGq/tRPlaJJAu+DCcFQth0C0aJX0y6GJQG2Oc5twGZNAv2mfM04Jf0AxYTQrCxiJQFDkSdLfhNRA8nhafkBSm0CCFOHL+USCQDUOUHXzKoJAa0lHOWjLmEAysI7j9x6kQCfChqfHKJ5AL113qVenhkBaKQRyKUStQBfNFISs0Y1AxXWMK46JmkBbs5WXqLezQMP3DzOldIJAA7Fs5vDzl0CvQzUl2faYQPm6DP8JJ5VAX3089E2ak0D0GVBv9lW+QJayDHGc7plACKwcWqxJqkD+xLdm4Z+MQNm0UgikxplAtjnObZKCpUAfSUkP47WNQPceLjn+tZtANwNtvOX6iEA=",
            "dtype": "f8"
           },
           "xaxis": "x",
           "y": {
            "bdata": "/Knx0k1CS0AQWDm0yPZCQG8Sg8DKgUdAUI2XbhIDTEDP91PjpctFQJ7vp8ZLB0ZAg8DKoUWGR0DRItv5frpFQEa28/3UyEZARrbz/dR4SEA730+Nl/5GQGq8dJMYdEtASgwCK4fmSEADK4cW2S5GQKjGSzeJkUlANV66SQxCREAZBFYOLRJGQFK4HoXrwUVAuB6F61FYSECBlUOLbCdDQAAAAAAA8EhAsp3vp8ZrQ0CR7Xw/NT5CQGQ730+Nx0pAGQRWDi3iSEA730+Nl05FQG3n+6nxYkpAsXJoke1sRkA3XrpJDOJEQJMYBFYO/UNADi2yne83SEBGtvP91HhPQHWTGARWbkpARIts5/spREDl0CLb+e5KQNnO91PjRURADgIrhxZpRUCoxks3iRFQQM3MzMzMTEZAPQrXo3A9TEC4HoXrUehGQDMzMzMzs0FABoGVQ4t8REAOAiuHFtlKQLTIdr6fikZALbKd76fGSECPwvUoXM9HQP3UeOkm4UhAkxgEVg7NS0A3XrpJDIJJQARWDi2yDUlA4XoUrkfRS0A=",
            "dtype": "f8"
           },
           "yaxis": "y"
          },
          {
           "hovertemplate": "<b>%{hovertext}</b><br><br>continent=Americas<br>year=1972<br>gdpPercap=%{x}<br>lifeExp=%{y}<br>pop=%{marker.size}<extra></extra>",
           "hovertext": [
            "Argentina",
            "Bolivia",
            "Brazil",
            "Canada",
            "Chile",
            "Colombia",
            "Costa Rica",
            "Cuba",
            "Dominican Republic",
            "Ecuador",
            "El Salvador",
            "Guatemala",
            "Haiti",
            "Honduras",
            "Jamaica",
            "Mexico",
            "Nicaragua",
            "Panama",
            "Paraguay",
            "Peru",
            "Puerto Rico",
            "Trinidad and Tobago",
            "United States",
            "Uruguay",
            "Venezuela"
           ],
           "ids": [
            "Argentina",
            "Bolivia",
            "Brazil",
            "Canada",
            "Chile",
            "Colombia",
            "Costa Rica",
            "Cuba",
            "Dominican Republic",
            "Ecuador",
            "El Salvador",
            "Guatemala",
            "Haiti",
            "Honduras",
            "Jamaica",
            "Mexico",
            "Nicaragua",
            "Panama",
            "Paraguay",
            "Peru",
            "Puerto Rico",
            "Trinidad and Tobago",
            "United States",
            "Uruguay",
            "Venezuela"
           ],
           "legendgroup": "Americas",
           "marker": {
            "color": "#ab63fa",
            "size": {
             "bdata": "Fxx6AXCrRQB6sgIG1AhUARRHlAAq+lcBLP8bAHTBhgBhR0cAGxxgADfYOQCNk04AvbBHAJo+LQAwex4ApkBWA/xOIQAAqhgAWOMnAIzu1ACccSsAX+EOAEDCggzWLCsAAbevAA==",
             "dtype": "i4"
            },
            "sizemode": "area",
            "sizeref": 435928.2961983471,
            "symbol": "circle"
           },
           "mode": "markers",
           "name": "Americas",
           "orientation": "v",
           "showlegend": true,
           "type": "scatter",
           "x": {
            "bdata": "BoNr7oRxwkDH8UOlqUinQC+JsyK2ebNApmH4iKSG0kDQ04BBBna1QAra5PBRgalAglfLnSX+s0BZFkz8cbm0QMU6Vb6/G6FAAYdQpf6gtECOWmH6PqixQM+B5QjRfq9AJ/im6dPZmUDmBdhHr8OjQJG/tKjjCb1AnvnVHGiZukDMmljgl1CyQAcU6uk/9LRAmkNSC622o0CJldHI0zG3QG9GzVeF0cFAZKvLKY3buUAoSddMgkvVQGYRiq1oR7ZACvSJPKGExEA=",
            "dtype": "f8"
           },
           "xaxis": "x",
           "y": {
            "bdata": "XI/C9SjEUEAIrBxaZFtHQI2XbhKDwE1AuB6F61E4UkCcxCCwcrhPQDu0yHa+z05AdJMYBFb2UECDwMqhRa5RQFTjpZvE0E1A2s73U+NlTUDRItv5fhpNQFg5tMh23kpATDeJQWAFSED91HjpJvFKQAAAAAAAQFFAke18PzUuT0AX2c73U5NLQOj7qfHSjVBAXI/C9Sh0UEDTTWIQWLlLQArXo3A9ClJAmpmZmZl5UED2KFyPwtVRQFCNl24SK1FAIbByaJFtUEA=",
            "dtype": "f8"
           },
           "yaxis": "y"
          },
          {
           "hovertemplate": "<b>%{hovertext}</b><br><br>continent=Oceania<br>year=1972<br>gdpPercap=%{x}<br>lifeExp=%{y}<br>pop=%{marker.size}<extra></extra>",
           "hovertext": [
            "Australia",
            "New Zealand"
           ],
           "ids": [
            "Australia",
            "New Zealand"
           ],
           "legendgroup": "Oceania",
           "marker": {
            "color": "#FFA15A",
            "size": {
             "bdata": "qBDJAMyxLAA=",
             "dtype": "i4"
            },
            "sizemode": "area",
            "sizeref": 435928.2961983471,
            "symbol": "circle"
           },
           "mode": "markers",
           "name": "Oceania",
           "orientation": "v",
           "showlegend": true,
           "type": "scatter",
           "x": {
            "bdata": "X3tmSShl0EBmTpfFBFfPQA==",
            "dtype": "f8"
           },
           "xaxis": "x",
           "y": {
            "bdata": "7FG4HoX7UUApXI/C9fhRQA==",
            "dtype": "f8"
           },
           "yaxis": "y"
          }
         ],
         "name": "1972"
        },
        {
         "data": [
          {
           "hovertemplate": "<b>%{hovertext}</b><br><br>continent=Asia<br>year=1977<br>gdpPercap=%{x}<br>lifeExp=%{y}<br>pop=%{marker.size}<extra></extra>",
           "hovertext": [
            "Afghanistan",
            "Bahrain",
            "Bangladesh",
            "Cambodia",
            "China",
            "Hong Kong, China",
            "India",
            "Indonesia",
            "Iran",
            "Iraq",
            "Israel",
            "Japan",
            "Jordan",
            "Korea, Dem. Rep.",
            "Korea, Rep.",
            "Kuwait",
            "Lebanon",
            "Malaysia",
            "Mongolia",
            "Myanmar",
            "Nepal",
            "Oman",
            "Pakistan",
            "Philippines",
            "Saudi Arabia",
            "Singapore",
            "Sri Lanka",
            "Syria",
            "Taiwan",
            "Thailand",
            "Vietnam",
            "West Bank and Gaza",
            "Yemen, Rep."
           ],
           "ids": [
            "Afghanistan",
            "Bahrain",
            "Bangladesh",
            "Cambodia",
            "China",
            "Hong Kong, China",
            "India",
            "Indonesia",
            "Iran",
            "Iraq",
            "Israel",
            "Japan",
            "Jordan",
            "Korea, Dem. Rep.",
            "Korea, Rep.",
            "Kuwait",
            "Lebanon",
            "Malaysia",
            "Mongolia",
            "Myanmar",
            "Nepal",
            "Oman",
            "Pakistan",
            "Philippines",
            "Saudi Arabia",
            "Singapore",
            "Sri Lanka",
            "Syria",
            "Taiwan",
            "Thailand",
            "Vietnam",
            "West Bank and Gaza",
            "Yemen, Rep."
           ],
           "legendgroup": "Asia",
           "marker": {
            "color": "#636efa",
            "size": {
             "bdata": "dA7jAMKJBAASPcsEL3xqABj7OzgU8UUAgBLKJQhCJghnZB0CpFG1AO5XNQBZjskG9JAdAMga+QAg+CsChWYRAAuLLwBFAcQAwFAXAJcU4QGOmtQA9VMPAO6DqASS48oC+Qd8ADR7IwDkZ9cAVwp5ACwfAAE9pqECghQDAyM+EwAWPIAA",
             "dtype": "i4"
            },
            "sizemode": "area",
            "sizeref": 435928.2961983471,
            "symbol": "circle"
           },
           "mode": "markers",
           "name": "Asia",
           "orientation": "v",
           "showlegend": true,
           "type": "scatter",
           "x": {
            "bdata": "ZaVJKeiQiEBgPIOGBuPSQP7PUJIEn4RAw038B8dngEBGcp5W5imHQEjhehQS2cVAhKlm1rJqiUDYn8TnzpqVQEDZlCtMOMdAIxXGFh6wzECu9UVCT/3JQBGN7iCYONBApIy4ALRIpkD0iqceTQqwQMNHxJQ4MbJA9Bq7RC/w7EBWC+wx2enAQOJzJ9jX561ACObo8Qu+mUAAAAAAADB3QCZ+1kbmsIVAOBCSBSwkx0A3wTdNr1+SQP8/TphoiqJAfh04Z/iu4EDTpBR0C+XFQHB4QUQaE5VAdsQhG/j2qECcFVEThdy1QCmqtwbmpJ5AVGBcBUxMhkCk4ZS5qcWsQJs6j4oPl5xA",
            "dtype": "f8"
           },
           "xaxis": "x",
           "y": {
            "bdata": "8tJNYhA4Q0DLoUW282VQQKAaL90kdkdAuB6F61E4P0CyutVz0vtPQGZmZmZmZlJAtMh2vp8aS0Bg5dAi21lKQGDl0CLb2UxAvp8aL900TkCkcD0K10NSQLgehetR2FJA/dR46SaRTkAYBFYOLcpQQBsv3SQGMVBAy6FFtvNVUUB0kxgEVoZQQKrx0k1iUFBAAyuHFtm+S0BkO99PjQdMQDu0yHa+X0dA5dAi2/muTEAv3SQGgQVLQEjhehSuB05AuB6F61FYTUB7FK5H4bJRQNv5fmq8fFBAKVyPwvWYTkD2KFyPwqVRQKwcWmQ7P09AbxKDwMrhS0BSuB6F62FOQGZmZmZmFkZA",
            "dtype": "f8"
           },
           "yaxis": "y"
          },
          {
           "hovertemplate": "<b>%{hovertext}</b><br><br>continent=Europe<br>year=1977<br>gdpPercap=%{x}<br>lifeExp=%{y}<br>pop=%{marker.size}<extra></extra>",
           "hovertext": [
            "Albania",
            "Austria",
            "Belgium",
            "Bosnia and Herzegovina",
            "Bulgaria",
            "Croatia",
            "Czech Republic",
            "Denmark",
            "Finland",
            "France",
            "Germany",
            "Greece",
            "Hungary",
            "Iceland",
            "Ireland",
            "Italy",
            "Montenegro",
            "Netherlands",
            "Norway",
            "Poland",
            "Portugal",
            "Romania",
            "Serbia",
            "Slovak Republic",
            "Slovenia",
            "Spain",
            "Sweden",
            "Switzerland",
            "Turkey",
            "United Kingdom"
           ],
           "ids": [
            "Albania",
            "Austria",
            "Belgium",
            "Bosnia and Herzegovina",
            "Bulgaria",
            "Croatia",
            "Czech Republic",
            "Denmark",
            "Finland",
            "France",
            "Germany",
            "Greece",
            "Hungary",
            "Iceland",
            "Ireland",
            "Italy",
            "Montenegro",
            "Netherlands",
            "Norway",
            "Poland",
            "Portugal",
            "Romania",
            "Serbia",
            "Slovak Republic",
            "Slovenia",
            "Spain",
            "Sweden",
            "Switzerland",
            "Turkey",
            "United Kingdom"
           ],
           "legendgroup": "Europe",
           "marker": {
            "color": "#EF553B",
            "size": {
             "bdata": "+EgmAC58cwBo3pUA8Fg+AF47hgDR5UEA+w6bAKOkTQBWT0gA2zsrA4WjqAQ/CY4Ac0+iAH9iAwDc7DEAbWVXA8mLCAA9YdMAxbE9AEZHEAKIcJMA5XtKAR+LhACbqkkA56caANgDLAIA6X0AiGFgAMEIhwI4OVkD",
             "dtype": "i4"
            },
            "sizemode": "area",
            "sizeref": 435928.2961983471,
            "symbol": "circle"
           },
           "mode": "markers",
           "name": "Europe",
           "orientation": "v",
           "showlegend": true,
           "type": "scatter",
           "x": {
            "bdata": "Q9R9AAKaq0BGlPYGW0nTQKdc4V1+q9JAzeSbbfaQq0C3QliNPby9QLMkQE2xFMZAizcyjxTozEBWDi2yufHTQOIeSx+2es5AGD4ipijd0UCGrG71OgjUQPlmmxvDuctAU67wLmvNxkBYxRuZvTHTQJD3qpV9x8VAXrpJDP7Xy0CyhSAH973CQPvL7slDttRA499nXNbD1kDyJyobEpLCQIKtEiw+3sNAVaTC2DJGwkBbXyS0VVrJQJ5BQ/9UVcVAqE2c3IPWzUAHCOboddrJQC8012nuadJAtTLhl5JZ2kBzucFQH62wQJfFxOYvBdFA",
            "dtype": "f8"
           },
           "xaxis": "x",
           "y": {
            "bdata": "7FG4HoU7UUB7FK5H4QpSQDMzMzMzM1JA16NwPQp3UUCkcD0K17NRQClcj8L1qFFAPQrXo3CtUUBcj8L1KKxSQOF6FK5HIVJAhetRuB51UkAAAAAAACBSQOxRuB6Fa1JAzczMzMx8UUDXo3A9CgdTQFK4HoXrAVJAH4XrUbheUkBOYhBYOURSQI/C9Shcz1JASOF6FK7XUkB7FK5H4apRQArXo3A9mlFAPQrXo3BdUUAzMzMzM5NRQM3MzMzMnFFArkfhehS+UUApXI/C9ZhSQFyPwvUo3FJAKVyPwvXYUkA3iUFg5cBNQHE9CtejMFJA",
            "dtype": "f8"
           },
           "yaxis": "y"
          },
          {
           "hovertemplate": "<b>%{hovertext}</b><br><br>continent=Africa<br>year=1977<br>gdpPercap=%{x}<br>lifeExp=%{y}<br>pop=%{marker.size}<extra></extra>",
           "hovertext": [
            "Algeria",
            "Angola",
            "Benin",
            "Botswana",
            "Burkina Faso",
            "Burundi",
            "Cameroon",
            "Central African Republic",
            "Chad",
            "Comoros",
            "Congo, Dem. Rep.",
            "Congo, Rep.",
            "Cote d'Ivoire",
            "Djibouti",
            "Egypt",
            "Equatorial Guinea",
            "Eritrea",
            "Ethiopia",
            "Gabon",
            "Gambia",
            "Ghana",
            "Guinea",
            "Guinea-Bissau",
            "Kenya",
            "Lesotho",
            "Liberia",
            "Libya",
            "Madagascar",
            "Malawi",
            "Mali",
            "Mauritania",
            "Mauritius",
            "Morocco",
            "Mozambique",
            "Namibia",
            "Niger",
            "Nigeria",
            "Reunion",
            "Rwanda",
            "Sao Tome and Principe",
            "Senegal",
            "Sierra Leone",
            "Somalia",
            "South Africa",
            "Sudan",
            "Swaziland",
            "Tanzania",
            "Togo",
            "Tunisia",
            "Uganda",
            "Zambia",
            "Zimbabwe"
           ],
           "ids": [
            "Algeria",
            "Angola",
            "Benin",
            "Botswana",
            "Burkina Faso",
            "Burundi",
            "Cameroon",
            "Central African Republic",
            "Chad",
            "Comoros",
            "Congo, Dem. Rep.",
            "Congo, Rep.",
            "Cote d'Ivoire",
            "Djibouti",
            "Egypt",
            "Equatorial Guinea",
            "Eritrea",
            "Ethiopia",
            "Gabon",
            "Gambia",
            "Ghana",
            "Guinea",
            "Guinea-Bissau",
            "Kenya",
            "Lesotho",
            "Liberia",
            "Libya",
            "Madagascar",
            "Malawi",
            "Mali",
            "Mauritania",
            "Mauritius",
            "Morocco",
            "Mozambique",
            "Namibia",
            "Niger",
            "Nigeria",
            "Reunion",
            "Rwanda",
            "Sao Tome and Principe",
            "Senegal",
            "Sierra Leone",
            "Somalia",
            "South Africa",
            "Sudan",
            "Swaziland",
            "Tanzania",
            "Togo",
            "Tunisia",
            "Uganda",
            "Zambia",
            "Zimbabwe"
           ],
           "legendgroup": "Africa",
           "marker": {
            "color": "#00cc96",
            "size": {
             "bdata": "JLsFAfMIXgALWDAAoOwLACbeWQAvgjoAOXV5AO0SIQCk9UIAY6YEAOYQlAEBcxcA9tJxAFZ9AwB3y08Co/ACAAJXJgDHORACP8cKABJICQBtzKAA0n9AAAxfCwA0Qt0AxBgTAMH+GQD3hykA/i16AH4EVgABDmMAMDoWAIHuDQANtxgBPMypAILoDgCms1YAlTy1Az+CBwCwD0cADFMBADdGUAAh7S8Agm5CAEz4nQFaAAUBAWoIAF1gBQHmOSMARaFbAN7UrgAmmU8Au1llAA==",
             "dtype": "i4"
            },
            "sizemode": "area",
            "sizeref": 435928.2961983471,
            "symbol": "circle"
           },
           "mode": "markers",
           "name": "Africa",
           "orientation": "v",
           "showlegend": true,
           "type": "scatter",
           "x": {
            "bdata": "a26FsGous0DOUx1yS4GnQMpt+x6lFJBA17/rM7cdqUDK8r+mGDuHQIwap3zTYIFASUkPQ7vdm0Ca7nVSf1WRQMiYu5bwt5FAzhsnhWlSkkDMft3pDt6IQGghAaNbdqlA7zmwHHmro0AT86ykhROoQMqnx7b8wqVAvYfw1Ij0jUCRr6mYD5x/QAlNt5F3ZoFA3ZiesGQ81UBBBuHACqaLQKghBarKCY9A8g9spnxVi0DloJXFzuWHQBvXv+tzzpNATZTO0fRKh0DRC4halAKEQKbQeY3Nb9VAS8lyEuogmEALD/UWyrmEQOdk84Ipc4VAW11OCfhll0BbJO1G9/2sQJyIfm09haJABgfFoB1lf0B2qnzP+EiuQAsRgTQtR4lAjGg7ps73nkDLvFXXzd+wQCyEMBKl8IRARzoDIz8mm0BSCyWTE2eYQKSMuAAkEZVAa+9TVfirlkBX0LTEply/QDpXlBL6NaFATMKFPNKKrUBY0Go38BOOQDscXaUb85dAjBNf7cBhqEDaSwl33V2KQHr7c9HA0phAjz+skrNshUA=",
            "dtype": "f8"
           },
           "xaxis": "x",
           "y": {
            "bdata": "bxKDwMoBTUDn+6nx0r1DQLgehetRmEhARrbz/dSoTUCoxks3iRFHQBSuR+F69EZAPQrXo3CtSEAzMzMzM2NHQBsv3SQGsUdA1HjpJjF4SUD0/dR46eZHQAAAAAAA0EtAHVpkO98vSkDfT42XbkJHQEa28/3UqEpAUI2XbhIDRUAUrkfhekRGQOF6FK5HQUZAhetRuB5lSkCyne+nxutEQFTjpZvE4ElAqMZLN4lhREDsUbgehbtCQKRwPQrXE0xAtMh2vp8aSkBvEoPAyuFFQH9qvHSTuExAVOOlm8RwR0AZBFYOLeJFQAisHFpk20RAkxgEVg5tSUDsUbgehTtQQD0K16Nw3UtAj8L1KFw/RUAOLbKd7zdMQGiR7Xw/pURAbxKDwMpBRkBqvHSTGMRQQAAAAAAAgEZAZmZmZmZGTUCNl24Sg3BIQL6fGi/dZEJA6SYxCKz8RED6fmq8dMNLQGZmZmZm5kdA2/l+arxESkASg8DKofVIQKjGSzeJcUpAQmDl0CLrTUDNzMzMzCxJQMUgsHJosUlAg8DKoUXWTEA=",
            "dtype": "f8"
           },
           "yaxis": "y"
          },
          {
           "hovertemplate": "<b>%{hovertext}</b><br><br>continent=Americas<br>year=1977<br>gdpPercap=%{x}<br>lifeExp=%{y}<br>pop=%{marker.size}<extra></extra>",
           "hovertext": [
            "Argentina",
            "Bolivia",
            "Brazil",
            "Canada",
            "Chile",
            "Colombia",
            "Costa Rica",
            "Cuba",
            "Dominican Republic",
            "Ecuador",
            "El Salvador",
            "Guatemala",
            "Haiti",
            "Honduras",
            "Jamaica",
            "Mexico",
            "Nicaragua",
            "Panama",
            "Paraguay",
            "Peru",
            "Puerto Rico",
            "Trinidad and Tobago",
            "United States",
            "Uruguay",
            "Venezuela"
           ],
           "ids": [
            "Argentina",
            "Bolivia",
            "Brazil",
            "Canada",
            "Chile",
            "Colombia",
            "Costa Rica",
            "Cuba",
            "Dominican Republic",
            "Ecuador",
            "El Salvador",
            "Guatemala",
            "Haiti",
            "Honduras",
            "Jamaica",
            "Mexico",
            "Nicaragua",
            "Panama",
            "Paraguay",
            "Peru",
            "Puerto Rico",
            "Trinidad and Tobago",
            "United States",
            "Uruguay",
            "Venezuela"
           ],
           "legendgroup": "Americas",
           "marker": {
            "color": "#ab63fa",
            "size": {
             "bdata": "lL2bAaSCTQDfStAGsBprAXG9oQAM6X4BKSwgAMSJkQAQ6lAAEhFvANpYQQAGB1cACuZKAIOeLgAO6SAAaObMA+b6JgCmEhwALootAFP98wB8Ai8AodoPAJiUIA2w2CsASwzOAA==",
             "dtype": "i4"
            },
            "sizemode": "area",
            "sizeref": 435928.2961983471,
            "symbol": "circle"
           },
           "mode": "markers",
           "name": "Americas",
           "orientation": "v",
           "showlegend": true,
           "type": "scatter",
           "x": {
            "bdata": "v2A3bIOvw0ABMQkXMrirQIrJG2AeBLpAGhcOhLiS1UCCj8GKw5SyQNf6IqGdz61ArMjogOAmt0Cgfhe2fuy4QAfOGVH686RA6KT3jZ8XukCu1LMg7BK0QCuhuyT+D7NAC9P3GjJJnUDScqCHagapQPt2EhEy+rlAdJoF2u36vUDoTrD/Xm61QD7pRILp57RAeZCeIr9gqUDfKHl1Som4QP5/nDBDFcNAJxqk4I3bvkA1Y9F0KILXQKuEJ/RWaLlAEce6uPmryUA=",
            "dtype": "f8"
           },
           "xaxis": "x",
           "y": {
            "bdata": "EVg5tMgeUUBt5/up8QJJQDvfT42Xvk5APQrXo3CNUkAW2c73U8NQQEJg5dAi609AAAAAAACwUUCoxks3iSlSQL6fGi/d5E5ASOF6FK6nTkAOAiuHFllMQMHKoUW2A0xAoBov3ST2SED6fmq8dLNMQNejcD0Kh1FANV66SQxCUEBcj8L1KLxMQN0kBoGVK1FAPN9PjZeWUEDwp8ZLNzlNQFyPwvUoXFJAMzMzMzMTUUC4HoXrUVhSQBFYObTIXlFAd76fGi/dUEA=",
            "dtype": "f8"
           },
           "yaxis": "y"
          },
          {
           "hovertemplate": "<b>%{hovertext}</b><br><br>continent=Oceania<br>year=1977<br>gdpPercap=%{x}<br>lifeExp=%{y}<br>pop=%{marker.size}<extra></extra>",
           "hovertext": [
            "Australia",
            "New Zealand"
           ],
           "ids": [
            "Australia",
            "New Zealand"
           ],
           "legendgroup": "Oceania",
           "marker": {
            "color": "#FFA15A",
            "size": {
             "bdata": "9MDWAORKMAA=",
             "dtype": "i4"
            },
            "sizemode": "area",
            "sizeref": 435928.2961983471,
            "symbol": "circle"
           },
           "mode": "markers",
           "name": "Oceania",
           "orientation": "v",
           "showlegend": true,
           "type": "scatter",
           "x": {
            "bdata": "qfsApIzn0UAr9pfd27TPQA==",
            "dtype": "f8"
           },
           "xaxis": "x",
           "y": {
            "bdata": "j8L1KFxfUkCuR+F6FA5SQA==",
            "dtype": "f8"
           },
           "yaxis": "y"
          }
         ],
         "name": "1977"
        },
        {
         "data": [
          {
           "hovertemplate": "<b>%{hovertext}</b><br><br>continent=Asia<br>year=1982<br>gdpPercap=%{x}<br>lifeExp=%{y}<br>pop=%{marker.size}<extra></extra>",
           "hovertext": [
            "Afghanistan",
            "Bahrain",
            "Bangladesh",
            "Cambodia",
            "China",
            "Hong Kong, China",
            "India",
            "Indonesia",
            "Iran",
            "Iraq",
            "Israel",
            "Japan",
            "Jordan",
            "Korea, Dem. Rep.",
            "Korea, Rep.",
            "Kuwait",
            "Lebanon",
            "Malaysia",
            "Mongolia",
            "Myanmar",
            "Nepal",
            "Oman",
            "Pakistan",
            "Philippines",
            "Saudi Arabia",
            "Singapore",
            "Sri Lanka",
            "Syria",
            "Taiwan",
            "Thailand",
            "Vietnam",
            "West Bank and Gaza",
            "Yemen, Rep."
           ],
           "ids": [
            "Afghanistan",
            "Bahrain",
            "Bangladesh",
            "Cambodia",
            "China",
            "Hong Kong, China",
            "India",
            "Indonesia",
            "Iran",
            "Iraq",
            "Israel",
            "Japan",
            "Jordan",
            "Korea, Dem. Rep.",
            "Korea, Rep.",
            "Kuwait",
            "Lebanon",
            "Malaysia",
            "Mongolia",
            "Myanmar",
            "Nepal",
            "Oman",
            "Pakistan",
            "Philippines",
            "Saudi Arabia",
            "Singapore",
            "Sri Lanka",
            "Syria",
            "Taiwan",
            "Thailand",
            "Vietnam",
            "West Bank and Gaza",
            "Yemen, Rep."
           ],
           "legendgroup": "Asia",
           "marker": {
            "color": "#636efa",
            "size": {
             "bdata": "mI/EAG/EBQDmM4wFJfhuAKgTnzt0VFAAADkzKhjUIwnvPJEChkTYAPXfOgC+eg8HF9AjAJ5HDQEwEVgCltkWABwaLwC8XdwAgMsaAHouEQJaCPEAONoTAMiZcwWGry8DkLurAN12KADnI+sAvpePAA5PGgEYC+kCZalYA9TBFQASXZMA",
             "dtype": "i4"
            },
            "sizemode": "area",
            "sizeref": 435928.2961983471,
            "symbol": "circle"
           },
           "mode": "markers",
           "name": "Asia",
           "orientation": "v",
           "showlegend": true,
           "type": "scatter",
           "x": {
            "bdata": "Pr85bReQjkAY7IZtycLSQIoIWtzaJ4VAo4+ex82Dg0BhVb38XhOOQBpuwOdDcMxAZDcizsm9ikA095DwfbOXQC0HeqhVuL1A8DMuHPRazECGWtO8gwPOQDfg88MG7tJAev1JfGpBsEDRH5p5hgqwQKgZUkXx9rVAX3tmSYKe3kCUCFT/hNi9QPrPmh9bOLNAxR9FnWlCn0AAAAAAAIB6QH32Ehn8coZAaNDQP2VNyUAZO+EluI2WQJQT7SqMVqRAVOOlm6Vz4EBehZSflKDNQFImNbRRwJlAvQD76KxjrUB3B3jSWgK9QJCeIodwsqJAwnrt4+IZhkDKpIY2CPCwQC5W1GA65p5A",
            "dtype": "f8"
           },
           "xaxis": "x",
           "y": {
            "bdata": "WmQ730/tQ0AW2c73U0NRQP3UeOkmAUlA0SLb+X56SUCamZmZmWFQQM3MzMzM3FJAPzVeuklMTEAxCKwcWhRMQI/C9Shcz01Avp8aL90ET0DNzMzMzJxSQNejcD0KR1NAO99PjZfeT0BmZmZmZkZRQB1aZDvfx1BAsp3vp8bTUUD0/dR46b5QQAAAAAAAAFFAO99PjZe+TEC6SQwCKwdNQHnpJjEIzEhAd76fGi9dT0BOYhBYORRMQNEi2/l+Ck9AqMZLN4mBT0BxPQrXo/BRQJzEILByMFFA9ihcj8IlUEAK16NwPQpSQJHtfD81JlBAnMQgsHJoTUBEi2zn+xlQQFg5tMh2jkhA",
            "dtype": "f8"
           },
           "yaxis": "y"
          },
          {
           "hovertemplate": "<b>%{hovertext}</b><br><br>continent=Europe<br>year=1982<br>gdpPercap=%{x}<br>lifeExp=%{y}<br>pop=%{marker.size}<extra></extra>",
           "hovertext": [
            "Albania",
            "Austria",
            "Belgium",
            "Bosnia and Herzegovina",
            "Bulgaria",
            "Croatia",
            "Czech Republic",
            "Denmark",
            "Finland",
            "France",
            "Germany",
            "Greece",
            "Hungary",
            "Iceland",
            "Ireland",
            "Italy",
            "Montenegro",
            "Netherlands",
            "Norway",
            "Poland",
            "Portugal",
            "Romania",
            "Serbia",
            "Slovak Republic",
            "Slovenia",
            "Spain",
            "Sweden",
            "Switzerland",
            "Turkey",
            "United Kingdom"
           ],
           "ids": [
            "Albania",
            "Austria",
            "Belgium",
            "Bosnia and Herzegovina",
            "Bulgaria",
            "Croatia",
            "Czech Republic",
            "Denmark",
            "Finland",
            "France",
            "Germany",
            "Greece",
            "Hungary",
            "Iceland",
            "Ireland",
            "Italy",
            "Montenegro",
            "Netherlands",
            "Norway",
            "Poland",
            "Portugal",
            "Romania",
            "Serbia",
            "Slovak Republic",
            "Slovenia",
            "Spain",
            "Sweden",
            "Switzerland",
            "Turkey",
            "United Kingdom"
           ],
           "legendgroup": "Europe",
           "marker": {
            "color": "#EF553B",
            "size": {
             "bdata": "wWsqAFWUcwAvZZYAlas/AMKuhwC4V0MA2DidAHIXTgA1p0kAHZc+AyJNqwRwVJUAf1qjAA2SAwDAGTUAVKpeA3SVCAABXNoAY8k+ADXJKAJCcpYA9iJVAXjUiQDrBk0AhGYcAE6UQwKMCH8AHrJiABcu0gL4rFsD",
             "dtype": "i4"
            },
            "sizemode": "area",
            "sizeref": 435928.2961983471,
            "symbol": "circle"
           },
           "mode": "markers",
           "name": "Europe",
           "orientation": "v",
           "showlegend": true,
           "type": "scatter",
           "x": {
            "bdata": "vHX+7cJdrEBTswdaRRfVQIHPDyP2fNRAUG7b95wesECwjuOHGBDAQEaZDTLp0slAwFsgQZ0IzkAJbTmXAi7VQOFASBZKGdJAXhH8b3nR00BRg2kY4oPVQJs4ud810s1Aumbyzf6AyEAUrkfhZrnWQE5/9iMppchA5/up8V4m0EA91SE3S+vFQEc4LXjd5dRANUbrqKiu2UAGZ/D3w4HAQLyReeTr9MZAG4LjMqjCwkAr9pfdi6bNQEOtad5FKsZAeekmMa5y0UCns5PBFTPLQGZmZmbYLtRALq2GxG2720AgQlw5W5GwQCDvVSsbztFA",
            "dtype": "f8"
           },
           "xaxis": "x",
           "y": {
            "bdata": "exSuR+GaUUDsUbgehUtSQOxRuB6Fe1JAXI/C9SisUUCF61G4HsVRQD0K16NwnVFAPQrXo3C9UUC4HoXrUahSQDMzMzMzo1JAKVyPwvW4UkAzMzMzM3NSQI/C9Shcz1JAKVyPwvVYUUCPwvUoXD9TQGZmZmZmRlJAH4XrUbi+UkBYObTIdoZSQDMzMzMzA1NArkfhehT+UkAUrkfhetRRQOF6FK5HMVJACtejcD1qUUDtfD81XopRQDMzMzMzs1FAeekmMQjEUUAzMzMzMxNTQHsUrkfhGlNAPQrXo3ANU0D4U+Olm4ROQMP1KFyPglJA",
            "dtype": "f8"
           },
           "yaxis": "y"
          },
          {
           "hovertemplate": "<b>%{hovertext}</b><br><br>continent=Africa<br>year=1982<br>gdpPercap=%{x}<br>lifeExp=%{y}<br>pop=%{marker.size}<extra></extra>",
           "hovertext": [
            "Algeria",
            "Angola",
            "Benin",
            "Botswana",
            "Burkina Faso",
            "Burundi",
            "Cameroon",
            "Central African Republic",
            "Chad",
            "Comoros",
            "Congo, Dem. Rep.",
            "Congo, Rep.",
            "Cote d'Ivoire",
            "Djibouti",
            "Egypt",
            "Equatorial Guinea",
            "Eritrea",
            "Ethiopia",
            "Gabon",
            "Gambia",
            "Ghana",
            "Guinea",
            "Guinea-Bissau",
            "Kenya",
            "Lesotho",
            "Liberia",
            "Libya",
            "Madagascar",
            "Malawi",
            "Mali",
            "Mauritania",
            "Mauritius",
            "Morocco",
            "Mozambique",
            "Namibia",
            "Niger",
            "Nigeria",
            "Reunion",
            "Rwanda",
            "Sao Tome and Principe",
            "Senegal",
            "Sierra Leone",
            "Somalia",
            "South Africa",
            "Sudan",
            "Swaziland",
            "Tanzania",
            "Togo",
            "Tunisia",
            "Uganda",
            "Zambia",
            "Zimbabwe"
           ],
           "ids": [
            "Algeria",
            "Angola",
            "Benin",
            "Botswana",
            "Burkina Faso",
            "Burundi",
            "Cameroon",
            "Central African Republic",
            "Chad",
            "Comoros",
            "Congo, Dem. Rep.",
            "Congo, Rep.",
            "Cote d'Ivoire",
            "Djibouti",
            "Egypt",
            "Equatorial Guinea",
            "Eritrea",
            "Ethiopia",
            "Gabon",
            "Gambia",
            "Ghana",
            "Guinea",
            "Guinea-Bissau",
            "Kenya",
            "Lesotho",
            "Liberia",
            "Libya",
            "Madagascar",
            "Malawi",
            "Mali",
            "Mauritania",
            "Mauritius",
            "Morocco",
            "Mozambique",
            "Namibia",
            "Niger",
            "Nigeria",
            "Reunion",
            "Rwanda",
            "Sao Tome and Principe",
            "Senegal",
            "Sierra Leone",
            "Somalia",
            "South Africa",
            "Sudan",
            "Swaziland",
            "Tanzania",
            "Togo",
            "Tunisia",
            "Uganda",
            "Zambia",
            "Zimbabwe"
           ],
           "legendgroup": "Africa",
           "marker": {
            "color": "#00cc96",
            "size": {
             "bdata": "2bAxAcAPawADkTcAa84OAGQ8ZQA65EUADyiNAKvLJQBuY0oA41EFAN+g0wGPFBsAn7mJAEerBACTDLkCK1sEAPE9KAAMikUC0oALAAPrCgCS9K0AYeBHAIOaDAAMfg0B34oVAAvcHQDKBjMAFfKLAKk5YwDwyGoAeMAYACgjDwBKNTQB1xDAAALFEABEOWIAEH5aBLLmBwDtCVQAIYEBAMfOXQBK3TQAHPFYAL0o2wHNxjYBreoJAB7NLgEdWygAEsFmAIhwxQC3FV0ALIZ0AA==",
             "dtype": "i4"
            },
            "sizemode": "area",
            "sizeref": 435928.2961983471,
            "symbol": "circle"
           },
           "mode": "markers",
           "name": "Africa",
           "orientation": "v",
           "showlegend": true,
           "type": "scatter",
           "x": {
            "bdata": "ZRu4AylxtkA5RrJH6ImlQHcRpiiX95NAIEHxYyTHsUCun/6zljmJQHZHxmrTfIFAfgG9cPd/okCK9fwfBuaNQNNTP8pD74hAi28ofGbMk0DbVg6I+w2FQAA49uyBD7NARGtFm2tVpECsUnqm736mQPiL2ZJ1X6tA8ANGTZr+jEDMHUe9AWeAQAQlYM/iDoJAj8cMVK6EzUDnIzoVeh6KQOguibNCYItAaq6JuwDKikA9gnbi/TCKQO2CwTXnEJVAr3IN2BrqiEBCcte3mOGBQIBv058R9dBAejnsvoNblECRsBRubsaDQGCMo80cUINA4Cwly5kkl0CRtYZSE9CsQME3TZ89HaVAMhaX9GHjfEDjwRa7GV+wQEWy7O7GbYxA7FG4HuWjmEBIqYQnOJO0QJCQN6+QjItAzhYQWt+InUBq+uyA67mXQEj99QoL5JZAb59VZjpjkkCkVMITIrzAQIz2eCEtnp1AJ94BnsRurkBG6uLb8FGLQIBG6dJPApVAjyCVYnfQq0CLOoQ7IVKFQNdMvtm2ApZA48nJH9emiEA=",
            "dtype": "f8"
           },
           "xaxis": "x",
           "y": {
            "bdata": "yXa+nxqvTkB/arx0k/hDQMHKoUW2c0lAy6FFtvO9TkBWDi2ynQ9IQD81XrpJvEdAYLpJDAJ7SkD2KFyPwiVIQBkEVg4twkhAgZVDi2x3SkAxCKwcWuRHQClcj8L1WExA5/up8dL9SkAOLbKd72dIQFTjpZvEAExA2/l+arzURUBSuB6F6/FFQGiR7Xw/dUZA1HjpJjFITEAK16NwPcpGQKwcWmQ730pAN166SQxyRUBg5dAi26lDQDdeukkMYk1ARIts5/uJS0CTGARWDm1GQKRwPQrXE09AeekmMQh8SEAZBFYOLdJGQGiR7Xw/9UVA6SYxCKzMSkAv3SQGga1QQDMzMzMz001A9ihcj8JlRUCWQ4ts53tNQAaBlUOLTEVAfT81XrrpRkBxPQrXo3hRQJZDi2znG0dAsXJoke0sTkCNl24SgzBKQClcj8L1OENACtejcD16RUD4U+OlmxRNQCUGgZVDK0lALIcW2c7HS0Dn+6nx0k1JQD81XrpJvEtAUI2XbhIDUEDpJjEIrOxIQA4CK4cW6UlAWDm0yHYuTkA=",
            "dtype": "f8"
           },
           "yaxis": "y"
          },
          {
           "hovertemplate": "<b>%{hovertext}</b><br><br>continent=Americas<br>year=1982<br>gdpPercap=%{x}<br>lifeExp=%{y}<br>pop=%{marker.size}<extra></extra>",
           "hovertext": [
            "Argentina",
            "Bolivia",
            "Brazil",
            "Canada",
            "Chile",
            "Colombia",
            "Costa Rica",
            "Cuba",
            "Dominican Republic",
            "Ecuador",
            "El Salvador",
            "Guatemala",
            "Haiti",
            "Honduras",
            "Jamaica",
            "Mexico",
            "Nicaragua",
            "Panama",
            "Paraguay",
            "Peru",
            "Puerto Rico",
            "Trinidad and Tobago",
            "United States",
            "Uruguay",
            "Venezuela"
           ],
           "ids": [
            "Argentina",
            "Bolivia",
            "Brazil",
            "Canada",
            "Chile",
            "Colombia",
            "Costa Rica",
            "Cuba",
            "Dominican Republic",
            "Ecuador",
            "El Salvador",
            "Guatemala",
            "Haiti",
            "Honduras",
            "Jamaica",
            "Mexico",
            "Nicaragua",
            "Panama",
            "Paraguay",
            "Peru",
            "Puerto Rico",
            "Trinidad and Tobago",
            "United States",
            "Uruguay",
            "Venezuela"
           ],
           "legendgroup": "Americas",
           "marker": {
            "color": "#ab63fa",
            "size": {
             "bdata": "vra/AfAXVgB70a8H7IyAAYhHrwCkp6cBL/4kAChflQDdEVsAGqd/APlHRADulmEAP1JPAMj9NwDFESMASCdFBF92LQBREh8AJ14zAEmRFAGZCDIAPwkRALvn1g0NEy0AnlruAA==",
             "dtype": "i4"
            },
            "sizemode": "area",
            "sizeref": 435928.2961983471,
            "symbol": "circle"
           },
           "mode": "markers",
           "name": "Americas",
           "orientation": "v",
           "showlegend": true,
           "type": "scatter",
           "x": {
            "bdata": "hXtl3vKSwUBb7PZZBamoQHLBGfzVdrtAd/hrsrJc1kC2Oc5tquezQKZiY16TLbFAtDukGLyOtEA4cw8J65S8QDfBN00vWqZAZ195kMotvEAaUdobWAKwQGO0jqp+1LJAcCTQYKNsn0D+icqGhWOoQKYKRiUNtLdA6Zyf4pLFwkDmgcgirRyrQFeXUwKaYbtAIxYx7ICisEA7qMR1gCK5QGuad5x+LcRAuOhkqcPPwUB5I/PIY2zYQFjO3hk5CLtA4gZ8fjTIxUA=",
            "dtype": "f8"
           },
           "xaxis": "x",
           "y": {
            "bdata": "PzVeukl8UUDLoUW28+1KQGC6SQwCq09AcT0K16PwUkBcj8L1KKRRQG8Sg8DKqVBAzczMzMxcUkDZzvdT421SQJMYBFYO3U9A2c73U+MVUEBaZDvfT01MQKjGSzeJEU1AYLpJDAK7SUAxCKwcWnROQD0K16NwzVFAUrgehevZUECgGi/dJKZNQJHtfD81nlFADi2yne+3UECJFtnO97NOQAAAAAAAcFJAaJHtfD81UUCamZmZmalSQOxRuB6Fs1FAz/dT46UjUUA=",
            "dtype": "f8"
           },
           "yaxis": "y"
          },
          {
           "hovertemplate": "<b>%{hovertext}</b><br><br>continent=Oceania<br>year=1982<br>gdpPercap=%{x}<br>lifeExp=%{y}<br>pop=%{marker.size}<extra></extra>",
           "hovertext": [
            "Australia",
            "New Zealand"
           ],
           "ids": [
            "Australia",
            "New Zealand"
           ],
           "legendgroup": "Oceania",
           "marker": {
            "color": "#FFA15A",
            "size": {
             "bdata": "SLHnAJr9MAA=",
             "dtype": "i4"
            },
            "sizemode": "area",
            "sizeref": 435928.2961983471,
            "symbol": "circle"
           },
           "mode": "markers",
           "name": "Oceania",
           "orientation": "v",
           "showlegend": true,
           "type": "scatter",
           "x": {
            "bdata": "ICQLmEAF00CSXP5DGjjRQA==",
            "dtype": "f8"
           },
           "xaxis": "x",
           "y": {
            "bdata": "j8L1KFyvUkD2KFyPwnVSQA==",
            "dtype": "f8"
           },
           "yaxis": "y"
          }
         ],
         "name": "1982"
        },
        {
         "data": [
          {
           "hovertemplate": "<b>%{hovertext}</b><br><br>continent=Asia<br>year=1987<br>gdpPercap=%{x}<br>lifeExp=%{y}<br>pop=%{marker.size}<extra></extra>",
           "hovertext": [
            "Afghanistan",
            "Bahrain",
            "Bangladesh",
            "Cambodia",
            "China",
            "Hong Kong, China",
            "India",
            "Indonesia",
            "Iran",
            "Iraq",
            "Israel",
            "Japan",
            "Jordan",
            "Korea, Dem. Rep.",
            "Korea, Rep.",
            "Kuwait",
            "Lebanon",
            "Malaysia",
            "Mongolia",
            "Myanmar",
            "Nepal",
            "Oman",
            "Pakistan",
            "Philippines",
            "Saudi Arabia",
            "Singapore",
            "Sri Lanka",
            "Syria",
            "Taiwan",
            "Thailand",
            "Vietnam",
            "West Bank and Gaza",
            "Yemen, Rep."
           ],
           "ids": [
            "Afghanistan",
            "Bahrain",
            "Bangladesh",
            "Cambodia",
            "China",
            "Hong Kong, China",
            "India",
            "Indonesia",
            "Iran",
            "Iraq",
            "Israel",
            "Japan",
            "Jordan",
            "Korea, Dem. Rep.",
            "Korea, Rep.",
            "Kuwait",
            "Lebanon",
            "Malaysia",
            "Mongolia",
            "Myanmar",
            "Nepal",
            "Oman",
            "Pakistan",
            "Philippines",
            "Saudi Arabia",
            "Singapore",
            "Sri Lanka",
            "Syria",
            "Taiwan",
            "Thailand",
            "Vietnam",
            "West Bank and Gaza",
            "Yemen, Rep."
           ],
           "legendgroup": "Asia",
           "marker": {
            "color": "#636efa",
            "size": {
             "bdata": "tZvTANTvBgARUS8GT75/ALgPnUB+NlUAAO33LmDyFgogxhcD1W38AIwiQAA990YHygcrAKLyIgHwGXsCn9wcAMkjLwAJNPkAnb8eACJFRAL8ZBEBGlIYAEEGRQZ8zJMDYRTfADikKgDIsvsAX42rAOd6LQEGWScD+6e+A0rOGQCMMasA",
             "dtype": "i4"
            },
            "sizemode": "area",
            "sizeref": 435928.2961983471,
            "symbol": "circle"
           },
           "mode": "markers",
           "name": "Asia",
           "orientation": "v",
           "showlegend": true,
           "type": "scatter",
           "x": {
            "bdata": "Kngb5SqjikBJ9DKKARfSQLSQgNHVf4dAZilIIipfhUD7A+W2nYuVQMmOjUCekdNAqDuq9RmEjkDKMy+HbVGbQKWkh6Hh8rlAiQeUTcm9xkCqtwa2nrjQQJv+7Ef82dVAKHy2Dq5gsUBVGFsIfgqwQFxV9l2LqsBAfNXKhJt120AtXFZhFwG1QAnBqnrNgbRA2gBsQAREokAAAAAAABB4QNF+/0EPPYhAMA3DR86w0UD1K50Pv6KaQD+MEB5FG6FAH0sfupCz1ECZgcr4YWvSQMLaGDsRU51AkWEVb4xZqEBEi2znR5fFQASsVbtOTadAoiNeQ2WmiUDBAMKHMvOzQPfKvFX3zp5A",
            "dtype": "f8"
           },
           "xaxis": "x",
           "y": {
            "bdata": "8KfGSzdpREAAAAAAALBRQEa28/3UaEpAokW28/30SkCoxks3idFQQM3MzMzMDFNAEFg5tMhGTUCoxks3iRFOQIXrUbgehU9AiUFg5dBCUEBmZmZmZuZSQHsUrkfhqlNAVg4tsp13UEDDILByaKlRQKRwPQrXc1FAQGDl0CKLUkAlBoGVQ/tQQAAAAAAAYFFAI9v5fmocTkAIrBxaZCtNQNv5fmq8REpA5dAi2/nuUECPwvUoXB9NQIxs5/upCVBAexSuR+GSUECkcD0K12NSQGMQWDm0QFFAdJMYBFa+UECamZmZmVlSQEw3iUFghVBAKVyPwvVoT0Bt5/up8cJQQLx0kxgEdkpA",
            "dtype": "f8"
           },
           "yaxis": "y"
          },
          {
           "hovertemplate": "<b>%{hovertext}</b><br><br>continent=Europe<br>year=1987<br>gdpPercap=%{x}<br>lifeExp=%{y}<br>pop=%{marker.size}<extra></extra>",
           "hovertext": [
            "Albania",
            "Austria",
            "Belgium",
            "Bosnia and Herzegovina",
            "Bulgaria",
            "Croatia",
            "Czech Republic",
            "Denmark",
            "Finland",
            "France",
            "Germany",
            "Greece",
            "Hungary",
            "Iceland",
            "Ireland",
            "Italy",
            "Montenegro",
            "Netherlands",
            "Norway",
            "Poland",
            "Portugal",
            "Romania",
            "Serbia",
            "Slovak Republic",
            "Slovenia",
            "Spain",
            "Sweden",
            "Switzerland",
            "Turkey",
            "United Kingdom"
           ],
           "ids": [
            "Albania",
            "Austria",
            "Belgium",
            "Bosnia and Herzegovina",
            "Bulgaria",
            "Croatia",
            "Czech Republic",
            "Denmark",
            "Finland",
            "France",
            "Germany",
            "Greece",
            "Hungary",
            "Iceland",
            "Ireland",
            "Italy",
            "Montenegro",
            "Netherlands",
            "Norway",
            "Poland",
            "Portugal",
            "Romania",
            "Serbia",
            "Slovak Republic",
            "Slovenia",
            "Spain",
            "Sweden",
            "Switzerland",
            "Turkey",
            "United Kingdom"
           ],
           "legendgroup": "Europe",
           "marker": {
            "color": "#EF553B",
            "size": {
             "bdata": "+ewuABelcwB4m5YAITVCALbmiADWbEQArVedAHA7TgCRQEsAFNlQAxrjoQTaMpgABPChAMS7AwC8AzYAZ6BhA4GwCAA+xt8AI+A/AKbgPwKZS5cAoypaAb/ZjADWVU8ADrEdAL5FUQIbgIAAVnhlALDnJgN0eGUD",
             "dtype": "i4"
            },
            "sizemode": "area",
            "sizeref": 435928.2961983471,
            "symbol": "circle"
           },
           "mode": "markers",
           "name": "Europe",
           "orientation": "v",
           "showlegend": true,
           "type": "scatter",
           "x": {
            "bdata": "qyFxj901rUCNtFTe9CHXQEKygAlk/9VA/fm2YB3asEDrcd9q7RfAQGrBi75K/8pAhslUwTjbz0AUlnhAC4fYQIJWYMhApdRAEJIFTJyM1UALe9rhyw/YQMSUSKJDfM9AXhH8bz1dyUB0B7EzzUraQKqaIOpuGMtAHXdKB8/B0kCzJEBNQerGQKq3BrbUGNdACYofYz7N3kCjPzTzLL3BQCibcoWnd8lAlZ9U+yLwwkCbAwRzcP/OQIi6D0CigsdAfhghPKI90kDcLjTXfcrOQMrgKHm7CNdAxqcAGG2S3UBLdQEvC+GzQINuL2kyKNVA",
            "dtype": "f8"
           },
           "xaxis": "x",
           "y": {
            "bdata": "AAAAAAAAUkBcj8L1KLxSQGZmZmZm1lJAKVyPwvXIUUD2KFyPwtVRQOF6FK5H4VFAhetRuB7lUUAzMzMzM7NSQIXrUbgetVJA9ihcj8IVU0CR7Xw/NbZSQHsUrkfhKlNAhetRuB5lUUAfhetRuE5TQNejcD0Kl1JAexSuR+EaU0CPwvUoXLdSQIXrUbgeNVNAKVyPwvX4UkAfhetRuL5RQKRwPQrXg1JAUrgehethUUDLoUW2881RQIXrUbgexVFAAAAAAAAQUkCamZmZmTlTQFyPwvUoTFNACtejcD1aU0Dn+6nx0o1PQJzEILBywFJA",
            "dtype": "f8"
           },
           "yaxis": "y"
          },
          {
           "hovertemplate": "<b>%{hovertext}</b><br><br>continent=Africa<br>year=1987<br>gdpPercap=%{x}<br>lifeExp=%{y}<br>pop=%{marker.size}<extra></extra>",
           "hovertext": [
            "Algeria",
            "Angola",
            "Benin",
            "Botswana",
            "Burkina Faso",
            "Burundi",
            "Cameroon",
            "Central African Republic",
            "Chad",
            "Comoros",
            "Congo, Dem. Rep.",
            "Congo, Rep.",
            "Cote d'Ivoire",
            "Djibouti",
            "Egypt",
            "Equatorial Guinea",
            "Eritrea",
            "Ethiopia",
            "Gabon",
            "Gambia",
            "Ghana",
            "Guinea",
            "Guinea-Bissau",
            "Kenya",
            "Lesotho",
            "Liberia",
            "Libya",
            "Madagascar",
            "Malawi",
            "Mali",
            "Mauritania",
            "Mauritius",
            "Morocco",
            "Mozambique",
            "Namibia",
            "Niger",
            "Nigeria",
            "Reunion",
            "Rwanda",
            "Sao Tome and Principe",
            "Senegal",
            "Sierra Leone",
            "Somalia",
            "South Africa",
            "Sudan",
            "Swaziland",
            "Tanzania",
            "Togo",
            "Tunisia",
            "Uganda",
            "Zambia",
            "Zimbabwe"
           ],
           "ids": [
            "Algeria",
            "Angola",
            "Benin",
            "Botswana",
            "Burkina Faso",
            "Burundi",
            "Cameroon",
            "Central African Republic",
            "Chad",
            "Comoros",
            "Congo, Dem. Rep.",
            "Congo, Rep.",
            "Cote d'Ivoire",
            "Djibouti",
            "Egypt",
            "Equatorial Guinea",
            "Eritrea",
            "Ethiopia",
            "Gabon",
            "Gambia",
            "Ghana",
            "Guinea",
            "Guinea-Bissau",
            "Kenya",
            "Lesotho",
            "Liberia",
            "Libya",
            "Madagascar",
            "Malawi",
            "Mali",
            "Mauritania",
            "Mauritius",
            "Morocco",
            "Mozambique",
            "Namibia",
            "Niger",
            "Nigeria",
            "Reunion",
            "Rwanda",
            "Sao Tome and Principe",
            "Senegal",
            "Sierra Leone",
            "Somalia",
            "South Africa",
            "Sudan",
            "Swaziland",
            "Tanzania",
            "Togo",
            "Tunisia",
            "Uganda",
            "Zambia",
            "Zimbabwe"
           ],
           "legendgroup": "Africa",
           "marker": {
            "color": "#00cc96",
            "size": {
             "bdata": "rNdiAbYmeABMwUAA0JARAPfCcwCHN04A+3+kAMlVKwBL6FMAagcGAC1oHQLffh8AijOkAPG+BABWpiUD/DQFAHd+LADqHpACDW8NABbyDAAlMNgAVjdWACQnDgACdUMB4GYYAOagIgAl+zkAwkOhAGtldwBYfHQAWBgcAOfoDwCFwl4BMLfEAOiAEwAe428AoGDcBHOTCAA14mAA3LABABNtbQDpCDsAgp5pAMNMJALISXkBVOQLAHaSXwFYITAAsN91AGoz6QDW924AoqGMAA==",
             "dtype": "i4"
            },
            "sizemode": "area",
            "sizeref": 435928.2961983471,
            "symbol": "circle"
           },
           "mode": "markers",
           "name": "Africa",
           "orientation": "v",
           "showlegend": true,
           "type": "scatter",
           "x": {
            "bdata": "Vz82yVsxtkDLSL2navyiQDKs4o1sJ5NAklz+Q+I9uEAchG9QgYCMQMVm7PCMboNAnQ/PElRVpECznv/DAmeKQEwYzcoWw41AGR77WeyPlEBjRKLQMgaFQMYnZOcxabBAcj/ggenZoEA7+8qDNICmQOFdLuLrWq5AhlBKrSw3jkBwxnq0EkmAQH2oIzbu7YFAMA3DRzQsx0Dc6PdYRR2DQIMUPIUMeIpADlcYbJQsiUAi5Be5UgOHQD/kLVe/R5VAZ+s7GvIviECTPghc0qF/QJf/kH5L/cZAIToEjsQNkkAsGWyPI9yDQAtLl1lfYYVAmrLTD2o2lkDtZkY/lq+yQGpQNA8YhqVAJKQk2gReeEC2os1xdtusQG+QWnJm4oRAsFjDRR6klUCitg2jYLe0QOqxLQPuf4pA0VlmERqyl0BLdmwE4oaWQCz+74jKOZRA7KaU1/oUkUCYGTbK0pG+QOXsndFGj5dAlKXW+60hr0C5TV2ek/6JQML2kzHOyJJAsB73rdbErUAUlKKVy02DQMnJxK1C9ZJAvn+YKUIRhkA=",
            "dtype": "f8"
           },
           "xaxis": "x",
           "y": {
            "bdata": "QWDl0CJzUECHFtnO9/NDQEJg5dAiK0pAVg4tsp3PT0Ce76fGS8dIQGC6SQwCG0hArkfhehR+S0CuR+F6FD5JQEoMAiuHhklASgwCK4d2S0Db+X5qvLRHQFyPwvUovExApHA9CtdTS0CF61G4HgVJQLx0kxgE5k1AokW28/3URkBEi2zn+zlHQGQ730+NV0dAuB6F61EYTkBSuB6F66FIQFpkO99P3UtALbKd76fGRkCPwvUoXJ9EQAisHFpkq01A16NwPQqXTED6fmq8dANHQOXQItv5jlBAzczMzMysSEDRItv5frpHQDvfT42XLkdAw/UoXI8STECPwvUoXC9RQC2yne+nVk9Ake18PzVuRUB7FK5H4WpOQNejcD0KR0ZAxSCwcmhxR0DfT42XbvpRQMP1KFyPAkZAd76fGi/dTkDfT42XbuJLQFTjpZvEAERA5aWbxCBARkCYbhKDwGpOQKwcWmQ730lAEFg5tMjWTEAUrkfhesRJQJzEILByeExA76fGSze5UED91HjpJsFJQA4CK4cWaUlAsXJoke0sT0A=",
            "dtype": "f8"
           },
           "yaxis": "y"
          },
          {
           "hovertemplate": "<b>%{hovertext}</b><br><br>continent=Americas<br>year=1987<br>gdpPercap=%{x}<br>lifeExp=%{y}<br>pop=%{marker.size}<extra></extra>",
           "hovertext": [
            "Argentina",
            "Bolivia",
            "Brazil",
            "Canada",
            "Chile",
            "Colombia",
            "Costa Rica",
            "Cuba",
            "Dominican Republic",
            "Ecuador",
            "El Salvador",
            "Guatemala",
            "Haiti",
            "Honduras",
            "Jamaica",
            "Mexico",
            "Nicaragua",
            "Panama",
            "Paraguay",
            "Peru",
            "Puerto Rico",
            "Trinidad and Tobago",
            "United States",
            "Uruguay",
            "Venezuela"
           ],
           "ids": [
            "Argentina",
            "Bolivia",
            "Brazil",
            "Canada",
            "Chile",
            "Colombia",
            "Costa Rica",
            "Cuba",
            "Dominican Republic",
            "Ecuador",
            "El Salvador",
            "Guatemala",
            "Haiti",
            "Honduras",
            "Jamaica",
            "Mexico",
            "Nicaragua",
            "Panama",
            "Paraguay",
            "Peru",
            "Puerto Rico",
            "Trinidad and Tobago",
            "United States",
            "Uruguay",
            "Venezuela"
           ],
           "legendgroup": "Americas",
           "marker": {
            "color": "#ab63fa",
            "size": {
             "bdata": "Nn/iAVHwXQDcD4UIxB2VAfosvgAVetgBw7gqAF8/nABBjWUAxqWRANLiSQDGym8AK9VXAOu2QgBOgCMAfJLGBOEHMwBHYyIAsE07AFQqNAH0jjQAqC0SAE3jeA4hdy4ApkkRAQ==",
             "dtype": "i4"
            },
            "sizemode": "area",
            "sizeref": 435928.2961983471,
            "symbol": "circle"
           },
           "mode": "markers",
           "name": "Americas",
           "orientation": "v",
           "showlegend": true,
           "type": "scatter",
           "x": {
            "bdata": "8iIT8NXZwUAGL/oKYoOlQGBIh4cYf75AnWNA9qAA2kD9oC5SEKu1QI4G8BY4J7NAcctHUur9tUCMmUS97Gy9QAXFjzGvp6ZAOWQD6cZRuUCp3EQtcSywQLXEymh8lrBAmUf+YBB8nEAdBYiCMZ6nQPfpeMw8z7hAigPo9xP4wEAAAAAA+BenQFJlGHfHertAi1QYW8A9r0CcxYuF8di4QBb2tMOr/MdAzJntCpncvECOEB5tFi/dQB4X1SJmHL1A1uO+1cpNw0A=",
            "dtype": "f8"
           },
           "xaxis": "x",
           "y": {
            "bdata": "qMZLN4mxUUDlpZvEIKBMQIXrUbgeTVBA16NwPQo3U0BzaJHtfB9SQP7UeOkm8VBA46WbxCCwUkBAYOXQIotSQG3n+6nxglBAEVg5tMjOUEDByqFFtpNPQGq8dJMYZE5AxSCwcmjRSkBzaJHtfB9QQOF6FK5H8VFAHVpkO99fUUAbL90kBgFPQLbz/dR44VFA1XjpJjHYUEB/arx0kwhQQLgehetRqFJAaJHtfD9lUUDhehSuR8FSQJhuEoPA+lFAXI/C9SiMUUA=",
            "dtype": "f8"
           },
           "yaxis": "y"
          },
          {
           "hovertemplate": "<b>%{hovertext}</b><br><br>continent=Oceania<br>year=1987<br>gdpPercap=%{x}<br>lifeExp=%{y}<br>pop=%{marker.size}<extra></extra>",
           "hovertext": [
            "Australia",
            "New Zealand"
           ],
           "ids": [
            "Australia",
            "New Zealand"
           ],
           "legendgroup": "Oceania",
           "marker": {
            "color": "#FFA15A",
            "size": {
             "bdata": "4RD4AK6dMgA=",
             "dtype": "i4"
            },
            "sizemode": "area",
            "sizeref": 435928.2961983471,
            "symbol": "circle"
           },
           "mode": "markers",
           "name": "Oceania",
           "orientation": "v",
           "showlegend": true,
           "type": "scatter",
           "x": {
            "bdata": "yhXe5Thg1UCDaRg+zI/SQA==",
            "dtype": "f8"
           },
           "xaxis": "x",
           "y": {
            "bdata": "FK5H4XoUU0AUrkfhepRSQA==",
            "dtype": "f8"
           },
           "yaxis": "y"
          }
         ],
         "name": "1987"
        },
        {
         "data": [
          {
           "hovertemplate": "<b>%{hovertext}</b><br><br>continent=Asia<br>year=1992<br>gdpPercap=%{x}<br>lifeExp=%{y}<br>pop=%{marker.size}<extra></extra>",
           "hovertext": [
            "Afghanistan",
            "Bahrain",
            "Bangladesh",
            "Cambodia",
            "China",
            "Hong Kong, China",
            "India",
            "Indonesia",
            "Iran",
            "Iraq",
            "Israel",
            "Japan",
            "Jordan",
            "Korea, Dem. Rep.",
            "Korea, Rep.",
            "Kuwait",
            "Lebanon",
            "Malaysia",
            "Mongolia",
            "Myanmar",
            "Nepal",
            "Oman",
            "Pakistan",
            "Philippines",
            "Saudi Arabia",
            "Singapore",
            "Sri Lanka",
            "Syria",
            "Taiwan",
            "Thailand",
            "Vietnam",
            "West Bank and Gaza",
            "Yemen, Rep."
           ],
           "ids": [
            "Afghanistan",
            "Bahrain",
            "Bangladesh",
            "Cambodia",
            "China",
            "Hong Kong, China",
            "India",
            "Indonesia",
            "Iran",
            "Iraq",
            "Israel",
            "Japan",
            "Jordan",
            "Korea, Dem. Rep.",
            "Korea, Rep.",
            "Kuwait",
            "Lebanon",
            "Malaysia",
            "Mongolia",
            "Myanmar",
            "Nepal",
            "Oman",
            "Pakistan",
            "Philippines",
            "Saudi Arabia",
            "Singapore",
            "Sri Lanka",
            "Syria",
            "Taiwan",
            "Thailand",
            "Vietnam",
            "West Bank and Gaza",
            "Yemen, Rep."
           ],
           "legendgroup": "Asia",
           "marker": {
            "color": "#636efa",
            "size": {
             "bdata": "4f34AFMUCACD/sYGzuCaABAIcEVA9FgAAKr5M4ARBAuVmZkDEY0QAWZTSwA1HWkHEQM7AM8HPAEKa5wCb6MVABoiMQCOiBcBYkojAOqwagJBJzYBSDkdAOwLKAdmLAEEwZICARlgMQB0WwwB9rTJAEaoOwHXq2AD+DUrBMsdIAC9+ssA",
             "dtype": "i4"
            },
            "sizemode": "area",
            "sizeref": 435928.2961983471,
            "symbol": "circle"
           },
           "mode": "markers",
           "name": "Asia",
           "orientation": "v",
           "showlegend": true,
           "type": "scatter",
           "x": {
            "bdata": "GRhoLbtKhEA1DB8R5ZbSQBenazd7LopAlstG52xShUCWk1D6It+ZQEpBt5dmLdhA4NqJkqAxkkAlXMgjSJ6iQCIqVDenQ7xA8l8gCEhDrUC3nEtx4aDRQBV0e0k5MtpAveR/8i/PqkAiUP2DIBytQF/SGK0jpMdA9wFIbZ0O4UCm1vuNzuq6QLlRZK3pbbxA4BEVqpvlm0AAAAAAALB1QAfKEkLsDYxAznADPi0u0kDWxAJfUc+eQLRkjuWlzqFAnS6LiWdC2ECMuWsJeTDYQPhUTnt606BAofKv5RUZqkAFNBE21LfNQGYe+YPlCLJAj+uVaC/ojkDc1haep4G3QDrP2Jf8XZ1A",
            "dtype": "f8"
           },
           "xaxis": "x",
           "y": {
            "bdata": "g8DKoUXWREBYObTIdiZSQPyp8dJNAkxAEFg5tMjmS0Bcj8L1KCxRQFg5tMh2ZlNABoGVQ4scTkC6SQwCK1dPQHNoke18b1BAYLpJDAK7TUDsUbgehTtTQNejcD0K11NAKVyPwvUAUUA830+Nl35RQFYOLbKdD1JAXI/C9SjMUkCmm8QgsFJRQDEIrBxarFFAppvEILCiTkApXI/C9ahNQJMYBFYO3UtA+FPjpZvMUUAlBoGVQ2tOQFpkO99PnVBA/tR46SYxUUDfT42XbvJSQMVLN4lBmFFADi2yne9PUUBxPQrXo5BSQFCNl24S01BA7Xw/NV7qUEDLoUW2821RQOkmMQiszEtA",
            "dtype": "f8"
           },
           "yaxis": "y"
          },
          {
           "hovertemplate": "<b>%{hovertext}</b><br><br>continent=Europe<br>year=1992<br>gdpPercap=%{x}<br>lifeExp=%{y}<br>pop=%{marker.size}<extra></extra>",
           "hovertext": [
            "Albania",
            "Austria",
            "Belgium",
            "Bosnia and Herzegovina",
            "Bulgaria",
            "Croatia",
            "Czech Republic",
            "Denmark",
            "Finland",
            "France",
            "Germany",
            "Greece",
            "Hungary",
            "Iceland",
            "Ireland",
            "Italy",
            "Montenegro",
            "Netherlands",
            "Norway",
            "Poland",
            "Portugal",
            "Romania",
            "Serbia",
            "Slovak Republic",
            "Slovenia",
            "Spain",
            "Sweden",
            "Switzerland",
            "Turkey",
            "United Kingdom"
           ],
           "ids": [
            "Albania",
            "Austria",
            "Belgium",
            "Bosnia and Herzegovina",
            "Bulgaria",
            "Croatia",
            "Czech Republic",
            "Denmark",
            "Finland",
            "France",
            "Germany",
            "Greece",
            "Hungary",
            "Iceland",
            "Ireland",
            "Italy",
            "Montenegro",
            "Netherlands",
            "Norway",
            "Poland",
            "Portugal",
            "Romania",
            "Serbia",
            "Slovak Republic",
            "Slovenia",
            "Spain",
            "Sweden",
            "Switzerland",
            "Turkey",
            "United Kingdom"
           ],
           "legendgroup": "Europe",
           "marker": {
            "color": "#EF553B",
            "size": {
             "bdata": "IsIyANnFeAC2SJkADfFAAEoehAC9kkQAtmedAMHoTgCP60wA43VrAwTTzQS1jZ0AjOidAMTzAwCBSTYAj1JjAzV8CQBkiucAlWdBAIl9SQIAfJcA49pbAV3wlQBo6lAAaoEeAP55WwITCoUA971qAEi+dwNt+HID",
             "dtype": "i4"
            },
            "sizemode": "area",
            "sizeref": 435928.2961983471,
            "symbol": "circle"
           },
           "mode": "markers",
           "name": "Europe",
           "orientation": "v",
           "showlegend": true,
           "type": "scatter",
           "x": {
            "bdata": "xVOPNOCCo0BGmQ0ygWjaQIpZL4bk+dhAPx2PGZDlo0AX/aGZn564QL0BZr7lf8BAA0NWt4Lsy0B90LNZr8nZQIs3Mo/KKdRALSEf9PIf2EDIJCNnU+LZQO3YCMRfIdFA845TdNCTxEBtHLEWGY7YQJCg+DG0JdFAoOBiRWl/1UAk+yDLVlu7QH0Faca8KdpAeAskKLWV4ECzRGeZ4Tq+QBKN7iCip89AiCtn72jGuUAs1QW8iDbCQEvmWN47jcJAuRluwFvDy0B8fhghxCrSQOYivhMBUtdARGlv8OEf30Aly0koWS62QGXkLOxFLNZA",
            "dtype": "f8"
           },
           "xaxis": "x",
           "y": {
            "bdata": "d76fGi/lUUDD9ShcjwJTQD0K16NwHVNACKwcWmQLUkBcj8L1KMxRQH0/NV66IVJAmpmZmZkZUkCF61G4HtVSQM3MzMzM7FJAPQrXo3BdU0AUrkfhegRTQFK4HoXrQVNAexSuR+FKUUDhehSuR7FTQNnO91Pj3VJAXI/C9ShcU0CkcD0K19tSQHsUrkfhWlNAFK5H4XpUU0CPwvUoXL9RQNejcD0Kt1JA16NwPQpXUUAXBFYOLepRQLgehetR2FFAKVyPwvVoUkAUrkfhemRTQArXo3A9ilNAUrgeheuBU0DTTWIQWIlQQHsUrkfhGlNA",
            "dtype": "f8"
           },
           "yaxis": "y"
          },
          {
           "hovertemplate": "<b>%{hovertext}</b><br><br>continent=Africa<br>year=1992<br>gdpPercap=%{x}<br>lifeExp=%{y}<br>pop=%{marker.size}<extra></extra>",
           "hovertext": [
            "Algeria",
            "Angola",
            "Benin",
            "Botswana",
            "Burkina Faso",
            "Burundi",
            "Cameroon",
            "Central African Republic",
            "Chad",
            "Comoros",
            "Congo, Dem. Rep.",
            "Congo, Rep.",
            "Cote d'Ivoire",
            "Djibouti",
            "Egypt",
            "Equatorial Guinea",
            "Eritrea",
            "Ethiopia",
            "Gabon",
            "Gambia",
            "Ghana",
            "Guinea",
            "Guinea-Bissau",
            "Kenya",
            "Lesotho",
            "Liberia",
            "Libya",
            "Madagascar",
            "Malawi",
            "Mali",
            "Mauritania",
            "Mauritius",
            "Morocco",
            "Mozambique",
            "Namibia",
            "Niger",
            "Nigeria",
            "Reunion",
            "Rwanda",
            "Sao Tome and Principe",
            "Senegal",
            "Sierra Leone",
            "Somalia",
            "South Africa",
            "Sudan",
            "Swaziland",
            "Tanzania",
            "Togo",
            "Tunisia",
            "Uganda",
            "Zambia",
            "Zimbabwe"
           ],
           "ids": [
            "Algeria",
            "Angola",
            "Benin",
            "Botswana",
            "Burkina Faso",
            "Burundi",
            "Cameroon",
            "Central African Republic",
            "Chad",
            "Comoros",
            "Congo, Dem. Rep.",
            "Congo, Rep.",
            "Cote d'Ivoire",
            "Djibouti",
            "Egypt",
            "Equatorial Guinea",
            "Eritrea",
            "Ethiopia",
            "Gabon",
            "Gambia",
            "Ghana",
            "Guinea",
            "Guinea-Bissau",
            "Kenya",
            "Lesotho",
            "Liberia",
            "Libya",
            "Madagascar",
            "Malawi",
            "Mali",
            "Mauritania",
            "Mauritius",
            "Morocco",
            "Mozambique",
            "Namibia",
            "Niger",
            "Nigeria",
            "Reunion",
            "Rwanda",
            "Sao Tome and Principe",
            "Senegal",
            "Sierra Leone",
            "Somalia",
            "South Africa",
            "Sudan",
            "Swaziland",
            "Tanzania",
            "Togo",
            "Tunisia",
            "Uganda",
            "Zambia",
            "Zimbabwe"
           ],
           "legendgroup": "Africa",
           "marker": {
            "color": "#00cc96",
            "size": {
             "bdata": "BUiRAfRMhQCnA0wAlnwUAN94hwBUpFgA4zu+AGTSMQDpGmIAHe8GAM/dewJxwiQA9OTCAJzcBQDWZ4oD/uoFANj5NwDvzhoDiwoPAGilDwDSZPgA7qpqADoJEAB7yH0Bu4MbAI4wHQDVmEIA21C6ACnOmADXa4AAKVcgAAq6EABfpokBG9HIAE23FwByEIAAFKCQBW9+CQBbPW8A1+sBANDEfgAUBEEAVxNdAP/NYQIEuK4BKK8OAKH3lQHhLjkARQ2CAJ6BFgHr4n8A1FWjAA==",
             "dtype": "i4"
            },
            "sizemode": "area",
            "sizeref": 435928.2961983471,
            "symbol": "circle"
           },
           "mode": "markers",
           "name": "Africa",
           "orientation": "v",
           "showlegend": true,
           "type": "scatter",
           "x": {
            "bdata": "x4Mtdjefs0Bv05/9sIekQAH8U6rUnJJAw0fElBwSv0B4LuetBR6NQJIxiFmZvYNAoRhZMqcEnECi/f6DPl+HQIj029dBiJBAfO2ZJaF7k0ChJp/DgZt8QOOKi6N6YK9A9S7ej0vAmUDN12X4T5KiQDVG66iCpa1ArDjVWjiwkUBEgpg63jaCQFX8OsunVXpAPIidKRRpykCvgQjM/syEQMo1BTJ76IxAXWUSmsnSiECTWK2nUUyHQCc8odev95RAjiPW4uOLjkBvVAK9++SDQLuYZroR1MJAh78ma7RCkEDOwTOhmZmBQArXo3AdGIdAViqoqHpFlUA6LA38QKq3QFcFajEYCKdAV4wEZFmueUCQ3Jp0E7mtQEtZhjh2KYJApUv/kmRPmUCRup19QdW3QGGhe3uMCIdAfPFFexxTlkAl6C/0mF+VQLKbGf3IspBAuwPhr673jED6bOS6ETm8QJ/jo8XJUJdA3EYDeAvCq0AyWHGqdc2JQJPi4xMyKZBAwvuqXLjssEAP3sPKXSGEQNmvO92J65JABjXXxF2rhUA=",
            "dtype": "f8"
           },
           "xaxis": "x",
           "y": {
            "bdata": "Vg4tsp3vUECJQWDl0FJEQBKDwMqh9UpAj8L1KFxfT0DhehSuRyFJQJHtfD81XkZA1HjpJjEoS0Cmm8QgsLJIQOkmMQis3ElA1HjpJjH4TECgGi/dJMZGQIGVQ4tsN0xAEoPAyqEFSkBaZDvfT81JQIPAyqFF1k9A9ihcj8LFR0ADK4cW2f5IQM/3U+OlC0hAAyuHFtmuTkDfT42XblJKQOWlm8QgwExAfT81XrpJSEA3XrpJDKJFQBSuR+F6pE1ASOF6FK7XTUAtsp3vp2ZEQLgehetRMFFACKwcWmQbSkD2KFyPwrVIQI1s5/upMUhAtMh2vp8qTUBI4XoUrm9RQP7UeOkmWVBAMQisHFokRkAdWmQ73/9OQDdeukkMskdAI9v5fmq8R0CPwvUoXGdSQNNNYhBYmTdA5dAi2/leT0AOAiuHFhlNQLTIdr6fKkNATmIQWDnUQ0CNbOf7qfFOQLpJDAIrx0pA6SYxCKw8TUC4HoXrUThJQCyHFtnOB01A8tJNYhCAUUCamZmZmWlIQM3MzMzMDEdAx0s3iUEwTkA=",
            "dtype": "f8"
           },
           "yaxis": "y"
          },
          {
           "hovertemplate": "<b>%{hovertext}</b><br><br>continent=Americas<br>year=1992<br>gdpPercap=%{x}<br>lifeExp=%{y}<br>pop=%{marker.size}<extra></extra>",
           "hovertext": [
            "Argentina",
            "Bolivia",
            "Brazil",
            "Canada",
            "Chile",
            "Colombia",
            "Costa Rica",
            "Cuba",
            "Dominican Republic",
            "Ecuador",
            "El Salvador",
            "Guatemala",
            "Haiti",
            "Honduras",
            "Jamaica",
            "Mexico",
            "Nicaragua",
            "Panama",
            "Paraguay",
            "Peru",
            "Puerto Rico",
            "Trinidad and Tobago",
            "United States",
            "Uruguay",
            "Venezuela"
           ],
           "ids": [
            "Argentina",
            "Bolivia",
            "Brazil",
            "Canada",
            "Chile",
            "Colombia",
            "Costa Rica",
            "Cuba",
            "Dominican Republic",
            "Ecuador",
            "El Salvador",
            "Guatemala",
            "Haiti",
            "Honduras",
            "Jamaica",
            "Mexico",
            "Nicaragua",
            "Panama",
            "Paraguay",
            "Peru",
            "Puerto Rico",
            "Trinidad and Tobago",
            "United States",
            "Uruguay",
            "Venezuela"
           ],
           "legendgroup": "Americas",
           "marker": {
            "color": "#ab63fa",
            "size": {
             "bdata": "IywGAosvaQAmAUwJ7juzAYIbzwBh5AkCYGswALyfowCNK3AA6gGkABl8UAAlgIEAmolgAGN5TQB6SyQAtndABRNPPQAF6yUAaWtEAPFCVgGYtDYAtQ8SAO3kTw/ODTAAWzo1AQ==",
             "dtype": "i4"
            },
            "sizemode": "area",
            "sizeref": 435928.2961983471,
            "symbol": "circle"
           },
           "mode": "markers",
           "name": "Americas",
           "orientation": "v",
           "showlegend": true,
           "type": "scatter",
           "x": {
            "bdata": "QQ5KmDUuwkBqvko+ZiOnQBNzEHRIJrtASkG3l7i52UB5PC0/IKy9QKGCwwumRLVAxTvAk2oQuEAJjPUN2Ni1QLEYda1tyKdAVxNE3bO/u0B88rBQO1yxQLsPQGpzV7FAOUIG8jzBlkBoIQGjYxOoQM7Cnnbs7LxAghyUMDGAwkAJpMSuTfSgQEtZhji+2rlAG2ZoPGlksEBDOjyEYV6xQJSkaybLmMxAjzS4rf3KvEAB9tGp+0DfQNc07zgByb9A+3lTkfb2xEA=",
            "dtype": "f8"
           },
           "xaxis": "x",
           "y": {
            "bdata": "ZDvfT433UUDRItv5fvpNQM/3U+Olw1BAzczMzMx8U0Dy0k1iEIhSQG3n+6nxGlFAFIPAyqHtUkDRItv5fppSQGiR7Xw/HVFArBxaZDtnUUBQjZduErNQQDu0yHa+r09ACKwcWmSLS0Coxks3iZlQQBsv3SQG8VFAhetRuB7dUUDLoUW283VQQCGwcmiRHVJAZmZmZmYOUUBaZDvfT51QQPyp8dJNelJAukkMAit3UUD2KFyPwgVTQOOlm8QgMFJAmpmZmZnJUUA=",
            "dtype": "f8"
           },
           "yaxis": "y"
          },
          {
           "hovertemplate": "<b>%{hovertext}</b><br><br>continent=Oceania<br>year=1992<br>gdpPercap=%{x}<br>lifeExp=%{y}<br>pop=%{marker.size}<extra></extra>",
           "hovertext": [
            "Australia",
            "New Zealand"
           ],
           "ids": [
            "Australia",
            "New Zealand"
           ],
           "legendgroup": "Oceania",
           "marker": {
            "color": "#FFA15A",
            "size": {
             "bdata": "+cAKAWp0NAA=",
             "dtype": "i4"
            },
            "sizemode": "area",
            "sizeref": 435928.2961983471,
            "symbol": "circle"
           },
           "mode": "markers",
           "name": "Oceania",
           "orientation": "v",
           "showlegend": true,
           "type": "scatter",
           "x": {
            "bdata": "5iK+EzHg1kBKJNHL1O7RQA==",
            "dtype": "f8"
           },
           "xaxis": "x",
           "y": {
            "bdata": "pHA9CtdjU0CF61G4HhVTQA==",
            "dtype": "f8"
           },
           "yaxis": "y"
          }
         ],
         "name": "1992"
        },
        {
         "data": [
          {
           "hovertemplate": "<b>%{hovertext}</b><br><br>continent=Asia<br>year=1997<br>gdpPercap=%{x}<br>lifeExp=%{y}<br>pop=%{marker.size}<extra></extra>",
           "hovertext": [
            "Afghanistan",
            "Bahrain",
            "Bangladesh",
            "Cambodia",
            "China",
            "Hong Kong, China",
            "India",
            "Indonesia",
            "Iran",
            "Iraq",
            "Israel",
            "Japan",
            "Jordan",
            "Korea, Dem. Rep.",
            "Korea, Rep.",
            "Kuwait",
            "Lebanon",
            "Malaysia",
            "Mongolia",
            "Myanmar",
            "Nepal",
            "Oman",
            "Pakistan",
            "Philippines",
            "Saudi Arabia",
            "Singapore",
            "Sri Lanka",
            "Syria",
            "Taiwan",
            "Thailand",
            "Vietnam",
            "West Bank and Gaza",
            "Yemen, Rep."
           ],
           "ids": [
            "Afghanistan",
            "Bahrain",
            "Bangladesh",
            "Cambodia",
            "China",
            "Hong Kong, China",
            "India",
            "Indonesia",
            "Iran",
            "Iraq",
            "Israel",
            "Japan",
            "Jordan",
            "Korea, Dem. Rep.",
            "Korea, Rep.",
            "Kuwait",
            "Lebanon",
            "Malaysia",
            "Mongolia",
            "Myanmar",
            "Nepal",
            "Oman",
            "Pakistan",
            "Philippines",
            "Saudi Arabia",
            "Singapore",
            "Sri Lanka",
            "Syria",
            "Taiwan",
            "Thailand",
            "Vietnam",
            "West Bank and Gaza",
            "Yemen, Rep."
           ],
           "legendgroup": "Asia",
           "marker": {
            "color": "#636efa",
            "size": {
             "bdata": "1ylTASEiCQBYpFkHMsuzAHh0UUmuHmMAwC0pObC94AvzTsYDFwM9AftmVACT8YEHmxBFANFcSQF4jsAC4e8aAPRXNAC7cDgBUxEmAPvokwIZ+F4Bc9giACKOFAh8m3gEv/BDAcUEOgCfUR0BOB7mAL0GSgFl1ZYDZGqIBD4fKwBBfvEA",
             "dtype": "i4"
            },
            "sizemode": "area",
            "sizeref": 435928.2961983471,
            "symbol": "circle"
           },
           "mode": "markers",
           "name": "Asia",
           "orientation": "v",
           "showlegend": true,
           "type": "scatter",
           "x": {
            "bdata": "qKs7Frvag0A6XRYTAdHTQCcGNwgpZo5AZ341B0jyhkCifazgd+KhQLcLzXVotttAggGED0XLlkDhCijUq16oQOaw+47LI8BAfQVpxnoIqEDbxMn9JmjUQJ/leXAlJNxA9NxCV8J6rECfzD/6BmuaQMx6MZTDPM9Am1q21pOt40Ag0m9fexnBQJFhFW90ysNASZ2AJgK5nUAAAAAAAPB5QCdsPxkjl49AMxtkkoM900AhD313swKgQKCJsOER0aNAgq0SLKwa1ECppE5A713gQJONB1v00KRAUrmJWnpcr0Crsu+KtLvTQL9GkiCg3LZARNycSpanlUAwKxTpqsa7QCC4yhP4iqBA",
            "dtype": "f8"
           },
           "xaxis": "x",
           "y": {
            "bdata": "jWzn+6nhREAzMzMzM3tSQNv5fmq8tE1AMQisHFpETEAlBoGVQ5tRQAAAAAAAAFRAUrgehevhTkC0yHa+n4JQQKabxCCwAlFALIcW2c5nTUDup8ZLN5FTQFyPwvUoLFRAxCCwcmhxUUBKDAIrh+5QQMMgsHJoqVJARIts5/sJU0ApXI/C9ZBRQHnpJjEI/FFAAAAAAADQT0BEi2zn+ylOQEoMAiuHtk1ADi2yne8fUkBkEFg5tOhOQGq8dJMYJFFAJzEIrByiUUAnMQisHEpTQGiR7Xw/nVFAfT81XrrhUUAAAAAAANBSQNNNYhBY4VBAXrpJDAKrUUCgGi/dJMZRQMP1KFyPAk1A",
            "dtype": "f8"
           },
           "yaxis": "y"
          },
          {
           "hovertemplate": "<b>%{hovertext}</b><br><br>continent=Europe<br>year=1997<br>gdpPercap=%{x}<br>lifeExp=%{y}<br>pop=%{marker.size}<extra></extra>",
           "hovertext": [
            "Albania",
            "Austria",
            "Belgium",
            "Bosnia and Herzegovina",
            "Bulgaria",
            "Croatia",
            "Czech Republic",
            "Denmark",
            "Finland",
            "France",
            "Germany",
            "Greece",
            "Hungary",
            "Iceland",
            "Ireland",
            "Italy",
            "Montenegro",
            "Netherlands",
            "Norway",
            "Poland",
            "Portugal",
            "Romania",
            "Serbia",
            "Slovak Republic",
            "Slovenia",
            "Spain",
            "Sweden",
            "Switzerland",
            "Turkey",
            "United Kingdom"
           ],
           "ids": [
            "Albania",
            "Austria",
            "Belgium",
            "Bosnia and Herzegovina",
            "Bulgaria",
            "Croatia",
            "Czech Republic",
            "Denmark",
            "Finland",
            "France",
            "Germany",
            "Greece",
            "Hungary",
            "Iceland",
            "Ireland",
            "Italy",
            "Montenegro",
            "Netherlands",
            "Norway",
            "Poland",
            "Portugal",
            "Romania",
            "Serbia",
            "Slovak Republic",
            "Slovenia",
            "Spain",
            "Sweden",
            "Switzerland",
            "Turkey",
            "United Kingdom"
           ],
           "legendgroup": "Europe",
           "marker": {
            "color": "#EF553B",
            "size": {
             "bdata": "xk40APQiewDropsA2Ak3AAkUewCz0UMAIy2dAE+fUABGWE4AxIV+A8Fj4wTkQKAATFKcAFgjBAAh9TcALRFtA6uRCgDwGu4AqDlDAO3TTQJ/+ZoAmkZYAVK5nQBiI1IA3LEeAFIlYAJTxIcAocRtAN8HwgPKV4ED",
             "dtype": "i4"
            },
            "sizemode": "area",
            "sizeref": 435928.2961983471,
            "symbol": "circle"
           },
           "mode": "markers",
           "name": "Europe",
           "orientation": "v",
           "showlegend": true,
           "type": "scatter",
           "x": {
            "bdata": "djQO9RvyqECw6xfs+mncQNr+lZVM6tpAhEiGHFueskD+fcaFY1K3QHldv2DNScNAJsed0kFYz0BNEHUfFhvdQCqpE9D8KtdAZ2FPO3JI2UAc0xOWOCPbQAJlU67sTtJAxLEubmPgxkAvVtRgRmfbQMQlx5188tdABK3AkMEY2EAJqHAEnUG5QHjuPVyIid1A+PwwQmUo5ECqtwa2ytfDQPc7FAVCOtFAsQ+yLIyyvEDJZHH/Ueq+QGlv8IUdr8dAzojS3kbC0EC0HykiU/fTQN3vUBSmrNhAkyIyrNRh30AP0egObsm5QJpfzQGidtlA",
            "dtype": "f8"
           },
           "xaxis": "x",
           "y": {
            "bdata": "zczMzMw8UkBxPQrXo2BTQFK4HoXrYVNAVg4tsp1PUkAUrkfhepRRQOxRuB6Fa1JAcT0K16OAUkDXo3A9CgdTQLgehetRSFNAKVyPwvWoU0D2KFyPwlVTQFYOLbKdd1NAw/UoXI/CUUDNzMzMzLxTQCuHFtnOB1NAFK5H4Xq0U0AUrkfhetxSQFK4HoXrgVNAFK5H4XqUU0AAAAAAADBSQK5H4XoU/lJArkfhehRuUUACK4cW2Q5SQD0K16NwLVJAuB6F61HIUkDhehSuR7FTQClcj8L12FNASOF6FK7XU0A9CtejcDVRQMuhRbbzTVNA",
            "dtype": "f8"
           },
           "yaxis": "y"
          },
          {
           "hovertemplate": "<b>%{hovertext}</b><br><br>continent=Africa<br>year=1997<br>gdpPercap=%{x}<br>lifeExp=%{y}<br>pop=%{marker.size}<extra></extra>",
           "hovertext": [
            "Algeria",
            "Angola",
            "Benin",
            "Botswana",
            "Burkina Faso",
            "Burundi",
            "Cameroon",
            "Central African Republic",
            "Chad",
            "Comoros",
            "Congo, Dem. Rep.",
            "Congo, Rep.",
            "Cote d'Ivoire",
            "Djibouti",
            "Egypt",
            "Equatorial Guinea",
            "Eritrea",
            "Ethiopia",
            "Gabon",
            "Gambia",
            "Ghana",
            "Guinea",
            "Guinea-Bissau",
            "Kenya",
            "Lesotho",
            "Liberia",
            "Libya",
            "Madagascar",
            "Malawi",
            "Mali",
            "Mauritania",
            "Mauritius",
            "Morocco",
            "Mozambique",
            "Namibia",
            "Niger",
            "Nigeria",
            "Reunion",
            "Rwanda",
            "Sao Tome and Principe",
            "Senegal",
            "Sierra Leone",
            "Somalia",
            "South Africa",
            "Sudan",
            "Swaziland",
            "Tanzania",
            "Togo",
            "Tunisia",
            "Uganda",
            "Zambia",
            "Zimbabwe"
           ],
           "ids": [
            "Algeria",
            "Angola",
            "Benin",
            "Botswana",
            "Burkina Faso",
            "Burundi",
            "Cameroon",
            "Central African Republic",
            "Chad",
            "Comoros",
            "Congo, Dem. Rep.",
            "Congo, Rep.",
            "Cote d'Ivoire",
            "Djibouti",
            "Egypt",
            "Equatorial Guinea",
            "Eritrea",
            "Ethiopia",
            "Gabon",
            "Gambia",
            "Ghana",
            "Guinea",
            "Guinea-Bissau",
            "Kenya",
            "Lesotho",
            "Liberia",
            "Libya",
            "Madagascar",
            "Malawi",
            "Mali",
            "Mauritania",
            "Mauritius",
            "Morocco",
            "Mozambique",
            "Namibia",
            "Niger",
            "Nigeria",
            "Reunion",
            "Rwanda",
            "Sao Tome and Principe",
            "Senegal",
            "Sierra Leone",
            "Somalia",
            "South Africa",
            "Sudan",
            "Swaziland",
            "Tanzania",
            "Togo",
            "Tunisia",
            "Uganda",
            "Zambia",
            "Zimbabwe"
           ],
           "legendgroup": "Africa",
           "marker": {
            "color": "#00cc96",
            "size": {
             "bdata": "j5q7AVCulgCgj1wAGHIXAMv4nQCKaF0AYZzYAIFnOAAbY3MAbg4IAMpa2QIzvSoAryzfAHRgBgATIfEDo7YGAM/sPQA1aZEDLS8RADfbEgBwChkBwtB6AOw2EgCTRa8BZ0EeAJWUIQB2oEgAeiTYABf/ngAYNI8AxU0lAHqLEQBdU7MBxlj9AK4UGwDMfpMAX5pUBgpzCgAnDm4AyDgCAFJ/kQCk20UAKjhlAD2cjQLZu+oBFhcQAKk+1AF67kEANd2MAI6kQwE9tI8AlAauAA==",
             "dtype": "i4"
            },
            "sizemode": "area",
            "sizeref": 435928.2961983471,
            "symbol": "circle"
           },
           "mode": "markers",
           "name": "Africa",
           "orientation": "v",
           "showlegend": true,
           "type": "scatter",
           "x": {
            "bdata": "p1t2iEu9skAPmfIhSMqhQDQw8rLmQ5NAZvhPN5LjwECOpO4UXJKNQE0zOKXX8XxAqDl5kVl5mkBtY6L3DCSHQEt319mwZ49A+IiYEnlWkkAH7dXHA4NzQH9QFylUOKtAhUTaxg/pm0A58kBkEZydQIOJP4ouTbBAx/SEJfb8pUBFKowtxIuMQCnEbX4dH4BAlU25wmvBzEAPJJRj122EQLcnSGz3aY9AmwZWH5kri0DitabUUOWIQIBTWKnwQZVABDi9i5eIkkDnKFFAZAmDQBjuXBi5fcJAPiiD/l3SjkAy0wfcNKKFQPneOloQsohAPE88Z4ssl0AKjzaOtAG9QKxVuyY0TKdAUSYkiImFfUA0hc5rDHeuQIJjhRFxIoJAK/aX3cNjmUAYsU8A8be3QD6bsFiOb4JARpVh3E3slEBSuvQvecGVQDt1QG0v9YFAP8NAfMUUjUCrP8IwMDe9QLSchNLXgJlAkdCWc4lJrkAUYolifamIQGyn955Lso5AIZT3ccwMs0CFlnX/eISJQPIKRE9qvZBA+yfJhJnDiEA=",
            "dtype": "f8"
           },
           "xaxis": "x",
           "y": {
            "bdata": "fT81XrpJUUAlBoGVQ3tEQPp+arx0Y0tAukkMAitHSkC28/3UeClJQH0/NV66qUZAtvP91HgZSkCcxCCwcghHQNNNYhBYyUlAFK5H4XpUTkBCYOXQIktFQEJg5dAie0pAAyuHFtn+R0BqvHSTGJRKQNnO91PjzVBAj8L1KFwfSECq8dJNYrBKQPp+arx0s0hAYLpJDAI7TkCR7Xw/Ne5LQLpJDAIrR01ACtejcD26SUA7tMh2vm9GQGq8dJMYNEtAgZVDi2zHS0A/NV66SRxFQOxRuB6F41FAd76fGi99S0CPwvUoXL9HQN0kBoGV80hA16NwPQo3TkDJdr6fGq9RQArXo3A96lBAeekmMQgsR0AxCKwcWnRNQPLSTWIQqElACKwcWmS7R0DDILByaLFSQEJg5dAiC0JAukkMAiunT0AOLbKd7xdOQIlBYOXQ8kNA9ihcj8LlRUCR7Xw/NR5OQDu0yHa+r0tAokW28/0kS0DP91PjpTtIQFK4HoXrMU1Ag8DKoUX+UUBEi2zn+0lGQFg5tMh2HkRAZDvfT41nR0A=",
            "dtype": "f8"
           },
           "yaxis": "y"
          },
          {
           "hovertemplate": "<b>%{hovertext}</b><br><br>continent=Americas<br>year=1997<br>gdpPercap=%{x}<br>lifeExp=%{y}<br>pop=%{marker.size}<extra></extra>",
           "hovertext": [
            "Argentina",
            "Bolivia",
            "Brazil",
            "Canada",
            "Chile",
            "Colombia",
            "Costa Rica",
            "Cuba",
            "Dominican Republic",
            "Ecuador",
            "El Salvador",
            "Guatemala",
            "Haiti",
            "Honduras",
            "Jamaica",
            "Mexico",
            "Nicaragua",
            "Panama",
            "Paraguay",
            "Peru",
            "Puerto Rico",
            "Trinidad and Tobago",
            "United States",
            "Uruguay",
            "Venezuela"
           ],
           "ids": [
            "Argentina",
            "Bolivia",
            "Brazil",
            "Canada",
            "Chile",
            "Colombia",
            "Costa Rica",
            "Cuba",
            "Dominican Republic",
            "Ecuador",
            "El Salvador",
            "Guatemala",
            "Haiti",
            "Honduras",
            "Jamaica",
            "Mexico",
            "Nicaragua",
            "Panama",
            "Paraguay",
            "Peru",
            "Puerto Rico",
            "Trinidad and Tobago",
            "United States",
            "Uruguay",
            "Venezuela"
           ],
           "legendgroup": "Americas",
           "marker": {
            "color": "#ab63fa",
            "size": {
             "bdata": "x2soAoRjdQCf0QsKM27OAfnG3gDmnD4Cm641AF+WpwAl9HkAi8K1AI8/WABjmJUACX5pALWJWQDvnyYAaj63BSRWRgDDuSkAS6VOAFqgeQFGXTkAtV0RAJBNRBB2yTEA/mdVAQ==",
             "dtype": "i4"
            },
            "sizemode": "area",
            "sizeref": 435928.2961983471,
            "symbol": "circle"
           },
           "mode": "markers",
           "name": "Americas",
           "orientation": "v",
           "showlegend": true,
           "type": "scatter",
           "x": {
            "bdata": "jgbwFqRrxUAqrFRQSfypQCAbSBf7Fb9AbCHIQbtG3EBnLJrOBsPDQHfHYptc5bdADcSymQsVukB4YtaL/Te1QCeloNszPKxA/uVatHQFvUD7srRT0yK0QELSp1VQTLJAy52ZYOj2lECCcXDp6LCoQHy+Zrns0btAyol2FaYTw0BbJy7HC5qhQJdUbTexybtA3UCBd2aXsEA6lQwAWc62QFfsL7vbmdBAP1kxXEkswUAGu2Hb7XbhQPENhc8eB8JA0egOYr/aw0A=",
            "dtype": "f8"
           },
           "xaxis": "x",
           "y": {
            "bdata": "mpmZmZlRUkBmZmZmZgZPQEa28/3UWFFA16NwPQqnU0BOYhBYOfRSQHnpJjEIlFFAcT0K16NQU0CNbOf7qQlTQGiR7Xw/fVFAhxbZzvcTUkAK16NwPWJRQPhT46WblFBA2s73U+NVTEAYBFYOLepQQFTjpZvEEFJAexSuR+FqUkAlBoGVQxtRQKwcWmQ7b1JAmpmZmZlZUUBjEFg5tBhRQKabxCCwulJA9ihcj8JdUUCkcD0K1zNTQIPAyqFFjlJA001iEFgJUkA=",
            "dtype": "f8"
           },
           "yaxis": "y"
          },
          {
           "hovertemplate": "<b>%{hovertext}</b><br><br>continent=Oceania<br>year=1997<br>gdpPercap=%{x}<br>lifeExp=%{y}<br>pop=%{marker.size}<extra></extra>",
           "hovertext": [
            "Australia",
            "New Zealand"
           ],
           "ids": [
            "Australia",
            "New Zealand"
           ],
           "legendgroup": "Oceania",
           "marker": {
            "color": "#FFA15A",
            "size": {
             "bdata": "e0gbARsYOAA=",
             "dtype": "i4"
            },
            "sizemode": "area",
            "sizeref": 435928.2961983471,
            "symbol": "circle"
           },
           "mode": "markers",
           "name": "Oceania",
           "orientation": "v",
           "showlegend": true,
           "type": "scatter",
           "x": {
            "bdata": "G0zD8Htd2kCEKjV7mo7UQA==",
            "dtype": "f8"
           },
           "xaxis": "x",
           "y": {
            "bdata": "hetRuB61U0AzMzMzM2NTQA==",
            "dtype": "f8"
           },
           "yaxis": "y"
          }
         ],
         "name": "1997"
        },
        {
         "data": [
          {
           "hovertemplate": "<b>%{hovertext}</b><br><br>continent=Asia<br>year=2002<br>gdpPercap=%{x}<br>lifeExp=%{y}<br>pop=%{marker.size}<extra></extra>",
           "hovertext": [
            "Afghanistan",
            "Bahrain",
            "Bangladesh",
            "Cambodia",
            "China",
            "Hong Kong, China",
            "India",
            "Indonesia",
            "Iran",
            "Iraq",
            "Israel",
            "Japan",
            "Jordan",
            "Korea, Dem. Rep.",
            "Korea, Rep.",
            "Kuwait",
            "Lebanon",
            "Malaysia",
            "Mongolia",
            "Myanmar",
            "Nepal",
            "Oman",
            "Pakistan",
            "Philippines",
            "Saudi Arabia",
            "Singapore",
            "Sri Lanka",
            "Syria",
            "Taiwan",
            "Thailand",
            "Vietnam",
            "West Bank and Gaza",
            "Yemen, Rep."
           ],
           "ids": [
            "Afghanistan",
            "Bahrain",
            "Bangladesh",
            "Cambodia",
            "China",
            "Hong Kong, China",
            "India",
            "Indonesia",
            "Iran",
            "Iraq",
            "Israel",
            "Japan",
            "Jordan",
            "Korea, Dem. Rep.",
            "Korea, Rep.",
            "Kuwait",
            "Lebanon",
            "Malaysia",
            "Mongolia",
            "Myanmar",
            "Nepal",
            "Oman",
            "Pakistan",
            "Philippines",
            "Saudi Arabia",
            "Singapore",
            "Sri Lanka",
            "Syria",
            "Taiwan",
            "Thailand",
            "Vietnam",
            "West Bank and Gaza",
            "Yemen, Rep."
           ],
           "legendgroup": "Asia",
           "marker": {
            "color": "#636efa",
            "size": {
             "bdata": "tZCBAQ0ECgBW9RUI8z7FAIBaUUzsL2cAgzikPSCFlAyy7vwDGD1uAdkAXADx3pIHTvxQAMX6UgF+89sCSTggAFQeOADdzFkBOs4oAIHFtwL9zYoBdmcpAITAJAmQZ/IEGt11AZANQADPtyoB5sYFAd+fVgHcWr4Dc4/SBIq4MwDJWx0B",
             "dtype": "i4"
            },
            "sizemode": "area",
            "sizeref": 435928.2961983471,
            "symbol": "circle"
           },
           "mode": "markers",
           "name": "Asia",
           "orientation": "v",
           "showlegend": true,
           "type": "scatter",
           "x": {
            "bdata": "xnsfWN+1hkDpZRTL49rWQITF4cyPwZFAKQ8c4c4BjEAou5nRj16oQA+mYfhAgN1AG9e/6xNLm0AAV7Jj03OmQK+UZYhhDMJAB13CobcmsUAjFcYWZmTVQKCJsOEl79tALbRzmtUJrkC4WbxYCLuZQKRTVz5/yNJAkBSRYcMk4UBA2ZQr+DDCQLpOIy1978NAXFSLiHq5oEAAAAAAABiDQDjXMEPThJBAQDBHj7VP00CpFhHFbFmgQMmSOZbXtaRAUHCxoqKR0kAg0m9f45bhQEsjZvbBjqdA8x38xNn1r0Cu8C4X27DWQA2K5gEwGbdAV68io9ORm0BZF7fRfKOxQFnBb0OkdaFA",
            "dtype": "f8"
           },
           "xaxis": "x",
           "y": {
            "bdata": "jZduEoMQRUB7FK5H4bJSQI1s5/upAU9Ax0s3iUFgTEBvEoPAygFSQEjhehSuX1RAjZduEoNwT0ATg8DKoSVRQL+fGi/dXFFA2s73U+OFTEAGgZVDi+xTQAAAAAAAgFRARrbz/dTQUUDtfD81XqpQQHsUrkfhQlNAYOXQIts5U0BvEoPAysFRQIlBYOXQQlJAJzEIrBxCUEBOYhBYOfRNQOxRuB6Fq05AMQisHFqMUkCuR+F6FM5PQAisHFpkk1FA8tJNYhDoUUDhehSuR7FTQFyPwvUotFFACKwcWmRDUkCPwvUoXD9TQGq8dJMYJFFADAIrhxZBUkBI4XoUrhdSQIGVQ4tsJ05A",
            "dtype": "f8"
           },
           "yaxis": "y"
          },
          {
           "hovertemplate": "<b>%{hovertext}</b><br><br>continent=Europe<br>year=2002<br>gdpPercap=%{x}<br>lifeExp=%{y}<br>pop=%{marker.size}<extra></extra>",
           "hovertext": [
            "Albania",
            "Austria",
            "Belgium",
            "Bosnia and Herzegovina",
            "Bulgaria",
            "Croatia",
            "Czech Republic",
            "Denmark",
            "Finland",
            "France",
            "Germany",
            "Greece",
            "Hungary",
            "Iceland",
            "Ireland",
            "Italy",
            "Montenegro",
            "Netherlands",
            "Norway",
            "Poland",
            "Portugal",
            "Romania",
            "Serbia",
            "Slovak Republic",
            "Slovenia",
            "Spain",
            "Sweden",
            "Switzerland",
            "Turkey",
            "United Kingdom"
           ],
           "ids": [
            "Albania",
            "Austria",
            "Belgium",
            "Bosnia and Herzegovina",
            "Bulgaria",
            "Croatia",
            "Czech Republic",
            "Denmark",
            "Finland",
            "France",
            "Germany",
            "Greece",
            "Hungary",
            "Iceland",
            "Ireland",
            "Italy",
            "Montenegro",
            "Netherlands",
            "Norway",
            "Poland",
            "Portugal",
            "Romania",
            "Serbia",
            "Slovak Republic",
            "Slovenia",
            "Spain",
            "Sweden",
            "Switzerland",
            "Turkey",
            "United Kingdom"
           ],
           "legendgroup": "Europe",
           "marker": {
            "color": "#EF553B",
            "size": {
             "bdata": "IIk1AFhVfAAiWZ0AKI8/AOfodAD8X0QAp3+cAOUCUgBPPU8AK2KSA0+S6ARXzaEA8duZAB5lBADzMDsAV+VzA2b9CgDOA/YAJzVFALhiTQJLNZ8A8dxVAUdKmgAEjVIAabEeAMWtZAI/oYgA3VRwAIANAwTvMJID",
             "dtype": "i4"
            },
            "sizemode": "area",
            "sizeref": 435928.2961983471,
            "symbol": "circle"
           },
           "mode": "markers",
           "name": "Europe",
           "orientation": "v",
           "showlegend": true,
           "type": "scatter",
           "x": {
            "bdata": "WmJlNDb8sUAHmWTkZqjfQPYoXI94xd1AyVpDqfmCt0BIUPwYxxC+QOQUHckxtsZAPJY+dA0v0UCCqPsAoGnfQAAd5ssli9tAl8rbEYI/3EAD7KNT81TdQMGopE6Q/NVAuRluwPf9zEDGounszG7eQFhWmpSho+BA3dJqSAZQ20A0FHe8MZ25QLLXuz+Yd+BA7nw/NX/R5UCQZiyaHnHHQMHFihq6gNNA6bZELlzNvkD+R6ZDE0S8QBfPoKFjo8pAtrkxPQEt1EC1bK0v3kDYQAY5KGFop9xAInGPpR7W4ECuZp3xFWy5QB+duvK/ydxA",
            "dtype": "f8"
           },
           "xaxis": "x",
           "y": {
            "bdata": "jWzn+6npUkAfhetRuL5TQBSuR+F6lFNA9ihcj8KFUkApXI/C9QhSQPLSTWIQuFJAcT0K16PgUkDsUbgehUtTQEjhehSul1NA9ihcj8LlU0B7FK5H4apTQKrx0k1ikFNA9ihcj8IlUkAAAAAAACBUQCcxCKwcclNAj8L1KFwPVEASWDm0yH5SQFK4HoXroVNAMzMzMzPDU0B7FK5H4apSQMP1KFyPUlNA+FPjpZvUUUAUg8DKoU1SQDMzMzMzc1JACtejcD0qU0BSuB6F6/FTQMP1KFyPAlRASOF6FK4nVECuR+F6FLZRQKAaL90knlNA",
            "dtype": "f8"
           },
           "yaxis": "y"
          },
          {
           "hovertemplate": "<b>%{hovertext}</b><br><br>continent=Africa<br>year=2002<br>gdpPercap=%{x}<br>lifeExp=%{y}<br>pop=%{marker.size}<extra></extra>",
           "hovertext": [
            "Algeria",
            "Angola",
            "Benin",
            "Botswana",
            "Burkina Faso",
            "Burundi",
            "Cameroon",
            "Central African Republic",
            "Chad",
            "Comoros",
            "Congo, Dem. Rep.",
            "Congo, Rep.",
            "Cote d'Ivoire",
            "Djibouti",
            "Egypt",
            "Equatorial Guinea",
            "Eritrea",
            "Ethiopia",
            "Gabon",
            "Gambia",
            "Ghana",
            "Guinea",
            "Guinea-Bissau",
            "Kenya",
            "Lesotho",
            "Liberia",
            "Libya",
            "Madagascar",
            "Malawi",
            "Mali",
            "Mauritania",
            "Mauritius",
            "Morocco",
            "Mozambique",
            "Namibia",
            "Niger",
            "Nigeria",
            "Reunion",
            "Rwanda",
            "Sao Tome and Principe",
            "Senegal",
            "Sierra Leone",
            "Somalia",
            "South Africa",
            "Sudan",
            "Swaziland",
            "Tanzania",
            "Togo",
            "Tunisia",
            "Uganda",
            "Zambia",
            "Zimbabwe"
           ],
           "ids": [
            "Algeria",
            "Angola",
            "Benin",
            "Botswana",
            "Burkina Faso",
            "Burundi",
            "Cameroon",
            "Central African Republic",
            "Chad",
            "Comoros",
            "Congo, Dem. Rep.",
            "Congo, Rep.",
            "Cote d'Ivoire",
            "Djibouti",
            "Egypt",
            "Equatorial Guinea",
            "Eritrea",
            "Ethiopia",
            "Gabon",
            "Gambia",
            "Ghana",
            "Guinea",
            "Guinea-Bissau",
            "Kenya",
            "Lesotho",
            "Liberia",
            "Libya",
            "Madagascar",
            "Malawi",
            "Mali",
            "Mauritania",
            "Mauritius",
            "Morocco",
            "Mozambique",
            "Namibia",
            "Niger",
            "Nigeria",
            "Reunion",
            "Rwanda",
            "Sao Tome and Principe",
            "Senegal",
            "Sierra Leone",
            "Somalia",
            "South Africa",
            "Sudan",
            "Swaziland",
            "Tanzania",
            "Togo",
            "Tunisia",
            "Uganda",
            "Zambia",
            "Zimbabwe"
           ],
           "legendgroup": "Africa",
           "marker": {
            "color": "#00cc96",
            "size": {
             "bdata": "ZmfdAbrNpQDBNWsAi+AYAEnwugAWImsAhBLzAI3EPQCb0oYA7l8JAIwHTQMbyzIANv/3ALjTBgAvqV4EC5AHAJFdQwAtyQwEaNMTAGY+FgBflDkBimWGAOtUFADa7N4BNDsfALvyKgAJ61EAhV37AG9ttADQcKEAOiorAE5QEgAnldsBNOMZAbkXHgAv/qkAWowlBy1aCwBx0XcAhJkCABXdpQD0xVEAXk52ANYApgL68zUCHT8RAPPbDwLi8ksATxaVAB2AeQHjraEAI/y1AA==",
             "dtype": "i4"
            },
            "sizemode": "area",
            "sizeref": 435928.2961983471,
            "symbol": "circle"
           },
           "mode": "markers",
           "name": "Africa",
           "orientation": "v",
           "showlegend": true,
           "type": "scatter",
           "x": {
            "bdata": "WYl5VgqotEB/944ak6qlQJQUWACDc5VAu+1Cc819xUDFVtC0lDaQQGLIoMl05ntASmJJuQs4nkApo9tchhWHQM0Bgjm6EJJAO3MPCT/PkECZ1TvcTiVuQKsmiLofOKtAisvxCjTDmUBsBrggC9GdQD874LqakrJAFmpN834XvkBoIJbNzOqHQFj+IaJtkIBA+wW7Ydt0yEBhQOVOr6SEQHAZNzXwX5FA1E/uLauMjUBTJ/tCo/2BQNLI5xUPHpRAo5I6Ab3sk0AfmbPj25uAQI8YPbdWn8JA6W6Nvhj1i0CkKgGMYsuEQNGj8ytHu41Ad4cUAxSsmECA7zZv6J7BQNegL739dKlAZa38jfHMg0CwWMNFptCvQBrMFZSYyIJA9Bq7RCU9mUBNFYxKKqy4QDQaCuk6jYhA6fF7m14klUCRKR+Cir6XQGc7pu7q24VAzhgwkqeQi0B/aydK8h6+QCgOoN+XJZ9Af/j57x0gsEAAPP37lxiMQCKunL3DsYtAfmWlSeVatkDbepecxP2MQBi/Kax0vpBAEgtrGU8AhUA=",
            "dtype": "f8"
           },
           "xaxis": "x",
           "y": {
            "bdata": "Vg4tsp2/UUCq8dJNYoBEQIkW2c73M0tA/dR46SZRR0AzMzMzM1NJQK5H4XoUrkdAIbByaJHtSECBlUOLbKdFQDMzMzMzQ0lA6SYxCKx8T0DP91PjpXtGQFyPwvUofEpA0SLb+X5qR0A7tMh2vq9KQN0kBoGVc1FABoGVQ4usSEAfhetRuJ5LQM3MzMzMXElAxSCwcmhhTEBoke18PwVNQESLbOf7OU1ASgwCK4fWSkCNl24Sg8BGQOXQItv5fklAlkOLbOdLRkCq8dJNYuBFQLpJDAIrL1JA+FPjpZukTED91HjpJoFGQGQQWDm06ElAVg4tsp0fT0CTGARWDv1RQI/C9ShcZ1FAF9nO91MDRkBaZDvfT71JQHNoke18P0tA5/up8dJNR0BWDi2yne9SQL6fGi/dtEVAIbByaJEVUEDNzMzMzMxOQKjGSzeJgURALIcW2c73RkAfhetRuK5KQKwcWmQ7L0xArBxaZDvvRUAX2c73U9NIQCyHFtnOx0xAppvEILBCUkDy0k1iEOhHQGQQWDm0mENAO99PjZf+Q0A=",
            "dtype": "f8"
           },
           "yaxis": "y"
          },
          {
           "hovertemplate": "<b>%{hovertext}</b><br><br>continent=Americas<br>year=2002<br>gdpPercap=%{x}<br>lifeExp=%{y}<br>pop=%{marker.size}<extra></extra>",
           "hovertext": [
            "Argentina",
            "Bolivia",
            "Brazil",
            "Canada",
            "Chile",
            "Colombia",
            "Costa Rica",
            "Cuba",
            "Dominican Republic",
            "Ecuador",
            "El Salvador",
            "Guatemala",
            "Haiti",
            "Honduras",
            "Jamaica",
            "Mexico",
            "Nicaragua",
            "Panama",
            "Paraguay",
            "Peru",
            "Puerto Rico",
            "Trinidad and Tobago",
            "United States",
            "Uruguay",
            "Venezuela"
           ],
           "ids": [
            "Argentina",
            "Bolivia",
            "Brazil",
            "Canada",
            "Chile",
            "Colombia",
            "Costa Rica",
            "Cuba",
            "Dominican Republic",
            "Ecuador",
            "El Salvador",
            "Guatemala",
            "Haiti",
            "Honduras",
            "Jamaica",
            "Mexico",
            "Nicaragua",
            "Panama",
            "Paraguay",
            "Peru",
            "Puerto Rico",
            "Trinidad and Tobago",
            "United States",
            "Uruguay",
            "Venezuela"
           ],
           "legendgroup": "Americas",
           "marker": {
            "color": "#ab63fa",
            "size": {
             "bdata": "8eJIAs7cgADkRbkKPMrmAVZ37ABjvHECNoQ6AHdPqwBS/oMAkinFABHzYACakqoAYxV0AFDjZQDTqCgAN7gbBuCITgAboy0AS8pZABx4mAGW5DoACNAQAIaUJRENUTMAtplyAQ==",
             "dtype": "i4"
            },
            "sizemode": "area",
            "sizeref": 435928.2961983471,
            "symbol": "circle"
           },
           "mode": "markers",
           "name": "Americas",
           "orientation": "v",
           "showlegend": true,
           "type": "scatter",
           "x": {
            "bdata": "A137AtIuwUD5vU1/hqqqQDD84Hw2w79AC3va4R5G4EB8YTJVZA3FQDSg3oxCe7ZA8Rtfe3IrvkDhXwSNpcS4QCI4LuPO07FASHAjZQuNtkBYUBiUkee0QIasbvVY+rJADvW7sHXZk0DPa+wSdTeoQPJdSl3GUrtAdHtJYzj7xEDZ0M3+GFWjQKOd0ywIvLxAHeVgNlmPrUCIDoEjBRW3QN8yp8vmadJACi5W1ExixkBKe4MvIxfjQHeKVYMAL75AXoJTH4bOwEA=",
            "dtype": "f8"
           },
           "xaxis": "x",
           "y": {
            "bdata": "9ihcj8KVUkAbL90kBvFPQKrx0k1iwFFA4XoUrkfxU0DXo3A9CndTQM/3U+Ol61FAHVpkO9+HU0AnMQisHEpTQJHtfD81tlFAUI2XbhKLUkDl0CLb+a5RQDzfT42XPlFAqMZLN4kRTUBcj8L1KCRRQF66SQwCA1JAfT81Xrq5UkAv3SQGgbVRQCGwcmiRrVJAuB6F61GwUUBEi2zn+3lRQG8Sg8DKcVNAWDm0yHY+UUCkcD0K11NTQM/3U+Ol01JAGy/dJAYxUkA=",
            "dtype": "f8"
           },
           "yaxis": "y"
          },
          {
           "hovertemplate": "<b>%{hovertext}</b><br><br>continent=Oceania<br>year=2002<br>gdpPercap=%{x}<br>lifeExp=%{y}<br>pop=%{marker.size}<extra></extra>",
           "hovertext": [
            "Australia",
            "New Zealand"
           ],
           "ids": [
            "Australia",
            "New Zealand"
           ],
           "legendgroup": "Oceania",
           "marker": {
            "color": "#FFA15A",
            "size": {
             "bdata": "qEIqAcWhOwA=",
             "dtype": "i4"
            },
            "sizemode": "area",
            "sizeref": 435928.2961983471,
            "symbol": "circle"
           },
           "mode": "markers",
           "name": "Oceania",
           "orientation": "v",
           "showlegend": true,
           "type": "scatter",
           "x": {
            "bdata": "1A5/TfD33UCqglFJc6XWQA==",
            "dtype": "f8"
           },
           "xaxis": "x",
           "y": {
            "bdata": "SOF6FK4XVEDXo3A9CsdTQA==",
            "dtype": "f8"
           },
           "yaxis": "y"
          }
         ],
         "name": "2002"
        },
        {
         "data": [
          {
           "hovertemplate": "<b>%{hovertext}</b><br><br>continent=Asia<br>year=2007<br>gdpPercap=%{x}<br>lifeExp=%{y}<br>pop=%{marker.size}<extra></extra>",
           "hovertext": [
            "Afghanistan",
            "Bahrain",
            "Bangladesh",
            "Cambodia",
            "China",
            "Hong Kong, China",
            "India",
            "Indonesia",
            "Iran",
            "Iraq",
            "Israel",
            "Japan",
            "Jordan",
            "Korea, Dem. Rep.",
            "Korea, Rep.",
            "Kuwait",
            "Lebanon",
            "Malaysia",
            "Mongolia",
            "Myanmar",
            "Nepal",
            "Oman",
            "Pakistan",
            "Philippines",
            "Saudi Arabia",
            "Singapore",
            "Sri Lanka",
            "Syria",
            "Taiwan",
            "Thailand",
            "Vietnam",
            "West Bank and Gaza",
            "Yemen, Rep."
           ],
           "ids": [
            "Afghanistan",
            "Bahrain",
            "Bangladesh",
            "Cambodia",
            "China",
            "Hong Kong, China",
            "India",
            "Indonesia",
            "Iran",
            "Iraq",
            "Israel",
            "Japan",
            "Jordan",
            "Korea, Dem. Rep.",
            "Korea, Rep.",
            "Kuwait",
            "Lebanon",
            "Malaysia",
            "Mongolia",
            "Myanmar",
            "Nepal",
            "Oman",
            "Pakistan",
            "Philippines",
            "Saudi Arabia",
            "Singapore",
            "Sri Lanka",
            "Syria",
            "Taiwan",
            "Thailand",
            "Vietnam",
            "West Bank and Gaza",
            "Yemen, Rep."
           ],
           "legendgroup": "Asia",
           "marker": {
            "color": "#636efa",
            "size": {
             "bdata": "A5rmAd3PCgDTqPcIkqLXANiBmU48g2oAq00vQngOUw0CxyMEdpyjATcQYgDEAZkHSV1cAF2OYwE2XewCVzsmAH7VOwAmvnoBD9srADzK2AKeAbkBIecwAFndFgqnum0FjiilATF5RQB/8jYBO7gmAZacYQF13OADFAAVBZxQPQCf7FIB",
             "dtype": "i4"
            },
            "sizemode": "area",
            "sizeref": 435928.2961983471,
            "symbol": "circle"
           },
           "mode": "markers",
           "name": "Asia",
           "orientation": "v",
           "showlegend": true,
           "type": "scatter",
           "x": {
            "bdata": "54R1iKR0jkDGpwAYAxndQPLPDOIDvZVAat/cXx3HmkDRXRJnHV+zQHK/Q1GfZeNAs193umsoo0CA7suZTamrQKmHaHTbqsZAbVUS2Q93sUBuowG80ezYQItUGFsE6t5A3XpND3ansUArajANQ+SYQBMZVvEIzdZASBtHrF8Z50B3hNOCh27EQFwgQfHTUchATsEaZ4svqEAAAAAAAICNQEjfpGlwDZFAmGn7VwzL1UCwrDQp5VukQLWpukf27KhAD0WBPrUl1UCiYpy/5QTnQJ6xL9kwBK9ATIqPT4xYsECOHr+3kQvcQIOvr3VlIr1AkdJsHicTo0BqNLkYs6KnQP2FHjGK0aFA",
            "dtype": "f8"
           },
           "xaxis": "x",
           "y": {
            "bdata": "RIts5/vpRUBxPQrXo+hSQIcW2c73A1BABoGVQ4vcTUAv3SQGgT1SQFpkO99PjVRA6iYxCKwsUECamZmZmalRQARWDi2yvVFA9ihcj8LFTUBI4XoUri9UQDvfT42XplRACtejcD0iUkBeukkMAtNQQB1aZDvfp1NAFIPAyqFlU0BkO99Pjf9RQIGVQ4tsj1JACKwcWmSzUEBGtvP91AhPQBSuR+F65E9AKVyPwvXoUkD0/dR46V5QQHnpJjEI7FFAfT81XroxUkCR7Xw/Nf5TQNNNYhBYGVJA/tR46SaJUkCamZmZmZlTQIGVQ4tsp1FADi2yne+PUkBeukkMAltSQNNNYhBYWU9A",
            "dtype": "f8"
           },
           "yaxis": "y"
          },
          {
           "hovertemplate": "<b>%{hovertext}</b><br><br>continent=Europe<br>year=2007<br>gdpPercap=%{x}<br>lifeExp=%{y}<br>pop=%{marker.size}<extra></extra>",
           "hovertext": [
            "Albania",
            "Austria",
            "Belgium",
            "Bosnia and Herzegovina",
            "Bulgaria",
            "Croatia",
            "Czech Republic",
            "Denmark",
            "Finland",
            "France",
            "Germany",
            "Greece",
            "Hungary",
            "Iceland",
            "Ireland",
            "Italy",
            "Montenegro",
            "Netherlands",
            "Norway",
            "Poland",
            "Portugal",
            "Romania",
            "Serbia",
            "Slovak Republic",
            "Slovenia",
            "Spain",
            "Sweden",
            "Switzerland",
            "Turkey",
            "United Kingdom"
           ],
           "ids": [
            "Albania",
            "Austria",
            "Belgium",
            "Bosnia and Herzegovina",
            "Bulgaria",
            "Croatia",
            "Czech Republic",
            "Denmark",
            "Finland",
            "France",
            "Germany",
            "Greece",
            "Hungary",
            "Iceland",
            "Ireland",
            "Italy",
            "Montenegro",
            "Netherlands",
            "Norway",
            "Poland",
            "Portugal",
            "Romania",
            "Serbia",
            "Slovak Republic",
            "Slovenia",
            "Spain",
            "Sweden",
            "Switzerland",
            "Turkey",
            "United Kingdom"
           ],
           "legendgroup": "Europe",
           "marker": {
            "color": "#EF553B",
            "size": {
             "bdata": "i/A2AGcefQCikp4ABnZFAOq8bwAAkEQACBScANhvUwC87k8ADBGkA+RW6QRyXaMADOuXAGubBAAesz4AlUN3A8ByCgD12PwA1p1GAOG9SwKUZaIA2OdTAXnhmgBOH1MAnageAL8waQKwzYkAZUZzAHfLPQQuX58D",
             "dtype": "i4"
            },
            "sizemode": "area",
            "sizeref": 435928.2961983471,
            "symbol": "circle"
           },
           "mode": "markers",
           "name": "Europe",
           "orientation": "v",
           "showlegend": true,
           "type": "scatter",
           "x": {
            "bdata": "YBQEjwcxt0BYyjLEz6PhQG+70FyTc+BA8nhafkwWvUDPMSB7ZdzEQBTGFoKcjcxAH7qgvlNM1kCxbVFmzTnhQPmgZ7PiNuBAduCcEYHB3UC+TX/2l2rfQHjuPVya5NpAQni0cTyW0UALYwtBmarhQCxlGeJ/3ONAvJaQD27m20BL58Oz8hLCQJbnwd299+FAVmXfFaYZ6ECjC+pb9g7OQFVNEHVpB9RA09nJ4DwcxUBbI4JxRB3DQGB2Tx6UPdJAcsRafBAq2UAwKqkTRCXcQP+ye/J3iOBAGH0FaU1Q4kCSCI1gI4XAQOPfZ1xoNuBA",
            "dtype": "f8"
           },
           "xaxis": "x",
           "y": {
            "bdata": "UI2XbhIbU0CTGARWDvVTQE5iEFg53FNASgwCK4e2UkC4HoXrUUBSQB1aZDvf71JAyXa+nxofU0Boke18P5VTQHnpJjEI1FNANV66SQwqVEBEi2zn+9lTQPT91Hjp3lNAFIPAyqFVUkCcxCCwcnBUQHE9CtejuFNAbef7qfEiVECYbhKDwKJSQFTjpZvE8FNABoGVQ4sMVEB56SYxCORSQIPAyqFFhlNAWDm0yHYeUkDjpZvEIIBSQN9PjZduqlJAJQaBlUN7U0BOYhBYOTxUQH9qvHSTOFRAwJ8aL91sVEB9PzVeuvFRQDMzMzMz21NA",
            "dtype": "f8"
           },
           "yaxis": "y"
          },
          {
           "hovertemplate": "<b>%{hovertext}</b><br><br>continent=Africa<br>year=2007<br>gdpPercap=%{x}<br>lifeExp=%{y}<br>pop=%{marker.size}<extra></extra>",
           "hovertext": [
            "Algeria",
            "Angola",
            "Benin",
            "Botswana",
            "Burkina Faso",
            "Burundi",
            "Cameroon",
            "Central African Republic",
            "Chad",
            "Comoros",
            "Congo, Dem. Rep.",
            "Congo, Rep.",
            "Cote d'Ivoire",
            "Djibouti",
            "Egypt",
            "Equatorial Guinea",
            "Eritrea",
            "Ethiopia",
            "Gabon",
            "Gambia",
            "Ghana",
            "Guinea",
            "Guinea-Bissau",
            "Kenya",
            "Lesotho",
            "Liberia",
            "Libya",
            "Madagascar",
            "Malawi",
            "Mali",
            "Mauritania",
            "Mauritius",
            "Morocco",
            "Mozambique",
            "Namibia",
            "Niger",
            "Nigeria",
            "Reunion",
            "Rwanda",
            "Sao Tome and Principe",
            "Senegal",
            "Sierra Leone",
            "Somalia",
            "South Africa",
            "Sudan",
            "Swaziland",
            "Tanzania",
            "Togo",
            "Tunisia",
            "Uganda",
            "Zambia",
            "Zimbabwe"
           ],
           "ids": [
            "Algeria",
            "Angola",
            "Benin",
            "Botswana",
            "Burkina Faso",
            "Burundi",
            "Cameroon",
            "Central African Republic",
            "Chad",
            "Comoros",
            "Congo, Dem. Rep.",
            "Congo, Rep.",
            "Cote d'Ivoire",
            "Djibouti",
            "Egypt",
            "Equatorial Guinea",
            "Eritrea",
            "Ethiopia",
            "Gabon",
            "Gambia",
            "Ghana",
            "Guinea",
            "Guinea-Bissau",
            "Kenya",
            "Lesotho",
            "Liberia",
            "Libya",
            "Madagascar",
            "Malawi",
            "Mali",
            "Mauritania",
            "Mauritius",
            "Morocco",
            "Mozambique",
            "Namibia",
            "Niger",
            "Nigeria",
            "Reunion",
            "Rwanda",
            "Sao Tome and Principe",
            "Senegal",
            "Sierra Leone",
            "Somalia",
            "South Africa",
            "Sudan",
            "Swaziland",
            "Tanzania",
            "Togo",
            "Tunisia",
            "Uganda",
            "Zambia",
            "Zimbabwe"
           ],
           "legendgroup": "Africa",
           "marker": {
            "color": "#00cc96",
            "size": {
             "bdata": "4J/8AXyFvQDqQ3sA2wIZALuZ2gBpB4AAJQYOAY6qQgBXO5wAMNkKACfS2QMi/jkA4dwSAfaSBwBfvcgEIWkIAFneSgCPeo8EEzMWACfDGQD6BF0BpsqXACl2FgBBXh8C6bUeAFa8MACyHVwApnkkAedaywAzl7cAseUxAEIWEwD3FwMCKHAwAahbHwCRwsQAfGkMCI4tDACsM4cAmwsDAOUvuwAywl0ANSSLAIRanwLBVoUCCkoRAPj2RQLL/1YAPs2cAN4avQHzOrMAZ9q7AA==",
             "dtype": "i4"
            },
            "sizemode": "area",
            "sizeref": 435928.2961983471,
            "symbol": "circle"
           },
           "mode": "markers",
           "name": "Africa",
           "orientation": "v",
           "showlegend": true,
           "type": "scatter",
           "x": {
            "bdata": "ba0vEl5PuEClaVA0O72yQA5qv7UjhZZA26LMBu2MyEDb2y3JIQSTQKHhg40h4XpAFjWYhmHon0BkkSbeIRCGQOI/3UBBoJpAEj5K2y7RjkA2yMlp1FhxQIwPs5cdYaxAWTFcHQAjmECsJ/OP9kSgQKSK4lUuzbVAaJHtfAu9x0DPCMrI9AqEQJEHx9FxloVAIVnABD7LyUCOc5tw/4WHQNRgGoZvvpRAcXkH0zt1jUCc8BKc2hmCQO3Vx0P/3JZAFRqIZVOFmEB15h4SHuh5QMYzaOi/jMdAMv/omxRTkEBSoKqdzLqHQAqfrYNTSpBA5nXEIZssnEA1KQXdfmbFQI4ev7dZ2K1AvceZJny9iUC7YkZ4D8uyQEgHkEZqXYNA3lSkwuh3n0DdCfZfH/a9QAWrjyy1+IpAZof4h735mEAPnZ5348GaQOgk73dT9IpABbhq6CDxjECGcw0z1BrCQCveyDzKVKRADW5rC3uhsUDhQh7B7U2RQKkf5XHCl4tAZMxdS+y0u0AXfnA+hYGQQEDc1avY3JNA2On2SFlbfUA=",
            "dtype": "f8"
           },
           "xaxis": "x",
           "y": {
            "bdata": "JQaBlUMTUkAhsHJokV1FQHe+nxovXUxAd76fGi9dSUD2KFyPwiVKQArXo3A9ykhA16NwPQo3SUADK4cW2V5GQBfZzvdTU0lAfT81XrpJUEBCYOXQIjtHQPCnxks3qUtARIts5/spSEBoke18P2VLQBSDwMqh1VFAJjEIrBzKSUCF61G4HgVNQPCnxks3eUpArkfhehReTEDTTWIQWLlNQIlBYOXQAk5AN4lBYOUATECNbOf7qTFHQK5H4XoUDktAsp3vp8ZLRUAQWDm0yNZGQLByaJHtfFJAZBBYObS4TUAQWDm0yCZIQLKd76fGO0tA0SLb+X4KUEAlBoGVQzNSQNEi2/l+ylFA0SLb+X4KRUCJFtnO93NKQOXQItv5bkxAy6FFtvNtR0A/NV66SRxTQOXQItv5HkdAbxKDwMphUEAOLbKd74dPQGQQWDm0SEVAMQisHFoUSEAIrBxaZKtIQLpJDAIrR01AWDm0yHbOQ0AZBFYOLUJKQPYoXI/CNU1AUI2XbhJ7UkBMN4lBYMVJQP3UeOkmMUVAdZMYBFa+RUA=",
            "dtype": "f8"
           },
           "yaxis": "y"
          },
          {
           "hovertemplate": "<b>%{hovertext}</b><br><br>continent=Americas<br>year=2007<br>gdpPercap=%{x}<br>lifeExp=%{y}<br>pop=%{marker.size}<extra></extra>",
           "hovertext": [
            "Argentina",
            "Bolivia",
            "Brazil",
            "Canada",
            "Chile",
            "Colombia",
            "Costa Rica",
            "Cuba",
            "Dominican Republic",
            "Ecuador",
            "El Salvador",
            "Guatemala",
            "Haiti",
            "Honduras",
            "Jamaica",
            "Mexico",
            "Nicaragua",
            "Panama",
            "Paraguay",
            "Peru",
            "Puerto Rico",
            "Trinidad and Tobago",
            "United States",
            "Uruguay",
            "Venezuela"
           ],
           "ids": [
            "Argentina",
            "Bolivia",
            "Brazil",
            "Canada",
            "Chile",
            "Colombia",
            "Costa Rica",
            "Cuba",
            "Dominican Republic",
            "Ecuador",
            "El Salvador",
            "Guatemala",
            "Haiti",
            "Honduras",
            "Jamaica",
            "Mexico",
            "Nicaragua",
            "Panama",
            "Paraguay",
            "Peru",
            "Puerto Rico",
            "Trinidad and Tobago",
            "United States",
            "Uruguay",
            "Venezuela"
           ],
           "legendgroup": "Americas",
           "marker": {
            "color": "#ab63fa",
            "size": {
             "bdata": "Z/VmArAliwAXVVMLPX79AUV8+ADe26IC/BM/AJs1rgDGNI4AIOXRACjkaQAA2b8AHr6BAHMxcgDkayoA26R6BlyZVgC9eDEAi7tlAMWKtQFbKDwAYB8QAOsH8xHImjQANgWOAQ==",
             "dtype": "i4"
            },
            "sizemode": "area",
            "sizeref": 435928.2961983471,
            "symbol": "circle"
           },
           "mode": "markers",
           "name": "Americas",
           "orientation": "v",
           "showlegend": true,
           "type": "scatter",
           "x": {
            "bdata": "ICQLmLD1yECcwd8vRtytQGkAb4HmtMFAB7Ezhee74UCGONbF0bnJQPruVpaUXrtAqU2c3IfWwkCBs5QsDXrBQB5Av+9fibdA5fbLJ0PZukCuvOR/WmC2QLQh/8wMQrRAECIZcozGkkAInKVkqbirQOu12VjhmLxAQQ5KmMlkx0BSRIZVpHqlQHui68KXKMNA4KKTpdZMsECIf9jS5/C8QKJ6a2At4NJAdF5jlyCW0UDr/xzm9PjkQDCeQUO7ucRAW5TZIOdLxkA=",
            "dtype": "f8"
           },
           "xaxis": "x",
           "y": {
            "bdata": "FK5H4XrUUkD6fmq8dGNQQClcj8L1GFJAbxKDwMopVEAIrBxaZKNTQDeJQWDlOFJANV66SQyyU0C28/3UeJFTQNejcD0KD1JAVg4tsp2/UkDVeOkmMfhRQH9qvHSTkFFAaJHtfD91TkDqJjEIrIxRQD81XrpJJFJAFK5H4XoMU0Coxks3iTlSQOx8PzVe4lJA46WbxCDwUUBt5/up8dpRQDu0yHa+r1NAI9v5fmp0UUBzaJHtfI9TQH9qvHSTGFNAK4cW2c5vUkA=",
            "dtype": "f8"
           },
           "yaxis": "y"
          },
          {
           "hovertemplate": "<b>%{hovertext}</b><br><br>continent=Oceania<br>year=2007<br>gdpPercap=%{x}<br>lifeExp=%{y}<br>pop=%{marker.size}<extra></extra>",
           "hovertext": [
            "Australia",
            "New Zealand"
           ],
           "ids": [
            "Australia",
            "New Zealand"
           ],
           "legendgroup": "Oceania",
           "marker": {
            "color": "#FFA15A",
            "size": {
             "bdata": "AM03ATvNPgA=",
             "dtype": "i4"
            },
            "sizemode": "area",
            "sizeref": 435928.2961983471,
            "symbol": "circle"
           },
           "mode": "markers",
           "name": "Oceania",
           "orientation": "v",
           "showlegend": true,
           "type": "scatter",
           "x": {
            "bdata": "54cRwmvQ4EAEHEKVQJjYQA==",
            "dtype": "f8"
           },
           "xaxis": "x",
           "y": {
            "bdata": "16NwPQpPVECTGARWDg1UQA==",
            "dtype": "f8"
           },
           "yaxis": "y"
          }
         ],
         "name": "2007"
        }
       ],
       "layout": {
        "legend": {
         "itemsizing": "constant",
         "title": {
          "text": "continent"
         },
         "tracegroupgap": 0
        },
        "margin": {
         "t": 60
        },
        "sliders": [
         {
          "active": 0,
          "currentvalue": {
           "prefix": "year="
          },
          "len": 0.9,
          "pad": {
           "b": 10,
           "t": 60
          },
          "steps": [
           {
            "args": [
             [
              "1952"
             ],
             {
              "frame": {
               "duration": 0,
               "redraw": false
              },
              "fromcurrent": true,
              "mode": "immediate",
              "transition": {
               "duration": 0,
               "easing": "linear"
              }
             }
            ],
            "label": "1952",
            "method": "animate"
           },
           {
            "args": [
             [
              "1957"
             ],
             {
              "frame": {
               "duration": 0,
               "redraw": false
              },
              "fromcurrent": true,
              "mode": "immediate",
              "transition": {
               "duration": 0,
               "easing": "linear"
              }
             }
            ],
            "label": "1957",
            "method": "animate"
           },
           {
            "args": [
             [
              "1962"
             ],
             {
              "frame": {
               "duration": 0,
               "redraw": false
              },
              "fromcurrent": true,
              "mode": "immediate",
              "transition": {
               "duration": 0,
               "easing": "linear"
              }
             }
            ],
            "label": "1962",
            "method": "animate"
           },
           {
            "args": [
             [
              "1967"
             ],
             {
              "frame": {
               "duration": 0,
               "redraw": false
              },
              "fromcurrent": true,
              "mode": "immediate",
              "transition": {
               "duration": 0,
               "easing": "linear"
              }
             }
            ],
            "label": "1967",
            "method": "animate"
           },
           {
            "args": [
             [
              "1972"
             ],
             {
              "frame": {
               "duration": 0,
               "redraw": false
              },
              "fromcurrent": true,
              "mode": "immediate",
              "transition": {
               "duration": 0,
               "easing": "linear"
              }
             }
            ],
            "label": "1972",
            "method": "animate"
           },
           {
            "args": [
             [
              "1977"
             ],
             {
              "frame": {
               "duration": 0,
               "redraw": false
              },
              "fromcurrent": true,
              "mode": "immediate",
              "transition": {
               "duration": 0,
               "easing": "linear"
              }
             }
            ],
            "label": "1977",
            "method": "animate"
           },
           {
            "args": [
             [
              "1982"
             ],
             {
              "frame": {
               "duration": 0,
               "redraw": false
              },
              "fromcurrent": true,
              "mode": "immediate",
              "transition": {
               "duration": 0,
               "easing": "linear"
              }
             }
            ],
            "label": "1982",
            "method": "animate"
           },
           {
            "args": [
             [
              "1987"
             ],
             {
              "frame": {
               "duration": 0,
               "redraw": false
              },
              "fromcurrent": true,
              "mode": "immediate",
              "transition": {
               "duration": 0,
               "easing": "linear"
              }
             }
            ],
            "label": "1987",
            "method": "animate"
           },
           {
            "args": [
             [
              "1992"
             ],
             {
              "frame": {
               "duration": 0,
               "redraw": false
              },
              "fromcurrent": true,
              "mode": "immediate",
              "transition": {
               "duration": 0,
               "easing": "linear"
              }
             }
            ],
            "label": "1992",
            "method": "animate"
           },
           {
            "args": [
             [
              "1997"
             ],
             {
              "frame": {
               "duration": 0,
               "redraw": false
              },
              "fromcurrent": true,
              "mode": "immediate",
              "transition": {
               "duration": 0,
               "easing": "linear"
              }
             }
            ],
            "label": "1997",
            "method": "animate"
           },
           {
            "args": [
             [
              "2002"
             ],
             {
              "frame": {
               "duration": 0,
               "redraw": false
              },
              "fromcurrent": true,
              "mode": "immediate",
              "transition": {
               "duration": 0,
               "easing": "linear"
              }
             }
            ],
            "label": "2002",
            "method": "animate"
           },
           {
            "args": [
             [
              "2007"
             ],
             {
              "frame": {
               "duration": 0,
               "redraw": false
              },
              "fromcurrent": true,
              "mode": "immediate",
              "transition": {
               "duration": 0,
               "easing": "linear"
              }
             }
            ],
            "label": "2007",
            "method": "animate"
           }
          ],
          "x": 0.1,
          "xanchor": "left",
          "y": 0,
          "yanchor": "top"
         }
        ],
        "template": {
         "data": {
          "bar": [
           {
            "error_x": {
             "color": "#2a3f5f"
            },
            "error_y": {
             "color": "#2a3f5f"
            },
            "marker": {
             "line": {
              "color": "#E5ECF6",
              "width": 0.5
             },
             "pattern": {
              "fillmode": "overlay",
              "size": 10,
              "solidity": 0.2
             }
            },
            "type": "bar"
           }
          ],
          "barpolar": [
           {
            "marker": {
             "line": {
              "color": "#E5ECF6",
              "width": 0.5
             },
             "pattern": {
              "fillmode": "overlay",
              "size": 10,
              "solidity": 0.2
             }
            },
            "type": "barpolar"
           }
          ],
          "carpet": [
           {
            "aaxis": {
             "endlinecolor": "#2a3f5f",
             "gridcolor": "white",
             "linecolor": "white",
             "minorgridcolor": "white",
             "startlinecolor": "#2a3f5f"
            },
            "baxis": {
             "endlinecolor": "#2a3f5f",
             "gridcolor": "white",
             "linecolor": "white",
             "minorgridcolor": "white",
             "startlinecolor": "#2a3f5f"
            },
            "type": "carpet"
           }
          ],
          "choropleth": [
           {
            "colorbar": {
             "outlinewidth": 0,
             "ticks": ""
            },
            "type": "choropleth"
           }
          ],
          "contour": [
           {
            "colorbar": {
             "outlinewidth": 0,
             "ticks": ""
            },
            "colorscale": [
             [
              0,
              "#0d0887"
             ],
             [
              0.1111111111111111,
              "#46039f"
             ],
             [
              0.2222222222222222,
              "#7201a8"
             ],
             [
              0.3333333333333333,
              "#9c179e"
             ],
             [
              0.4444444444444444,
              "#bd3786"
             ],
             [
              0.5555555555555556,
              "#d8576b"
             ],
             [
              0.6666666666666666,
              "#ed7953"
             ],
             [
              0.7777777777777778,
              "#fb9f3a"
             ],
             [
              0.8888888888888888,
              "#fdca26"
             ],
             [
              1,
              "#f0f921"
             ]
            ],
            "type": "contour"
           }
          ],
          "contourcarpet": [
           {
            "colorbar": {
             "outlinewidth": 0,
             "ticks": ""
            },
            "type": "contourcarpet"
           }
          ],
          "heatmap": [
           {
            "colorbar": {
             "outlinewidth": 0,
             "ticks": ""
            },
            "colorscale": [
             [
              0,
              "#0d0887"
             ],
             [
              0.1111111111111111,
              "#46039f"
             ],
             [
              0.2222222222222222,
              "#7201a8"
             ],
             [
              0.3333333333333333,
              "#9c179e"
             ],
             [
              0.4444444444444444,
              "#bd3786"
             ],
             [
              0.5555555555555556,
              "#d8576b"
             ],
             [
              0.6666666666666666,
              "#ed7953"
             ],
             [
              0.7777777777777778,
              "#fb9f3a"
             ],
             [
              0.8888888888888888,
              "#fdca26"
             ],
             [
              1,
              "#f0f921"
             ]
            ],
            "type": "heatmap"
           }
          ],
          "histogram": [
           {
            "marker": {
             "pattern": {
              "fillmode": "overlay",
              "size": 10,
              "solidity": 0.2
             }
            },
            "type": "histogram"
           }
          ],
          "histogram2d": [
           {
            "colorbar": {
             "outlinewidth": 0,
             "ticks": ""
            },
            "colorscale": [
             [
              0,
              "#0d0887"
             ],
             [
              0.1111111111111111,
              "#46039f"
             ],
             [
              0.2222222222222222,
              "#7201a8"
             ],
             [
              0.3333333333333333,
              "#9c179e"
             ],
             [
              0.4444444444444444,
              "#bd3786"
             ],
             [
              0.5555555555555556,
              "#d8576b"
             ],
             [
              0.6666666666666666,
              "#ed7953"
             ],
             [
              0.7777777777777778,
              "#fb9f3a"
             ],
             [
              0.8888888888888888,
              "#fdca26"
             ],
             [
              1,
              "#f0f921"
             ]
            ],
            "type": "histogram2d"
           }
          ],
          "histogram2dcontour": [
           {
            "colorbar": {
             "outlinewidth": 0,
             "ticks": ""
            },
            "colorscale": [
             [
              0,
              "#0d0887"
             ],
             [
              0.1111111111111111,
              "#46039f"
             ],
             [
              0.2222222222222222,
              "#7201a8"
             ],
             [
              0.3333333333333333,
              "#9c179e"
             ],
             [
              0.4444444444444444,
              "#bd3786"
             ],
             [
              0.5555555555555556,
              "#d8576b"
             ],
             [
              0.6666666666666666,
              "#ed7953"
             ],
             [
              0.7777777777777778,
              "#fb9f3a"
             ],
             [
              0.8888888888888888,
              "#fdca26"
             ],
             [
              1,
              "#f0f921"
             ]
            ],
            "type": "histogram2dcontour"
           }
          ],
          "mesh3d": [
           {
            "colorbar": {
             "outlinewidth": 0,
             "ticks": ""
            },
            "type": "mesh3d"
           }
          ],
          "parcoords": [
           {
            "line": {
             "colorbar": {
              "outlinewidth": 0,
              "ticks": ""
             }
            },
            "type": "parcoords"
           }
          ],
          "pie": [
           {
            "automargin": true,
            "type": "pie"
           }
          ],
          "scatter": [
           {
            "fillpattern": {
             "fillmode": "overlay",
             "size": 10,
             "solidity": 0.2
            },
            "type": "scatter"
           }
          ],
          "scatter3d": [
           {
            "line": {
             "colorbar": {
              "outlinewidth": 0,
              "ticks": ""
             }
            },
            "marker": {
             "colorbar": {
              "outlinewidth": 0,
              "ticks": ""
             }
            },
            "type": "scatter3d"
           }
          ],
          "scattercarpet": [
           {
            "marker": {
             "colorbar": {
              "outlinewidth": 0,
              "ticks": ""
             }
            },
            "type": "scattercarpet"
           }
          ],
          "scattergeo": [
           {
            "marker": {
             "colorbar": {
              "outlinewidth": 0,
              "ticks": ""
             }
            },
            "type": "scattergeo"
           }
          ],
          "scattergl": [
           {
            "marker": {
             "colorbar": {
              "outlinewidth": 0,
              "ticks": ""
             }
            },
            "type": "scattergl"
           }
          ],
          "scattermap": [
           {
            "marker": {
             "colorbar": {
              "outlinewidth": 0,
              "ticks": ""
             }
            },
            "type": "scattermap"
           }
          ],
          "scattermapbox": [
           {
            "marker": {
             "colorbar": {
              "outlinewidth": 0,
              "ticks": ""
             }
            },
            "type": "scattermapbox"
           }
          ],
          "scatterpolar": [
           {
            "marker": {
             "colorbar": {
              "outlinewidth": 0,
              "ticks": ""
             }
            },
            "type": "scatterpolar"
           }
          ],
          "scatterpolargl": [
           {
            "marker": {
             "colorbar": {
              "outlinewidth": 0,
              "ticks": ""
             }
            },
            "type": "scatterpolargl"
           }
          ],
          "scatterternary": [
           {
            "marker": {
             "colorbar": {
              "outlinewidth": 0,
              "ticks": ""
             }
            },
            "type": "scatterternary"
           }
          ],
          "surface": [
           {
            "colorbar": {
             "outlinewidth": 0,
             "ticks": ""
            },
            "colorscale": [
             [
              0,
              "#0d0887"
             ],
             [
              0.1111111111111111,
              "#46039f"
             ],
             [
              0.2222222222222222,
              "#7201a8"
             ],
             [
              0.3333333333333333,
              "#9c179e"
             ],
             [
              0.4444444444444444,
              "#bd3786"
             ],
             [
              0.5555555555555556,
              "#d8576b"
             ],
             [
              0.6666666666666666,
              "#ed7953"
             ],
             [
              0.7777777777777778,
              "#fb9f3a"
             ],
             [
              0.8888888888888888,
              "#fdca26"
             ],
             [
              1,
              "#f0f921"
             ]
            ],
            "type": "surface"
           }
          ],
          "table": [
           {
            "cells": {
             "fill": {
              "color": "#EBF0F8"
             },
             "line": {
              "color": "white"
             }
            },
            "header": {
             "fill": {
              "color": "#C8D4E3"
             },
             "line": {
              "color": "white"
             }
            },
            "type": "table"
           }
          ]
         },
         "layout": {
          "annotationdefaults": {
           "arrowcolor": "#2a3f5f",
           "arrowhead": 0,
           "arrowwidth": 1
          },
          "autotypenumbers": "strict",
          "coloraxis": {
           "colorbar": {
            "outlinewidth": 0,
            "ticks": ""
           }
          },
          "colorscale": {
           "diverging": [
            [
             0,
             "#8e0152"
            ],
            [
             0.1,
             "#c51b7d"
            ],
            [
             0.2,
             "#de77ae"
            ],
            [
             0.3,
             "#f1b6da"
            ],
            [
             0.4,
             "#fde0ef"
            ],
            [
             0.5,
             "#f7f7f7"
            ],
            [
             0.6,
             "#e6f5d0"
            ],
            [
             0.7,
             "#b8e186"
            ],
            [
             0.8,
             "#7fbc41"
            ],
            [
             0.9,
             "#4d9221"
            ],
            [
             1,
             "#276419"
            ]
           ],
           "sequential": [
            [
             0,
             "#0d0887"
            ],
            [
             0.1111111111111111,
             "#46039f"
            ],
            [
             0.2222222222222222,
             "#7201a8"
            ],
            [
             0.3333333333333333,
             "#9c179e"
            ],
            [
             0.4444444444444444,
             "#bd3786"
            ],
            [
             0.5555555555555556,
             "#d8576b"
            ],
            [
             0.6666666666666666,
             "#ed7953"
            ],
            [
             0.7777777777777778,
             "#fb9f3a"
            ],
            [
             0.8888888888888888,
             "#fdca26"
            ],
            [
             1,
             "#f0f921"
            ]
           ],
           "sequentialminus": [
            [
             0,
             "#0d0887"
            ],
            [
             0.1111111111111111,
             "#46039f"
            ],
            [
             0.2222222222222222,
             "#7201a8"
            ],
            [
             0.3333333333333333,
             "#9c179e"
            ],
            [
             0.4444444444444444,
             "#bd3786"
            ],
            [
             0.5555555555555556,
             "#d8576b"
            ],
            [
             0.6666666666666666,
             "#ed7953"
            ],
            [
             0.7777777777777778,
             "#fb9f3a"
            ],
            [
             0.8888888888888888,
             "#fdca26"
            ],
            [
             1,
             "#f0f921"
            ]
           ]
          },
          "colorway": [
           "#636efa",
           "#EF553B",
           "#00cc96",
           "#ab63fa",
           "#FFA15A",
           "#19d3f3",
           "#FF6692",
           "#B6E880",
           "#FF97FF",
           "#FECB52"
          ],
          "font": {
           "color": "#2a3f5f"
          },
          "geo": {
           "bgcolor": "white",
           "lakecolor": "white",
           "landcolor": "#E5ECF6",
           "showlakes": true,
           "showland": true,
           "subunitcolor": "white"
          },
          "hoverlabel": {
           "align": "left"
          },
          "hovermode": "closest",
          "mapbox": {
           "style": "light"
          },
          "paper_bgcolor": "white",
          "plot_bgcolor": "#E5ECF6",
          "polar": {
           "angularaxis": {
            "gridcolor": "white",
            "linecolor": "white",
            "ticks": ""
           },
           "bgcolor": "#E5ECF6",
           "radialaxis": {
            "gridcolor": "white",
            "linecolor": "white",
            "ticks": ""
           }
          },
          "scene": {
           "xaxis": {
            "backgroundcolor": "#E5ECF6",
            "gridcolor": "white",
            "gridwidth": 2,
            "linecolor": "white",
            "showbackground": true,
            "ticks": "",
            "zerolinecolor": "white"
           },
           "yaxis": {
            "backgroundcolor": "#E5ECF6",
            "gridcolor": "white",
            "gridwidth": 2,
            "linecolor": "white",
            "showbackground": true,
            "ticks": "",
            "zerolinecolor": "white"
           },
           "zaxis": {
            "backgroundcolor": "#E5ECF6",
            "gridcolor": "white",
            "gridwidth": 2,
            "linecolor": "white",
            "showbackground": true,
            "ticks": "",
            "zerolinecolor": "white"
           }
          },
          "shapedefaults": {
           "line": {
            "color": "#2a3f5f"
           }
          },
          "ternary": {
           "aaxis": {
            "gridcolor": "white",
            "linecolor": "white",
            "ticks": ""
           },
           "baxis": {
            "gridcolor": "white",
            "linecolor": "white",
            "ticks": ""
           },
           "bgcolor": "#E5ECF6",
           "caxis": {
            "gridcolor": "white",
            "linecolor": "white",
            "ticks": ""
           }
          },
          "title": {
           "x": 0.05
          },
          "xaxis": {
           "automargin": true,
           "gridcolor": "white",
           "linecolor": "white",
           "ticks": "",
           "title": {
            "standoff": 15
           },
           "zerolinecolor": "white",
           "zerolinewidth": 2
          },
          "yaxis": {
           "automargin": true,
           "gridcolor": "white",
           "linecolor": "white",
           "ticks": "",
           "title": {
            "standoff": 15
           },
           "zerolinecolor": "white",
           "zerolinewidth": 2
          }
         }
        },
        "updatemenus": [
         {
          "buttons": [
           {
            "args": [
             null,
             {
              "frame": {
               "duration": 500,
               "redraw": false
              },
              "fromcurrent": true,
              "mode": "immediate",
              "transition": {
               "duration": 500,
               "easing": "linear"
              }
             }
            ],
            "label": "&#9654;",
            "method": "animate"
           },
           {
            "args": [
             [
              null
             ],
             {
              "frame": {
               "duration": 0,
               "redraw": false
              },
              "fromcurrent": true,
              "mode": "immediate",
              "transition": {
               "duration": 0,
               "easing": "linear"
              }
             }
            ],
            "label": "&#9724;",
            "method": "animate"
           }
          ],
          "direction": "left",
          "pad": {
           "r": 10,
           "t": 70
          },
          "showactive": false,
          "type": "buttons",
          "x": 0.1,
          "xanchor": "right",
          "y": 0,
          "yanchor": "top"
         }
        ],
        "xaxis": {
         "anchor": "y",
         "domain": [
          0,
          1
         ],
         "range": [
          2,
          5
         ],
         "title": {
          "text": "gdpPercap"
         },
         "type": "log"
        },
        "yaxis": {
         "anchor": "x",
         "domain": [
          0,
          1
         ],
         "range": [
          25,
          90
         ],
         "title": {
          "text": "lifeExp"
         }
        }
       }
      }
     },
     "metadata": {},
     "output_type": "display_data"
    }
   ],
   "source": [
    "import plotly.express as px\n",
    "df = px.data.gapminder()\n",
    "px.scatter(df, x=\"gdpPercap\", y=\"lifeExp\", animation_frame=\"year\", animation_group=\"country\",\n",
    "           size=\"pop\", color=\"continent\", hover_name=\"country\",\n",
    "           log_x=True, size_max=55, range_x=[100,100000], range_y=[25,90])"
   ]
  },
  {
   "cell_type": "code",
   "execution_count": 26,
   "id": "bc745a8d",
   "metadata": {},
   "outputs": [
    {
     "data": {
      "application/vnd.microsoft.datawrangler.viewer.v0+json": {
       "columns": [
        {
         "name": "index",
         "rawType": "int64",
         "type": "integer"
        },
        {
         "name": "country",
         "rawType": "object",
         "type": "string"
        },
        {
         "name": "continent",
         "rawType": "object",
         "type": "string"
        },
        {
         "name": "year",
         "rawType": "int64",
         "type": "integer"
        },
        {
         "name": "lifeExp",
         "rawType": "float64",
         "type": "float"
        },
        {
         "name": "pop",
         "rawType": "int64",
         "type": "integer"
        },
        {
         "name": "gdpPercap",
         "rawType": "float64",
         "type": "float"
        },
        {
         "name": "iso_alpha",
         "rawType": "object",
         "type": "string"
        },
        {
         "name": "iso_num",
         "rawType": "int64",
         "type": "integer"
        }
       ],
       "ref": "8c79a79a-dcff-4a59-b075-7a1197a26250",
       "rows": [
        [
         "0",
         "Afghanistan",
         "Asia",
         "1952",
         "28.801",
         "8425333",
         "779.4453145",
         "AFG",
         "4"
        ],
        [
         "1",
         "Afghanistan",
         "Asia",
         "1957",
         "30.332",
         "9240934",
         "820.8530296",
         "AFG",
         "4"
        ],
        [
         "2",
         "Afghanistan",
         "Asia",
         "1962",
         "31.997",
         "10267083",
         "853.1007099999998",
         "AFG",
         "4"
        ],
        [
         "3",
         "Afghanistan",
         "Asia",
         "1967",
         "34.02",
         "11537966",
         "836.1971382",
         "AFG",
         "4"
        ],
        [
         "4",
         "Afghanistan",
         "Asia",
         "1972",
         "36.088",
         "13079460",
         "739.9811057999998",
         "AFG",
         "4"
        ]
       ],
       "shape": {
        "columns": 8,
        "rows": 5
       }
      },
      "text/html": [
       "<div>\n",
       "<style scoped>\n",
       "    .dataframe tbody tr th:only-of-type {\n",
       "        vertical-align: middle;\n",
       "    }\n",
       "\n",
       "    .dataframe tbody tr th {\n",
       "        vertical-align: top;\n",
       "    }\n",
       "\n",
       "    .dataframe thead th {\n",
       "        text-align: right;\n",
       "    }\n",
       "</style>\n",
       "<table border=\"1\" class=\"dataframe\">\n",
       "  <thead>\n",
       "    <tr style=\"text-align: right;\">\n",
       "      <th></th>\n",
       "      <th>country</th>\n",
       "      <th>continent</th>\n",
       "      <th>year</th>\n",
       "      <th>lifeExp</th>\n",
       "      <th>pop</th>\n",
       "      <th>gdpPercap</th>\n",
       "      <th>iso_alpha</th>\n",
       "      <th>iso_num</th>\n",
       "    </tr>\n",
       "  </thead>\n",
       "  <tbody>\n",
       "    <tr>\n",
       "      <th>0</th>\n",
       "      <td>Afghanistan</td>\n",
       "      <td>Asia</td>\n",
       "      <td>1952</td>\n",
       "      <td>28.801</td>\n",
       "      <td>8425333</td>\n",
       "      <td>779.445314</td>\n",
       "      <td>AFG</td>\n",
       "      <td>4</td>\n",
       "    </tr>\n",
       "    <tr>\n",
       "      <th>1</th>\n",
       "      <td>Afghanistan</td>\n",
       "      <td>Asia</td>\n",
       "      <td>1957</td>\n",
       "      <td>30.332</td>\n",
       "      <td>9240934</td>\n",
       "      <td>820.853030</td>\n",
       "      <td>AFG</td>\n",
       "      <td>4</td>\n",
       "    </tr>\n",
       "    <tr>\n",
       "      <th>2</th>\n",
       "      <td>Afghanistan</td>\n",
       "      <td>Asia</td>\n",
       "      <td>1962</td>\n",
       "      <td>31.997</td>\n",
       "      <td>10267083</td>\n",
       "      <td>853.100710</td>\n",
       "      <td>AFG</td>\n",
       "      <td>4</td>\n",
       "    </tr>\n",
       "    <tr>\n",
       "      <th>3</th>\n",
       "      <td>Afghanistan</td>\n",
       "      <td>Asia</td>\n",
       "      <td>1967</td>\n",
       "      <td>34.020</td>\n",
       "      <td>11537966</td>\n",
       "      <td>836.197138</td>\n",
       "      <td>AFG</td>\n",
       "      <td>4</td>\n",
       "    </tr>\n",
       "    <tr>\n",
       "      <th>4</th>\n",
       "      <td>Afghanistan</td>\n",
       "      <td>Asia</td>\n",
       "      <td>1972</td>\n",
       "      <td>36.088</td>\n",
       "      <td>13079460</td>\n",
       "      <td>739.981106</td>\n",
       "      <td>AFG</td>\n",
       "      <td>4</td>\n",
       "    </tr>\n",
       "  </tbody>\n",
       "</table>\n",
       "</div>"
      ],
      "text/plain": [
       "       country continent  year  lifeExp       pop   gdpPercap iso_alpha  \\\n",
       "0  Afghanistan      Asia  1952   28.801   8425333  779.445314       AFG   \n",
       "1  Afghanistan      Asia  1957   30.332   9240934  820.853030       AFG   \n",
       "2  Afghanistan      Asia  1962   31.997  10267083  853.100710       AFG   \n",
       "3  Afghanistan      Asia  1967   34.020  11537966  836.197138       AFG   \n",
       "4  Afghanistan      Asia  1972   36.088  13079460  739.981106       AFG   \n",
       "\n",
       "   iso_num  \n",
       "0        4  \n",
       "1        4  \n",
       "2        4  \n",
       "3        4  \n",
       "4        4  "
      ]
     },
     "execution_count": 26,
     "metadata": {},
     "output_type": "execute_result"
    }
   ],
   "source": [
    "df.head()"
   ]
  },
  {
   "cell_type": "code",
   "execution_count": 28,
   "id": "93c0dcc4",
   "metadata": {},
   "outputs": [
    {
     "data": {
      "text/plain": [
       "Index(['country', 'continent', 'year', 'lifeExp', 'pop', 'gdpPercap',\n",
       "       'iso_alpha', 'iso_num'],\n",
       "      dtype='object')"
      ]
     },
     "execution_count": 28,
     "metadata": {},
     "output_type": "execute_result"
    }
   ],
   "source": [
    "df.columns"
   ]
  }
 ],
 "metadata": {
  "kernelspec": {
   "display_name": "Python 3",
   "language": "python",
   "name": "python3"
  },
  "language_info": {
   "codemirror_mode": {
    "name": "ipython",
    "version": 3
   },
   "file_extension": ".py",
   "mimetype": "text/x-python",
   "name": "python",
   "nbconvert_exporter": "python",
   "pygments_lexer": "ipython3",
   "version": "3.12.9"
  }
 },
 "nbformat": 4,
 "nbformat_minor": 5
}

{
 "cells": [
  {
   "cell_type": "markdown",
   "id": "bc26f114",
   "metadata": {},
   "source": [
    "# Hyperparameter Tuning\n",
    "\n",
    "Hyperparameter Tuning is the process of finding the optimal values for the hyperparameters of a model.\n",
    "Hyperparameter Tuning is used to find the optimal values for the hyperparameters of a model.\n",
    "\n",
    "Type of Hyperparameter Tuning- \n",
    "1. Grid Search\n",
    "2. Random Search\n",
    "3. Bayesian Optimization\n",
    "4. Gradient Based Optimization"
   ]
  },
  {
   "cell_type": "markdown",
   "id": "a55fbf3b",
   "metadata": {},
   "source": [
    "# Cross Validation\n",
    "\n",
    "Cross-validation is a technique used to evaluate the performance of a machine learning model."
   ]
  },
  {
   "cell_type": "code",
   "execution_count": 1,
   "id": "f3962d87",
   "metadata": {},
   "outputs": [],
   "source": [
    "# import libraries\n",
    "from sklearn.ensemble import RandomForestClassifier\n",
    "from sklearn.model_selection import train_test_split ,GridSearchCV\n",
    "from sklearn.metrics import classification_report,confusion_matrix,accuracy_score"
   ]
  },
  {
   "cell_type": "code",
   "execution_count": 3,
   "id": "8d1b16dd",
   "metadata": {},
   "outputs": [],
   "source": [
    "# load dataset\n",
    "from sklearn.datasets import load_iris\n",
    "iris = load_iris()\n",
    "X = iris.data\n",
    "y = iris.target"
   ]
  },
  {
   "cell_type": "code",
   "execution_count": 7,
   "id": "9a564134",
   "metadata": {},
   "outputs": [
    {
     "name": "stdout",
     "output_type": "stream",
     "text": [
      "Fitting 5 folds for each of 36 candidates, totalling 180 fits\n",
      "Best Parameters: {'bootstrap': True, 'criterion': 'gini', 'max_depth': 10, 'n_estimators': 200}\n"
     ]
    }
   ],
   "source": [
    "# Define the model\n",
    "model  = RandomForestClassifier()\n",
    "\n",
    "# create the parameter grid\n",
    "param_grid = {\n",
    "    'n_estimators': [50, 100, 200],\n",
    "    'max_depth': [None, 10, 20],\n",
    "    'criterion': ['gini', 'entropy'],\n",
    "    'bootstrap': [True, False]\n",
    "}\n",
    "\n",
    "# set up the grid search\n",
    "grid_search = GridSearchCV(estimator=model, param_grid=param_grid, cv=5, verbose=2, n_jobs=-1, scoring='accuracy')\n",
    "\n",
    "# fit the grid search to the data\n",
    "grid_search.fit(X, y)\n",
    "\n",
    "# print the best parameters\n",
    "print(\"Best Parameters:\", grid_search.best_params_)"
   ]
  },
  {
   "cell_type": "code",
   "execution_count": 8,
   "id": "adb21612",
   "metadata": {},
   "outputs": [
    {
     "name": "stdout",
     "output_type": "stream",
     "text": [
      "Fitting 5 folds for each of 10 candidates, totalling 50 fits\n",
      "Best Parameters: {'n_estimators': 200, 'max_depth': 10, 'criterion': 'entropy', 'bootstrap': True}\n"
     ]
    }
   ],
   "source": [
    "from sklearn.model_selection import RandomizedSearchCV\n",
    "\n",
    "# Define the model\n",
    "model  = RandomForestClassifier()\n",
    "\n",
    "# create the parameter grid\n",
    "param_grid = {\n",
    "    'n_estimators': [50, 100, 200],\n",
    "    'max_depth': [None, 10, 20],\n",
    "    'criterion': ['gini', 'entropy'],\n",
    "    'bootstrap': [True, False]\n",
    "}\n",
    "\n",
    "# set up the grid search\n",
    "grid_search = RandomizedSearchCV(estimator=model, param_distributions=param_grid, n_iter=10, cv=5, verbose=2, n_jobs=-1, scoring='accuracy')\n",
    "# fit the grid search to the data\n",
    "grid_search.fit(X, y)\n",
    "\n",
    "# print the best parameters\n",
    "print(\"Best Parameters:\", grid_search.best_params_)"
   ]
  }
 ],
 "metadata": {
  "kernelspec": {
   "display_name": "Python 3",
   "language": "python",
   "name": "python3"
  },
  "language_info": {
   "codemirror_mode": {
    "name": "ipython",
    "version": 3
   },
   "file_extension": ".py",
   "mimetype": "text/x-python",
   "name": "python",
   "nbconvert_exporter": "python",
   "pygments_lexer": "ipython3",
   "version": "3.12.9"
  }
 },
 "nbformat": 4,
 "nbformat_minor": 5
}

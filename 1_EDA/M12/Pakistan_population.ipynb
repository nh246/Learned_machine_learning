{
 "cells": [
  {
   "cell_type": "markdown",
   "id": "ffec20d1",
   "metadata": {},
   "source": [
    "# Sad to say but i can't find any propar data regarding Bangladesh population."
   ]
  },
  {
   "cell_type": "markdown",
   "id": "209cea87",
   "metadata": {},
   "source": [
    "# Pakistan population Analysis\n",
    "___ \n",
    "\n",
    "Name: Nazmul Hossain\n",
    "___\n",
    "\n",
    "This data has been taken from kaggle.\n",
    "Link [Dataset](https://www.kaggle.com/datasets/mabdullahsajid/population-of-pakistan-dataset)"
   ]
  },
  {
   "cell_type": "code",
   "execution_count": 1,
   "id": "136e6b22",
   "metadata": {},
   "outputs": [],
   "source": [
    "# Importing necessary libraries\n",
    "\n",
    "import pandas as pd \n",
    "import numpy as np\n",
    "import matplotlib.pyplot as plt\n",
    "import seaborn as sns"
   ]
  },
  {
   "cell_type": "code",
   "execution_count": 2,
   "id": "525f13de",
   "metadata": {},
   "outputs": [],
   "source": [
    "# Importing dataset\n",
    "\n",
    "df = pd.read_csv('Pakistan_population.csv')"
   ]
  },
  {
   "cell_type": "markdown",
   "id": "41a527fa",
   "metadata": {},
   "source": [
    "# 1. Composition "
   ]
  },
  {
   "cell_type": "code",
   "execution_count": 3,
   "id": "9e68817c",
   "metadata": {},
   "outputs": [
    {
     "name": "stdout",
     "output_type": "stream",
     "text": [
      "<class 'pandas.core.frame.DataFrame'>\n",
      "RangeIndex: 528 entries, 0 to 527\n",
      "Data columns (total 21 columns):\n",
      " #   Column                      Non-Null Count  Dtype  \n",
      "---  ------                      --------------  -----  \n",
      " 0   PROVINCE                    528 non-null    object \n",
      " 1   DIVISION                    528 non-null    object \n",
      " 2   DISTRICT                    528 non-null    object \n",
      " 3   SUB DIVISION                528 non-null    object \n",
      " 4   AREA (sq.km)                528 non-null    float64\n",
      " 5   ALL SEXES (RURAL)           528 non-null    int64  \n",
      " 6   MALE (RURAL)                528 non-null    int64  \n",
      " 7   FEMALE (RURAL)              528 non-null    int64  \n",
      " 8   TRANSGENDER (RURAL)         528 non-null    int64  \n",
      " 9   SEX RATIO (RURAL)           528 non-null    float64\n",
      " 10  AVG HOUSEHOLD SIZE (RURAL)  528 non-null    float64\n",
      " 11  POPULATION 1998 (RURAL)     528 non-null    int64  \n",
      " 12  ANNUAL GROWTH RATE (RURAL)  528 non-null    float64\n",
      " 13  ALL SEXES (URBAN)           528 non-null    int64  \n",
      " 14  MALE (URBAN)                528 non-null    int64  \n",
      " 15  FEMALE (URBAN)              528 non-null    int64  \n",
      " 16  TRANSGENDER (URBAN)         528 non-null    int64  \n",
      " 17  SEX RATIO (URBAN)           528 non-null    float64\n",
      " 18  AVG HOUSEHOLD SIZE (URBAN)  528 non-null    float64\n",
      " 19  POPULATION 1998 (URBAN)     528 non-null    int64  \n",
      " 20  ANNUAL GROWTH RATE (URBAN)  528 non-null    float64\n",
      "dtypes: float64(7), int64(10), object(4)\n",
      "memory usage: 86.8+ KB\n"
     ]
    }
   ],
   "source": [
    "df.info()"
   ]
  },
  {
   "cell_type": "markdown",
   "id": "15aa4466",
   "metadata": {},
   "source": [
    "### The Data shows that there are 7 columns in this dataset. 4 of them are in object type and 10 are in int type and 7 is in float type."
   ]
  },
  {
   "cell_type": "code",
   "execution_count": 4,
   "id": "7c180f17",
   "metadata": {},
   "outputs": [
    {
     "data": {
      "application/vnd.microsoft.datawrangler.viewer.v0+json": {
       "columns": [
        {
         "name": "index",
         "rawType": "int64",
         "type": "integer"
        },
        {
         "name": "PROVINCE",
         "rawType": "object",
         "type": "string"
        },
        {
         "name": "DIVISION",
         "rawType": "object",
         "type": "string"
        },
        {
         "name": "DISTRICT",
         "rawType": "object",
         "type": "string"
        },
        {
         "name": "SUB DIVISION",
         "rawType": "object",
         "type": "string"
        },
        {
         "name": "AREA (sq.km)",
         "rawType": "float64",
         "type": "float"
        },
        {
         "name": "ALL SEXES (RURAL)",
         "rawType": "int64",
         "type": "integer"
        },
        {
         "name": "MALE (RURAL)",
         "rawType": "int64",
         "type": "integer"
        },
        {
         "name": "FEMALE (RURAL)",
         "rawType": "int64",
         "type": "integer"
        },
        {
         "name": "TRANSGENDER (RURAL)",
         "rawType": "int64",
         "type": "integer"
        },
        {
         "name": "SEX RATIO (RURAL)",
         "rawType": "float64",
         "type": "float"
        },
        {
         "name": "AVG HOUSEHOLD SIZE (RURAL)",
         "rawType": "float64",
         "type": "float"
        },
        {
         "name": "POPULATION 1998 (RURAL)",
         "rawType": "int64",
         "type": "integer"
        },
        {
         "name": "ANNUAL GROWTH RATE (RURAL)",
         "rawType": "float64",
         "type": "float"
        },
        {
         "name": "ALL SEXES (URBAN)",
         "rawType": "int64",
         "type": "integer"
        },
        {
         "name": "MALE (URBAN)",
         "rawType": "int64",
         "type": "integer"
        },
        {
         "name": "FEMALE (URBAN)",
         "rawType": "int64",
         "type": "integer"
        },
        {
         "name": "TRANSGENDER (URBAN)",
         "rawType": "int64",
         "type": "integer"
        },
        {
         "name": "SEX RATIO (URBAN)",
         "rawType": "float64",
         "type": "float"
        },
        {
         "name": "AVG HOUSEHOLD SIZE (URBAN)",
         "rawType": "float64",
         "type": "float"
        },
        {
         "name": "POPULATION 1998 (URBAN)",
         "rawType": "int64",
         "type": "integer"
        },
        {
         "name": "ANNUAL GROWTH RATE (URBAN)",
         "rawType": "float64",
         "type": "float"
        }
       ],
       "ref": "3cb8de44-5497-4784-ab09-71610f19457b",
       "rows": [
        [
         "0",
         "PUNJAB",
         "BAHAWALPUR DIVISION",
         "BAHAWALNAGAR DISTRICT",
         "BAHAWALNAGAR TEHSIL",
         "1729.0",
         "619550",
         "316864",
         "302644",
         "42",
         "104.7",
         "6.1",
         "407768",
         "2.22",
         "193840",
         "98391",
         "95402",
         "47",
         "103.13",
         "6.02",
         "133785",
         "1.97"
        ],
        [
         "1",
         "PUNJAB",
         "BAHAWALPUR DIVISION",
         "BAHAWALNAGAR DISTRICT",
         "CHISHTIAN TEHSIL",
         "1500.0",
         "540342",
         "273788",
         "266500",
         "54",
         "102.73",
         "6.15",
         "395983",
         "1.65",
         "149424",
         "75546",
         "73851",
         "27",
         "102.3",
         "6.01",
         "102287",
         "2.01"
        ],
        [
         "2",
         "PUNJAB",
         "BAHAWALPUR DIVISION",
         "BAHAWALNAGAR DISTRICT",
         "FORT ABBAS TEHSIL",
         "2536.0",
         "361240",
         "182655",
         "178541",
         "44",
         "102.3",
         "6.32",
         "250959",
         "1.93",
         "61528",
         "31360",
         "30150",
         "18",
         "104.01",
         "6.0",
         "34637",
         "3.06"
        ],
        [
         "3",
         "PUNJAB",
         "BAHAWALPUR DIVISION",
         "BAHAWALNAGAR DISTRICT",
         "HAROONABAD TEHSIL",
         "1295.0",
         "382115",
         "192278",
         "189808",
         "29",
         "101.3",
         "6.15",
         "297343",
         "1.33",
         "142600",
         "71345",
         "71236",
         "19",
         "100.15",
         "6.02",
         "84424",
         "2.79"
        ],
        [
         "4",
         "PUNJAB",
         "BAHAWALPUR DIVISION",
         "BAHAWALNAGAR DISTRICT",
         "MINCHINABAD TEHSIL",
         "1818.0",
         "452723",
         "231506",
         "221178",
         "39",
         "104.67",
         "6.29",
         "316593",
         "1.9",
         "72294",
         "36694",
         "35590",
         "10",
         "103.1",
         "6.34",
         "37668",
         "3.48"
        ]
       ],
       "shape": {
        "columns": 21,
        "rows": 5
       }
      },
      "text/html": [
       "<div>\n",
       "<style scoped>\n",
       "    .dataframe tbody tr th:only-of-type {\n",
       "        vertical-align: middle;\n",
       "    }\n",
       "\n",
       "    .dataframe tbody tr th {\n",
       "        vertical-align: top;\n",
       "    }\n",
       "\n",
       "    .dataframe thead th {\n",
       "        text-align: right;\n",
       "    }\n",
       "</style>\n",
       "<table border=\"1\" class=\"dataframe\">\n",
       "  <thead>\n",
       "    <tr style=\"text-align: right;\">\n",
       "      <th></th>\n",
       "      <th>PROVINCE</th>\n",
       "      <th>DIVISION</th>\n",
       "      <th>DISTRICT</th>\n",
       "      <th>SUB DIVISION</th>\n",
       "      <th>AREA (sq.km)</th>\n",
       "      <th>ALL SEXES (RURAL)</th>\n",
       "      <th>MALE (RURAL)</th>\n",
       "      <th>FEMALE (RURAL)</th>\n",
       "      <th>TRANSGENDER (RURAL)</th>\n",
       "      <th>SEX RATIO (RURAL)</th>\n",
       "      <th>...</th>\n",
       "      <th>POPULATION 1998 (RURAL)</th>\n",
       "      <th>ANNUAL GROWTH RATE (RURAL)</th>\n",
       "      <th>ALL SEXES (URBAN)</th>\n",
       "      <th>MALE (URBAN)</th>\n",
       "      <th>FEMALE (URBAN)</th>\n",
       "      <th>TRANSGENDER (URBAN)</th>\n",
       "      <th>SEX RATIO (URBAN)</th>\n",
       "      <th>AVG HOUSEHOLD SIZE (URBAN)</th>\n",
       "      <th>POPULATION 1998 (URBAN)</th>\n",
       "      <th>ANNUAL GROWTH RATE (URBAN)</th>\n",
       "    </tr>\n",
       "  </thead>\n",
       "  <tbody>\n",
       "    <tr>\n",
       "      <th>0</th>\n",
       "      <td>PUNJAB</td>\n",
       "      <td>BAHAWALPUR DIVISION</td>\n",
       "      <td>BAHAWALNAGAR DISTRICT</td>\n",
       "      <td>BAHAWALNAGAR TEHSIL</td>\n",
       "      <td>1729.0</td>\n",
       "      <td>619550</td>\n",
       "      <td>316864</td>\n",
       "      <td>302644</td>\n",
       "      <td>42</td>\n",
       "      <td>104.70</td>\n",
       "      <td>...</td>\n",
       "      <td>407768</td>\n",
       "      <td>2.22</td>\n",
       "      <td>193840</td>\n",
       "      <td>98391</td>\n",
       "      <td>95402</td>\n",
       "      <td>47</td>\n",
       "      <td>103.13</td>\n",
       "      <td>6.02</td>\n",
       "      <td>133785</td>\n",
       "      <td>1.97</td>\n",
       "    </tr>\n",
       "    <tr>\n",
       "      <th>1</th>\n",
       "      <td>PUNJAB</td>\n",
       "      <td>BAHAWALPUR DIVISION</td>\n",
       "      <td>BAHAWALNAGAR DISTRICT</td>\n",
       "      <td>CHISHTIAN TEHSIL</td>\n",
       "      <td>1500.0</td>\n",
       "      <td>540342</td>\n",
       "      <td>273788</td>\n",
       "      <td>266500</td>\n",
       "      <td>54</td>\n",
       "      <td>102.73</td>\n",
       "      <td>...</td>\n",
       "      <td>395983</td>\n",
       "      <td>1.65</td>\n",
       "      <td>149424</td>\n",
       "      <td>75546</td>\n",
       "      <td>73851</td>\n",
       "      <td>27</td>\n",
       "      <td>102.30</td>\n",
       "      <td>6.01</td>\n",
       "      <td>102287</td>\n",
       "      <td>2.01</td>\n",
       "    </tr>\n",
       "    <tr>\n",
       "      <th>2</th>\n",
       "      <td>PUNJAB</td>\n",
       "      <td>BAHAWALPUR DIVISION</td>\n",
       "      <td>BAHAWALNAGAR DISTRICT</td>\n",
       "      <td>FORT ABBAS TEHSIL</td>\n",
       "      <td>2536.0</td>\n",
       "      <td>361240</td>\n",
       "      <td>182655</td>\n",
       "      <td>178541</td>\n",
       "      <td>44</td>\n",
       "      <td>102.30</td>\n",
       "      <td>...</td>\n",
       "      <td>250959</td>\n",
       "      <td>1.93</td>\n",
       "      <td>61528</td>\n",
       "      <td>31360</td>\n",
       "      <td>30150</td>\n",
       "      <td>18</td>\n",
       "      <td>104.01</td>\n",
       "      <td>6.00</td>\n",
       "      <td>34637</td>\n",
       "      <td>3.06</td>\n",
       "    </tr>\n",
       "    <tr>\n",
       "      <th>3</th>\n",
       "      <td>PUNJAB</td>\n",
       "      <td>BAHAWALPUR DIVISION</td>\n",
       "      <td>BAHAWALNAGAR DISTRICT</td>\n",
       "      <td>HAROONABAD TEHSIL</td>\n",
       "      <td>1295.0</td>\n",
       "      <td>382115</td>\n",
       "      <td>192278</td>\n",
       "      <td>189808</td>\n",
       "      <td>29</td>\n",
       "      <td>101.30</td>\n",
       "      <td>...</td>\n",
       "      <td>297343</td>\n",
       "      <td>1.33</td>\n",
       "      <td>142600</td>\n",
       "      <td>71345</td>\n",
       "      <td>71236</td>\n",
       "      <td>19</td>\n",
       "      <td>100.15</td>\n",
       "      <td>6.02</td>\n",
       "      <td>84424</td>\n",
       "      <td>2.79</td>\n",
       "    </tr>\n",
       "    <tr>\n",
       "      <th>4</th>\n",
       "      <td>PUNJAB</td>\n",
       "      <td>BAHAWALPUR DIVISION</td>\n",
       "      <td>BAHAWALNAGAR DISTRICT</td>\n",
       "      <td>MINCHINABAD TEHSIL</td>\n",
       "      <td>1818.0</td>\n",
       "      <td>452723</td>\n",
       "      <td>231506</td>\n",
       "      <td>221178</td>\n",
       "      <td>39</td>\n",
       "      <td>104.67</td>\n",
       "      <td>...</td>\n",
       "      <td>316593</td>\n",
       "      <td>1.90</td>\n",
       "      <td>72294</td>\n",
       "      <td>36694</td>\n",
       "      <td>35590</td>\n",
       "      <td>10</td>\n",
       "      <td>103.10</td>\n",
       "      <td>6.34</td>\n",
       "      <td>37668</td>\n",
       "      <td>3.48</td>\n",
       "    </tr>\n",
       "  </tbody>\n",
       "</table>\n",
       "<p>5 rows × 21 columns</p>\n",
       "</div>"
      ],
      "text/plain": [
       "  PROVINCE             DIVISION               DISTRICT         SUB DIVISION  \\\n",
       "0   PUNJAB  BAHAWALPUR DIVISION  BAHAWALNAGAR DISTRICT  BAHAWALNAGAR TEHSIL   \n",
       "1   PUNJAB  BAHAWALPUR DIVISION  BAHAWALNAGAR DISTRICT     CHISHTIAN TEHSIL   \n",
       "2   PUNJAB  BAHAWALPUR DIVISION  BAHAWALNAGAR DISTRICT    FORT ABBAS TEHSIL   \n",
       "3   PUNJAB  BAHAWALPUR DIVISION  BAHAWALNAGAR DISTRICT    HAROONABAD TEHSIL   \n",
       "4   PUNJAB  BAHAWALPUR DIVISION  BAHAWALNAGAR DISTRICT   MINCHINABAD TEHSIL   \n",
       "\n",
       "   AREA (sq.km)  ALL SEXES (RURAL)  MALE (RURAL)  FEMALE (RURAL)  \\\n",
       "0        1729.0             619550        316864          302644   \n",
       "1        1500.0             540342        273788          266500   \n",
       "2        2536.0             361240        182655          178541   \n",
       "3        1295.0             382115        192278          189808   \n",
       "4        1818.0             452723        231506          221178   \n",
       "\n",
       "   TRANSGENDER (RURAL)  SEX RATIO (RURAL)  ...  POPULATION 1998 (RURAL)  \\\n",
       "0                   42             104.70  ...                   407768   \n",
       "1                   54             102.73  ...                   395983   \n",
       "2                   44             102.30  ...                   250959   \n",
       "3                   29             101.30  ...                   297343   \n",
       "4                   39             104.67  ...                   316593   \n",
       "\n",
       "   ANNUAL GROWTH RATE (RURAL)  ALL SEXES (URBAN)  MALE (URBAN)  \\\n",
       "0                        2.22             193840         98391   \n",
       "1                        1.65             149424         75546   \n",
       "2                        1.93              61528         31360   \n",
       "3                        1.33             142600         71345   \n",
       "4                        1.90              72294         36694   \n",
       "\n",
       "   FEMALE (URBAN)  TRANSGENDER (URBAN)  SEX RATIO (URBAN)  \\\n",
       "0           95402                   47             103.13   \n",
       "1           73851                   27             102.30   \n",
       "2           30150                   18             104.01   \n",
       "3           71236                   19             100.15   \n",
       "4           35590                   10             103.10   \n",
       "\n",
       "   AVG HOUSEHOLD SIZE (URBAN)  POPULATION 1998 (URBAN)  \\\n",
       "0                        6.02                   133785   \n",
       "1                        6.01                   102287   \n",
       "2                        6.00                    34637   \n",
       "3                        6.02                    84424   \n",
       "4                        6.34                    37668   \n",
       "\n",
       "   ANNUAL GROWTH RATE (URBAN)  \n",
       "0                        1.97  \n",
       "1                        2.01  \n",
       "2                        3.06  \n",
       "3                        2.79  \n",
       "4                        3.48  \n",
       "\n",
       "[5 rows x 21 columns]"
      ]
     },
     "execution_count": 4,
     "metadata": {},
     "output_type": "execute_result"
    }
   ],
   "source": [
    "df.head()"
   ]
  },
  {
   "cell_type": "code",
   "execution_count": 5,
   "id": "fe8f814b",
   "metadata": {},
   "outputs": [
    {
     "data": {
      "text/plain": [
       "Index(['PROVINCE', 'DIVISION', 'DISTRICT', 'SUB DIVISION', 'AREA (sq.km)',\n",
       "       'ALL SEXES (RURAL)', 'MALE (RURAL)', 'FEMALE (RURAL)',\n",
       "       'TRANSGENDER (RURAL)', 'SEX RATIO (RURAL)',\n",
       "       'AVG HOUSEHOLD SIZE (RURAL)', 'POPULATION 1998 (RURAL)',\n",
       "       'ANNUAL GROWTH RATE (RURAL)', 'ALL SEXES (URBAN)', 'MALE (URBAN)',\n",
       "       'FEMALE (URBAN)', 'TRANSGENDER (URBAN)', 'SEX RATIO (URBAN)',\n",
       "       'AVG HOUSEHOLD SIZE (URBAN)', 'POPULATION 1998 (URBAN)',\n",
       "       'ANNUAL GROWTH RATE (URBAN)'],\n",
       "      dtype='object')"
      ]
     },
     "execution_count": 5,
     "metadata": {},
     "output_type": "execute_result"
    }
   ],
   "source": [
    "df.columns"
   ]
  },
  {
   "cell_type": "code",
   "execution_count": 6,
   "id": "5f598479",
   "metadata": {},
   "outputs": [
    {
     "data": {
      "application/vnd.microsoft.datawrangler.viewer.v0+json": {
       "columns": [
        {
         "name": "index",
         "rawType": "object",
         "type": "string"
        },
        {
         "name": "0",
         "rawType": "object",
         "type": "unknown"
        }
       ],
       "ref": "163ee0d9-43dd-48f8-bebf-ae3e43b75b9f",
       "rows": [
        [
         "PROVINCE",
         "object"
        ],
        [
         "DIVISION",
         "object"
        ],
        [
         "DISTRICT",
         "object"
        ],
        [
         "SUB DIVISION",
         "object"
        ],
        [
         "AREA (sq.km)",
         "float64"
        ],
        [
         "ALL SEXES (RURAL)",
         "int64"
        ],
        [
         "MALE (RURAL)",
         "int64"
        ],
        [
         "FEMALE (RURAL)",
         "int64"
        ],
        [
         "TRANSGENDER (RURAL)",
         "int64"
        ],
        [
         "SEX RATIO (RURAL)",
         "float64"
        ],
        [
         "AVG HOUSEHOLD SIZE (RURAL)",
         "float64"
        ],
        [
         "POPULATION 1998 (RURAL)",
         "int64"
        ],
        [
         "ANNUAL GROWTH RATE (RURAL)",
         "float64"
        ],
        [
         "ALL SEXES (URBAN)",
         "int64"
        ],
        [
         "MALE (URBAN)",
         "int64"
        ],
        [
         "FEMALE (URBAN)",
         "int64"
        ],
        [
         "TRANSGENDER (URBAN)",
         "int64"
        ],
        [
         "SEX RATIO (URBAN)",
         "float64"
        ],
        [
         "AVG HOUSEHOLD SIZE (URBAN)",
         "float64"
        ],
        [
         "POPULATION 1998 (URBAN)",
         "int64"
        ],
        [
         "ANNUAL GROWTH RATE (URBAN)",
         "float64"
        ]
       ],
       "shape": {
        "columns": 1,
        "rows": 21
       }
      },
      "text/plain": [
       "PROVINCE                       object\n",
       "DIVISION                       object\n",
       "DISTRICT                       object\n",
       "SUB DIVISION                   object\n",
       "AREA (sq.km)                  float64\n",
       "ALL SEXES (RURAL)               int64\n",
       "MALE (RURAL)                    int64\n",
       "FEMALE (RURAL)                  int64\n",
       "TRANSGENDER (RURAL)             int64\n",
       "SEX RATIO (RURAL)             float64\n",
       "AVG HOUSEHOLD SIZE (RURAL)    float64\n",
       "POPULATION 1998 (RURAL)         int64\n",
       "ANNUAL GROWTH RATE (RURAL)    float64\n",
       "ALL SEXES (URBAN)               int64\n",
       "MALE (URBAN)                    int64\n",
       "FEMALE (URBAN)                  int64\n",
       "TRANSGENDER (URBAN)             int64\n",
       "SEX RATIO (URBAN)             float64\n",
       "AVG HOUSEHOLD SIZE (URBAN)    float64\n",
       "POPULATION 1998 (URBAN)         int64\n",
       "ANNUAL GROWTH RATE (URBAN)    float64\n",
       "dtype: object"
      ]
     },
     "execution_count": 6,
     "metadata": {},
     "output_type": "execute_result"
    }
   ],
   "source": [
    "df.dtypes"
   ]
  },
  {
   "cell_type": "code",
   "execution_count": 7,
   "id": "2390f535",
   "metadata": {},
   "outputs": [
    {
     "data": {
      "application/vnd.microsoft.datawrangler.viewer.v0+json": {
       "columns": [
        {
         "name": "index",
         "rawType": "object",
         "type": "string"
        },
        {
         "name": "AREA (sq.km)",
         "rawType": "float64",
         "type": "float"
        },
        {
         "name": "ALL SEXES (RURAL)",
         "rawType": "float64",
         "type": "float"
        },
        {
         "name": "MALE (RURAL)",
         "rawType": "float64",
         "type": "float"
        },
        {
         "name": "FEMALE (RURAL)",
         "rawType": "float64",
         "type": "float"
        },
        {
         "name": "TRANSGENDER (RURAL)",
         "rawType": "float64",
         "type": "float"
        },
        {
         "name": "SEX RATIO (RURAL)",
         "rawType": "float64",
         "type": "float"
        },
        {
         "name": "AVG HOUSEHOLD SIZE (RURAL)",
         "rawType": "float64",
         "type": "float"
        },
        {
         "name": "POPULATION 1998 (RURAL)",
         "rawType": "float64",
         "type": "float"
        },
        {
         "name": "ANNUAL GROWTH RATE (RURAL)",
         "rawType": "float64",
         "type": "float"
        },
        {
         "name": "ALL SEXES (URBAN)",
         "rawType": "float64",
         "type": "float"
        },
        {
         "name": "MALE (URBAN)",
         "rawType": "float64",
         "type": "float"
        },
        {
         "name": "FEMALE (URBAN)",
         "rawType": "float64",
         "type": "float"
        },
        {
         "name": "TRANSGENDER (URBAN)",
         "rawType": "float64",
         "type": "float"
        },
        {
         "name": "SEX RATIO (URBAN)",
         "rawType": "float64",
         "type": "float"
        },
        {
         "name": "AVG HOUSEHOLD SIZE (URBAN)",
         "rawType": "float64",
         "type": "float"
        },
        {
         "name": "POPULATION 1998 (URBAN)",
         "rawType": "float64",
         "type": "float"
        },
        {
         "name": "ANNUAL GROWTH RATE (URBAN)",
         "rawType": "float64",
         "type": "float"
        }
       ],
       "ref": "5b7cee04-630f-4603-b558-1a9b7aaa41a3",
       "rows": [
        [
         "count",
         "528.0",
         "528.0",
         "528.0",
         "528.0",
         "528.0",
         "528.0",
         "528.0",
         "528.0",
         "528.0",
         "528.0",
         "528.0",
         "528.0",
         "528.0",
         "528.0",
         "528.0",
         "528.0",
         "528.0"
        ],
        [
         "mean",
         "1492.005871212121",
         "246278.01136363635",
         "125275.6875",
         "120984.14962121213",
         "18.174242424242426",
         "98.98261363636364",
         "6.277064393939394",
         "167427.99431818182",
         "3.1247916666666664",
         "140863.5284090909",
         "72843.38636363637",
         "67997.86553030302",
         "22.276515151515152",
         "75.41126893939395",
         "4.406401515151515",
         "80144.56628787878",
         "1.920814393939394"
        ],
        [
         "std",
         "2039.453778210461",
         "271189.81655913533",
         "137563.02145832204",
         "133716.8982962157",
         "25.52224797583435",
         "26.812659963763632",
         "2.0749468568721596",
         "178388.97699251067",
         "9.57787173131309",
         "351246.2791356469",
         "182349.2413790539",
         "168872.52821213394",
         "66.06812694544523",
         "49.687340945047495",
         "2.9483358323019533",
         "202312.01922696535",
         "2.0989080696947195"
        ],
        [
         "min",
         "0.0",
         "0.0",
         "0.0",
         "0.0",
         "0.0",
         "0.0",
         "0.0",
         "0.0",
         "0.0",
         "0.0",
         "0.0",
         "0.0",
         "0.0",
         "0.0",
         "0.0",
         "0.0",
         "0.0"
        ],
        [
         "25%",
         "425.0",
         "50934.5",
         "27127.25",
         "23979.0",
         "1.0",
         "101.105",
         "5.7",
         "35273.5",
         "1.44",
         "0.0",
         "0.0",
         "0.0",
         "0.0",
         "0.0",
         "0.0",
         "0.0",
         "0.0"
        ],
        [
         "50%",
         "882.0",
         "165241.0",
         "84134.5",
         "82044.0",
         "10.0",
         "105.285",
         "6.31",
         "117206.5",
         "2.03",
         "43254.5",
         "21980.0",
         "20999.0",
         "3.0",
         "103.195",
         "5.755",
         "21298.0",
         "1.855"
        ],
        [
         "75%",
         "1734.25",
         "312911.25",
         "160502.25",
         "152219.0",
         "25.0",
         "108.3475",
         "7.2",
         "213054.25",
         "2.8125",
         "117814.75",
         "60301.75",
         "57465.25",
         "19.0",
         "107.04",
         "6.34",
         "65422.25",
         "2.985"
        ],
        [
         "max",
         "18374.0",
         "2297375.0",
         "1172995.0",
         "1124167.0",
         "213.0",
         "139.38",
         "12.43",
         "1044035.0",
         "100.0",
         "3653616.0",
         "1905921.0",
         "1746900.0",
         "795.0",
         "297.81",
         "10.06",
         "2075867.0",
         "19.78"
        ]
       ],
       "shape": {
        "columns": 17,
        "rows": 8
       }
      },
      "text/html": [
       "<div>\n",
       "<style scoped>\n",
       "    .dataframe tbody tr th:only-of-type {\n",
       "        vertical-align: middle;\n",
       "    }\n",
       "\n",
       "    .dataframe tbody tr th {\n",
       "        vertical-align: top;\n",
       "    }\n",
       "\n",
       "    .dataframe thead th {\n",
       "        text-align: right;\n",
       "    }\n",
       "</style>\n",
       "<table border=\"1\" class=\"dataframe\">\n",
       "  <thead>\n",
       "    <tr style=\"text-align: right;\">\n",
       "      <th></th>\n",
       "      <th>AREA (sq.km)</th>\n",
       "      <th>ALL SEXES (RURAL)</th>\n",
       "      <th>MALE (RURAL)</th>\n",
       "      <th>FEMALE (RURAL)</th>\n",
       "      <th>TRANSGENDER (RURAL)</th>\n",
       "      <th>SEX RATIO (RURAL)</th>\n",
       "      <th>AVG HOUSEHOLD SIZE (RURAL)</th>\n",
       "      <th>POPULATION 1998 (RURAL)</th>\n",
       "      <th>ANNUAL GROWTH RATE (RURAL)</th>\n",
       "      <th>ALL SEXES (URBAN)</th>\n",
       "      <th>MALE (URBAN)</th>\n",
       "      <th>FEMALE (URBAN)</th>\n",
       "      <th>TRANSGENDER (URBAN)</th>\n",
       "      <th>SEX RATIO (URBAN)</th>\n",
       "      <th>AVG HOUSEHOLD SIZE (URBAN)</th>\n",
       "      <th>POPULATION 1998 (URBAN)</th>\n",
       "      <th>ANNUAL GROWTH RATE (URBAN)</th>\n",
       "    </tr>\n",
       "  </thead>\n",
       "  <tbody>\n",
       "    <tr>\n",
       "      <th>count</th>\n",
       "      <td>528.000000</td>\n",
       "      <td>5.280000e+02</td>\n",
       "      <td>5.280000e+02</td>\n",
       "      <td>5.280000e+02</td>\n",
       "      <td>528.000000</td>\n",
       "      <td>528.000000</td>\n",
       "      <td>528.000000</td>\n",
       "      <td>5.280000e+02</td>\n",
       "      <td>528.000000</td>\n",
       "      <td>5.280000e+02</td>\n",
       "      <td>5.280000e+02</td>\n",
       "      <td>5.280000e+02</td>\n",
       "      <td>528.000000</td>\n",
       "      <td>528.000000</td>\n",
       "      <td>528.000000</td>\n",
       "      <td>5.280000e+02</td>\n",
       "      <td>528.000000</td>\n",
       "    </tr>\n",
       "    <tr>\n",
       "      <th>mean</th>\n",
       "      <td>1492.005871</td>\n",
       "      <td>2.462780e+05</td>\n",
       "      <td>1.252757e+05</td>\n",
       "      <td>1.209841e+05</td>\n",
       "      <td>18.174242</td>\n",
       "      <td>98.982614</td>\n",
       "      <td>6.277064</td>\n",
       "      <td>1.674280e+05</td>\n",
       "      <td>3.124792</td>\n",
       "      <td>1.408635e+05</td>\n",
       "      <td>7.284339e+04</td>\n",
       "      <td>6.799787e+04</td>\n",
       "      <td>22.276515</td>\n",
       "      <td>75.411269</td>\n",
       "      <td>4.406402</td>\n",
       "      <td>8.014457e+04</td>\n",
       "      <td>1.920814</td>\n",
       "    </tr>\n",
       "    <tr>\n",
       "      <th>std</th>\n",
       "      <td>2039.453778</td>\n",
       "      <td>2.711898e+05</td>\n",
       "      <td>1.375630e+05</td>\n",
       "      <td>1.337169e+05</td>\n",
       "      <td>25.522248</td>\n",
       "      <td>26.812660</td>\n",
       "      <td>2.074947</td>\n",
       "      <td>1.783890e+05</td>\n",
       "      <td>9.577872</td>\n",
       "      <td>3.512463e+05</td>\n",
       "      <td>1.823492e+05</td>\n",
       "      <td>1.688725e+05</td>\n",
       "      <td>66.068127</td>\n",
       "      <td>49.687341</td>\n",
       "      <td>2.948336</td>\n",
       "      <td>2.023120e+05</td>\n",
       "      <td>2.098908</td>\n",
       "    </tr>\n",
       "    <tr>\n",
       "      <th>min</th>\n",
       "      <td>0.000000</td>\n",
       "      <td>0.000000e+00</td>\n",
       "      <td>0.000000e+00</td>\n",
       "      <td>0.000000e+00</td>\n",
       "      <td>0.000000</td>\n",
       "      <td>0.000000</td>\n",
       "      <td>0.000000</td>\n",
       "      <td>0.000000e+00</td>\n",
       "      <td>0.000000</td>\n",
       "      <td>0.000000e+00</td>\n",
       "      <td>0.000000e+00</td>\n",
       "      <td>0.000000e+00</td>\n",
       "      <td>0.000000</td>\n",
       "      <td>0.000000</td>\n",
       "      <td>0.000000</td>\n",
       "      <td>0.000000e+00</td>\n",
       "      <td>0.000000</td>\n",
       "    </tr>\n",
       "    <tr>\n",
       "      <th>25%</th>\n",
       "      <td>425.000000</td>\n",
       "      <td>5.093450e+04</td>\n",
       "      <td>2.712725e+04</td>\n",
       "      <td>2.397900e+04</td>\n",
       "      <td>1.000000</td>\n",
       "      <td>101.105000</td>\n",
       "      <td>5.700000</td>\n",
       "      <td>3.527350e+04</td>\n",
       "      <td>1.440000</td>\n",
       "      <td>0.000000e+00</td>\n",
       "      <td>0.000000e+00</td>\n",
       "      <td>0.000000e+00</td>\n",
       "      <td>0.000000</td>\n",
       "      <td>0.000000</td>\n",
       "      <td>0.000000</td>\n",
       "      <td>0.000000e+00</td>\n",
       "      <td>0.000000</td>\n",
       "    </tr>\n",
       "    <tr>\n",
       "      <th>50%</th>\n",
       "      <td>882.000000</td>\n",
       "      <td>1.652410e+05</td>\n",
       "      <td>8.413450e+04</td>\n",
       "      <td>8.204400e+04</td>\n",
       "      <td>10.000000</td>\n",
       "      <td>105.285000</td>\n",
       "      <td>6.310000</td>\n",
       "      <td>1.172065e+05</td>\n",
       "      <td>2.030000</td>\n",
       "      <td>4.325450e+04</td>\n",
       "      <td>2.198000e+04</td>\n",
       "      <td>2.099900e+04</td>\n",
       "      <td>3.000000</td>\n",
       "      <td>103.195000</td>\n",
       "      <td>5.755000</td>\n",
       "      <td>2.129800e+04</td>\n",
       "      <td>1.855000</td>\n",
       "    </tr>\n",
       "    <tr>\n",
       "      <th>75%</th>\n",
       "      <td>1734.250000</td>\n",
       "      <td>3.129112e+05</td>\n",
       "      <td>1.605022e+05</td>\n",
       "      <td>1.522190e+05</td>\n",
       "      <td>25.000000</td>\n",
       "      <td>108.347500</td>\n",
       "      <td>7.200000</td>\n",
       "      <td>2.130542e+05</td>\n",
       "      <td>2.812500</td>\n",
       "      <td>1.178148e+05</td>\n",
       "      <td>6.030175e+04</td>\n",
       "      <td>5.746525e+04</td>\n",
       "      <td>19.000000</td>\n",
       "      <td>107.040000</td>\n",
       "      <td>6.340000</td>\n",
       "      <td>6.542225e+04</td>\n",
       "      <td>2.985000</td>\n",
       "    </tr>\n",
       "    <tr>\n",
       "      <th>max</th>\n",
       "      <td>18374.000000</td>\n",
       "      <td>2.297375e+06</td>\n",
       "      <td>1.172995e+06</td>\n",
       "      <td>1.124167e+06</td>\n",
       "      <td>213.000000</td>\n",
       "      <td>139.380000</td>\n",
       "      <td>12.430000</td>\n",
       "      <td>1.044035e+06</td>\n",
       "      <td>100.000000</td>\n",
       "      <td>3.653616e+06</td>\n",
       "      <td>1.905921e+06</td>\n",
       "      <td>1.746900e+06</td>\n",
       "      <td>795.000000</td>\n",
       "      <td>297.810000</td>\n",
       "      <td>10.060000</td>\n",
       "      <td>2.075867e+06</td>\n",
       "      <td>19.780000</td>\n",
       "    </tr>\n",
       "  </tbody>\n",
       "</table>\n",
       "</div>"
      ],
      "text/plain": [
       "       AREA (sq.km)  ALL SEXES (RURAL)  MALE (RURAL)  FEMALE (RURAL)  \\\n",
       "count    528.000000       5.280000e+02  5.280000e+02    5.280000e+02   \n",
       "mean    1492.005871       2.462780e+05  1.252757e+05    1.209841e+05   \n",
       "std     2039.453778       2.711898e+05  1.375630e+05    1.337169e+05   \n",
       "min        0.000000       0.000000e+00  0.000000e+00    0.000000e+00   \n",
       "25%      425.000000       5.093450e+04  2.712725e+04    2.397900e+04   \n",
       "50%      882.000000       1.652410e+05  8.413450e+04    8.204400e+04   \n",
       "75%     1734.250000       3.129112e+05  1.605022e+05    1.522190e+05   \n",
       "max    18374.000000       2.297375e+06  1.172995e+06    1.124167e+06   \n",
       "\n",
       "       TRANSGENDER (RURAL)  SEX RATIO (RURAL)  AVG HOUSEHOLD SIZE (RURAL)  \\\n",
       "count           528.000000         528.000000                  528.000000   \n",
       "mean             18.174242          98.982614                    6.277064   \n",
       "std              25.522248          26.812660                    2.074947   \n",
       "min               0.000000           0.000000                    0.000000   \n",
       "25%               1.000000         101.105000                    5.700000   \n",
       "50%              10.000000         105.285000                    6.310000   \n",
       "75%              25.000000         108.347500                    7.200000   \n",
       "max             213.000000         139.380000                   12.430000   \n",
       "\n",
       "       POPULATION 1998 (RURAL)  ANNUAL GROWTH RATE (RURAL)  ALL SEXES (URBAN)  \\\n",
       "count             5.280000e+02                  528.000000       5.280000e+02   \n",
       "mean              1.674280e+05                    3.124792       1.408635e+05   \n",
       "std               1.783890e+05                    9.577872       3.512463e+05   \n",
       "min               0.000000e+00                    0.000000       0.000000e+00   \n",
       "25%               3.527350e+04                    1.440000       0.000000e+00   \n",
       "50%               1.172065e+05                    2.030000       4.325450e+04   \n",
       "75%               2.130542e+05                    2.812500       1.178148e+05   \n",
       "max               1.044035e+06                  100.000000       3.653616e+06   \n",
       "\n",
       "       MALE (URBAN)  FEMALE (URBAN)  TRANSGENDER (URBAN)  SEX RATIO (URBAN)  \\\n",
       "count  5.280000e+02    5.280000e+02           528.000000         528.000000   \n",
       "mean   7.284339e+04    6.799787e+04            22.276515          75.411269   \n",
       "std    1.823492e+05    1.688725e+05            66.068127          49.687341   \n",
       "min    0.000000e+00    0.000000e+00             0.000000           0.000000   \n",
       "25%    0.000000e+00    0.000000e+00             0.000000           0.000000   \n",
       "50%    2.198000e+04    2.099900e+04             3.000000         103.195000   \n",
       "75%    6.030175e+04    5.746525e+04            19.000000         107.040000   \n",
       "max    1.905921e+06    1.746900e+06           795.000000         297.810000   \n",
       "\n",
       "       AVG HOUSEHOLD SIZE (URBAN)  POPULATION 1998 (URBAN)  \\\n",
       "count                  528.000000             5.280000e+02   \n",
       "mean                     4.406402             8.014457e+04   \n",
       "std                      2.948336             2.023120e+05   \n",
       "min                      0.000000             0.000000e+00   \n",
       "25%                      0.000000             0.000000e+00   \n",
       "50%                      5.755000             2.129800e+04   \n",
       "75%                      6.340000             6.542225e+04   \n",
       "max                     10.060000             2.075867e+06   \n",
       "\n",
       "       ANNUAL GROWTH RATE (URBAN)  \n",
       "count                  528.000000  \n",
       "mean                     1.920814  \n",
       "std                      2.098908  \n",
       "min                      0.000000  \n",
       "25%                      0.000000  \n",
       "50%                      1.855000  \n",
       "75%                      2.985000  \n",
       "max                     19.780000  "
      ]
     },
     "execution_count": 7,
     "metadata": {},
     "output_type": "execute_result"
    }
   ],
   "source": [
    "df.describe()"
   ]
  },
  {
   "cell_type": "code",
   "execution_count": 8,
   "id": "11dbd18e",
   "metadata": {},
   "outputs": [
    {
     "data": {
      "application/vnd.microsoft.datawrangler.viewer.v0+json": {
       "columns": [
        {
         "name": "index",
         "rawType": "object",
         "type": "string"
        },
        {
         "name": "0",
         "rawType": "int64",
         "type": "integer"
        }
       ],
       "ref": "160eda87-d04e-466a-84bb-73f2a19b4343",
       "rows": [
        [
         "PROVINCE",
         "0"
        ],
        [
         "DIVISION",
         "0"
        ],
        [
         "DISTRICT",
         "0"
        ],
        [
         "SUB DIVISION",
         "0"
        ],
        [
         "AREA (sq.km)",
         "0"
        ],
        [
         "ALL SEXES (RURAL)",
         "0"
        ],
        [
         "MALE (RURAL)",
         "0"
        ],
        [
         "FEMALE (RURAL)",
         "0"
        ],
        [
         "TRANSGENDER (RURAL)",
         "0"
        ],
        [
         "SEX RATIO (RURAL)",
         "0"
        ],
        [
         "AVG HOUSEHOLD SIZE (RURAL)",
         "0"
        ],
        [
         "POPULATION 1998 (RURAL)",
         "0"
        ],
        [
         "ANNUAL GROWTH RATE (RURAL)",
         "0"
        ],
        [
         "ALL SEXES (URBAN)",
         "0"
        ],
        [
         "MALE (URBAN)",
         "0"
        ],
        [
         "FEMALE (URBAN)",
         "0"
        ],
        [
         "TRANSGENDER (URBAN)",
         "0"
        ],
        [
         "SEX RATIO (URBAN)",
         "0"
        ],
        [
         "AVG HOUSEHOLD SIZE (URBAN)",
         "0"
        ],
        [
         "POPULATION 1998 (URBAN)",
         "0"
        ],
        [
         "ANNUAL GROWTH RATE (URBAN)",
         "0"
        ]
       ],
       "shape": {
        "columns": 1,
        "rows": 21
       }
      },
      "text/plain": [
       "PROVINCE                      0\n",
       "DIVISION                      0\n",
       "DISTRICT                      0\n",
       "SUB DIVISION                  0\n",
       "AREA (sq.km)                  0\n",
       "ALL SEXES (RURAL)             0\n",
       "MALE (RURAL)                  0\n",
       "FEMALE (RURAL)                0\n",
       "TRANSGENDER (RURAL)           0\n",
       "SEX RATIO (RURAL)             0\n",
       "AVG HOUSEHOLD SIZE (RURAL)    0\n",
       "POPULATION 1998 (RURAL)       0\n",
       "ANNUAL GROWTH RATE (RURAL)    0\n",
       "ALL SEXES (URBAN)             0\n",
       "MALE (URBAN)                  0\n",
       "FEMALE (URBAN)                0\n",
       "TRANSGENDER (URBAN)           0\n",
       "SEX RATIO (URBAN)             0\n",
       "AVG HOUSEHOLD SIZE (URBAN)    0\n",
       "POPULATION 1998 (URBAN)       0\n",
       "ANNUAL GROWTH RATE (URBAN)    0\n",
       "dtype: int64"
      ]
     },
     "execution_count": 8,
     "metadata": {},
     "output_type": "execute_result"
    }
   ],
   "source": [
    "df.isnull().sum()"
   ]
  },
  {
   "cell_type": "code",
   "execution_count": 11,
   "id": "c2dc921c",
   "metadata": {},
   "outputs": [
    {
     "data": {
      "text/plain": [
       "<Axes: ylabel='AREA (sq.km)'>"
      ]
     },
     "execution_count": 11,
     "metadata": {},
     "output_type": "execute_result"
    },
    {
     "data": {
      "image/png": "[encoded data removed]",
      "text/plain": [
       "<Figure size 640x480 with 1 Axes>"
      ]
     },
     "metadata": {},
     "output_type": "display_data"
    }
   ],
   "source": [
    "# box plot \n",
    "\n",
    "sns.boxplot(df , y='AREA (sq.km)')"
   ]
  },
  {
   "cell_type": "code",
   "execution_count": 12,
   "id": "6a1ee567",
   "metadata": {},
   "outputs": [
    {
     "data": {
      "application/vnd.microsoft.datawrangler.viewer.v0+json": {
       "columns": [
        {
         "name": "index",
         "rawType": "object",
         "type": "string"
        },
        {
         "name": "count",
         "rawType": "float64",
         "type": "float"
        },
        {
         "name": "mean",
         "rawType": "float64",
         "type": "float"
        },
        {
         "name": "std",
         "rawType": "float64",
         "type": "float"
        },
        {
         "name": "min",
         "rawType": "float64",
         "type": "float"
        },
        {
         "name": "25%",
         "rawType": "float64",
         "type": "float"
        },
        {
         "name": "50%",
         "rawType": "float64",
         "type": "float"
        },
        {
         "name": "75%",
         "rawType": "float64",
         "type": "float"
        },
        {
         "name": "max",
         "rawType": "float64",
         "type": "float"
        }
       ],
       "ref": "206f1e4c-c188-4c25-aa28-68226669514e",
       "rows": [
        [
         "AREA (sq.km)",
         "528.0",
         "1492.005871212121",
         "2039.453778210461",
         "0.0",
         "425.0",
         "882.0",
         "1734.25",
         "18374.0"
        ],
        [
         "ALL SEXES (RURAL)",
         "528.0",
         "246278.01136363635",
         "271189.81655913533",
         "0.0",
         "50934.5",
         "165241.0",
         "312911.25",
         "2297375.0"
        ],
        [
         "MALE (RURAL)",
         "528.0",
         "125275.6875",
         "137563.02145832204",
         "0.0",
         "27127.25",
         "84134.5",
         "160502.25",
         "1172995.0"
        ],
        [
         "FEMALE (RURAL)",
         "528.0",
         "120984.14962121213",
         "133716.8982962157",
         "0.0",
         "23979.0",
         "82044.0",
         "152219.0",
         "1124167.0"
        ],
        [
         "TRANSGENDER (RURAL)",
         "528.0",
         "18.174242424242426",
         "25.52224797583435",
         "0.0",
         "1.0",
         "10.0",
         "25.0",
         "213.0"
        ],
        [
         "SEX RATIO (RURAL)",
         "528.0",
         "98.98261363636364",
         "26.812659963763632",
         "0.0",
         "101.105",
         "105.285",
         "108.3475",
         "139.38"
        ],
        [
         "AVG HOUSEHOLD SIZE (RURAL)",
         "528.0",
         "6.277064393939394",
         "2.0749468568721596",
         "0.0",
         "5.7",
         "6.31",
         "7.2",
         "12.43"
        ],
        [
         "POPULATION 1998 (RURAL)",
         "528.0",
         "167427.99431818182",
         "178388.97699251067",
         "0.0",
         "35273.5",
         "117206.5",
         "213054.25",
         "1044035.0"
        ],
        [
         "ANNUAL GROWTH RATE (RURAL)",
         "528.0",
         "3.1247916666666664",
         "9.57787173131309",
         "0.0",
         "1.44",
         "2.03",
         "2.8125",
         "100.0"
        ],
        [
         "ALL SEXES (URBAN)",
         "528.0",
         "140863.5284090909",
         "351246.2791356469",
         "0.0",
         "0.0",
         "43254.5",
         "117814.75",
         "3653616.0"
        ],
        [
         "MALE (URBAN)",
         "528.0",
         "72843.38636363637",
         "182349.2413790539",
         "0.0",
         "0.0",
         "21980.0",
         "60301.75",
         "1905921.0"
        ],
        [
         "FEMALE (URBAN)",
         "528.0",
         "67997.86553030302",
         "168872.52821213394",
         "0.0",
         "0.0",
         "20999.0",
         "57465.25",
         "1746900.0"
        ],
        [
         "TRANSGENDER (URBAN)",
         "528.0",
         "22.276515151515152",
         "66.06812694544523",
         "0.0",
         "0.0",
         "3.0",
         "19.0",
         "795.0"
        ],
        [
         "SEX RATIO (URBAN)",
         "528.0",
         "75.41126893939395",
         "49.687340945047495",
         "0.0",
         "0.0",
         "103.195",
         "107.04",
         "297.81"
        ],
        [
         "AVG HOUSEHOLD SIZE (URBAN)",
         "528.0",
         "4.406401515151515",
         "2.9483358323019533",
         "0.0",
         "0.0",
         "5.755",
         "6.34",
         "10.06"
        ],
        [
         "POPULATION 1998 (URBAN)",
         "528.0",
         "80144.56628787878",
         "202312.01922696535",
         "0.0",
         "0.0",
         "21298.0",
         "65422.25",
         "2075867.0"
        ],
        [
         "ANNUAL GROWTH RATE (URBAN)",
         "528.0",
         "1.920814393939394",
         "2.0989080696947195",
         "0.0",
         "0.0",
         "1.855",
         "2.985",
         "19.78"
        ]
       ],
       "shape": {
        "columns": 8,
        "rows": 17
       }
      },
      "text/html": [
       "<div>\n",
       "<style scoped>\n",
       "    .dataframe tbody tr th:only-of-type {\n",
       "        vertical-align: middle;\n",
       "    }\n",
       "\n",
       "    .dataframe tbody tr th {\n",
       "        vertical-align: top;\n",
       "    }\n",
       "\n",
       "    .dataframe thead th {\n",
       "        text-align: right;\n",
       "    }\n",
       "</style>\n",
       "<table border=\"1\" class=\"dataframe\">\n",
       "  <thead>\n",
       "    <tr style=\"text-align: right;\">\n",
       "      <th></th>\n",
       "      <th>count</th>\n",
       "      <th>mean</th>\n",
       "      <th>std</th>\n",
       "      <th>min</th>\n",
       "      <th>25%</th>\n",
       "      <th>50%</th>\n",
       "      <th>75%</th>\n",
       "      <th>max</th>\n",
       "    </tr>\n",
       "  </thead>\n",
       "  <tbody>\n",
       "    <tr>\n",
       "      <th>AREA (sq.km)</th>\n",
       "      <td>528.0</td>\n",
       "      <td>1492.005871</td>\n",
       "      <td>2039.453778</td>\n",
       "      <td>0.0</td>\n",
       "      <td>425.000</td>\n",
       "      <td>882.000</td>\n",
       "      <td>1734.2500</td>\n",
       "      <td>18374.00</td>\n",
       "    </tr>\n",
       "    <tr>\n",
       "      <th>ALL SEXES (RURAL)</th>\n",
       "      <td>528.0</td>\n",
       "      <td>246278.011364</td>\n",
       "      <td>271189.816559</td>\n",
       "      <td>0.0</td>\n",
       "      <td>50934.500</td>\n",
       "      <td>165241.000</td>\n",
       "      <td>312911.2500</td>\n",
       "      <td>2297375.00</td>\n",
       "    </tr>\n",
       "    <tr>\n",
       "      <th>MALE (RURAL)</th>\n",
       "      <td>528.0</td>\n",
       "      <td>125275.687500</td>\n",
       "      <td>137563.021458</td>\n",
       "      <td>0.0</td>\n",
       "      <td>27127.250</td>\n",
       "      <td>84134.500</td>\n",
       "      <td>160502.2500</td>\n",
       "      <td>1172995.00</td>\n",
       "    </tr>\n",
       "    <tr>\n",
       "      <th>FEMALE (RURAL)</th>\n",
       "      <td>528.0</td>\n",
       "      <td>120984.149621</td>\n",
       "      <td>133716.898296</td>\n",
       "      <td>0.0</td>\n",
       "      <td>23979.000</td>\n",
       "      <td>82044.000</td>\n",
       "      <td>152219.0000</td>\n",
       "      <td>1124167.00</td>\n",
       "    </tr>\n",
       "    <tr>\n",
       "      <th>TRANSGENDER (RURAL)</th>\n",
       "      <td>528.0</td>\n",
       "      <td>18.174242</td>\n",
       "      <td>25.522248</td>\n",
       "      <td>0.0</td>\n",
       "      <td>1.000</td>\n",
       "      <td>10.000</td>\n",
       "      <td>25.0000</td>\n",
       "      <td>213.00</td>\n",
       "    </tr>\n",
       "    <tr>\n",
       "      <th>SEX RATIO (RURAL)</th>\n",
       "      <td>528.0</td>\n",
       "      <td>98.982614</td>\n",
       "      <td>26.812660</td>\n",
       "      <td>0.0</td>\n",
       "      <td>101.105</td>\n",
       "      <td>105.285</td>\n",
       "      <td>108.3475</td>\n",
       "      <td>139.38</td>\n",
       "    </tr>\n",
       "    <tr>\n",
       "      <th>AVG HOUSEHOLD SIZE (RURAL)</th>\n",
       "      <td>528.0</td>\n",
       "      <td>6.277064</td>\n",
       "      <td>2.074947</td>\n",
       "      <td>0.0</td>\n",
       "      <td>5.700</td>\n",
       "      <td>6.310</td>\n",
       "      <td>7.2000</td>\n",
       "      <td>12.43</td>\n",
       "    </tr>\n",
       "    <tr>\n",
       "      <th>POPULATION 1998 (RURAL)</th>\n",
       "      <td>528.0</td>\n",
       "      <td>167427.994318</td>\n",
       "      <td>178388.976993</td>\n",
       "      <td>0.0</td>\n",
       "      <td>35273.500</td>\n",
       "      <td>117206.500</td>\n",
       "      <td>213054.2500</td>\n",
       "      <td>1044035.00</td>\n",
       "    </tr>\n",
       "    <tr>\n",
       "      <th>ANNUAL GROWTH RATE (RURAL)</th>\n",
       "      <td>528.0</td>\n",
       "      <td>3.124792</td>\n",
       "      <td>9.577872</td>\n",
       "      <td>0.0</td>\n",
       "      <td>1.440</td>\n",
       "      <td>2.030</td>\n",
       "      <td>2.8125</td>\n",
       "      <td>100.00</td>\n",
       "    </tr>\n",
       "    <tr>\n",
       "      <th>ALL SEXES (URBAN)</th>\n",
       "      <td>528.0</td>\n",
       "      <td>140863.528409</td>\n",
       "      <td>351246.279136</td>\n",
       "      <td>0.0</td>\n",
       "      <td>0.000</td>\n",
       "      <td>43254.500</td>\n",
       "      <td>117814.7500</td>\n",
       "      <td>3653616.00</td>\n",
       "    </tr>\n",
       "    <tr>\n",
       "      <th>MALE (URBAN)</th>\n",
       "      <td>528.0</td>\n",
       "      <td>72843.386364</td>\n",
       "      <td>182349.241379</td>\n",
       "      <td>0.0</td>\n",
       "      <td>0.000</td>\n",
       "      <td>21980.000</td>\n",
       "      <td>60301.7500</td>\n",
       "      <td>1905921.00</td>\n",
       "    </tr>\n",
       "    <tr>\n",
       "      <th>FEMALE (URBAN)</th>\n",
       "      <td>528.0</td>\n",
       "      <td>67997.865530</td>\n",
       "      <td>168872.528212</td>\n",
       "      <td>0.0</td>\n",
       "      <td>0.000</td>\n",
       "      <td>20999.000</td>\n",
       "      <td>57465.2500</td>\n",
       "      <td>1746900.00</td>\n",
       "    </tr>\n",
       "    <tr>\n",
       "      <th>TRANSGENDER (URBAN)</th>\n",
       "      <td>528.0</td>\n",
       "      <td>22.276515</td>\n",
       "      <td>66.068127</td>\n",
       "      <td>0.0</td>\n",
       "      <td>0.000</td>\n",
       "      <td>3.000</td>\n",
       "      <td>19.0000</td>\n",
       "      <td>795.00</td>\n",
       "    </tr>\n",
       "    <tr>\n",
       "      <th>SEX RATIO (URBAN)</th>\n",
       "      <td>528.0</td>\n",
       "      <td>75.411269</td>\n",
       "      <td>49.687341</td>\n",
       "      <td>0.0</td>\n",
       "      <td>0.000</td>\n",
       "      <td>103.195</td>\n",
       "      <td>107.0400</td>\n",
       "      <td>297.81</td>\n",
       "    </tr>\n",
       "    <tr>\n",
       "      <th>AVG HOUSEHOLD SIZE (URBAN)</th>\n",
       "      <td>528.0</td>\n",
       "      <td>4.406402</td>\n",
       "      <td>2.948336</td>\n",
       "      <td>0.0</td>\n",
       "      <td>0.000</td>\n",
       "      <td>5.755</td>\n",
       "      <td>6.3400</td>\n",
       "      <td>10.06</td>\n",
       "    </tr>\n",
       "    <tr>\n",
       "      <th>POPULATION 1998 (URBAN)</th>\n",
       "      <td>528.0</td>\n",
       "      <td>80144.566288</td>\n",
       "      <td>202312.019227</td>\n",
       "      <td>0.0</td>\n",
       "      <td>0.000</td>\n",
       "      <td>21298.000</td>\n",
       "      <td>65422.2500</td>\n",
       "      <td>2075867.00</td>\n",
       "    </tr>\n",
       "    <tr>\n",
       "      <th>ANNUAL GROWTH RATE (URBAN)</th>\n",
       "      <td>528.0</td>\n",
       "      <td>1.920814</td>\n",
       "      <td>2.098908</td>\n",
       "      <td>0.0</td>\n",
       "      <td>0.000</td>\n",
       "      <td>1.855</td>\n",
       "      <td>2.9850</td>\n",
       "      <td>19.78</td>\n",
       "    </tr>\n",
       "  </tbody>\n",
       "</table>\n",
       "</div>"
      ],
      "text/plain": [
       "                            count           mean            std  min  \\\n",
       "AREA (sq.km)                528.0    1492.005871    2039.453778  0.0   \n",
       "ALL SEXES (RURAL)           528.0  246278.011364  271189.816559  0.0   \n",
       "MALE (RURAL)                528.0  125275.687500  137563.021458  0.0   \n",
       "FEMALE (RURAL)              528.0  120984.149621  133716.898296  0.0   \n",
       "TRANSGENDER (RURAL)         528.0      18.174242      25.522248  0.0   \n",
       "SEX RATIO (RURAL)           528.0      98.982614      26.812660  0.0   \n",
       "AVG HOUSEHOLD SIZE (RURAL)  528.0       6.277064       2.074947  0.0   \n",
       "POPULATION 1998 (RURAL)     528.0  167427.994318  178388.976993  0.0   \n",
       "ANNUAL GROWTH RATE (RURAL)  528.0       3.124792       9.577872  0.0   \n",
       "ALL SEXES (URBAN)           528.0  140863.528409  351246.279136  0.0   \n",
       "MALE (URBAN)                528.0   72843.386364  182349.241379  0.0   \n",
       "FEMALE (URBAN)              528.0   67997.865530  168872.528212  0.0   \n",
       "TRANSGENDER (URBAN)         528.0      22.276515      66.068127  0.0   \n",
       "SEX RATIO (URBAN)           528.0      75.411269      49.687341  0.0   \n",
       "AVG HOUSEHOLD SIZE (URBAN)  528.0       4.406402       2.948336  0.0   \n",
       "POPULATION 1998 (URBAN)     528.0   80144.566288  202312.019227  0.0   \n",
       "ANNUAL GROWTH RATE (URBAN)  528.0       1.920814       2.098908  0.0   \n",
       "\n",
       "                                  25%         50%          75%         max  \n",
       "AREA (sq.km)                  425.000     882.000    1734.2500    18374.00  \n",
       "ALL SEXES (RURAL)           50934.500  165241.000  312911.2500  2297375.00  \n",
       "MALE (RURAL)                27127.250   84134.500  160502.2500  1172995.00  \n",
       "FEMALE (RURAL)              23979.000   82044.000  152219.0000  1124167.00  \n",
       "TRANSGENDER (RURAL)             1.000      10.000      25.0000      213.00  \n",
       "SEX RATIO (RURAL)             101.105     105.285     108.3475      139.38  \n",
       "AVG HOUSEHOLD SIZE (RURAL)      5.700       6.310       7.2000       12.43  \n",
       "POPULATION 1998 (RURAL)     35273.500  117206.500  213054.2500  1044035.00  \n",
       "ANNUAL GROWTH RATE (RURAL)      1.440       2.030       2.8125      100.00  \n",
       "ALL SEXES (URBAN)               0.000   43254.500  117814.7500  3653616.00  \n",
       "MALE (URBAN)                    0.000   21980.000   60301.7500  1905921.00  \n",
       "FEMALE (URBAN)                  0.000   20999.000   57465.2500  1746900.00  \n",
       "TRANSGENDER (URBAN)             0.000       3.000      19.0000      795.00  \n",
       "SEX RATIO (URBAN)               0.000     103.195     107.0400      297.81  \n",
       "AVG HOUSEHOLD SIZE (URBAN)      0.000       5.755       6.3400       10.06  \n",
       "POPULATION 1998 (URBAN)         0.000   21298.000   65422.2500  2075867.00  \n",
       "ANNUAL GROWTH RATE (URBAN)      0.000       1.855       2.9850       19.78  "
      ]
     },
     "execution_count": 12,
     "metadata": {},
     "output_type": "execute_result"
    }
   ],
   "source": [
    "df.describe().T"
   ]
  },
  {
   "cell_type": "code",
   "execution_count": 14,
   "id": "59800400",
   "metadata": {},
   "outputs": [
    {
     "data": {
      "text/plain": [
       "Index(['PROVINCE', 'DIVISION', 'DISTRICT', 'SUB DIVISION', 'AREA (sq.km)',\n",
       "       'ALL SEXES (RURAL)', 'MALE (RURAL)', 'FEMALE (RURAL)',\n",
       "       'TRANSGENDER (RURAL)', 'SEX RATIO (RURAL)',\n",
       "       'AVG HOUSEHOLD SIZE (RURAL)', 'POPULATION 1998 (RURAL)',\n",
       "       'ANNUAL GROWTH RATE (RURAL)', 'ALL SEXES (URBAN)', 'MALE (URBAN)',\n",
       "       'FEMALE (URBAN)', 'TRANSGENDER (URBAN)', 'SEX RATIO (URBAN)',\n",
       "       'AVG HOUSEHOLD SIZE (URBAN)', 'POPULATION 1998 (URBAN)',\n",
       "       'ANNUAL GROWTH RATE (URBAN)'],\n",
       "      dtype='object')"
      ]
     },
     "execution_count": 14,
     "metadata": {},
     "output_type": "execute_result"
    }
   ],
   "source": [
    "df.columns"
   ]
  },
  {
   "cell_type": "code",
   "execution_count": 17,
   "id": "52a1dc57",
   "metadata": {},
   "outputs": [
    {
     "data": {
      "text/plain": [
       "<Axes: xlabel='PROVINCE', ylabel='ALL SEXES (URBAN)'>"
      ]
     },
     "execution_count": 17,
     "metadata": {},
     "output_type": "execute_result"
    },
    {
     "data": {
      "image/png": "[encoded data removed]",
      "text/plain": [
       "<Figure size 640x480 with 1 Axes>"
      ]
     },
     "metadata": {},
     "output_type": "display_data"
    }
   ],
   "source": [
    "sns.boxplot(df , x='PROVINCE', y='ALL SEXES (URBAN)', hue='DISTRICT')"
   ]
  },
  {
   "cell_type": "markdown",
   "id": "5dac1080",
   "metadata": {},
   "source": [
    "It is really hard to plot so usinggroup by function"
   ]
  },
  {
   "cell_type": "code",
   "execution_count": 18,
   "id": "d97d35e7",
   "metadata": {},
   "outputs": [
    {
     "data": {
      "text/plain": [
       "28"
      ]
     },
     "execution_count": 18,
     "metadata": {},
     "output_type": "execute_result"
    }
   ],
   "source": [
    "df[\"DIVISION\"].nunique()"
   ]
  },
  {
   "cell_type": "code",
   "execution_count": 21,
   "id": "29cfbe2a",
   "metadata": {},
   "outputs": [
    {
     "data": {
      "application/vnd.microsoft.datawrangler.viewer.v0+json": {
       "columns": [
        {
         "name": "DIVISION",
         "rawType": "object",
         "type": "string"
        },
        {
         "name": "0",
         "rawType": "int64",
         "type": "integer"
        }
       ],
       "ref": "4259d792-f867-44ce-b89f-8b0b42449bac",
       "rows": [
        [
         "Badin Division",
         "5"
        ],
        [
         "MARDAN DIVISION",
         "7"
        ],
        [
         "SAHIWAL DIVISION",
         "7"
        ],
        [
         "KOHAT DIVISION",
         "14"
        ],
        [
         "MULTAN DIVISION",
         "14"
        ],
        [
         "D.G.KHAN DIVISION",
         "14"
        ],
        [
         "DERA ISMAIL KHAN DIVISION",
         "15"
        ],
        [
         "HAZARA DIVISION",
         "15"
        ],
        [
         "BANNU DIVISION",
         "15"
        ],
        [
         "Shaheed Benazirabad Division",
         "15"
        ],
        [
         "BAHAWALPUR DIVISION",
         "15"
        ],
        [
         "LAHORE DIVISION",
         "17"
        ],
        [
         "SARGODHA DIVISION",
         "17"
        ],
        [
         "FAISALABAD DIVISION",
         "17"
        ],
        [
         "Kalat Division",
         "18"
        ],
        [
         "PESHAWAR DIVISION",
         "18"
        ],
        [
         "Mirpurkhas Division",
         "18"
        ],
        [
         "Sukkur Division",
         "18"
        ],
        [
         "Zhob Division",
         "19"
        ],
        [
         "Naseerabad Division",
         "19"
        ],
        [
         "GUJRANWALA DIVISION",
         "20"
        ],
        [
         "Larkana Division",
         "21"
        ],
        [
         "RAWALPINDI DIVISION",
         "22"
        ],
        [
         "Hyderabad Division",
         "30"
        ],
        [
         "Karachi Division",
         "30"
        ],
        [
         "MALAKAND DIVISION",
         "33"
        ],
        [
         "Makran Division",
         "37"
        ],
        [
         "Quetta Division",
         "38"
        ]
       ],
       "shape": {
        "columns": 1,
        "rows": 28
       }
      },
      "text/plain": [
       "DIVISION\n",
       "Badin Division                   5\n",
       "MARDAN DIVISION                  7\n",
       "SAHIWAL DIVISION                 7\n",
       "KOHAT DIVISION                  14\n",
       "MULTAN DIVISION                 14\n",
       "D.G.KHAN DIVISION               14\n",
       "DERA ISMAIL KHAN DIVISION       15\n",
       "HAZARA DIVISION                 15\n",
       "BANNU DIVISION                  15\n",
       "Shaheed Benazirabad Division    15\n",
       "BAHAWALPUR DIVISION             15\n",
       "LAHORE DIVISION                 17\n",
       "SARGODHA DIVISION               17\n",
       "FAISALABAD DIVISION             17\n",
       "Kalat Division                  18\n",
       "PESHAWAR DIVISION               18\n",
       "Mirpurkhas Division             18\n",
       "Sukkur Division                 18\n",
       "Zhob Division                   19\n",
       "Naseerabad Division             19\n",
       "GUJRANWALA DIVISION             20\n",
       "Larkana Division                21\n",
       "RAWALPINDI DIVISION             22\n",
       "Hyderabad Division              30\n",
       "Karachi Division                30\n",
       "MALAKAND DIVISION               33\n",
       "Makran Division                 37\n",
       "Quetta Division                 38\n",
       "dtype: int64"
      ]
     },
     "execution_count": 21,
     "metadata": {},
     "output_type": "execute_result"
    }
   ],
   "source": [
    "df.groupby(['DIVISION']).size().sort_values()"
   ]
  },
  {
   "cell_type": "code",
   "execution_count": 22,
   "id": "90879e5c",
   "metadata": {},
   "outputs": [
    {
     "data": {
      "application/vnd.microsoft.datawrangler.viewer.v0+json": {
       "columns": [
        {
         "name": "DIVISION",
         "rawType": "object",
         "type": "string"
        },
        {
         "name": "ALL SEXES (RURAL)",
         "rawType": "float64",
         "type": "float"
        }
       ],
       "ref": "96f8d9f8-6434-4c9e-a1ba-851b5004d385",
       "rows": [
        [
         "BAHAWALPUR DIVISION",
         "575317.5333333333"
        ],
        [
         "BANNU DIVISION",
         "167286.86666666667"
        ],
        [
         "Badin Division",
         "282922.8"
        ],
        [
         "D.G.KHAN DIVISION",
         "614505.1428571428"
        ],
        [
         "DERA ISMAIL KHAN DIVISION",
         "156810.2"
        ],
        [
         "FAISALABAD DIVISION",
         "526807.7647058824"
        ],
        [
         "GUJRANWALA DIVISION",
         "510698.2"
        ],
        [
         "HAZARA DIVISION",
         "316744.8"
        ],
        [
         "Hyderabad Division",
         "176117.8"
        ],
        [
         "KOHAT DIVISION",
         "179610.57142857142"
        ],
        [
         "Kalat Division",
         "60748.77777777778"
        ],
        [
         "Karachi Division",
         "38016.4"
        ],
        [
         "LAHORE DIVISION",
         "348967.8823529412"
        ],
        [
         "Larkana Division",
         "201900.33333333334"
        ],
        [
         "MALAKAND DIVISION",
         "253212.51515151514"
        ],
        [
         "MARDAN DIVISION",
         "468955.71428571426"
        ],
        [
         "MULTAN DIVISION",
         "632220.7857142857"
        ],
        [
         "Makran Division",
         "42605.43243243243"
        ],
        [
         "Mirpurkhas Division",
         "189710.72222222222"
        ],
        [
         "Naseerabad Division",
         "70283.57894736843"
        ],
        [
         "PESHAWAR DIVISION",
         "317484.1111111111"
        ],
        [
         "Quetta Division",
         "92976.8947368421"
        ],
        [
         "RAWALPINDI DIVISION",
         "266913.7727272727"
        ],
        [
         "SAHIWAL DIVISION",
         "818689.2857142857"
        ],
        [
         "SARGODHA DIVISION",
         "345524.5882352941"
        ],
        [
         "Shaheed Benazirabad Division",
         "255644.26666666666"
        ],
        [
         "Sukkur Division",
         "204646.5"
        ],
        [
         "Zhob Division",
         "70591.84210526316"
        ]
       ],
       "shape": {
        "columns": 1,
        "rows": 28
       }
      },
      "text/plain": [
       "DIVISION\n",
       "BAHAWALPUR DIVISION             575317.533333\n",
       "BANNU DIVISION                  167286.866667\n",
       "Badin Division                  282922.800000\n",
       "D.G.KHAN DIVISION               614505.142857\n",
       "DERA ISMAIL KHAN DIVISION       156810.200000\n",
       "FAISALABAD DIVISION             526807.764706\n",
       "GUJRANWALA DIVISION             510698.200000\n",
       "HAZARA DIVISION                 316744.800000\n",
       "Hyderabad Division              176117.800000\n",
       "KOHAT DIVISION                  179610.571429\n",
       "Kalat Division                   60748.777778\n",
       "Karachi Division                 38016.400000\n",
       "LAHORE DIVISION                 348967.882353\n",
       "Larkana Division                201900.333333\n",
       "MALAKAND DIVISION               253212.515152\n",
       "MARDAN DIVISION                 468955.714286\n",
       "MULTAN DIVISION                 632220.785714\n",
       "Makran Division                  42605.432432\n",
       "Mirpurkhas Division             189710.722222\n",
       "Naseerabad Division              70283.578947\n",
       "PESHAWAR DIVISION               317484.111111\n",
       "Quetta Division                  92976.894737\n",
       "RAWALPINDI DIVISION             266913.772727\n",
       "SAHIWAL DIVISION                818689.285714\n",
       "SARGODHA DIVISION               345524.588235\n",
       "Shaheed Benazirabad Division    255644.266667\n",
       "Sukkur Division                 204646.500000\n",
       "Zhob Division                    70591.842105\n",
       "Name: ALL SEXES (RURAL), dtype: float64"
      ]
     },
     "execution_count": 22,
     "metadata": {},
     "output_type": "execute_result"
    }
   ],
   "source": [
    "df.groupby('DIVISION')['ALL SEXES (RURAL)'].mean()"
   ]
  },
  {
   "cell_type": "code",
   "execution_count": 23,
   "id": "71bc58a9",
   "metadata": {},
   "outputs": [
    {
     "data": {
      "application/vnd.microsoft.datawrangler.viewer.v0+json": {
       "columns": [
        {
         "name": "index",
         "rawType": "int64",
         "type": "integer"
        },
        {
         "name": "PROVINCE",
         "rawType": "object",
         "type": "string"
        },
        {
         "name": "DISTRICT",
         "rawType": "object",
         "type": "string"
        },
        {
         "name": "Percent Change (RURAL)",
         "rawType": "float64",
         "type": "float"
        },
        {
         "name": "Percent Change (URBAN)",
         "rawType": "float64",
         "type": "float"
        }
       ],
       "ref": "82876604-3026-4f97-9deb-4455a0d1128a",
       "rows": [
        [
         "0",
         "PUNJAB",
         "BAHAWALNAGAR DISTRICT",
         "51.9368856800926",
         "44.88918787606981"
        ],
        [
         "1",
         "PUNJAB",
         "BAHAWALNAGAR DISTRICT",
         "36.455857953498004",
         "46.0830799612854"
        ],
        [
         "2",
         "PUNJAB",
         "BAHAWALNAGAR DISTRICT",
         "43.94383146250981",
         "77.63663134798048"
        ],
        [
         "3",
         "PUNJAB",
         "BAHAWALNAGAR DISTRICT",
         "28.509835442569692",
         "68.90931488676206"
        ],
        [
         "4",
         "PUNJAB",
         "BAHAWALNAGAR DISTRICT",
         "42.998423843862625",
         "91.92417967505575"
        ]
       ],
       "shape": {
        "columns": 4,
        "rows": 5
       }
      },
      "text/html": [
       "<div>\n",
       "<style scoped>\n",
       "    .dataframe tbody tr th:only-of-type {\n",
       "        vertical-align: middle;\n",
       "    }\n",
       "\n",
       "    .dataframe tbody tr th {\n",
       "        vertical-align: top;\n",
       "    }\n",
       "\n",
       "    .dataframe thead th {\n",
       "        text-align: right;\n",
       "    }\n",
       "</style>\n",
       "<table border=\"1\" class=\"dataframe\">\n",
       "  <thead>\n",
       "    <tr style=\"text-align: right;\">\n",
       "      <th></th>\n",
       "      <th>PROVINCE</th>\n",
       "      <th>DISTRICT</th>\n",
       "      <th>Percent Change (RURAL)</th>\n",
       "      <th>Percent Change (URBAN)</th>\n",
       "    </tr>\n",
       "  </thead>\n",
       "  <tbody>\n",
       "    <tr>\n",
       "      <th>0</th>\n",
       "      <td>PUNJAB</td>\n",
       "      <td>BAHAWALNAGAR DISTRICT</td>\n",
       "      <td>51.936886</td>\n",
       "      <td>44.889188</td>\n",
       "    </tr>\n",
       "    <tr>\n",
       "      <th>1</th>\n",
       "      <td>PUNJAB</td>\n",
       "      <td>BAHAWALNAGAR DISTRICT</td>\n",
       "      <td>36.455858</td>\n",
       "      <td>46.083080</td>\n",
       "    </tr>\n",
       "    <tr>\n",
       "      <th>2</th>\n",
       "      <td>PUNJAB</td>\n",
       "      <td>BAHAWALNAGAR DISTRICT</td>\n",
       "      <td>43.943831</td>\n",
       "      <td>77.636631</td>\n",
       "    </tr>\n",
       "    <tr>\n",
       "      <th>3</th>\n",
       "      <td>PUNJAB</td>\n",
       "      <td>BAHAWALNAGAR DISTRICT</td>\n",
       "      <td>28.509835</td>\n",
       "      <td>68.909315</td>\n",
       "    </tr>\n",
       "    <tr>\n",
       "      <th>4</th>\n",
       "      <td>PUNJAB</td>\n",
       "      <td>BAHAWALNAGAR DISTRICT</td>\n",
       "      <td>42.998424</td>\n",
       "      <td>91.924180</td>\n",
       "    </tr>\n",
       "  </tbody>\n",
       "</table>\n",
       "</div>"
      ],
      "text/plain": [
       "  PROVINCE               DISTRICT  Percent Change (RURAL)  \\\n",
       "0   PUNJAB  BAHAWALNAGAR DISTRICT               51.936886   \n",
       "1   PUNJAB  BAHAWALNAGAR DISTRICT               36.455858   \n",
       "2   PUNJAB  BAHAWALNAGAR DISTRICT               43.943831   \n",
       "3   PUNJAB  BAHAWALNAGAR DISTRICT               28.509835   \n",
       "4   PUNJAB  BAHAWALNAGAR DISTRICT               42.998424   \n",
       "\n",
       "   Percent Change (URBAN)  \n",
       "0               44.889188  \n",
       "1               46.083080  \n",
       "2               77.636631  \n",
       "3               68.909315  \n",
       "4               91.924180  "
      ]
     },
     "execution_count": 23,
     "metadata": {},
     "output_type": "execute_result"
    }
   ],
   "source": [
    "# Calculate percent change in population for rural and urban areas\n",
    "df['Percent Change (RURAL)'] = ((df['ALL SEXES (RURAL)'] - df['POPULATION 1998 (RURAL)']) / df['POPULATION 1998 (RURAL)']) * 100\n",
    "df['Percent Change (URBAN)'] = ((df['ALL SEXES (URBAN)'] - df['POPULATION 1998 (URBAN)']) / df['POPULATION 1998 (URBAN)']) * 100\n",
    "\n",
    "df[['PROVINCE', 'DISTRICT', 'Percent Change (RURAL)', 'Percent Change (URBAN)']].head()"
   ]
  },
  {
   "cell_type": "code",
   "execution_count": 24,
   "id": "7c367d7b",
   "metadata": {},
   "outputs": [
    {
     "data": {
      "application/vnd.microsoft.datawrangler.viewer.v0+json": {
       "columns": [
        {
         "name": "index",
         "rawType": "int64",
         "type": "integer"
        },
        {
         "name": "PROVINCE_DIVISION_DISTRICT",
         "rawType": "object",
         "type": "string"
        }
       ],
       "ref": "1a8dc26c-afc1-4fcc-9d26-7c4394999549",
       "rows": [
        [
         "0",
         "PUNJAB | BAHAWALPUR DIVISION | BAHAWALNAGAR DISTRICT"
        ],
        [
         "1",
         "PUNJAB | BAHAWALPUR DIVISION | BAHAWALNAGAR DISTRICT"
        ],
        [
         "2",
         "PUNJAB | BAHAWALPUR DIVISION | BAHAWALNAGAR DISTRICT"
        ],
        [
         "3",
         "PUNJAB | BAHAWALPUR DIVISION | BAHAWALNAGAR DISTRICT"
        ],
        [
         "4",
         "PUNJAB | BAHAWALPUR DIVISION | BAHAWALNAGAR DISTRICT"
        ]
       ],
       "shape": {
        "columns": 1,
        "rows": 5
       }
      },
      "text/html": [
       "<div>\n",
       "<style scoped>\n",
       "    .dataframe tbody tr th:only-of-type {\n",
       "        vertical-align: middle;\n",
       "    }\n",
       "\n",
       "    .dataframe tbody tr th {\n",
       "        vertical-align: top;\n",
       "    }\n",
       "\n",
       "    .dataframe thead th {\n",
       "        text-align: right;\n",
       "    }\n",
       "</style>\n",
       "<table border=\"1\" class=\"dataframe\">\n",
       "  <thead>\n",
       "    <tr style=\"text-align: right;\">\n",
       "      <th></th>\n",
       "      <th>PROVINCE_DIVISION_DISTRICT</th>\n",
       "    </tr>\n",
       "  </thead>\n",
       "  <tbody>\n",
       "    <tr>\n",
       "      <th>0</th>\n",
       "      <td>PUNJAB | BAHAWALPUR DIVISION | BAHAWALNAGAR DI...</td>\n",
       "    </tr>\n",
       "    <tr>\n",
       "      <th>1</th>\n",
       "      <td>PUNJAB | BAHAWALPUR DIVISION | BAHAWALNAGAR DI...</td>\n",
       "    </tr>\n",
       "    <tr>\n",
       "      <th>2</th>\n",
       "      <td>PUNJAB | BAHAWALPUR DIVISION | BAHAWALNAGAR DI...</td>\n",
       "    </tr>\n",
       "    <tr>\n",
       "      <th>3</th>\n",
       "      <td>PUNJAB | BAHAWALPUR DIVISION | BAHAWALNAGAR DI...</td>\n",
       "    </tr>\n",
       "    <tr>\n",
       "      <th>4</th>\n",
       "      <td>PUNJAB | BAHAWALPUR DIVISION | BAHAWALNAGAR DI...</td>\n",
       "    </tr>\n",
       "  </tbody>\n",
       "</table>\n",
       "</div>"
      ],
      "text/plain": [
       "                          PROVINCE_DIVISION_DISTRICT\n",
       "0  PUNJAB | BAHAWALPUR DIVISION | BAHAWALNAGAR DI...\n",
       "1  PUNJAB | BAHAWALPUR DIVISION | BAHAWALNAGAR DI...\n",
       "2  PUNJAB | BAHAWALPUR DIVISION | BAHAWALNAGAR DI...\n",
       "3  PUNJAB | BAHAWALPUR DIVISION | BAHAWALNAGAR DI...\n",
       "4  PUNJAB | BAHAWALPUR DIVISION | BAHAWALNAGAR DI..."
      ]
     },
     "execution_count": 24,
     "metadata": {},
     "output_type": "execute_result"
    }
   ],
   "source": [
    "# Combine 'PROVINCE', 'DIVISION', and 'DISTRICT' into a single column\n",
    "df['PROVINCE_DIVISION_DISTRICT'] = df['PROVINCE'] + ' | ' + df['DIVISION'] + ' | ' + df['DISTRICT']\n",
    "df[['PROVINCE_DIVISION_DISTRICT']].head()"
   ]
  }
 ],
 "metadata": {
  "kernelspec": {
   "display_name": "Python 3",
   "language": "python",
   "name": "python3"
  },
  "language_info": {
   "codemirror_mode": {
    "name": "ipython",
    "version": 3
   },
   "file_extension": ".py",
   "mimetype": "text/x-python",
   "name": "python",
   "nbconvert_exporter": "python",
   "pygments_lexer": "ipython3",
   "version": "3.12.9"
  }
 },
 "nbformat": 4,
 "nbformat_minor": 5
}

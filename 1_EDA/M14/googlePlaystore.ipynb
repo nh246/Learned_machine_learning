{
 "cells": [
  {
   "cell_type": "markdown",
   "id": "dc7379e2",
   "metadata": {},
   "source": [
    "# Google Play Store Apps\n",
    "\n",
    "### CONTEXT- \n",
    "While many public datasets (on Kaggle and the like) provide Apple App Store data, there are not many counterpart datasets available for Google Play Store apps anywhere on the web. On digging deeper, I found out that iTunes App Store page deploys a nicely indexed appendix-like structure to allow for simple and easy web scraping. On the other hand, Google Play Store uses sophisticated modern-day techniques (like dynamic page load) using JQuery making scraping more challenging.\n",
    "\n",
    "___\n",
    "The dataset [Link](https://www.kaggle.com/datasets/lava18/google-play-store-apps)"
   ]
  },
  {
   "cell_type": "code",
   "execution_count": 15,
   "id": "d971a047",
   "metadata": {},
   "outputs": [],
   "source": [
    "# importing Libraries\n",
    "import pandas as pd\n",
    "import numpy as np\n",
    "import matplotlib.pyplot as plt\n",
    "import seaborn as sns\n",
    "import ydata_profiling as yp\n"
   ]
  },
  {
   "cell_type": "code",
   "execution_count": 16,
   "id": "52248dc7",
   "metadata": {},
   "outputs": [
    {
     "data": {
      "application/vnd.microsoft.datawrangler.viewer.v0+json": {
       "columns": [
        {
         "name": "index",
         "rawType": "int64",
         "type": "integer"
        },
        {
         "name": "App",
         "rawType": "object",
         "type": "string"
        },
        {
         "name": "Category",
         "rawType": "object",
         "type": "string"
        },
        {
         "name": "Rating",
         "rawType": "float64",
         "type": "float"
        },
        {
         "name": "Reviews",
         "rawType": "object",
         "type": "string"
        },
        {
         "name": "Size",
         "rawType": "object",
         "type": "string"
        },
        {
         "name": "Installs",
         "rawType": "object",
         "type": "string"
        },
        {
         "name": "Type",
         "rawType": "object",
         "type": "string"
        },
        {
         "name": "Price",
         "rawType": "object",
         "type": "string"
        },
        {
         "name": "Content Rating",
         "rawType": "object",
         "type": "string"
        },
        {
         "name": "Genres",
         "rawType": "object",
         "type": "string"
        },
        {
         "name": "Last Updated",
         "rawType": "object",
         "type": "string"
        },
        {
         "name": "Current Ver",
         "rawType": "object",
         "type": "string"
        },
        {
         "name": "Android Ver",
         "rawType": "object",
         "type": "string"
        }
       ],
       "ref": "46e01f96-d77d-477a-b426-f7cb4007c089",
       "rows": [
        [
         "0",
         "Photo Editor & Candy Camera & Grid & ScrapBook",
         "ART_AND_DESIGN",
         "4.1",
         "159",
         "19M",
         "10,000+",
         "Free",
         "0",
         "Everyone",
         "Art & Design",
         "January 7, 2018",
         "1.0.0",
         "4.0.3 and up"
        ],
        [
         "1",
         "Coloring book moana",
         "ART_AND_DESIGN",
         "3.9",
         "967",
         "14M",
         "500,000+",
         "Free",
         "0",
         "Everyone",
         "Art & Design;Pretend Play",
         "January 15, 2018",
         "2.0.0",
         "4.0.3 and up"
        ],
        [
         "2",
         "U Launcher Lite – FREE Live Cool Themes, Hide Apps",
         "ART_AND_DESIGN",
         "4.7",
         "87510",
         "8.7M",
         "5,000,000+",
         "Free",
         "0",
         "Everyone",
         "Art & Design",
         "August 1, 2018",
         "1.2.4",
         "4.0.3 and up"
        ],
        [
         "3",
         "Sketch - Draw & Paint",
         "ART_AND_DESIGN",
         "4.5",
         "215644",
         "25M",
         "50,000,000+",
         "Free",
         "0",
         "Teen",
         "Art & Design",
         "June 8, 2018",
         "Varies with device",
         "4.2 and up"
        ],
        [
         "4",
         "Pixel Draw - Number Art Coloring Book",
         "ART_AND_DESIGN",
         "4.3",
         "967",
         "2.8M",
         "100,000+",
         "Free",
         "0",
         "Everyone",
         "Art & Design;Creativity",
         "June 20, 2018",
         "1.1",
         "4.4 and up"
        ]
       ],
       "shape": {
        "columns": 13,
        "rows": 5
       }
      },
      "text/html": [
       "<div>\n",
       "<style scoped>\n",
       "    .dataframe tbody tr th:only-of-type {\n",
       "        vertical-align: middle;\n",
       "    }\n",
       "\n",
       "    .dataframe tbody tr th {\n",
       "        vertical-align: top;\n",
       "    }\n",
       "\n",
       "    .dataframe thead th {\n",
       "        text-align: right;\n",
       "    }\n",
       "</style>\n",
       "<table border=\"1\" class=\"dataframe\">\n",
       "  <thead>\n",
       "    <tr style=\"text-align: right;\">\n",
       "      <th></th>\n",
       "      <th>App</th>\n",
       "      <th>Category</th>\n",
       "      <th>Rating</th>\n",
       "      <th>Reviews</th>\n",
       "      <th>Size</th>\n",
       "      <th>Installs</th>\n",
       "      <th>Type</th>\n",
       "      <th>Price</th>\n",
       "      <th>Content Rating</th>\n",
       "      <th>Genres</th>\n",
       "      <th>Last Updated</th>\n",
       "      <th>Current Ver</th>\n",
       "      <th>Android Ver</th>\n",
       "    </tr>\n",
       "  </thead>\n",
       "  <tbody>\n",
       "    <tr>\n",
       "      <th>0</th>\n",
       "      <td>Photo Editor &amp; Candy Camera &amp; Grid &amp; ScrapBook</td>\n",
       "      <td>ART_AND_DESIGN</td>\n",
       "      <td>4.1</td>\n",
       "      <td>159</td>\n",
       "      <td>19M</td>\n",
       "      <td>10,000+</td>\n",
       "      <td>Free</td>\n",
       "      <td>0</td>\n",
       "      <td>Everyone</td>\n",
       "      <td>Art &amp; Design</td>\n",
       "      <td>January 7, 2018</td>\n",
       "      <td>1.0.0</td>\n",
       "      <td>4.0.3 and up</td>\n",
       "    </tr>\n",
       "    <tr>\n",
       "      <th>1</th>\n",
       "      <td>Coloring book moana</td>\n",
       "      <td>ART_AND_DESIGN</td>\n",
       "      <td>3.9</td>\n",
       "      <td>967</td>\n",
       "      <td>14M</td>\n",
       "      <td>500,000+</td>\n",
       "      <td>Free</td>\n",
       "      <td>0</td>\n",
       "      <td>Everyone</td>\n",
       "      <td>Art &amp; Design;Pretend Play</td>\n",
       "      <td>January 15, 2018</td>\n",
       "      <td>2.0.0</td>\n",
       "      <td>4.0.3 and up</td>\n",
       "    </tr>\n",
       "    <tr>\n",
       "      <th>2</th>\n",
       "      <td>U Launcher Lite – FREE Live Cool Themes, Hide ...</td>\n",
       "      <td>ART_AND_DESIGN</td>\n",
       "      <td>4.7</td>\n",
       "      <td>87510</td>\n",
       "      <td>8.7M</td>\n",
       "      <td>5,000,000+</td>\n",
       "      <td>Free</td>\n",
       "      <td>0</td>\n",
       "      <td>Everyone</td>\n",
       "      <td>Art &amp; Design</td>\n",
       "      <td>August 1, 2018</td>\n",
       "      <td>1.2.4</td>\n",
       "      <td>4.0.3 and up</td>\n",
       "    </tr>\n",
       "    <tr>\n",
       "      <th>3</th>\n",
       "      <td>Sketch - Draw &amp; Paint</td>\n",
       "      <td>ART_AND_DESIGN</td>\n",
       "      <td>4.5</td>\n",
       "      <td>215644</td>\n",
       "      <td>25M</td>\n",
       "      <td>50,000,000+</td>\n",
       "      <td>Free</td>\n",
       "      <td>0</td>\n",
       "      <td>Teen</td>\n",
       "      <td>Art &amp; Design</td>\n",
       "      <td>June 8, 2018</td>\n",
       "      <td>Varies with device</td>\n",
       "      <td>4.2 and up</td>\n",
       "    </tr>\n",
       "    <tr>\n",
       "      <th>4</th>\n",
       "      <td>Pixel Draw - Number Art Coloring Book</td>\n",
       "      <td>ART_AND_DESIGN</td>\n",
       "      <td>4.3</td>\n",
       "      <td>967</td>\n",
       "      <td>2.8M</td>\n",
       "      <td>100,000+</td>\n",
       "      <td>Free</td>\n",
       "      <td>0</td>\n",
       "      <td>Everyone</td>\n",
       "      <td>Art &amp; Design;Creativity</td>\n",
       "      <td>June 20, 2018</td>\n",
       "      <td>1.1</td>\n",
       "      <td>4.4 and up</td>\n",
       "    </tr>\n",
       "  </tbody>\n",
       "</table>\n",
       "</div>"
      ],
      "text/plain": [
       "                                                 App        Category  Rating  \\\n",
       "0     Photo Editor & Candy Camera & Grid & ScrapBook  ART_AND_DESIGN     4.1   \n",
       "1                                Coloring book moana  ART_AND_DESIGN     3.9   \n",
       "2  U Launcher Lite – FREE Live Cool Themes, Hide ...  ART_AND_DESIGN     4.7   \n",
       "3                              Sketch - Draw & Paint  ART_AND_DESIGN     4.5   \n",
       "4              Pixel Draw - Number Art Coloring Book  ART_AND_DESIGN     4.3   \n",
       "\n",
       "  Reviews  Size     Installs  Type Price Content Rating  \\\n",
       "0     159   19M      10,000+  Free     0       Everyone   \n",
       "1     967   14M     500,000+  Free     0       Everyone   \n",
       "2   87510  8.7M   5,000,000+  Free     0       Everyone   \n",
       "3  215644   25M  50,000,000+  Free     0           Teen   \n",
       "4     967  2.8M     100,000+  Free     0       Everyone   \n",
       "\n",
       "                      Genres      Last Updated         Current Ver  \\\n",
       "0               Art & Design   January 7, 2018               1.0.0   \n",
       "1  Art & Design;Pretend Play  January 15, 2018               2.0.0   \n",
       "2               Art & Design    August 1, 2018               1.2.4   \n",
       "3               Art & Design      June 8, 2018  Varies with device   \n",
       "4    Art & Design;Creativity     June 20, 2018                 1.1   \n",
       "\n",
       "    Android Ver  \n",
       "0  4.0.3 and up  \n",
       "1  4.0.3 and up  \n",
       "2  4.0.3 and up  \n",
       "3    4.2 and up  \n",
       "4    4.4 and up  "
      ]
     },
     "execution_count": 16,
     "metadata": {},
     "output_type": "execute_result"
    }
   ],
   "source": [
    "# imporing Dataset\n",
    "\n",
    "df = pd.read_csv('./Dataset/googleplaystore.csv')\n",
    "df.head()"
   ]
  },
  {
   "cell_type": "code",
   "execution_count": 6,
   "id": "15fd6a84",
   "metadata": {},
   "outputs": [
    {
     "data": {
      "application/vnd.jupyter.widget-view+json": {
       "model_id": "8d52f242808441e69acb612e7feb8ea7",
       "version_major": 2,
       "version_minor": 0
      },
      "text/plain": [
       "Summarize dataset:   0%|          | 0/5 [00:00<?, ?it/s]"
      ]
     },
     "metadata": {},
     "output_type": "display_data"
    },
    {
     "name": "stderr",
     "output_type": "stream",
     "text": [
      "100%|██████████| 13/13 [00:01<00:00,  8.51it/s]\n"
     ]
    },
    {
     "data": {
      "application/vnd.jupyter.widget-view+json": {
       "model_id": "a0467d2f934643c7b42289374760b8a9",
       "version_major": 2,
       "version_minor": 0
      },
      "text/plain": [
       "Generate report structure:   0%|          | 0/1 [00:00<?, ?it/s]"
      ]
     },
     "metadata": {},
     "output_type": "display_data"
    },
    {
     "data": {
      "application/vnd.jupyter.widget-view+json": {
       "model_id": "ecb28e626d684869a86a881485280cb8",
       "version_major": 2,
       "version_minor": 0
      },
      "text/plain": [
       "Render HTML:   0%|          | 0/1 [00:00<?, ?it/s]"
      ]
     },
     "metadata": {},
     "output_type": "display_data"
    },
    {
     "data": {
      "application/vnd.jupyter.widget-view+json": {
       "model_id": "1dec4efb776c4d95aa3f143cfd2d73aa",
       "version_major": 2,
       "version_minor": 0
      },
      "text/plain": [
       "Export report to file:   0%|          | 0/1 [00:00<?, ?it/s]"
      ]
     },
     "metadata": {},
     "output_type": "display_data"
    }
   ],
   "source": [
    "# Ydata Profiling Report\n",
    "profile= yp.ProfileReport(df)\n",
    "profile.to_file('./Dataset/report_googleplaystore.html')"
   ]
  },
  {
   "cell_type": "code",
   "execution_count": 17,
   "id": "13e0437c",
   "metadata": {},
   "outputs": [
    {
     "name": "stdout",
     "output_type": "stream",
     "text": [
      "<class 'pandas.core.frame.DataFrame'>\n",
      "RangeIndex: 10841 entries, 0 to 10840\n",
      "Data columns (total 13 columns):\n",
      " #   Column          Non-Null Count  Dtype  \n",
      "---  ------          --------------  -----  \n",
      " 0   App             10841 non-null  object \n",
      " 1   Category        10841 non-null  object \n",
      " 2   Rating          9367 non-null   float64\n",
      " 3   Reviews         10841 non-null  object \n",
      " 4   Size            10841 non-null  object \n",
      " 5   Installs        10841 non-null  object \n",
      " 6   Type            10840 non-null  object \n",
      " 7   Price           10841 non-null  object \n",
      " 8   Content Rating  10840 non-null  object \n",
      " 9   Genres          10841 non-null  object \n",
      " 10  Last Updated    10841 non-null  object \n",
      " 11  Current Ver     10833 non-null  object \n",
      " 12  Android Ver     10838 non-null  object \n",
      "dtypes: float64(1), object(12)\n",
      "memory usage: 1.1+ MB\n"
     ]
    }
   ],
   "source": [
    "df.info()"
   ]
  },
  {
   "cell_type": "code",
   "execution_count": 18,
   "id": "02637030",
   "metadata": {},
   "outputs": [
    {
     "data": {
      "application/vnd.microsoft.datawrangler.viewer.v0+json": {
       "columns": [
        {
         "name": "index",
         "rawType": "int64",
         "type": "integer"
        },
        {
         "name": "App",
         "rawType": "object",
         "type": "string"
        },
        {
         "name": "Category",
         "rawType": "object",
         "type": "string"
        },
        {
         "name": "Rating",
         "rawType": "float64",
         "type": "float"
        },
        {
         "name": "Reviews",
         "rawType": "object",
         "type": "string"
        },
        {
         "name": "Size",
         "rawType": "object",
         "type": "string"
        },
        {
         "name": "Installs",
         "rawType": "object",
         "type": "string"
        },
        {
         "name": "Type",
         "rawType": "object",
         "type": "string"
        },
        {
         "name": "Price",
         "rawType": "object",
         "type": "string"
        },
        {
         "name": "Content Rating",
         "rawType": "object",
         "type": "string"
        },
        {
         "name": "Genres",
         "rawType": "object",
         "type": "string"
        },
        {
         "name": "Last Updated",
         "rawType": "object",
         "type": "string"
        },
        {
         "name": "Current Ver",
         "rawType": "object",
         "type": "string"
        },
        {
         "name": "Android Ver",
         "rawType": "object",
         "type": "string"
        }
       ],
       "ref": "231c09cc-3bdd-4e81-8543-18c6ef308637",
       "rows": [
        [
         "0",
         "Photo Editor & Candy Camera & Grid & ScrapBook",
         "ART_AND_DESIGN",
         "4.1",
         "159",
         "19M",
         "10,000+",
         "Free",
         "0",
         "Everyone",
         "Art & Design",
         "January 7, 2018",
         "1.0.0",
         "4.0.3 and up"
        ],
        [
         "1",
         "Coloring book moana",
         "ART_AND_DESIGN",
         "3.9",
         "967",
         "14M",
         "500,000+",
         "Free",
         "0",
         "Everyone",
         "Art & Design;Pretend Play",
         "January 15, 2018",
         "2.0.0",
         "4.0.3 and up"
        ],
        [
         "2",
         "U Launcher Lite – FREE Live Cool Themes, Hide Apps",
         "ART_AND_DESIGN",
         "4.7",
         "87510",
         "8.7M",
         "5,000,000+",
         "Free",
         "0",
         "Everyone",
         "Art & Design",
         "August 1, 2018",
         "1.2.4",
         "4.0.3 and up"
        ],
        [
         "3",
         "Sketch - Draw & Paint",
         "ART_AND_DESIGN",
         "4.5",
         "215644",
         "25M",
         "50,000,000+",
         "Free",
         "0",
         "Teen",
         "Art & Design",
         "June 8, 2018",
         "Varies with device",
         "4.2 and up"
        ],
        [
         "4",
         "Pixel Draw - Number Art Coloring Book",
         "ART_AND_DESIGN",
         "4.3",
         "967",
         "2.8M",
         "100,000+",
         "Free",
         "0",
         "Everyone",
         "Art & Design;Creativity",
         "June 20, 2018",
         "1.1",
         "4.4 and up"
        ]
       ],
       "shape": {
        "columns": 13,
        "rows": 5
       }
      },
      "text/html": [
       "<div>\n",
       "<style scoped>\n",
       "    .dataframe tbody tr th:only-of-type {\n",
       "        vertical-align: middle;\n",
       "    }\n",
       "\n",
       "    .dataframe tbody tr th {\n",
       "        vertical-align: top;\n",
       "    }\n",
       "\n",
       "    .dataframe thead th {\n",
       "        text-align: right;\n",
       "    }\n",
       "</style>\n",
       "<table border=\"1\" class=\"dataframe\">\n",
       "  <thead>\n",
       "    <tr style=\"text-align: right;\">\n",
       "      <th></th>\n",
       "      <th>App</th>\n",
       "      <th>Category</th>\n",
       "      <th>Rating</th>\n",
       "      <th>Reviews</th>\n",
       "      <th>Size</th>\n",
       "      <th>Installs</th>\n",
       "      <th>Type</th>\n",
       "      <th>Price</th>\n",
       "      <th>Content Rating</th>\n",
       "      <th>Genres</th>\n",
       "      <th>Last Updated</th>\n",
       "      <th>Current Ver</th>\n",
       "      <th>Android Ver</th>\n",
       "    </tr>\n",
       "  </thead>\n",
       "  <tbody>\n",
       "    <tr>\n",
       "      <th>0</th>\n",
       "      <td>Photo Editor &amp; Candy Camera &amp; Grid &amp; ScrapBook</td>\n",
       "      <td>ART_AND_DESIGN</td>\n",
       "      <td>4.1</td>\n",
       "      <td>159</td>\n",
       "      <td>19M</td>\n",
       "      <td>10,000+</td>\n",
       "      <td>Free</td>\n",
       "      <td>0</td>\n",
       "      <td>Everyone</td>\n",
       "      <td>Art &amp; Design</td>\n",
       "      <td>January 7, 2018</td>\n",
       "      <td>1.0.0</td>\n",
       "      <td>4.0.3 and up</td>\n",
       "    </tr>\n",
       "    <tr>\n",
       "      <th>1</th>\n",
       "      <td>Coloring book moana</td>\n",
       "      <td>ART_AND_DESIGN</td>\n",
       "      <td>3.9</td>\n",
       "      <td>967</td>\n",
       "      <td>14M</td>\n",
       "      <td>500,000+</td>\n",
       "      <td>Free</td>\n",
       "      <td>0</td>\n",
       "      <td>Everyone</td>\n",
       "      <td>Art &amp; Design;Pretend Play</td>\n",
       "      <td>January 15, 2018</td>\n",
       "      <td>2.0.0</td>\n",
       "      <td>4.0.3 and up</td>\n",
       "    </tr>\n",
       "    <tr>\n",
       "      <th>2</th>\n",
       "      <td>U Launcher Lite – FREE Live Cool Themes, Hide ...</td>\n",
       "      <td>ART_AND_DESIGN</td>\n",
       "      <td>4.7</td>\n",
       "      <td>87510</td>\n",
       "      <td>8.7M</td>\n",
       "      <td>5,000,000+</td>\n",
       "      <td>Free</td>\n",
       "      <td>0</td>\n",
       "      <td>Everyone</td>\n",
       "      <td>Art &amp; Design</td>\n",
       "      <td>August 1, 2018</td>\n",
       "      <td>1.2.4</td>\n",
       "      <td>4.0.3 and up</td>\n",
       "    </tr>\n",
       "    <tr>\n",
       "      <th>3</th>\n",
       "      <td>Sketch - Draw &amp; Paint</td>\n",
       "      <td>ART_AND_DESIGN</td>\n",
       "      <td>4.5</td>\n",
       "      <td>215644</td>\n",
       "      <td>25M</td>\n",
       "      <td>50,000,000+</td>\n",
       "      <td>Free</td>\n",
       "      <td>0</td>\n",
       "      <td>Teen</td>\n",
       "      <td>Art &amp; Design</td>\n",
       "      <td>June 8, 2018</td>\n",
       "      <td>Varies with device</td>\n",
       "      <td>4.2 and up</td>\n",
       "    </tr>\n",
       "    <tr>\n",
       "      <th>4</th>\n",
       "      <td>Pixel Draw - Number Art Coloring Book</td>\n",
       "      <td>ART_AND_DESIGN</td>\n",
       "      <td>4.3</td>\n",
       "      <td>967</td>\n",
       "      <td>2.8M</td>\n",
       "      <td>100,000+</td>\n",
       "      <td>Free</td>\n",
       "      <td>0</td>\n",
       "      <td>Everyone</td>\n",
       "      <td>Art &amp; Design;Creativity</td>\n",
       "      <td>June 20, 2018</td>\n",
       "      <td>1.1</td>\n",
       "      <td>4.4 and up</td>\n",
       "    </tr>\n",
       "  </tbody>\n",
       "</table>\n",
       "</div>"
      ],
      "text/plain": [
       "                                                 App        Category  Rating  \\\n",
       "0     Photo Editor & Candy Camera & Grid & ScrapBook  ART_AND_DESIGN     4.1   \n",
       "1                                Coloring book moana  ART_AND_DESIGN     3.9   \n",
       "2  U Launcher Lite – FREE Live Cool Themes, Hide ...  ART_AND_DESIGN     4.7   \n",
       "3                              Sketch - Draw & Paint  ART_AND_DESIGN     4.5   \n",
       "4              Pixel Draw - Number Art Coloring Book  ART_AND_DESIGN     4.3   \n",
       "\n",
       "  Reviews  Size     Installs  Type Price Content Rating  \\\n",
       "0     159   19M      10,000+  Free     0       Everyone   \n",
       "1     967   14M     500,000+  Free     0       Everyone   \n",
       "2   87510  8.7M   5,000,000+  Free     0       Everyone   \n",
       "3  215644   25M  50,000,000+  Free     0           Teen   \n",
       "4     967  2.8M     100,000+  Free     0       Everyone   \n",
       "\n",
       "                      Genres      Last Updated         Current Ver  \\\n",
       "0               Art & Design   January 7, 2018               1.0.0   \n",
       "1  Art & Design;Pretend Play  January 15, 2018               2.0.0   \n",
       "2               Art & Design    August 1, 2018               1.2.4   \n",
       "3               Art & Design      June 8, 2018  Varies with device   \n",
       "4    Art & Design;Creativity     June 20, 2018                 1.1   \n",
       "\n",
       "    Android Ver  \n",
       "0  4.0.3 and up  \n",
       "1  4.0.3 and up  \n",
       "2  4.0.3 and up  \n",
       "3    4.2 and up  \n",
       "4    4.4 and up  "
      ]
     },
     "execution_count": 18,
     "metadata": {},
     "output_type": "execute_result"
    }
   ],
   "source": [
    "df.head()"
   ]
  },
  {
   "cell_type": "code",
   "execution_count": 19,
   "id": "daaf79c8",
   "metadata": {},
   "outputs": [
    {
     "data": {
      "application/vnd.microsoft.datawrangler.viewer.v0+json": {
       "columns": [
        {
         "name": "index",
         "rawType": "int64",
         "type": "integer"
        },
        {
         "name": "App",
         "rawType": "object",
         "type": "string"
        },
        {
         "name": "Category",
         "rawType": "object",
         "type": "string"
        },
        {
         "name": "Rating",
         "rawType": "float64",
         "type": "float"
        },
        {
         "name": "Reviews",
         "rawType": "object",
         "type": "string"
        },
        {
         "name": "Size",
         "rawType": "object",
         "type": "string"
        },
        {
         "name": "Installs",
         "rawType": "object",
         "type": "string"
        },
        {
         "name": "Type",
         "rawType": "object",
         "type": "string"
        },
        {
         "name": "Price",
         "rawType": "object",
         "type": "string"
        },
        {
         "name": "Content Rating",
         "rawType": "object",
         "type": "string"
        },
        {
         "name": "Genres",
         "rawType": "object",
         "type": "string"
        },
        {
         "name": "Last Updated",
         "rawType": "object",
         "type": "string"
        },
        {
         "name": "Current Ver",
         "rawType": "object",
         "type": "string"
        },
        {
         "name": "Android Ver",
         "rawType": "object",
         "type": "string"
        }
       ],
       "ref": "fa99b395-fa04-4e21-a38c-7aa2f00f7a74",
       "rows": [
        [
         "5460",
         "AP Installer",
         "TOOLS",
         "4.5",
         "23",
         "283k",
         "5,000+",
         "Free",
         "0",
         "Everyone",
         "Tools",
         "July 20, 2018",
         "13",
         "3.2 and up"
        ],
        [
         "5005",
         "Mupen64Plus AE (N64 Emulator)",
         "GAME",
         "4.2",
         "4569",
         "12M",
         "100,000+",
         "Paid",
         "$0.99",
         "Everyone",
         "Arcade",
         "January 19, 2014",
         "2.4.4",
         "2.0 and up"
        ],
        [
         "387",
         "Talkatone: Free Texts, Calls & Phone Number",
         "COMMUNICATION",
         "4.1",
         "132014",
         "25M",
         "10,000,000+",
         "Free",
         "0",
         "Everyone",
         "Communication",
         "July 18, 2018",
         "6.1",
         "4.2 and up"
        ],
        [
         "7568",
         "Centimeter Ruler",
         "TOOLS",
         "3.3",
         "16",
         "1.3M",
         "10,000+",
         "Free",
         "0",
         "Everyone",
         "Tools",
         "November 5, 2016",
         "2.0",
         "4.0 and up"
        ],
        [
         "8672",
         "Dude Perfect",
         "SPORTS",
         "4.5",
         "97",
         "1.9M",
         "10,000+",
         "Free",
         "0",
         "Everyone",
         "Sports",
         "June 28, 2017",
         "1.0",
         "4.1 and up"
        ],
        [
         "3965",
         "EMT Tutor NREMT-B Study Guide",
         "MEDICAL",
         "4.6",
         "625",
         "8.4M",
         "10,000+",
         "Paid",
         "$3.99",
         "Everyone",
         "Medical",
         "January 8, 2017",
         "2.1",
         "2.1 and up"
        ],
        [
         "9401",
         "100 Doors of Revenge",
         "FAMILY",
         "4.1",
         "105766",
         "48M",
         "10,000,000+",
         "Free",
         "0",
         "Teen",
         "Puzzle",
         "May 24, 2018",
         "2.2.2",
         "4.4 and up"
        ],
        [
         "3583",
         "Ali Baba's Farm Tutorial Kids Games",
         "PARENTING",
         null,
         "36",
         "5.5M",
         "5,000+",
         "Free",
         "0",
         "Everyone",
         "Parenting",
         "May 27, 2018",
         "4.7",
         "4.1 and up"
        ],
        [
         "3489",
         "Samsung Notes",
         "PRODUCTIVITY",
         "3.9",
         "15368",
         "Varies with device",
         "100,000,000+",
         "Free",
         "0",
         "Everyone",
         "Productivity",
         "January 22, 2018",
         "Varies with device",
         "Varies with device"
        ],
        [
         "2013",
         "Dog Run - Pet Dog Simulator",
         "GAME",
         "4.7",
         "48615",
         "24M",
         "10,000,000+",
         "Free",
         "0",
         "Everyone",
         "Simulation;Action & Adventure",
         "May 22, 2018",
         "1.4.12",
         "4.1 and up"
        ]
       ],
       "shape": {
        "columns": 13,
        "rows": 10
       }
      },
      "text/html": [
       "<div>\n",
       "<style scoped>\n",
       "    .dataframe tbody tr th:only-of-type {\n",
       "        vertical-align: middle;\n",
       "    }\n",
       "\n",
       "    .dataframe tbody tr th {\n",
       "        vertical-align: top;\n",
       "    }\n",
       "\n",
       "    .dataframe thead th {\n",
       "        text-align: right;\n",
       "    }\n",
       "</style>\n",
       "<table border=\"1\" class=\"dataframe\">\n",
       "  <thead>\n",
       "    <tr style=\"text-align: right;\">\n",
       "      <th></th>\n",
       "      <th>App</th>\n",
       "      <th>Category</th>\n",
       "      <th>Rating</th>\n",
       "      <th>Reviews</th>\n",
       "      <th>Size</th>\n",
       "      <th>Installs</th>\n",
       "      <th>Type</th>\n",
       "      <th>Price</th>\n",
       "      <th>Content Rating</th>\n",
       "      <th>Genres</th>\n",
       "      <th>Last Updated</th>\n",
       "      <th>Current Ver</th>\n",
       "      <th>Android Ver</th>\n",
       "    </tr>\n",
       "  </thead>\n",
       "  <tbody>\n",
       "    <tr>\n",
       "      <th>5460</th>\n",
       "      <td>AP Installer</td>\n",
       "      <td>TOOLS</td>\n",
       "      <td>4.5</td>\n",
       "      <td>23</td>\n",
       "      <td>283k</td>\n",
       "      <td>5,000+</td>\n",
       "      <td>Free</td>\n",
       "      <td>0</td>\n",
       "      <td>Everyone</td>\n",
       "      <td>Tools</td>\n",
       "      <td>July 20, 2018</td>\n",
       "      <td>13</td>\n",
       "      <td>3.2 and up</td>\n",
       "    </tr>\n",
       "    <tr>\n",
       "      <th>5005</th>\n",
       "      <td>Mupen64Plus AE (N64 Emulator)</td>\n",
       "      <td>GAME</td>\n",
       "      <td>4.2</td>\n",
       "      <td>4569</td>\n",
       "      <td>12M</td>\n",
       "      <td>100,000+</td>\n",
       "      <td>Paid</td>\n",
       "      <td>$0.99</td>\n",
       "      <td>Everyone</td>\n",
       "      <td>Arcade</td>\n",
       "      <td>January 19, 2014</td>\n",
       "      <td>2.4.4</td>\n",
       "      <td>2.0 and up</td>\n",
       "    </tr>\n",
       "    <tr>\n",
       "      <th>387</th>\n",
       "      <td>Talkatone: Free Texts, Calls &amp; Phone Number</td>\n",
       "      <td>COMMUNICATION</td>\n",
       "      <td>4.1</td>\n",
       "      <td>132014</td>\n",
       "      <td>25M</td>\n",
       "      <td>10,000,000+</td>\n",
       "      <td>Free</td>\n",
       "      <td>0</td>\n",
       "      <td>Everyone</td>\n",
       "      <td>Communication</td>\n",
       "      <td>July 18, 2018</td>\n",
       "      <td>6.1</td>\n",
       "      <td>4.2 and up</td>\n",
       "    </tr>\n",
       "    <tr>\n",
       "      <th>7568</th>\n",
       "      <td>Centimeter Ruler</td>\n",
       "      <td>TOOLS</td>\n",
       "      <td>3.3</td>\n",
       "      <td>16</td>\n",
       "      <td>1.3M</td>\n",
       "      <td>10,000+</td>\n",
       "      <td>Free</td>\n",
       "      <td>0</td>\n",
       "      <td>Everyone</td>\n",
       "      <td>Tools</td>\n",
       "      <td>November 5, 2016</td>\n",
       "      <td>2.0</td>\n",
       "      <td>4.0 and up</td>\n",
       "    </tr>\n",
       "    <tr>\n",
       "      <th>8672</th>\n",
       "      <td>Dude Perfect</td>\n",
       "      <td>SPORTS</td>\n",
       "      <td>4.5</td>\n",
       "      <td>97</td>\n",
       "      <td>1.9M</td>\n",
       "      <td>10,000+</td>\n",
       "      <td>Free</td>\n",
       "      <td>0</td>\n",
       "      <td>Everyone</td>\n",
       "      <td>Sports</td>\n",
       "      <td>June 28, 2017</td>\n",
       "      <td>1.0</td>\n",
       "      <td>4.1 and up</td>\n",
       "    </tr>\n",
       "    <tr>\n",
       "      <th>3965</th>\n",
       "      <td>EMT Tutor NREMT-B Study Guide</td>\n",
       "      <td>MEDICAL</td>\n",
       "      <td>4.6</td>\n",
       "      <td>625</td>\n",
       "      <td>8.4M</td>\n",
       "      <td>10,000+</td>\n",
       "      <td>Paid</td>\n",
       "      <td>$3.99</td>\n",
       "      <td>Everyone</td>\n",
       "      <td>Medical</td>\n",
       "      <td>January 8, 2017</td>\n",
       "      <td>2.1</td>\n",
       "      <td>2.1 and up</td>\n",
       "    </tr>\n",
       "    <tr>\n",
       "      <th>9401</th>\n",
       "      <td>100 Doors of Revenge</td>\n",
       "      <td>FAMILY</td>\n",
       "      <td>4.1</td>\n",
       "      <td>105766</td>\n",
       "      <td>48M</td>\n",
       "      <td>10,000,000+</td>\n",
       "      <td>Free</td>\n",
       "      <td>0</td>\n",
       "      <td>Teen</td>\n",
       "      <td>Puzzle</td>\n",
       "      <td>May 24, 2018</td>\n",
       "      <td>2.2.2</td>\n",
       "      <td>4.4 and up</td>\n",
       "    </tr>\n",
       "    <tr>\n",
       "      <th>3583</th>\n",
       "      <td>Ali Baba's Farm Tutorial Kids Games</td>\n",
       "      <td>PARENTING</td>\n",
       "      <td>NaN</td>\n",
       "      <td>36</td>\n",
       "      <td>5.5M</td>\n",
       "      <td>5,000+</td>\n",
       "      <td>Free</td>\n",
       "      <td>0</td>\n",
       "      <td>Everyone</td>\n",
       "      <td>Parenting</td>\n",
       "      <td>May 27, 2018</td>\n",
       "      <td>4.7</td>\n",
       "      <td>4.1 and up</td>\n",
       "    </tr>\n",
       "    <tr>\n",
       "      <th>3489</th>\n",
       "      <td>Samsung Notes</td>\n",
       "      <td>PRODUCTIVITY</td>\n",
       "      <td>3.9</td>\n",
       "      <td>15368</td>\n",
       "      <td>Varies with device</td>\n",
       "      <td>100,000,000+</td>\n",
       "      <td>Free</td>\n",
       "      <td>0</td>\n",
       "      <td>Everyone</td>\n",
       "      <td>Productivity</td>\n",
       "      <td>January 22, 2018</td>\n",
       "      <td>Varies with device</td>\n",
       "      <td>Varies with device</td>\n",
       "    </tr>\n",
       "    <tr>\n",
       "      <th>2013</th>\n",
       "      <td>Dog Run - Pet Dog Simulator</td>\n",
       "      <td>GAME</td>\n",
       "      <td>4.7</td>\n",
       "      <td>48615</td>\n",
       "      <td>24M</td>\n",
       "      <td>10,000,000+</td>\n",
       "      <td>Free</td>\n",
       "      <td>0</td>\n",
       "      <td>Everyone</td>\n",
       "      <td>Simulation;Action &amp; Adventure</td>\n",
       "      <td>May 22, 2018</td>\n",
       "      <td>1.4.12</td>\n",
       "      <td>4.1 and up</td>\n",
       "    </tr>\n",
       "  </tbody>\n",
       "</table>\n",
       "</div>"
      ],
      "text/plain": [
       "                                              App       Category  Rating  \\\n",
       "5460                                 AP Installer          TOOLS     4.5   \n",
       "5005                Mupen64Plus AE (N64 Emulator)           GAME     4.2   \n",
       "387   Talkatone: Free Texts, Calls & Phone Number  COMMUNICATION     4.1   \n",
       "7568                             Centimeter Ruler          TOOLS     3.3   \n",
       "8672                                 Dude Perfect         SPORTS     4.5   \n",
       "3965                EMT Tutor NREMT-B Study Guide        MEDICAL     4.6   \n",
       "9401                         100 Doors of Revenge         FAMILY     4.1   \n",
       "3583          Ali Baba's Farm Tutorial Kids Games      PARENTING     NaN   \n",
       "3489                                Samsung Notes   PRODUCTIVITY     3.9   \n",
       "2013                  Dog Run - Pet Dog Simulator           GAME     4.7   \n",
       "\n",
       "     Reviews                Size      Installs  Type  Price Content Rating  \\\n",
       "5460      23                283k        5,000+  Free      0       Everyone   \n",
       "5005    4569                 12M      100,000+  Paid  $0.99       Everyone   \n",
       "387   132014                 25M   10,000,000+  Free      0       Everyone   \n",
       "7568      16                1.3M       10,000+  Free      0       Everyone   \n",
       "8672      97                1.9M       10,000+  Free      0       Everyone   \n",
       "3965     625                8.4M       10,000+  Paid  $3.99       Everyone   \n",
       "9401  105766                 48M   10,000,000+  Free      0           Teen   \n",
       "3583      36                5.5M        5,000+  Free      0       Everyone   \n",
       "3489   15368  Varies with device  100,000,000+  Free      0       Everyone   \n",
       "2013   48615                 24M   10,000,000+  Free      0       Everyone   \n",
       "\n",
       "                             Genres      Last Updated         Current Ver  \\\n",
       "5460                          Tools     July 20, 2018                  13   \n",
       "5005                         Arcade  January 19, 2014               2.4.4   \n",
       "387                   Communication     July 18, 2018                 6.1   \n",
       "7568                          Tools  November 5, 2016                 2.0   \n",
       "8672                         Sports     June 28, 2017                 1.0   \n",
       "3965                        Medical   January 8, 2017                 2.1   \n",
       "9401                         Puzzle      May 24, 2018               2.2.2   \n",
       "3583                      Parenting      May 27, 2018                 4.7   \n",
       "3489                   Productivity  January 22, 2018  Varies with device   \n",
       "2013  Simulation;Action & Adventure      May 22, 2018              1.4.12   \n",
       "\n",
       "             Android Ver  \n",
       "5460          3.2 and up  \n",
       "5005          2.0 and up  \n",
       "387           4.2 and up  \n",
       "7568          4.0 and up  \n",
       "8672          4.1 and up  \n",
       "3965          2.1 and up  \n",
       "9401          4.4 and up  \n",
       "3583          4.1 and up  \n",
       "3489  Varies with device  \n",
       "2013          4.1 and up  "
      ]
     },
     "execution_count": 19,
     "metadata": {},
     "output_type": "execute_result"
    }
   ],
   "source": [
    "df.sample(10)"
   ]
  },
  {
   "cell_type": "code",
   "execution_count": 20,
   "id": "e9c7bb7b",
   "metadata": {},
   "outputs": [
    {
     "data": {
      "application/vnd.microsoft.datawrangler.viewer.v0+json": {
       "columns": [
        {
         "name": "index",
         "rawType": "object",
         "type": "string"
        },
        {
         "name": "Rating",
         "rawType": "float64",
         "type": "float"
        }
       ],
       "ref": "5cbb7a53-22cd-45ff-91d2-ffc53185b87d",
       "rows": [
        [
         "count",
         "9367.0"
        ],
        [
         "mean",
         "4.193338315362443"
        ],
        [
         "std",
         "0.5374313031477587"
        ],
        [
         "min",
         "1.0"
        ],
        [
         "25%",
         "4.0"
        ],
        [
         "50%",
         "4.3"
        ],
        [
         "75%",
         "4.5"
        ],
        [
         "max",
         "19.0"
        ]
       ],
       "shape": {
        "columns": 1,
        "rows": 8
       }
      },
      "text/html": [
       "<div>\n",
       "<style scoped>\n",
       "    .dataframe tbody tr th:only-of-type {\n",
       "        vertical-align: middle;\n",
       "    }\n",
       "\n",
       "    .dataframe tbody tr th {\n",
       "        vertical-align: top;\n",
       "    }\n",
       "\n",
       "    .dataframe thead th {\n",
       "        text-align: right;\n",
       "    }\n",
       "</style>\n",
       "<table border=\"1\" class=\"dataframe\">\n",
       "  <thead>\n",
       "    <tr style=\"text-align: right;\">\n",
       "      <th></th>\n",
       "      <th>Rating</th>\n",
       "    </tr>\n",
       "  </thead>\n",
       "  <tbody>\n",
       "    <tr>\n",
       "      <th>count</th>\n",
       "      <td>9367.000000</td>\n",
       "    </tr>\n",
       "    <tr>\n",
       "      <th>mean</th>\n",
       "      <td>4.193338</td>\n",
       "    </tr>\n",
       "    <tr>\n",
       "      <th>std</th>\n",
       "      <td>0.537431</td>\n",
       "    </tr>\n",
       "    <tr>\n",
       "      <th>min</th>\n",
       "      <td>1.000000</td>\n",
       "    </tr>\n",
       "    <tr>\n",
       "      <th>25%</th>\n",
       "      <td>4.000000</td>\n",
       "    </tr>\n",
       "    <tr>\n",
       "      <th>50%</th>\n",
       "      <td>4.300000</td>\n",
       "    </tr>\n",
       "    <tr>\n",
       "      <th>75%</th>\n",
       "      <td>4.500000</td>\n",
       "    </tr>\n",
       "    <tr>\n",
       "      <th>max</th>\n",
       "      <td>19.000000</td>\n",
       "    </tr>\n",
       "  </tbody>\n",
       "</table>\n",
       "</div>"
      ],
      "text/plain": [
       "            Rating\n",
       "count  9367.000000\n",
       "mean      4.193338\n",
       "std       0.537431\n",
       "min       1.000000\n",
       "25%       4.000000\n",
       "50%       4.300000\n",
       "75%       4.500000\n",
       "max      19.000000"
      ]
     },
     "execution_count": 20,
     "metadata": {},
     "output_type": "execute_result"
    }
   ],
   "source": [
    "df.describe()"
   ]
  },
  {
   "cell_type": "markdown",
   "id": "02ab1ec7",
   "metadata": {},
   "source": [
    "## Write the numaric variables and make them numeric."
   ]
  },
  {
   "cell_type": "code",
   "execution_count": 21,
   "id": "614ebb6c",
   "metadata": {},
   "outputs": [
    {
     "data": {
      "text/plain": [
       "Index(['App', 'Category', 'Rating', 'Reviews', 'Size', 'Installs', 'Type',\n",
       "       'Price', 'Content Rating', 'Genres', 'Last Updated', 'Current Ver',\n",
       "       'Android Ver'],\n",
       "      dtype='object')"
      ]
     },
     "execution_count": 21,
     "metadata": {},
     "output_type": "execute_result"
    }
   ],
   "source": [
    "df.columns"
   ]
  },
  {
   "cell_type": "markdown",
   "id": "15bd32ed",
   "metadata": {},
   "source": [
    "The colums that should be numaric are -\n",
    "\n",
    "'Size','Installs','Price'"
   ]
  },
  {
   "cell_type": "markdown",
   "id": "81082d75",
   "metadata": {},
   "source": [
    "There was a anomoly in the installs column, so we will remove the 'Free' from the column."
   ]
  },
  {
   "cell_type": "markdown",
   "id": "00975ca2",
   "metadata": {},
   "source": [
    "## Replacing the anomoly and converting "
   ]
  },
  {
   "cell_type": "code",
   "execution_count": 25,
   "id": "296a09c9",
   "metadata": {},
   "outputs": [],
   "source": [
    "# Convert 'Size' to numeric (in MB), handling 'Varies with device' and 'k/M' suffixes\n",
    "def convert_size(size):\n",
    "    if size == 'Varies with device':\n",
    "        return np.nan\n",
    "    if size.endswith('M'):\n",
    "        return float(size[:-1])\n",
    "    if size.endswith('k'):\n",
    "        return float(size[:-1]) / 1024\n",
    "    return np.nan\n",
    "\n",
    "df1 = df.copy()\n",
    "\n",
    "df1['Installs'] = df1['Installs'].replace('Free', np.nan, regex=False)\n",
    "\n",
    "df1['Size'] = df1['Size'].apply(convert_size)\n",
    "\n",
    "# Convert 'Installs' to numeric\n",
    "df1['Installs'] = df1['Installs'].str.replace('[+,]', '', regex=True).astype(float)\n",
    "\n",
    "# Convert 'Price' to numeric (remove $ sign if present)\n",
    "df1['Price'] = df1['Price'].str.replace('$', '', regex=False)\n",
    "df1['Price'] = df1['Price'].str.replace('Free', '0', regex=False)\n",
    "df1['Price'] = pd.to_numeric(df1['Price'], errors='coerce')                                        "
   ]
  },
  {
   "cell_type": "code",
   "execution_count": 26,
   "id": "2f5e9959",
   "metadata": {},
   "outputs": [
    {
     "name": "stdout",
     "output_type": "stream",
     "text": [
      "<class 'pandas.core.frame.DataFrame'>\n",
      "RangeIndex: 10841 entries, 0 to 10840\n",
      "Data columns (total 13 columns):\n",
      " #   Column          Non-Null Count  Dtype  \n",
      "---  ------          --------------  -----  \n",
      " 0   App             10841 non-null  object \n",
      " 1   Category        10841 non-null  object \n",
      " 2   Rating          9367 non-null   float64\n",
      " 3   Reviews         10841 non-null  object \n",
      " 4   Size            9145 non-null   float64\n",
      " 5   Installs        10840 non-null  float64\n",
      " 6   Type            10840 non-null  object \n",
      " 7   Price           10840 non-null  float64\n",
      " 8   Content Rating  10840 non-null  object \n",
      " 9   Genres          10841 non-null  object \n",
      " 10  Last Updated    10841 non-null  object \n",
      " 11  Current Ver     10833 non-null  object \n",
      " 12  Android Ver     10838 non-null  object \n",
      "dtypes: float64(4), object(9)\n",
      "memory usage: 1.1+ MB\n"
     ]
    }
   ],
   "source": [
    "df1.info()"
   ]
  },
  {
   "cell_type": "code",
   "execution_count": 27,
   "id": "d481af69",
   "metadata": {},
   "outputs": [
    {
     "data": {
      "application/vnd.microsoft.datawrangler.viewer.v0+json": {
       "columns": [
        {
         "name": "index",
         "rawType": "object",
         "type": "string"
        },
        {
         "name": "Rating",
         "rawType": "float64",
         "type": "float"
        },
        {
         "name": "Size",
         "rawType": "float64",
         "type": "float"
        },
        {
         "name": "Installs",
         "rawType": "float64",
         "type": "float"
        },
        {
         "name": "Price",
         "rawType": "float64",
         "type": "float"
        }
       ],
       "ref": "1207d27b-4410-4632-afb8-533230e782fd",
       "rows": [
        [
         "count",
         "9367.0",
         "9145.0",
         "10840.0",
         "10840.0"
        ],
        [
         "mean",
         "4.193338315362443",
         "21.51616543577433",
         "15464338.882564576",
         "1.027368081180812"
        ],
        [
         "std",
         "0.5374313031477587",
         "22.589084339893862",
         "85029361.39546256",
         "15.949703469383543"
        ],
        [
         "min",
         "1.0",
         "0.00830078125",
         "0.0",
         "0.0"
        ],
        [
         "25%",
         "4.0",
         "4.9",
         "1000.0",
         "0.0"
        ],
        [
         "50%",
         "4.3",
         "13.0",
         "100000.0",
         "0.0"
        ],
        [
         "75%",
         "4.5",
         "30.0",
         "5000000.0",
         "0.0"
        ],
        [
         "max",
         "19.0",
         "100.0",
         "1000000000.0",
         "400.0"
        ]
       ],
       "shape": {
        "columns": 4,
        "rows": 8
       }
      },
      "text/html": [
       "<div>\n",
       "<style scoped>\n",
       "    .dataframe tbody tr th:only-of-type {\n",
       "        vertical-align: middle;\n",
       "    }\n",
       "\n",
       "    .dataframe tbody tr th {\n",
       "        vertical-align: top;\n",
       "    }\n",
       "\n",
       "    .dataframe thead th {\n",
       "        text-align: right;\n",
       "    }\n",
       "</style>\n",
       "<table border=\"1\" class=\"dataframe\">\n",
       "  <thead>\n",
       "    <tr style=\"text-align: right;\">\n",
       "      <th></th>\n",
       "      <th>Rating</th>\n",
       "      <th>Size</th>\n",
       "      <th>Installs</th>\n",
       "      <th>Price</th>\n",
       "    </tr>\n",
       "  </thead>\n",
       "  <tbody>\n",
       "    <tr>\n",
       "      <th>count</th>\n",
       "      <td>9367.000000</td>\n",
       "      <td>9145.000000</td>\n",
       "      <td>1.084000e+04</td>\n",
       "      <td>10840.000000</td>\n",
       "    </tr>\n",
       "    <tr>\n",
       "      <th>mean</th>\n",
       "      <td>4.193338</td>\n",
       "      <td>21.516165</td>\n",
       "      <td>1.546434e+07</td>\n",
       "      <td>1.027368</td>\n",
       "    </tr>\n",
       "    <tr>\n",
       "      <th>std</th>\n",
       "      <td>0.537431</td>\n",
       "      <td>22.589084</td>\n",
       "      <td>8.502936e+07</td>\n",
       "      <td>15.949703</td>\n",
       "    </tr>\n",
       "    <tr>\n",
       "      <th>min</th>\n",
       "      <td>1.000000</td>\n",
       "      <td>0.008301</td>\n",
       "      <td>0.000000e+00</td>\n",
       "      <td>0.000000</td>\n",
       "    </tr>\n",
       "    <tr>\n",
       "      <th>25%</th>\n",
       "      <td>4.000000</td>\n",
       "      <td>4.900000</td>\n",
       "      <td>1.000000e+03</td>\n",
       "      <td>0.000000</td>\n",
       "    </tr>\n",
       "    <tr>\n",
       "      <th>50%</th>\n",
       "      <td>4.300000</td>\n",
       "      <td>13.000000</td>\n",
       "      <td>1.000000e+05</td>\n",
       "      <td>0.000000</td>\n",
       "    </tr>\n",
       "    <tr>\n",
       "      <th>75%</th>\n",
       "      <td>4.500000</td>\n",
       "      <td>30.000000</td>\n",
       "      <td>5.000000e+06</td>\n",
       "      <td>0.000000</td>\n",
       "    </tr>\n",
       "    <tr>\n",
       "      <th>max</th>\n",
       "      <td>19.000000</td>\n",
       "      <td>100.000000</td>\n",
       "      <td>1.000000e+09</td>\n",
       "      <td>400.000000</td>\n",
       "    </tr>\n",
       "  </tbody>\n",
       "</table>\n",
       "</div>"
      ],
      "text/plain": [
       "            Rating         Size      Installs         Price\n",
       "count  9367.000000  9145.000000  1.084000e+04  10840.000000\n",
       "mean      4.193338    21.516165  1.546434e+07      1.027368\n",
       "std       0.537431    22.589084  8.502936e+07     15.949703\n",
       "min       1.000000     0.008301  0.000000e+00      0.000000\n",
       "25%       4.000000     4.900000  1.000000e+03      0.000000\n",
       "50%       4.300000    13.000000  1.000000e+05      0.000000\n",
       "75%       4.500000    30.000000  5.000000e+06      0.000000\n",
       "max      19.000000   100.000000  1.000000e+09    400.000000"
      ]
     },
     "execution_count": 27,
     "metadata": {},
     "output_type": "execute_result"
    }
   ],
   "source": [
    "df1.describe()"
   ]
  },
  {
   "cell_type": "code",
   "execution_count": 28,
   "id": "1d494284",
   "metadata": {},
   "outputs": [],
   "source": [
    "# Now, adopt the cleaned columns back into the original dataframe (df)\n",
    "df['Size'] = df1['Size']\n",
    "df['Installs'] = df1['Installs']\n",
    "df['Price'] = df1['Price']"
   ]
  },
  {
   "cell_type": "code",
   "execution_count": 29,
   "id": "f7e55803",
   "metadata": {},
   "outputs": [
    {
     "data": {
      "application/vnd.microsoft.datawrangler.viewer.v0+json": {
       "columns": [
        {
         "name": "index",
         "rawType": "object",
         "type": "string"
        },
        {
         "name": "Rating",
         "rawType": "float64",
         "type": "float"
        },
        {
         "name": "Size",
         "rawType": "float64",
         "type": "float"
        },
        {
         "name": "Installs",
         "rawType": "float64",
         "type": "float"
        },
        {
         "name": "Price",
         "rawType": "float64",
         "type": "float"
        }
       ],
       "ref": "4376ab49-ae38-486c-998a-58aea3e43642",
       "rows": [
        [
         "count",
         "9367.0",
         "9145.0",
         "10840.0",
         "10840.0"
        ],
        [
         "mean",
         "4.193338315362443",
         "21.51616543577433",
         "15464338.882564576",
         "1.027368081180812"
        ],
        [
         "std",
         "0.5374313031477587",
         "22.589084339893862",
         "85029361.39546256",
         "15.949703469383543"
        ],
        [
         "min",
         "1.0",
         "0.00830078125",
         "0.0",
         "0.0"
        ],
        [
         "25%",
         "4.0",
         "4.9",
         "1000.0",
         "0.0"
        ],
        [
         "50%",
         "4.3",
         "13.0",
         "100000.0",
         "0.0"
        ],
        [
         "75%",
         "4.5",
         "30.0",
         "5000000.0",
         "0.0"
        ],
        [
         "max",
         "19.0",
         "100.0",
         "1000000000.0",
         "400.0"
        ]
       ],
       "shape": {
        "columns": 4,
        "rows": 8
       }
      },
      "text/html": [
       "<div>\n",
       "<style scoped>\n",
       "    .dataframe tbody tr th:only-of-type {\n",
       "        vertical-align: middle;\n",
       "    }\n",
       "\n",
       "    .dataframe tbody tr th {\n",
       "        vertical-align: top;\n",
       "    }\n",
       "\n",
       "    .dataframe thead th {\n",
       "        text-align: right;\n",
       "    }\n",
       "</style>\n",
       "<table border=\"1\" class=\"dataframe\">\n",
       "  <thead>\n",
       "    <tr style=\"text-align: right;\">\n",
       "      <th></th>\n",
       "      <th>Rating</th>\n",
       "      <th>Size</th>\n",
       "      <th>Installs</th>\n",
       "      <th>Price</th>\n",
       "    </tr>\n",
       "  </thead>\n",
       "  <tbody>\n",
       "    <tr>\n",
       "      <th>count</th>\n",
       "      <td>9367.000000</td>\n",
       "      <td>9145.000000</td>\n",
       "      <td>1.084000e+04</td>\n",
       "      <td>10840.000000</td>\n",
       "    </tr>\n",
       "    <tr>\n",
       "      <th>mean</th>\n",
       "      <td>4.193338</td>\n",
       "      <td>21.516165</td>\n",
       "      <td>1.546434e+07</td>\n",
       "      <td>1.027368</td>\n",
       "    </tr>\n",
       "    <tr>\n",
       "      <th>std</th>\n",
       "      <td>0.537431</td>\n",
       "      <td>22.589084</td>\n",
       "      <td>8.502936e+07</td>\n",
       "      <td>15.949703</td>\n",
       "    </tr>\n",
       "    <tr>\n",
       "      <th>min</th>\n",
       "      <td>1.000000</td>\n",
       "      <td>0.008301</td>\n",
       "      <td>0.000000e+00</td>\n",
       "      <td>0.000000</td>\n",
       "    </tr>\n",
       "    <tr>\n",
       "      <th>25%</th>\n",
       "      <td>4.000000</td>\n",
       "      <td>4.900000</td>\n",
       "      <td>1.000000e+03</td>\n",
       "      <td>0.000000</td>\n",
       "    </tr>\n",
       "    <tr>\n",
       "      <th>50%</th>\n",
       "      <td>4.300000</td>\n",
       "      <td>13.000000</td>\n",
       "      <td>1.000000e+05</td>\n",
       "      <td>0.000000</td>\n",
       "    </tr>\n",
       "    <tr>\n",
       "      <th>75%</th>\n",
       "      <td>4.500000</td>\n",
       "      <td>30.000000</td>\n",
       "      <td>5.000000e+06</td>\n",
       "      <td>0.000000</td>\n",
       "    </tr>\n",
       "    <tr>\n",
       "      <th>max</th>\n",
       "      <td>19.000000</td>\n",
       "      <td>100.000000</td>\n",
       "      <td>1.000000e+09</td>\n",
       "      <td>400.000000</td>\n",
       "    </tr>\n",
       "  </tbody>\n",
       "</table>\n",
       "</div>"
      ],
      "text/plain": [
       "            Rating         Size      Installs         Price\n",
       "count  9367.000000  9145.000000  1.084000e+04  10840.000000\n",
       "mean      4.193338    21.516165  1.546434e+07      1.027368\n",
       "std       0.537431    22.589084  8.502936e+07     15.949703\n",
       "min       1.000000     0.008301  0.000000e+00      0.000000\n",
       "25%       4.000000     4.900000  1.000000e+03      0.000000\n",
       "50%       4.300000    13.000000  1.000000e+05      0.000000\n",
       "75%       4.500000    30.000000  5.000000e+06      0.000000\n",
       "max      19.000000   100.000000  1.000000e+09    400.000000"
      ]
     },
     "execution_count": 29,
     "metadata": {},
     "output_type": "execute_result"
    }
   ],
   "source": [
    "df.describe()"
   ]
  },
  {
   "cell_type": "code",
   "execution_count": 31,
   "id": "e927b4c7",
   "metadata": {},
   "outputs": [
    {
     "data": {
      "application/vnd.microsoft.datawrangler.viewer.v0+json": {
       "columns": [
        {
         "name": "Size",
         "rawType": "float64",
         "type": "float"
        },
        {
         "name": "count",
         "rawType": "int64",
         "type": "integer"
        }
       ],
       "ref": "993f9430-c968-47b7-b7a9-fa9ce2fe4edc",
       "rows": [
        [
         "11.0",
         "198"
        ],
        [
         "12.0",
         "196"
        ],
        [
         "14.0",
         "194"
        ],
        [
         "13.0",
         "191"
        ],
        [
         "15.0",
         "184"
        ],
        [
         "17.0",
         "160"
        ],
        [
         "19.0",
         "154"
        ],
        [
         "26.0",
         "149"
        ],
        [
         "16.0",
         "149"
        ],
        [
         "10.0",
         "146"
        ],
        [
         "25.0",
         "143"
        ],
        [
         "20.0",
         "139"
        ],
        [
         "21.0",
         "138"
        ],
        [
         "24.0",
         "136"
        ],
        [
         "18.0",
         "133"
        ],
        [
         "23.0",
         "117"
        ],
        [
         "22.0",
         "114"
        ],
        [
         "29.0",
         "103"
        ],
        [
         "27.0",
         "97"
        ],
        [
         "28.0",
         "95"
        ],
        [
         "30.0",
         "84"
        ],
        [
         "33.0",
         "79"
        ],
        [
         "3.3",
         "77"
        ],
        [
         "37.0",
         "76"
        ],
        [
         "35.0",
         "72"
        ],
        [
         "31.0",
         "70"
        ],
        [
         "2.9",
         "69"
        ],
        [
         "2.3",
         "68"
        ],
        [
         "2.5",
         "68"
        ],
        [
         "2.8",
         "65"
        ],
        [
         "3.4",
         "65"
        ],
        [
         "3.7",
         "63"
        ],
        [
         "32.0",
         "63"
        ],
        [
         "34.0",
         "63"
        ],
        [
         "3.8",
         "62"
        ],
        [
         "40.0",
         "62"
        ],
        [
         "3.9",
         "62"
        ],
        [
         "4.0",
         "61"
        ],
        [
         "44.0",
         "61"
        ],
        [
         "3.0",
         "61"
        ],
        [
         "36.0",
         "60"
        ],
        [
         "48.0",
         "59"
        ],
        [
         "4.2",
         "59"
        ],
        [
         "46.0",
         "59"
        ],
        [
         "5.0",
         "58"
        ],
        [
         "3.6",
         "57"
        ],
        [
         "3.1",
         "56"
        ],
        [
         "39.0",
         "56"
        ],
        [
         "38.0",
         "55"
        ],
        [
         "3.2",
         "55"
        ]
       ],
       "shape": {
        "columns": 1,
        "rows": 459
       }
      },
      "text/plain": [
       "Size\n",
       "11.000000    198\n",
       "12.000000    196\n",
       "14.000000    194\n",
       "13.000000    191\n",
       "15.000000    184\n",
       "            ... \n",
       "0.539062       1\n",
       "0.864258       1\n",
       "0.996094       1\n",
       "0.568359       1\n",
       "0.604492       1\n",
       "Name: count, Length: 459, dtype: int64"
      ]
     },
     "execution_count": 31,
     "metadata": {},
     "output_type": "execute_result"
    }
   ],
   "source": [
    "df['Size'].value_counts()"
   ]
  }
 ],
 "metadata": {
  "kernelspec": {
   "display_name": "Python 3",
   "language": "python",
   "name": "python3"
  },
  "language_info": {
   "codemirror_mode": {
    "name": "ipython",
    "version": 3
   },
   "file_extension": ".py",
   "mimetype": "text/x-python",
   "name": "python",
   "nbconvert_exporter": "python",
   "pygments_lexer": "ipython3",
   "version": "3.12.9"
  }
 },
 "nbformat": 4,
 "nbformat_minor": 5
}

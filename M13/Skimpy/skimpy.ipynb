{
 "cells": [
  {
   "cell_type": "markdown",
   "id": "41c80f2e",
   "metadata": {},
   "source": [
    "# How to do skimming of the data"
   ]
  }
 ],
 "metadata": {
  "kernelspec": {
   "display_name": "Python 3",
   "language": "python",
   "name": "python3"
  },
  "language_info": {
   "name": "python",
   "version": "3.12.9"
  }
 },
 "nbformat": 4,
 "nbformat_minor": 5
}

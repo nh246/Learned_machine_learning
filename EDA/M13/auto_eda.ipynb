{
 "cells": [
  {
   "cell_type": "markdown",
   "id": "b70d1c1e",
   "metadata": {},
   "source": [
    "# Automatic EDA \n",
    "### USING - YDATA PROFILING"
   ]
  },
  {
   "cell_type": "code",
   "execution_count": 2,
   "id": "72a1c62d",
   "metadata": {},
   "outputs": [],
   "source": [
    "# Importing Libraries\n",
    "\n",
    "import pandas as pd\n",
    "import numpy as np\n",
    "import matplotlib.pyplot as plt\n",
    "import seaborn as sns\n",
    "import ydata_profiling as yp\n",
    "\n"
   ]
  },
  {
   "cell_type": "code",
   "execution_count": 3,
   "id": "d6551622",
   "metadata": {},
   "outputs": [],
   "source": [
    "# importing dataset\n",
    "df= sns.load_dataset('titanic')"
   ]
  },
  {
   "cell_type": "code",
   "execution_count": 5,
   "id": "4c97f55b",
   "metadata": {},
   "outputs": [
    {
     "name": "stderr",
     "output_type": "stream",
     "text": [
      "100%|██████████| 15/15 [00:00<00:00, 37.84it/s]0<00:00, 31.55it/s, Describe variable: alone]     \n",
      "Summarize dataset: 100%|██████████| 41/41 [00:04<00:00,  8.76it/s, Completed]                 \n",
      "Generate report structure: 100%|██████████| 1/1 [00:03<00:00,  3.48s/it]\n",
      "Render HTML: 100%|██████████| 1/1 [00:00<00:00,  1.47it/s]\n",
      "Export report to file: 100%|██████████| 1/1 [00:00<00:00, 133.15it/s]\n"
     ]
    }
   ],
   "source": [
    "# Ydata Profiling Report\n",
    "profile= yp.ProfileReport(df)\n",
    "profile.to_file('titanic_report.html')"
   ]
  },
  {
   "cell_type": "code",
   "execution_count": 8,
   "id": "3e2c3f59",
   "metadata": {},
   "outputs": [
    {
     "name": "stderr",
     "output_type": "stream",
     "text": [
      "100%|██████████| 21/21 [00:00<00:00, 95.90it/s]0<00:00, 71.97it/s, Describe variable: ANNUAL GROWTH RATE (URBAN)]\n",
      "Summarize dataset: 100%|██████████| 319/319 [00:43<00:00,  7.37it/s, Completed]                                                     \n",
      "Generate report structure: 100%|██████████| 1/1 [00:09<00:00,  9.04s/it]\n",
      "Render HTML: 100%|██████████| 1/1 [00:02<00:00,  2.34s/it]\n",
      "Export report to file: 100%|██████████| 1/1 [00:00<00:00,  5.51it/s]\n"
     ]
    }
   ],
   "source": [
    "# checking the PAKISTAN POPULATION DATASet\n",
    "\n",
    "df1 = pd.read_csv('Pakistan_population.csv')\n",
    "profile1= yp.ProfileReport(df1)\n",
    "profile1.to_file('Pakistan_report.html')"
   ]
  }
 ],
 "metadata": {
  "kernelspec": {
   "display_name": "Python 3",
   "language": "python",
   "name": "python3"
  },
  "language_info": {
   "codemirror_mode": {
    "name": "ipython",
    "version": 3
   },
   "file_extension": ".py",
   "mimetype": "text/x-python",
   "name": "python",
   "nbconvert_exporter": "python",
   "pygments_lexer": "ipython3",
   "version": "3.12.9"
  }
 },
 "nbformat": 4,
 "nbformat_minor": 5
}

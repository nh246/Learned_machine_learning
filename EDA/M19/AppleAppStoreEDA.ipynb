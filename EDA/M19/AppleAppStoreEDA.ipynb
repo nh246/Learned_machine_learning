{
 "cells": [
  {
   "cell_type": "markdown",
   "id": "bf9ca120",
   "metadata": {},
   "source": [
    "# EDA ON APPLE APP STORE"
   ]
  },
  {
   "cell_type": "markdown",
   "id": "94684730",
   "metadata": {},
   "source": [
    "___\n",
    "The dataset is taken from Kaggle. \\\n",
    "Link- [Here](https://www.kaggle.com/datasets/gauthamp10/apple-appstore-apps?select=appleAppData.csv)\n"
   ]
  },
  {
   "cell_type": "markdown",
   "id": "189b55f5",
   "metadata": {},
   "source": [
    "**CONTEXT**\n",
    "\n",
    "The dataset contains information about the apps available on the Apple App Store. \\\n"
   ]
  },
  {
   "cell_type": "markdown",
   "id": "99825317",
   "metadata": {},
   "source": [
    "# 1. IMPORT LIBRARIES"
   ]
  },
  {
   "cell_type": "code",
   "execution_count": 1,
   "id": "d3921b8b",
   "metadata": {},
   "outputs": [],
   "source": [
    "import pandas as pd\n",
    "import numpy as np\n",
    "\n",
    "# visualization libraries\n",
    "import matplotlib.pyplot as plt\n",
    "import seaborn as sns\n",
    "%matplotlib inline\n",
    "# for scientific and statistical computing\n",
    "import scipy as sp"
   ]
  },
  {
   "cell_type": "code",
   "execution_count": 2,
   "id": "35a2ad7a",
   "metadata": {},
   "outputs": [],
   "source": [
    "# Load dataset\n",
    "df = pd.read_csv('./Dataset/appleAppData.csv')"
   ]
  },
  {
   "cell_type": "code",
   "execution_count": 4,
   "id": "e0d10455",
   "metadata": {},
   "outputs": [
    {
     "data": {
      "application/vnd.microsoft.datawrangler.viewer.v0+json": {
       "columns": [
        {
         "name": "index",
         "rawType": "int64",
         "type": "integer"
        },
        {
         "name": "App_Id",
         "rawType": "object",
         "type": "string"
        },
        {
         "name": "App_Name",
         "rawType": "object",
         "type": "string"
        },
        {
         "name": "AppStore_Url",
         "rawType": "object",
         "type": "string"
        },
        {
         "name": "Primary_Genre",
         "rawType": "object",
         "type": "string"
        },
        {
         "name": "Content_Rating",
         "rawType": "object",
         "type": "string"
        },
        {
         "name": "Size_Bytes",
         "rawType": "float64",
         "type": "float"
        },
        {
         "name": "Required_IOS_Version",
         "rawType": "object",
         "type": "string"
        },
        {
         "name": "Released",
         "rawType": "object",
         "type": "string"
        },
        {
         "name": "Updated",
         "rawType": "object",
         "type": "string"
        },
        {
         "name": "Version",
         "rawType": "object",
         "type": "string"
        },
        {
         "name": "Price",
         "rawType": "float64",
         "type": "float"
        },
        {
         "name": "Currency",
         "rawType": "object",
         "type": "string"
        },
        {
         "name": "Free",
         "rawType": "bool",
         "type": "boolean"
        },
        {
         "name": "DeveloperId",
         "rawType": "int64",
         "type": "integer"
        },
        {
         "name": "Developer",
         "rawType": "object",
         "type": "string"
        },
        {
         "name": "Developer_Url",
         "rawType": "object",
         "type": "string"
        },
        {
         "name": "Developer_Website",
         "rawType": "object",
         "type": "unknown"
        },
        {
         "name": "Average_User_Rating",
         "rawType": "float64",
         "type": "float"
        },
        {
         "name": "Reviews",
         "rawType": "int64",
         "type": "integer"
        },
        {
         "name": "Current_Version_Score",
         "rawType": "float64",
         "type": "float"
        },
        {
         "name": "Current_Version_Reviews",
         "rawType": "int64",
         "type": "integer"
        }
       ],
       "ref": "4fbbe882-f444-43c3-9d2c-a66aedc669a0",
       "rows": [
        [
         "0",
         "com.hkbu.arc.apaper",
         "A+ Paper Guide",
         "https://apps.apple.com/us/app/a-paper-guide/id1277517387?uo=4",
         "Education",
         "4+",
         "21993472.0",
         "8.0",
         "2017-09-28T03:02:41Z",
         "2018-12-21T21:30:36Z",
         "1.1.2",
         "0.0",
         "USD",
         "True",
         "1375410542",
         "HKBU ARC",
         "https://apps.apple.com/us/developer/hkbu-arc/id1375410542?uo=4",
         null,
         "0.0",
         "0",
         "0.0",
         "0"
        ],
        [
         "1",
         "com.dmitriev.abooks",
         "A-Books",
         "https://apps.apple.com/us/app/a-books/id1031572002?uo=4",
         "Book",
         "4+",
         "13135872.0",
         "10.0",
         "2015-08-31T19:31:32Z",
         "2019-07-23T20:31:09Z",
         "1.3",
         "0.0",
         "USD",
         "True",
         "1031572001",
         "Roman Dmitriev",
         "https://apps.apple.com/us/developer/roman-dmitriev/id1031572001?uo=4",
         null,
         "5.0",
         "1",
         "5.0",
         "1"
        ],
        [
         "2",
         "no.terp.abooks",
         "A-books",
         "https://apps.apple.com/us/app/a-books/id1457024164?uo=4",
         "Book",
         "4+",
         "21943296.0",
         "9.0",
         "2021-04-14T07:00:00Z",
         "2021-05-30T21:08:54Z",
         "1.3.1",
         "0.0",
         "USD",
         "True",
         "1457024163",
         "Terp AS",
         "https://apps.apple.com/us/developer/terp-as/id1457024163?uo=4",
         null,
         "0.0",
         "0",
         "0.0",
         "0"
        ],
        [
         "3",
         "fr.antoinettefleur.Book1",
         "A-F Book #1",
         "https://apps.apple.com/us/app/a-f-book-1/id500454885?uo=4",
         "Book",
         "4+",
         "81851392.0",
         "8.0",
         "2012-02-10T03:40:07Z",
         "2019-10-29T12:40:37Z",
         "1.2",
         "2.99",
         "USD",
         "False",
         "439568839",
         "i-editeur.com",
         "https://apps.apple.com/us/developer/i-editeur-com/id439568839?uo=4",
         null,
         "0.0",
         "0",
         "0.0",
         "0"
        ],
        [
         "4",
         "com.imonstersoft.azdictionaryios",
         "A-Z Synonyms Dictionary",
         "https://apps.apple.com/us/app/a-z-synonyms-dictionary/id1545096265?uo=4",
         "Reference",
         "4+",
         "64692224.0",
         "9.0",
         "2020-12-16T08:00:00Z",
         "2020-12-18T21:36:11Z",
         "1.0.1",
         "0.0",
         "USD",
         "True",
         "656731821",
         "Ngov chiheang",
         "https://apps.apple.com/us/developer/ngov-chiheang/id656731821?uo=4",
         "http://imonstersoft.com",
         "0.0",
         "0",
         "0.0",
         "0"
        ]
       ],
       "shape": {
        "columns": 21,
        "rows": 5
       }
      },
      "text/html": [
       "<div>\n",
       "<style scoped>\n",
       "    .dataframe tbody tr th:only-of-type {\n",
       "        vertical-align: middle;\n",
       "    }\n",
       "\n",
       "    .dataframe tbody tr th {\n",
       "        vertical-align: top;\n",
       "    }\n",
       "\n",
       "    .dataframe thead th {\n",
       "        text-align: right;\n",
       "    }\n",
       "</style>\n",
       "<table border=\"1\" class=\"dataframe\">\n",
       "  <thead>\n",
       "    <tr style=\"text-align: right;\">\n",
       "      <th></th>\n",
       "      <th>App_Id</th>\n",
       "      <th>App_Name</th>\n",
       "      <th>AppStore_Url</th>\n",
       "      <th>Primary_Genre</th>\n",
       "      <th>Content_Rating</th>\n",
       "      <th>Size_Bytes</th>\n",
       "      <th>Required_IOS_Version</th>\n",
       "      <th>Released</th>\n",
       "      <th>Updated</th>\n",
       "      <th>Version</th>\n",
       "      <th>...</th>\n",
       "      <th>Currency</th>\n",
       "      <th>Free</th>\n",
       "      <th>DeveloperId</th>\n",
       "      <th>Developer</th>\n",
       "      <th>Developer_Url</th>\n",
       "      <th>Developer_Website</th>\n",
       "      <th>Average_User_Rating</th>\n",
       "      <th>Reviews</th>\n",
       "      <th>Current_Version_Score</th>\n",
       "      <th>Current_Version_Reviews</th>\n",
       "    </tr>\n",
       "  </thead>\n",
       "  <tbody>\n",
       "    <tr>\n",
       "      <th>0</th>\n",
       "      <td>com.hkbu.arc.apaper</td>\n",
       "      <td>A+ Paper Guide</td>\n",
       "      <td>https://apps.apple.com/us/app/a-paper-guide/id...</td>\n",
       "      <td>Education</td>\n",
       "      <td>4+</td>\n",
       "      <td>21993472.0</td>\n",
       "      <td>8.0</td>\n",
       "      <td>2017-09-28T03:02:41Z</td>\n",
       "      <td>2018-12-21T21:30:36Z</td>\n",
       "      <td>1.1.2</td>\n",
       "      <td>...</td>\n",
       "      <td>USD</td>\n",
       "      <td>True</td>\n",
       "      <td>1375410542</td>\n",
       "      <td>HKBU ARC</td>\n",
       "      <td>https://apps.apple.com/us/developer/hkbu-arc/i...</td>\n",
       "      <td>NaN</td>\n",
       "      <td>0.0</td>\n",
       "      <td>0</td>\n",
       "      <td>0.0</td>\n",
       "      <td>0</td>\n",
       "    </tr>\n",
       "    <tr>\n",
       "      <th>1</th>\n",
       "      <td>com.dmitriev.abooks</td>\n",
       "      <td>A-Books</td>\n",
       "      <td>https://apps.apple.com/us/app/a-books/id103157...</td>\n",
       "      <td>Book</td>\n",
       "      <td>4+</td>\n",
       "      <td>13135872.0</td>\n",
       "      <td>10.0</td>\n",
       "      <td>2015-08-31T19:31:32Z</td>\n",
       "      <td>2019-07-23T20:31:09Z</td>\n",
       "      <td>1.3</td>\n",
       "      <td>...</td>\n",
       "      <td>USD</td>\n",
       "      <td>True</td>\n",
       "      <td>1031572001</td>\n",
       "      <td>Roman Dmitriev</td>\n",
       "      <td>https://apps.apple.com/us/developer/roman-dmit...</td>\n",
       "      <td>NaN</td>\n",
       "      <td>5.0</td>\n",
       "      <td>1</td>\n",
       "      <td>5.0</td>\n",
       "      <td>1</td>\n",
       "    </tr>\n",
       "    <tr>\n",
       "      <th>2</th>\n",
       "      <td>no.terp.abooks</td>\n",
       "      <td>A-books</td>\n",
       "      <td>https://apps.apple.com/us/app/a-books/id145702...</td>\n",
       "      <td>Book</td>\n",
       "      <td>4+</td>\n",
       "      <td>21943296.0</td>\n",
       "      <td>9.0</td>\n",
       "      <td>2021-04-14T07:00:00Z</td>\n",
       "      <td>2021-05-30T21:08:54Z</td>\n",
       "      <td>1.3.1</td>\n",
       "      <td>...</td>\n",
       "      <td>USD</td>\n",
       "      <td>True</td>\n",
       "      <td>1457024163</td>\n",
       "      <td>Terp AS</td>\n",
       "      <td>https://apps.apple.com/us/developer/terp-as/id...</td>\n",
       "      <td>NaN</td>\n",
       "      <td>0.0</td>\n",
       "      <td>0</td>\n",
       "      <td>0.0</td>\n",
       "      <td>0</td>\n",
       "    </tr>\n",
       "    <tr>\n",
       "      <th>3</th>\n",
       "      <td>fr.antoinettefleur.Book1</td>\n",
       "      <td>A-F Book #1</td>\n",
       "      <td>https://apps.apple.com/us/app/a-f-book-1/id500...</td>\n",
       "      <td>Book</td>\n",
       "      <td>4+</td>\n",
       "      <td>81851392.0</td>\n",
       "      <td>8.0</td>\n",
       "      <td>2012-02-10T03:40:07Z</td>\n",
       "      <td>2019-10-29T12:40:37Z</td>\n",
       "      <td>1.2</td>\n",
       "      <td>...</td>\n",
       "      <td>USD</td>\n",
       "      <td>False</td>\n",
       "      <td>439568839</td>\n",
       "      <td>i-editeur.com</td>\n",
       "      <td>https://apps.apple.com/us/developer/i-editeur-...</td>\n",
       "      <td>NaN</td>\n",
       "      <td>0.0</td>\n",
       "      <td>0</td>\n",
       "      <td>0.0</td>\n",
       "      <td>0</td>\n",
       "    </tr>\n",
       "    <tr>\n",
       "      <th>4</th>\n",
       "      <td>com.imonstersoft.azdictionaryios</td>\n",
       "      <td>A-Z Synonyms Dictionary</td>\n",
       "      <td>https://apps.apple.com/us/app/a-z-synonyms-dic...</td>\n",
       "      <td>Reference</td>\n",
       "      <td>4+</td>\n",
       "      <td>64692224.0</td>\n",
       "      <td>9.0</td>\n",
       "      <td>2020-12-16T08:00:00Z</td>\n",
       "      <td>2020-12-18T21:36:11Z</td>\n",
       "      <td>1.0.1</td>\n",
       "      <td>...</td>\n",
       "      <td>USD</td>\n",
       "      <td>True</td>\n",
       "      <td>656731821</td>\n",
       "      <td>Ngov chiheang</td>\n",
       "      <td>https://apps.apple.com/us/developer/ngov-chihe...</td>\n",
       "      <td>http://imonstersoft.com</td>\n",
       "      <td>0.0</td>\n",
       "      <td>0</td>\n",
       "      <td>0.0</td>\n",
       "      <td>0</td>\n",
       "    </tr>\n",
       "  </tbody>\n",
       "</table>\n",
       "<p>5 rows × 21 columns</p>\n",
       "</div>"
      ],
      "text/plain": [
       "                             App_Id                 App_Name  \\\n",
       "0               com.hkbu.arc.apaper           A+ Paper Guide   \n",
       "1               com.dmitriev.abooks                  A-Books   \n",
       "2                    no.terp.abooks                  A-books   \n",
       "3          fr.antoinettefleur.Book1              A-F Book #1   \n",
       "4  com.imonstersoft.azdictionaryios  A-Z Synonyms Dictionary   \n",
       "\n",
       "                                        AppStore_Url Primary_Genre  \\\n",
       "0  https://apps.apple.com/us/app/a-paper-guide/id...     Education   \n",
       "1  https://apps.apple.com/us/app/a-books/id103157...          Book   \n",
       "2  https://apps.apple.com/us/app/a-books/id145702...          Book   \n",
       "3  https://apps.apple.com/us/app/a-f-book-1/id500...          Book   \n",
       "4  https://apps.apple.com/us/app/a-z-synonyms-dic...     Reference   \n",
       "\n",
       "  Content_Rating  Size_Bytes Required_IOS_Version              Released  \\\n",
       "0             4+  21993472.0                  8.0  2017-09-28T03:02:41Z   \n",
       "1             4+  13135872.0                 10.0  2015-08-31T19:31:32Z   \n",
       "2             4+  21943296.0                  9.0  2021-04-14T07:00:00Z   \n",
       "3             4+  81851392.0                  8.0  2012-02-10T03:40:07Z   \n",
       "4             4+  64692224.0                  9.0  2020-12-16T08:00:00Z   \n",
       "\n",
       "                Updated Version  ...  Currency   Free  DeveloperId  \\\n",
       "0  2018-12-21T21:30:36Z   1.1.2  ...       USD   True   1375410542   \n",
       "1  2019-07-23T20:31:09Z     1.3  ...       USD   True   1031572001   \n",
       "2  2021-05-30T21:08:54Z   1.3.1  ...       USD   True   1457024163   \n",
       "3  2019-10-29T12:40:37Z     1.2  ...       USD  False    439568839   \n",
       "4  2020-12-18T21:36:11Z   1.0.1  ...       USD   True    656731821   \n",
       "\n",
       "        Developer                                      Developer_Url  \\\n",
       "0        HKBU ARC  https://apps.apple.com/us/developer/hkbu-arc/i...   \n",
       "1  Roman Dmitriev  https://apps.apple.com/us/developer/roman-dmit...   \n",
       "2         Terp AS  https://apps.apple.com/us/developer/terp-as/id...   \n",
       "3   i-editeur.com  https://apps.apple.com/us/developer/i-editeur-...   \n",
       "4   Ngov chiheang  https://apps.apple.com/us/developer/ngov-chihe...   \n",
       "\n",
       "         Developer_Website Average_User_Rating  Reviews  \\\n",
       "0                      NaN                 0.0        0   \n",
       "1                      NaN                 5.0        1   \n",
       "2                      NaN                 0.0        0   \n",
       "3                      NaN                 0.0        0   \n",
       "4  http://imonstersoft.com                 0.0        0   \n",
       "\n",
       "   Current_Version_Score  Current_Version_Reviews  \n",
       "0                    0.0                        0  \n",
       "1                    5.0                        1  \n",
       "2                    0.0                        0  \n",
       "3                    0.0                        0  \n",
       "4                    0.0                        0  \n",
       "\n",
       "[5 rows x 21 columns]"
      ]
     },
     "execution_count": 4,
     "metadata": {},
     "output_type": "execute_result"
    }
   ],
   "source": [
    "df.head()"
   ]
  },
  {
   "cell_type": "code",
   "execution_count": 5,
   "id": "b898820f",
   "metadata": {},
   "outputs": [
    {
     "data": {
      "text/plain": [
       "(1230376, 21)"
      ]
     },
     "execution_count": 5,
     "metadata": {},
     "output_type": "execute_result"
    }
   ],
   "source": [
    "df.shape"
   ]
  },
  {
   "cell_type": "markdown",
   "id": "56ad17bf",
   "metadata": {},
   "source": [
    "* So the dataset has 7197 rows and 13 columns"
   ]
  },
  {
   "cell_type": "code",
   "execution_count": 6,
   "id": "3b66ec99",
   "metadata": {},
   "outputs": [
    {
     "data": {
      "text/plain": [
       "Index(['App_Id', 'App_Name', 'AppStore_Url', 'Primary_Genre', 'Content_Rating',\n",
       "       'Size_Bytes', 'Required_IOS_Version', 'Released', 'Updated', 'Version',\n",
       "       'Price', 'Currency', 'Free', 'DeveloperId', 'Developer',\n",
       "       'Developer_Url', 'Developer_Website', 'Average_User_Rating', 'Reviews',\n",
       "       'Current_Version_Score', 'Current_Version_Reviews'],\n",
       "      dtype='object')"
      ]
     },
     "execution_count": 6,
     "metadata": {},
     "output_type": "execute_result"
    }
   ],
   "source": [
    "df.columns"
   ]
  },
  {
   "cell_type": "code",
   "execution_count": 7,
   "id": "8f669c24",
   "metadata": {},
   "outputs": [
    {
     "name": "stdout",
     "output_type": "stream",
     "text": [
      "<class 'pandas.core.frame.DataFrame'>\n",
      "RangeIndex: 1230376 entries, 0 to 1230375\n",
      "Data columns (total 21 columns):\n",
      " #   Column                   Non-Null Count    Dtype  \n",
      "---  ------                   --------------    -----  \n",
      " 0   App_Id                   1230376 non-null  object \n",
      " 1   App_Name                 1230375 non-null  object \n",
      " 2   AppStore_Url             1230376 non-null  object \n",
      " 3   Primary_Genre            1230376 non-null  object \n",
      " 4   Content_Rating           1230376 non-null  object \n",
      " 5   Size_Bytes               1230152 non-null  float64\n",
      " 6   Required_IOS_Version     1230376 non-null  object \n",
      " 7   Released                 1230373 non-null  object \n",
      " 8   Updated                  1230376 non-null  object \n",
      " 9   Version                  1230376 non-null  object \n",
      " 10  Price                    1229886 non-null  float64\n",
      " 11  Currency                 1230376 non-null  object \n",
      " 12  Free                     1230376 non-null  bool   \n",
      " 13  DeveloperId              1230376 non-null  int64  \n",
      " 14  Developer                1230376 non-null  object \n",
      " 15  Developer_Url            1229267 non-null  object \n",
      " 16  Developer_Website        586388 non-null   object \n",
      " 17  Average_User_Rating      1230376 non-null  float64\n",
      " 18  Reviews                  1230376 non-null  int64  \n",
      " 19  Current_Version_Score    1230376 non-null  float64\n",
      " 20  Current_Version_Reviews  1230376 non-null  int64  \n",
      "dtypes: bool(1), float64(4), int64(3), object(13)\n",
      "memory usage: 188.9+ MB\n"
     ]
    }
   ],
   "source": [
    "df.info()"
   ]
  },
  {
   "cell_type": "code",
   "execution_count": 8,
   "id": "8c2c7d49",
   "metadata": {},
   "outputs": [
    {
     "data": {
      "application/vnd.microsoft.datawrangler.viewer.v0+json": {
       "columns": [
        {
         "name": "index",
         "rawType": "object",
         "type": "string"
        },
        {
         "name": "Size_Bytes",
         "rawType": "float64",
         "type": "float"
        },
        {
         "name": "Price",
         "rawType": "float64",
         "type": "float"
        },
        {
         "name": "DeveloperId",
         "rawType": "float64",
         "type": "float"
        },
        {
         "name": "Average_User_Rating",
         "rawType": "float64",
         "type": "float"
        },
        {
         "name": "Reviews",
         "rawType": "float64",
         "type": "float"
        },
        {
         "name": "Current_Version_Score",
         "rawType": "float64",
         "type": "float"
        },
        {
         "name": "Current_Version_Reviews",
         "rawType": "float64",
         "type": "float"
        }
       ],
       "ref": "e86748b9-0c1f-414c-a1df-b78be7a2cebb",
       "rows": [
        [
         "count",
         "1230152.0",
         "1229886.0",
         "1230376.0",
         "1230376.0",
         "1230376.0",
         "1230376.0",
         "1230376.0"
        ],
        [
         "mean",
         "75108571.05264552",
         "0.5041263824452021",
         "1092869226.678013",
         "1.788386667165159",
         "825.9477923821661",
         "1.7883866682136185",
         "825.9477923821661"
        ],
        [
         "std",
         "231872643.7153891",
         "6.869674380627342",
         "409089732.9216672",
         "2.154105285511618",
         "50160.512897385364",
         "2.154105286947228",
         "50160.512897385364"
        ],
        [
         "min",
         "27628.0",
         "0.0",
         "281656478.0",
         "0.0",
         "0.0",
         "0.0",
         "0.0"
        ],
        [
         "25%",
         "20413440.0",
         "0.0",
         "738110920.75",
         "0.0",
         "0.0",
         "0.0",
         "0.0"
        ],
        [
         "50%",
         "43331584.0",
         "0.0",
         "1179711165.0",
         "0.0",
         "0.0",
         "0.0",
         "0.0"
        ],
        [
         "75%",
         "83654656.0",
         "0.0",
         "1471959980.75",
         "4.33333",
         "3.0",
         "4.33333",
         "3.0"
        ],
        [
         "max",
         "76779452340.0",
         "999.99",
         "1590232711.0",
         "5.0",
         "22685334.0",
         "5.0",
         "22685334.0"
        ]
       ],
       "shape": {
        "columns": 7,
        "rows": 8
       }
      },
      "text/html": [
       "<div>\n",
       "<style scoped>\n",
       "    .dataframe tbody tr th:only-of-type {\n",
       "        vertical-align: middle;\n",
       "    }\n",
       "\n",
       "    .dataframe tbody tr th {\n",
       "        vertical-align: top;\n",
       "    }\n",
       "\n",
       "    .dataframe thead th {\n",
       "        text-align: right;\n",
       "    }\n",
       "</style>\n",
       "<table border=\"1\" class=\"dataframe\">\n",
       "  <thead>\n",
       "    <tr style=\"text-align: right;\">\n",
       "      <th></th>\n",
       "      <th>Size_Bytes</th>\n",
       "      <th>Price</th>\n",
       "      <th>DeveloperId</th>\n",
       "      <th>Average_User_Rating</th>\n",
       "      <th>Reviews</th>\n",
       "      <th>Current_Version_Score</th>\n",
       "      <th>Current_Version_Reviews</th>\n",
       "    </tr>\n",
       "  </thead>\n",
       "  <tbody>\n",
       "    <tr>\n",
       "      <th>count</th>\n",
       "      <td>1.230152e+06</td>\n",
       "      <td>1.229886e+06</td>\n",
       "      <td>1.230376e+06</td>\n",
       "      <td>1.230376e+06</td>\n",
       "      <td>1.230376e+06</td>\n",
       "      <td>1.230376e+06</td>\n",
       "      <td>1.230376e+06</td>\n",
       "    </tr>\n",
       "    <tr>\n",
       "      <th>mean</th>\n",
       "      <td>7.510857e+07</td>\n",
       "      <td>5.041264e-01</td>\n",
       "      <td>1.092869e+09</td>\n",
       "      <td>1.788387e+00</td>\n",
       "      <td>8.259478e+02</td>\n",
       "      <td>1.788387e+00</td>\n",
       "      <td>8.259478e+02</td>\n",
       "    </tr>\n",
       "    <tr>\n",
       "      <th>std</th>\n",
       "      <td>2.318726e+08</td>\n",
       "      <td>6.869674e+00</td>\n",
       "      <td>4.090897e+08</td>\n",
       "      <td>2.154105e+00</td>\n",
       "      <td>5.016051e+04</td>\n",
       "      <td>2.154105e+00</td>\n",
       "      <td>5.016051e+04</td>\n",
       "    </tr>\n",
       "    <tr>\n",
       "      <th>min</th>\n",
       "      <td>2.762800e+04</td>\n",
       "      <td>0.000000e+00</td>\n",
       "      <td>2.816565e+08</td>\n",
       "      <td>0.000000e+00</td>\n",
       "      <td>0.000000e+00</td>\n",
       "      <td>0.000000e+00</td>\n",
       "      <td>0.000000e+00</td>\n",
       "    </tr>\n",
       "    <tr>\n",
       "      <th>25%</th>\n",
       "      <td>2.041344e+07</td>\n",
       "      <td>0.000000e+00</td>\n",
       "      <td>7.381109e+08</td>\n",
       "      <td>0.000000e+00</td>\n",
       "      <td>0.000000e+00</td>\n",
       "      <td>0.000000e+00</td>\n",
       "      <td>0.000000e+00</td>\n",
       "    </tr>\n",
       "    <tr>\n",
       "      <th>50%</th>\n",
       "      <td>4.333158e+07</td>\n",
       "      <td>0.000000e+00</td>\n",
       "      <td>1.179711e+09</td>\n",
       "      <td>0.000000e+00</td>\n",
       "      <td>0.000000e+00</td>\n",
       "      <td>0.000000e+00</td>\n",
       "      <td>0.000000e+00</td>\n",
       "    </tr>\n",
       "    <tr>\n",
       "      <th>75%</th>\n",
       "      <td>8.365466e+07</td>\n",
       "      <td>0.000000e+00</td>\n",
       "      <td>1.471960e+09</td>\n",
       "      <td>4.333330e+00</td>\n",
       "      <td>3.000000e+00</td>\n",
       "      <td>4.333330e+00</td>\n",
       "      <td>3.000000e+00</td>\n",
       "    </tr>\n",
       "    <tr>\n",
       "      <th>max</th>\n",
       "      <td>7.677945e+10</td>\n",
       "      <td>9.999900e+02</td>\n",
       "      <td>1.590233e+09</td>\n",
       "      <td>5.000000e+00</td>\n",
       "      <td>2.268533e+07</td>\n",
       "      <td>5.000000e+00</td>\n",
       "      <td>2.268533e+07</td>\n",
       "    </tr>\n",
       "  </tbody>\n",
       "</table>\n",
       "</div>"
      ],
      "text/plain": [
       "         Size_Bytes         Price   DeveloperId  Average_User_Rating  \\\n",
       "count  1.230152e+06  1.229886e+06  1.230376e+06         1.230376e+06   \n",
       "mean   7.510857e+07  5.041264e-01  1.092869e+09         1.788387e+00   \n",
       "std    2.318726e+08  6.869674e+00  4.090897e+08         2.154105e+00   \n",
       "min    2.762800e+04  0.000000e+00  2.816565e+08         0.000000e+00   \n",
       "25%    2.041344e+07  0.000000e+00  7.381109e+08         0.000000e+00   \n",
       "50%    4.333158e+07  0.000000e+00  1.179711e+09         0.000000e+00   \n",
       "75%    8.365466e+07  0.000000e+00  1.471960e+09         4.333330e+00   \n",
       "max    7.677945e+10  9.999900e+02  1.590233e+09         5.000000e+00   \n",
       "\n",
       "            Reviews  Current_Version_Score  Current_Version_Reviews  \n",
       "count  1.230376e+06           1.230376e+06             1.230376e+06  \n",
       "mean   8.259478e+02           1.788387e+00             8.259478e+02  \n",
       "std    5.016051e+04           2.154105e+00             5.016051e+04  \n",
       "min    0.000000e+00           0.000000e+00             0.000000e+00  \n",
       "25%    0.000000e+00           0.000000e+00             0.000000e+00  \n",
       "50%    0.000000e+00           0.000000e+00             0.000000e+00  \n",
       "75%    3.000000e+00           4.333330e+00             3.000000e+00  \n",
       "max    2.268533e+07           5.000000e+00             2.268533e+07  "
      ]
     },
     "execution_count": 8,
     "metadata": {},
     "output_type": "execute_result"
    }
   ],
   "source": [
    "df.describe()"
   ]
  },
  {
   "cell_type": "code",
   "execution_count": 10,
   "id": "5a51ea7f",
   "metadata": {},
   "outputs": [
    {
     "data": {
      "application/vnd.microsoft.datawrangler.viewer.v0+json": {
       "columns": [
        {
         "name": "index",
         "rawType": "object",
         "type": "string"
        },
        {
         "name": "0",
         "rawType": "int64",
         "type": "integer"
        }
       ],
       "ref": "5d54bd14-a1d7-4181-afba-9c4e16ce50c6",
       "rows": [
        [
         "Developer_Website",
         "643988"
        ],
        [
         "Developer_Url",
         "1109"
        ],
        [
         "Price",
         "490"
        ],
        [
         "Size_Bytes",
         "224"
        ],
        [
         "Released",
         "3"
        ],
        [
         "App_Name",
         "1"
        ],
        [
         "Primary_Genre",
         "0"
        ],
        [
         "AppStore_Url",
         "0"
        ],
        [
         "App_Id",
         "0"
        ],
        [
         "Content_Rating",
         "0"
        ],
        [
         "Version",
         "0"
        ],
        [
         "Updated",
         "0"
        ],
        [
         "Required_IOS_Version",
         "0"
        ],
        [
         "Free",
         "0"
        ],
        [
         "Currency",
         "0"
        ],
        [
         "Developer",
         "0"
        ],
        [
         "DeveloperId",
         "0"
        ],
        [
         "Average_User_Rating",
         "0"
        ],
        [
         "Reviews",
         "0"
        ],
        [
         "Current_Version_Score",
         "0"
        ],
        [
         "Current_Version_Reviews",
         "0"
        ]
       ],
       "shape": {
        "columns": 1,
        "rows": 21
       }
      },
      "text/plain": [
       "Developer_Website          643988\n",
       "Developer_Url                1109\n",
       "Price                         490\n",
       "Size_Bytes                    224\n",
       "Released                        3\n",
       "App_Name                        1\n",
       "Primary_Genre                   0\n",
       "AppStore_Url                    0\n",
       "App_Id                          0\n",
       "Content_Rating                  0\n",
       "Version                         0\n",
       "Updated                         0\n",
       "Required_IOS_Version            0\n",
       "Free                            0\n",
       "Currency                        0\n",
       "Developer                       0\n",
       "DeveloperId                     0\n",
       "Average_User_Rating             0\n",
       "Reviews                         0\n",
       "Current_Version_Score           0\n",
       "Current_Version_Reviews         0\n",
       "dtype: int64"
      ]
     },
     "execution_count": 10,
     "metadata": {},
     "output_type": "execute_result"
    }
   ],
   "source": [
    "df.isnull().sum().sort_values(ascending=False)"
   ]
  },
  {
   "cell_type": "code",
   "execution_count": 12,
   "id": "e6f02015",
   "metadata": {},
   "outputs": [
    {
     "data": {
      "application/vnd.microsoft.datawrangler.viewer.v0+json": {
       "columns": [
        {
         "name": "index",
         "rawType": "object",
         "type": "string"
        },
        {
         "name": "0",
         "rawType": "float64",
         "type": "float"
        }
       ],
       "ref": "da5537b2-f0cd-437d-9cea-744f6cf33460",
       "rows": [
        [
         "Developer_Website",
         "52.34074786894413"
        ],
        [
         "Developer_Url",
         "0.09013504814788324"
        ],
        [
         "Price",
         "0.039825224159118836"
        ],
        [
         "Size_Bytes",
         "0.018205816758454327"
        ],
        [
         "Released",
         "0.0002438279030150133"
        ],
        [
         "App_Name",
         "8.12759676716711e-05"
        ],
        [
         "Primary_Genre",
         "0.0"
        ],
        [
         "AppStore_Url",
         "0.0"
        ],
        [
         "App_Id",
         "0.0"
        ],
        [
         "Content_Rating",
         "0.0"
        ],
        [
         "Version",
         "0.0"
        ],
        [
         "Updated",
         "0.0"
        ],
        [
         "Required_IOS_Version",
         "0.0"
        ],
        [
         "Free",
         "0.0"
        ],
        [
         "Currency",
         "0.0"
        ],
        [
         "Developer",
         "0.0"
        ],
        [
         "DeveloperId",
         "0.0"
        ],
        [
         "Average_User_Rating",
         "0.0"
        ],
        [
         "Reviews",
         "0.0"
        ],
        [
         "Current_Version_Score",
         "0.0"
        ],
        [
         "Current_Version_Reviews",
         "0.0"
        ]
       ],
       "shape": {
        "columns": 1,
        "rows": 21
       }
      },
      "text/plain": [
       "Developer_Website          52.340748\n",
       "Developer_Url               0.090135\n",
       "Price                       0.039825\n",
       "Size_Bytes                  0.018206\n",
       "Released                    0.000244\n",
       "App_Name                    0.000081\n",
       "Primary_Genre               0.000000\n",
       "AppStore_Url                0.000000\n",
       "App_Id                      0.000000\n",
       "Content_Rating              0.000000\n",
       "Version                     0.000000\n",
       "Updated                     0.000000\n",
       "Required_IOS_Version        0.000000\n",
       "Free                        0.000000\n",
       "Currency                    0.000000\n",
       "Developer                   0.000000\n",
       "DeveloperId                 0.000000\n",
       "Average_User_Rating         0.000000\n",
       "Reviews                     0.000000\n",
       "Current_Version_Score       0.000000\n",
       "Current_Version_Reviews     0.000000\n",
       "dtype: float64"
      ]
     },
     "execution_count": 12,
     "metadata": {},
     "output_type": "execute_result"
    }
   ],
   "source": [
    "# Percentage of missing values\n",
    "df.isnull().sum().sort_values(ascending=False) / len(df) * 100"
   ]
  },
  {
   "cell_type": "markdown",
   "id": "e581ad13",
   "metadata": {},
   "source": [
    "* 1. **Observation** : The dataset has missing values."
   ]
  },
  {
   "cell_type": "code",
   "execution_count": 13,
   "id": "80d7776a",
   "metadata": {},
   "outputs": [
    {
     "data": {
      "text/plain": [
       "Text(0.5, 1.0, 'Missing null values')"
      ]
     },
     "execution_count": 13,
     "metadata": {},
     "output_type": "execute_result"
    },
    {
     "data": {
      "image/png": "[encoded data removed]",
      "text/plain": [
       "<Figure size 1500x600 with 1 Axes>"
      ]
     },
     "metadata": {},
     "output_type": "display_data"
    }
   ],
   "source": [
    "# Visualizing missing values\n",
    "plt.rcParams['figure.figsize'] = (15,6)\n",
    "sns.heatmap(df.isnull(),yticklabels = False, cbar = False , cmap = 'viridis')\n",
    "plt.title(\"Missing null values\")"
   ]
  },
  {
   "cell_type": "markdown",
   "id": "e2c228ad",
   "metadata": {},
   "source": [
    "Based on its lack of relevance and the high number of NULL values associated with it, we have made the decision to drop this attribute from the dataset."
   ]
  },
  {
   "cell_type": "code",
   "execution_count": 15,
   "id": "51e296be",
   "metadata": {},
   "outputs": [
    {
     "name": "stdout",
     "output_type": "stream",
     "text": [
      "<class 'pandas.core.frame.DataFrame'>\n",
      "RangeIndex: 1230376 entries, 0 to 1230375\n",
      "Data columns (total 20 columns):\n",
      " #   Column                   Non-Null Count    Dtype  \n",
      "---  ------                   --------------    -----  \n",
      " 0   App_Id                   1230376 non-null  object \n",
      " 1   App_Name                 1230375 non-null  object \n",
      " 2   AppStore_Url             1230376 non-null  object \n",
      " 3   Primary_Genre            1230376 non-null  object \n",
      " 4   Content_Rating           1230376 non-null  object \n",
      " 5   Size_Bytes               1230152 non-null  float64\n",
      " 6   Required_IOS_Version     1230376 non-null  object \n",
      " 7   Released                 1230373 non-null  object \n",
      " 8   Updated                  1230376 non-null  object \n",
      " 9   Version                  1230376 non-null  object \n",
      " 10  Price                    1229886 non-null  float64\n",
      " 11  Currency                 1230376 non-null  object \n",
      " 12  Free                     1230376 non-null  bool   \n",
      " 13  DeveloperId              1230376 non-null  int64  \n",
      " 14  Developer                1230376 non-null  object \n",
      " 15  Developer_Url            1229267 non-null  object \n",
      " 16  Average_User_Rating      1230376 non-null  float64\n",
      " 17  Reviews                  1230376 non-null  int64  \n",
      " 18  Current_Version_Score    1230376 non-null  float64\n",
      " 19  Current_Version_Reviews  1230376 non-null  int64  \n",
      "dtypes: bool(1), float64(4), int64(3), object(12)\n",
      "memory usage: 179.5+ MB\n"
     ]
    }
   ],
   "source": [
    "df.drop('Developer_Website', axis=1, inplace=True)\n",
    "df.info()"
   ]
  },
  {
   "cell_type": "code",
   "execution_count": 16,
   "id": "6390a08d",
   "metadata": {},
   "outputs": [
    {
     "data": {
      "application/vnd.microsoft.datawrangler.viewer.v0+json": {
       "columns": [
        {
         "name": "index",
         "rawType": "object",
         "type": "string"
        },
        {
         "name": "0",
         "rawType": "int64",
         "type": "integer"
        }
       ],
       "ref": "2747c800-41a0-4d5a-9cea-ceea811dba53",
       "rows": [
        [
         "Developer_Url",
         "1109"
        ],
        [
         "Released",
         "3"
        ],
        [
         "App_Name",
         "1"
        ],
        [
         "App_Id",
         "0"
        ],
        [
         "Primary_Genre",
         "0"
        ],
        [
         "AppStore_Url",
         "0"
        ],
        [
         "Size_Bytes",
         "0"
        ],
        [
         "Content_Rating",
         "0"
        ],
        [
         "Updated",
         "0"
        ],
        [
         "Version",
         "0"
        ],
        [
         "Price",
         "0"
        ],
        [
         "Required_IOS_Version",
         "0"
        ],
        [
         "Currency",
         "0"
        ],
        [
         "Free",
         "0"
        ],
        [
         "DeveloperId",
         "0"
        ],
        [
         "Developer",
         "0"
        ],
        [
         "Average_User_Rating",
         "0"
        ],
        [
         "Reviews",
         "0"
        ],
        [
         "Current_Version_Score",
         "0"
        ],
        [
         "Current_Version_Reviews",
         "0"
        ]
       ],
       "shape": {
        "columns": 1,
        "rows": 20
       }
      },
      "text/plain": [
       "Developer_Url              1109\n",
       "Released                      3\n",
       "App_Name                      1\n",
       "App_Id                        0\n",
       "Primary_Genre                 0\n",
       "AppStore_Url                  0\n",
       "Size_Bytes                    0\n",
       "Content_Rating                0\n",
       "Updated                       0\n",
       "Version                       0\n",
       "Price                         0\n",
       "Required_IOS_Version          0\n",
       "Currency                      0\n",
       "Free                          0\n",
       "DeveloperId                   0\n",
       "Developer                     0\n",
       "Average_User_Rating           0\n",
       "Reviews                       0\n",
       "Current_Version_Score         0\n",
       "Current_Version_Reviews       0\n",
       "dtype: int64"
      ]
     },
     "execution_count": 16,
     "metadata": {},
     "output_type": "execute_result"
    }
   ],
   "source": [
    "#Missing values dealing\n",
    "#filling mean value of Price column in the null places of that column\n",
    "df['Price'] = df.Price.fillna(value=df['Price'].mean())\n",
    "df['Size_Bytes'] = df.Size_Bytes.fillna(value=df['Size_Bytes'].mean())\n",
    "\n",
    "##have a view of refreshed dataset again\n",
    "df.isnull().sum().sort_values(ascending = False)"
   ]
  },
  {
   "cell_type": "code",
   "execution_count": 17,
   "id": "89ea5d24",
   "metadata": {},
   "outputs": [
    {
     "data": {
      "application/vnd.microsoft.datawrangler.viewer.v0+json": {
       "columns": [
        {
         "name": "index",
         "rawType": "int64",
         "type": "integer"
        },
        {
         "name": "App_Id",
         "rawType": "object",
         "type": "string"
        },
        {
         "name": "App_Name",
         "rawType": "object",
         "type": "string"
        },
        {
         "name": "AppStore_Url",
         "rawType": "object",
         "type": "string"
        },
        {
         "name": "Primary_Genre",
         "rawType": "object",
         "type": "string"
        },
        {
         "name": "Content_Rating",
         "rawType": "object",
         "type": "string"
        },
        {
         "name": "Size_Bytes",
         "rawType": "float64",
         "type": "float"
        },
        {
         "name": "Required_IOS_Version",
         "rawType": "object",
         "type": "string"
        },
        {
         "name": "Released",
         "rawType": "object",
         "type": "string"
        },
        {
         "name": "Updated",
         "rawType": "object",
         "type": "string"
        },
        {
         "name": "Version",
         "rawType": "object",
         "type": "string"
        },
        {
         "name": "Price",
         "rawType": "float64",
         "type": "float"
        },
        {
         "name": "Currency",
         "rawType": "object",
         "type": "string"
        },
        {
         "name": "Free",
         "rawType": "bool",
         "type": "boolean"
        },
        {
         "name": "DeveloperId",
         "rawType": "int64",
         "type": "integer"
        },
        {
         "name": "Developer",
         "rawType": "object",
         "type": "string"
        },
        {
         "name": "Developer_Url",
         "rawType": "object",
         "type": "unknown"
        },
        {
         "name": "Average_User_Rating",
         "rawType": "float64",
         "type": "float"
        },
        {
         "name": "Reviews",
         "rawType": "int64",
         "type": "integer"
        },
        {
         "name": "Current_Version_Score",
         "rawType": "float64",
         "type": "float"
        },
        {
         "name": "Current_Version_Reviews",
         "rawType": "int64",
         "type": "integer"
        }
       ],
       "ref": "5b5f3a2d-7a32-4411-9188-7d8a29588a7f",
       "rows": [
        [
         "2382",
         "com.TroopAdmin2",
         "C&S Troop Admin",
         "https://apps.apple.com/us/app/c-s-troop-admin/id1569780622?uo=4",
         "Business",
         "4+",
         "87355392.0",
         "10.0",
         "2021-06-04T07:00:00Z",
         "2021-06-05T03:40:31Z",
         "1.0",
         "0.0",
         "USD",
         "True",
         "1569780624",
         "Hunter Biscuit & Wolf Limited",
         null,
         "0.0",
         "0",
         "0.0",
         "0"
        ],
        [
         "2827",
         "com.dhrubajyoti.bangla",
         "Bangla Rhymes",
         "https://apps.apple.com/us/app/bangla-rhymes/id1455756332?uo=4",
         "Education",
         "4+",
         "56445952.0",
         "9.1",
         "2019-03-23T18:27:49Z",
         "2019-03-23T18:27:49Z",
         "1.0.1",
         "0.0",
         "USD",
         "True",
         "1452131894",
         "Dhrubajyoti Dey",
         null,
         "5.0",
         "5",
         "5.0",
         "5"
        ],
        [
         "3498",
         "com.f1rstmotors.f1rstmotors",
         "F1RST MOTORS",
         "https://apps.apple.com/us/app/f1rst-motors/id1588267039?uo=4",
         "Business",
         "4+",
         "77185024.0",
         "13.0",
         "2021-10-06T07:00:00Z",
         "2021-10-06T12:15:27Z",
         "1.0",
         "0.0",
         "USD",
         "True",
         "1588267041",
         "F1RST MOTORS LLC",
         null,
         "0.0",
         "0",
         "0.0",
         "0"
        ],
        [
         "5820",
         "tr.com.okuvaryum.mobil",
         "Okuvaryum",
         "https://apps.apple.com/us/app/okuvaryum/id1493919290?uo=4",
         "Education",
         "4+",
         "79869952.0",
         "11.0",
         "2020-01-17T08:00:00Z",
         "2021-05-29T15:20:58Z",
         "1.0.21",
         "0.0",
         "USD",
         "True",
         "1589915483",
         "OKUVARYUM EGITIM VE TEKNOLOJI ANONIM SIRKETI",
         null,
         "4.44444",
         "9",
         "4.44444",
         "9"
        ],
        [
         "5821",
         "tr.com.okuvaryum.okul",
         "Okuvaryum Okul",
         "https://apps.apple.com/us/app/okuvaryum-okul/id1528531378?uo=4",
         "Education",
         "4+",
         "39526400.0",
         "11.0",
         "2021-08-25T07:00:00Z",
         "2021-10-08T17:07:59Z",
         "1.0.2",
         "0.0",
         "USD",
         "True",
         "1589915483",
         "OKUVARYUM EGITIM VE TEKNOLOJI ANONIM SIRKETI",
         null,
         "0.0",
         "0",
         "0.0",
         "0"
        ],
        [
         "6488",
         "app.ilbook.io",
         "IlBook",
         "https://apps.apple.com/us/app/ilbook/id1531936235?uo=4",
         "Book",
         "4+",
         "40619008.0",
         "11.0",
         "2020-09-23T07:00:00Z",
         "2021-02-27T01:39:22Z",
         "0.0.8",
         "0.0",
         "USD",
         "True",
         "1531936477",
         "Dennis Kayser",
         null,
         "0.0",
         "0",
         "0.0",
         "0"
        ],
        [
         "13149",
         "vn.fado.ios",
         "Fado",
         "https://apps.apple.com/us/app/fado/id1190022173?uo=4",
         "Business",
         "4+",
         "45864960.0",
         "10.0",
         "2017-01-02T23:55:05Z",
         "2021-09-08T16:49:55Z",
         "3.0.8",
         "0.0",
         "USD",
         "True",
         "1587495042",
         "FADO VIET NAM JOINT STOCK COMPANY",
         null,
         "4.3125",
         "16",
         "4.3125",
         "16"
        ],
        [
         "13418",
         "com.tl.parcel.package.tracker",
         "Package Delivery Tracker App",
         "https://apps.apple.com/us/app/package-delivery-tracker-app/id1470049099?uo=4",
         "Business",
         "4+",
         "20720640.0",
         "11.2",
         "2019-07-30T07:00:00Z",
         "2021-09-29T17:51:53Z",
         "1.9.0",
         "0.0",
         "USD",
         "True",
         "1588374246",
         "ApenGames OU",
         null,
         "3.21003",
         "319",
         "3.21003",
         "319"
        ],
        [
         "14353",
         "com.voxpoetry.cdp",
         "VoxPoetry",
         "https://apps.apple.com/us/app/voxpoetry/id1572894619?uo=4",
         "Book",
         "4+",
         "63228928.0",
         "9.0",
         "2021-06-23T07:00:00Z",
         "2021-06-23T08:49:59Z",
         "1.0",
         "0.0",
         "USD",
         "True",
         "1572894621",
         "Pier Paolo Iagulli",
         null,
         "0.0",
         "0",
         "0.0",
         "0"
        ],
        [
         "14513",
         "com.Earthymart",
         "Earthymart",
         "https://apps.apple.com/us/app/earthymart/id1575423881?uo=4",
         "Business",
         "4+",
         "75231232.0",
         "13.0",
         "2021-08-04T07:00:00Z",
         "2021-08-04T10:11:51Z",
         "1.0",
         "0.0",
         "USD",
         "True",
         "1575423883",
         "Earthymart Pty Ltd",
         null,
         "0.0",
         "0",
         "0.0",
         "0"
        ],
        [
         "17423",
         "mentalstack.sabobah.production",
         "Sabboba",
         "https://apps.apple.com/us/app/sabboba/id1546859215?uo=4",
         "Business",
         "4+",
         "261766144.0",
         "11.0",
         "2021-09-24T07:00:00Z",
         "2021-09-24T07:00:00Z",
         "1.0",
         "0.0",
         "USD",
         "True",
         "1587701549",
         "Omar Hamzah",
         null,
         "0.0",
         "0",
         "0.0",
         "0"
        ],
        [
         "18259",
         "de.gfwh.SVDB",
         "Sachverständigennavi",
         "https://apps.apple.com/us/app/sachverst%C3%A4ndigennavi/id779532160?uo=4",
         "Business",
         "4+",
         "3085312.0",
         "8.0",
         "2013-12-17T20:22:25Z",
         "2016-11-23T22:15:59Z",
         "1.5",
         "0.0",
         "USD",
         "True",
         "1587656037",
         "Westdeutscher Handwerkskammertag",
         null,
         "0.0",
         "0",
         "0.0",
         "0"
        ],
        [
         "18742",
         "sa.aait.aspbranch.easy",
         "Easy EG",
         "https://apps.apple.com/us/app/easy-eg/id1573741469?uo=4",
         "Business",
         "4+",
         "116310016.0",
         "9.0",
         "2021-07-01T07:00:00Z",
         "2021-09-21T09:08:58Z",
         "1.1.7",
         "0.0",
         "USD",
         "True",
         "1589065730",
         "TAMER MOOHAMED MOHAMED",
         null,
         "0.0",
         "0",
         "0.0",
         "0"
        ],
        [
         "20299",
         "com.jaykayglobal",
         "Jaykay",
         "https://apps.apple.com/us/app/jaykay/id1588584726?uo=4",
         "Business",
         "4+",
         "42827776.0",
         "9.0",
         "2021-10-04T07:00:00Z",
         "2021-10-04T12:02:58Z",
         "1.0",
         "0.0",
         "USD",
         "True",
         "1588584728",
         "Opeyemi Ishola",
         null,
         "5.0",
         "1",
         "5.0",
         "1"
        ],
        [
         "22645",
         "uk.co.handlefreelancesolutions.app",
         "Handle Freelance",
         "https://apps.apple.com/us/app/handle-freelance/id1589021803?uo=4",
         "Business",
         "4+",
         "66938880.0",
         "8.0",
         "2021-10-10T07:00:00Z",
         "2021-10-10T16:06:51Z",
         "1.0",
         "0.0",
         "USD",
         "True",
         "1589021805",
         "Handle Freelance Solutions",
         null,
         "0.0",
         "0",
         "0.0",
         "0"
        ],
        [
         "23061",
         "com.sensustech.bible",
         "Holy Bible - KJV Daily Verses",
         "https://apps.apple.com/us/app/holy-bible-kjv-daily-verses/id1459738906?uo=4",
         "Reference",
         "4+",
         "118576128.0",
         "9.0",
         "2019-05-01T16:45:57Z",
         "2021-05-01T15:03:49Z",
         "1.5.9",
         "0.0",
         "USD",
         "True",
         "1588105416",
         "Battlegrounds Games, S.L.",
         null,
         "4.64205",
         "352",
         "4.64205",
         "352"
        ],
        [
         "28149",
         "net.synergyts.bst",
         "Bible Study Together",
         "https://apps.apple.com/us/app/bible-study-together/id1331946347?uo=4",
         "Book",
         "4+",
         "24436736.0",
         "12.0",
         "2018-01-08T00:22:39Z",
         "2021-03-12T18:16:17Z",
         "2.2.7",
         "0.0",
         "USD",
         "True",
         "1589143836",
         "Create Disciples Inc",
         null,
         "3.57143",
         "21",
         "3.57143",
         "21"
        ],
        [
         "30528",
         "com.romantic.novel.hot.read",
         "Funny Novel",
         "https://apps.apple.com/us/app/funny-novel/id1570095604?uo=4",
         "Book",
         "12+",
         "47497216.0",
         "10.0",
         "2021-07-13T07:00:00Z",
         "2021-07-13T12:09:10Z",
         "1.0.0",
         "0.0",
         "USD",
         "True",
         "1567162414",
         "焕生 郑",
         null,
         "0.0",
         "0",
         "0.0",
         "0"
        ],
        [
         "31587",
         "com.mahathuen.app",
         "Mahathuen",
         "https://apps.apple.com/us/app/mahathuen/id1540925605?uo=4",
         "Business",
         "4+",
         "114171904.0",
         "9.0",
         "2021-01-24T08:00:00Z",
         "2021-09-09T16:22:39Z",
         "1.0.35",
         "0.0",
         "USD",
         "True",
         "1587863767",
         "Mahathuen Leasing Public Company",
         null,
         "0.0",
         "0",
         "0.0",
         "0"
        ],
        [
         "34574",
         "com.studio.maidstone",
         "Maidstone Studios",
         "https://apps.apple.com/us/app/maidstone-studios/id1585794630?uo=4",
         "Business",
         "4+",
         "45290496.0",
         "12.1",
         "2021-09-25T07:00:00Z",
         "2021-09-25T11:06:47Z",
         "1.0",
         "0.0",
         "USD",
         "True",
         "1587706746",
         "Vidertec Ltd",
         null,
         "0.0",
         "0",
         "0.0",
         "0"
        ],
        [
         "34768",
         "maingame.com.quizAnime",
         "Katsu Anime Manga Orion Quiz",
         "https://apps.apple.com/us/app/katsu-anime-manga-orion-quiz/id1582215132?uo=4",
         "Business",
         "4+",
         "41325568.0",
         "12.0",
         "2021-08-22T07:00:00Z",
         "2021-08-25T22:13:59Z",
         "1.0.3",
         "2.99",
         "USD",
         "False",
         "1588767490",
         "Van truong Trinh",
         null,
         "2.33333",
         "3",
         "2.33333",
         "3"
        ],
        [
         "35944",
         "com.oldpanda.doubanBookPlus",
         "Douban Book+",
         "https://apps.apple.com/us/app/douban-book/id1560583541?mt=12&uo=4",
         "Productivity",
         "4+",
         "5507929.0",
         "10.14",
         "2021-03-30T07:00:00Z",
         "2021-03-30T20:06:39Z",
         "0.8.0",
         "0.0",
         "USD",
         "True",
         "1560583543",
         "Jinhui Zhang",
         null,
         "0.0",
         "0",
         "0.0",
         "0"
        ],
        [
         "39361",
         "com.hussainiya.org1",
         "Majalis",
         "https://apps.apple.com/us/app/majalis/id1519985636?uo=4",
         "Business",
         "4+",
         "86333440.0",
         "11.0",
         "2020-08-12T07:00:00Z",
         "2021-08-10T05:47:44Z",
         "1.0.8",
         "0.0",
         "USD",
         "True",
         "1584462383",
         "Abdullah AlShamali",
         null,
         "4.5",
         "2",
         "4.5",
         "2"
        ],
        [
         "42425",
         "com.wastenetwork.app",
         "Waste Network",
         "https://apps.apple.com/us/app/waste-network/id1477016950?uo=4",
         "Business",
         "17+",
         "9047040.0",
         "12.1",
         "2019-08-22T07:00:00Z",
         "2019-08-22T09:46:15Z",
         "1.0",
         "0.0",
         "USD",
         "True",
         "1477016949",
         "Circle Waste Ltd",
         null,
         "0.0",
         "0",
         "0.0",
         "0"
        ],
        [
         "42937",
         "uk.co.appsforu.Kebabalicious",
         "Kebabalicious",
         "https://apps.apple.com/us/app/kebabalicious/id1350498966?uo=4",
         "Food & Drink",
         "4+",
         "32269312.0",
         "7.0",
         "2018-02-22T17:24:42Z",
         "2018-02-22T17:24:42Z",
         "1.0",
         "0.0",
         "USD",
         "True",
         "1589554251",
         "Berat Saridas",
         null,
         "0.0",
         "0",
         "0.0",
         "0"
        ],
        [
         "46358",
         "com.graygraph.YoniPacksCustomer",
         "YoniPacks",
         "https://apps.apple.com/us/app/yonipacks/id1563346463?uo=4",
         "Business",
         "17+",
         "30679040.0",
         "13.0",
         "2021-08-11T07:00:00Z",
         "2021-08-11T09:41:48Z",
         "1.0.0",
         "0.0",
         "USD",
         "True",
         "1563346465",
         "Pape Thiam",
         null,
         "0.0",
         "0",
         "0.0",
         "0"
        ],
        [
         "49681",
         "com.cfbrands.biancamano",
         "NDA Creator",
         "https://apps.apple.com/us/app/nda-creator/id1447816882?uo=4",
         "Business",
         "4+",
         "61079552.0",
         "8.0",
         "2019-01-05T23:18:23Z",
         "2021-04-11T06:43:30Z",
         "1.9",
         "0.0",
         "USD",
         "True",
         "1585193171",
         "Mikal Reinke",
         null,
         "4.0",
         "8",
         "4.0",
         "8"
        ],
        [
         "52166",
         "com.tribwerk.oneboard",
         "Oneboard",
         "https://apps.apple.com/us/app/oneboard/id1178108888?mt=12&uo=4",
         "Business",
         "4+",
         "19044976.0",
         "10.6.6",
         "2017-04-20T07:09:41Z",
         "2017-11-24T08:23:15Z",
         "1.3",
         "0.0",
         "USD",
         "True",
         "1178108887",
         "Daniel Burkhalter",
         null,
         "0.0",
         "0",
         "0.0",
         "0"
        ],
        [
         "53482",
         "com.salesteddy.mobile",
         "Salesteddy",
         "https://apps.apple.com/us/app/salesteddy/id1552599687?uo=4",
         "Business",
         "17+",
         "39245824.0",
         "11.0",
         "2021-04-05T07:00:00Z",
         "2021-07-24T08:33:59Z",
         "v1.0.7+19",
         "0.0",
         "USD",
         "True",
         "1584991785",
         "Salesteddy Sdn. Bhd.",
         null,
         "0.0",
         "0",
         "0.0",
         "0"
        ],
        [
         "54078",
         "br.com.fullsolucoes.dealerapp",
         "Dealer App",
         "https://apps.apple.com/us/app/dealer-app/id1554146567?uo=4",
         "Business",
         "4+",
         "17760256.0",
         "12.0",
         "2021-04-15T07:00:00Z",
         "2021-10-02T19:17:40Z",
         "1.2.7",
         "0.0",
         "USD",
         "True",
         "1589303176",
         "Dealer Tecnologia Brasil Ltda.",
         null,
         "0.0",
         "0",
         "0.0",
         "0"
        ],
        [
         "54730",
         "com.mobirise.Mobirise",
         "Mobirise",
         "https://apps.apple.com/us/app/mobirise/id1496601862?mt=12&uo=4",
         "Developer Tools",
         "4+",
         "117299587.0",
         "10.10.0",
         "2021-03-09T08:00:00Z",
         "2021-03-09T18:33:56Z",
         "5.3.0",
         "0.0",
         "USD",
         "True",
         "1495792610",
         "Mobirise Ltd",
         null,
         "0.0",
         "0",
         "0.0",
         "0"
        ],
        [
         "55163",
         "rocks.polypane.Polypane-helper",
         "Polypane helper",
         "https://apps.apple.com/us/app/polypane-helper/id1541304901?mt=12&uo=4",
         "Developer Tools",
         "4+",
         "4106136.0",
         "10.14",
         "2021-01-27T08:00:00Z",
         "2021-01-27T19:10:07Z",
         "1.0",
         "0.0",
         "USD",
         "True",
         "1541304904",
         "Polypane",
         null,
         "0.0",
         "0",
         "0.0",
         "0"
        ],
        [
         "55751",
         "net.martinmajewski.ToolShelf-4-3Dconnexion",
         "ToolShelf 4 3Dconnexion",
         "https://apps.apple.com/us/app/toolshelf-4-3dconnexion/id1062563927?mt=12&uo=4",
         "Developer Tools",
         "4+",
         "3050112.0",
         "10.11",
         "2015-12-05T17:37:35Z",
         "2015-12-19T19:47:45Z",
         "1.0.1",
         "0.0",
         "USD",
         "True",
         "1062563926",
         "Martin Majewski",
         null,
         "0.0",
         "0",
         "0.0",
         "0"
        ],
        [
         "57417",
         "com.tomsonspzoo.jobmen",
         "Jobmen",
         "https://apps.apple.com/us/app/jobmen/id1480095950?uo=4",
         "Business",
         "4+",
         "65127424.0",
         "11.0",
         "2019-10-29T07:00:00Z",
         "2020-08-05T13:56:50Z",
         "2.3",
         "0.0",
         "USD",
         "True",
         "1276207036",
         "Tomasz Gawronski",
         null,
         "0.0",
         "0",
         "0.0",
         "0"
        ],
        [
         "57539",
         "com.unigigster.unigigsterApp1",
         "Unigigster",
         "https://apps.apple.com/us/app/unigigster/id1519745797?uo=4",
         "Business",
         "4+",
         "80386048.0",
         "9.0",
         "2020-09-03T07:00:00Z",
         "2020-12-29T21:22:53Z",
         "1.4",
         "0.0",
         "USD",
         "True",
         "1589931680",
         "Unigigster Limited",
         null,
         "0.0",
         "0",
         "0.0",
         "0"
        ],
        [
         "60309",
         "com.passpret.esg",
         "PassPret",
         "https://apps.apple.com/us/app/passpret/id1548009187?uo=4",
         "Finance",
         "17+",
         "26243072.0",
         "11.0",
         "2021-03-29T07:00:00Z",
         "2021-03-29T13:03:50Z",
         "0.9",
         "0.0",
         "USD",
         "True",
         "1208526221",
         "Cabinet TM",
         null,
         "0.0",
         "0",
         "0.0",
         "0"
        ],
        [
         "63965",
         "net.thailandyfc.stepstopeacelite",
         "Steps to Peace Lite",
         "https://apps.apple.com/us/app/steps-to-peace-lite/id1056517637?uo=4",
         "Book",
         "4+",
         "39833600.0",
         "7.0",
         "2015-12-06T04:32:50Z",
         "2015-12-06T04:32:50Z",
         "2.0.7",
         "0.0",
         "USD",
         "True",
         "1056517636",
         "Thailand YFC",
         null,
         "0.0",
         "0",
         "0.0",
         "0"
        ],
        [
         "67140",
         "org.qmedia.player",
         "Q Ideas",
         "https://apps.apple.com/us/app/q-ideas/id1460403290?uo=4",
         "Education",
         "4+",
         "17534976.0",
         "9.2",
         "2019-04-25T07:16:00Z",
         "2019-04-25T07:16:00Z",
         "2.288",
         "0.0",
         "USD",
         "True",
         "1460403289",
         "Q Ideas",
         null,
         "0.0",
         "0",
         "0.0",
         "0"
        ],
        [
         "69119",
         "com.heeybe.ios",
         "Heeybe",
         "https://apps.apple.com/us/app/heeybe/id1580117008?uo=4",
         "Shopping",
         "17+",
         "16726016.0",
         "13.0",
         "2021-08-11T07:00:00Z",
         "2021-08-11T15:20:24Z",
         "1.0",
         "0.0",
         "USD",
         "True",
         "1590144890",
         "HEEYBE ELEKTRONIK VE BILISIM HIZMETLERI TICARET LIMITED SIRKETI",
         null,
         "0.0",
         "0",
         "0.0",
         "0"
        ],
        [
         "69350",
         "com.ibakarachi.ibamobile",
         "IBA Karachi",
         "https://apps.apple.com/us/app/iba-karachi/id1474961285?uo=4",
         "Education",
         "4+",
         "25309184.0",
         "11.1",
         "2019-08-13T07:00:00Z",
         "2020-07-30T14:46:32Z",
         "1.05",
         "0.0",
         "USD",
         "True",
         "1474961284",
         "IBA Karachi",
         null,
         "5.0",
         "2",
         "5.0",
         "2"
        ],
        [
         "71107",
         "mbda.mbda",
         "San Antonio MBDA Export Center",
         "https://apps.apple.com/us/app/san-antonio-mbda-export-center/id1554321670?uo=4",
         "Business",
         "4+",
         "5278720.0",
         "13.2",
         "2021-05-01T07:00:00Z",
         "2021-05-01T23:32:31Z",
         "1.0",
         "0.0",
         "USD",
         "True",
         "1554321672",
         "Mark Robinson",
         null,
         "5.0",
         "1",
         "5.0",
         "1"
        ],
        [
         "71723",
         "com.onefix.driver",
         "ONE FIX - Dành cho thợ",
         "https://apps.apple.com/us/app/one-fix-d%C3%A0nh-cho-th%E1%BB%A3/id1578646396?uo=4",
         "Business",
         "4+",
         "61231104.0",
         "11.0",
         "2021-08-04T07:00:00Z",
         "2021-09-28T14:41:46Z",
         "1.3",
         "0.0",
         "USD",
         "True",
         "1589033856",
         "TRAN THANH NHAT",
         null,
         "0.0",
         "0",
         "0.0",
         "0"
        ],
        [
         "71724",
         "com.onefix.user",
         "ONE FIX - Tìm thợ nhanh",
         "https://apps.apple.com/us/app/one-fix-t%C3%ACm-th%E1%BB%A3-nhanh/id1578645560?uo=4",
         "Business",
         "4+",
         "76130304.0",
         "11.0",
         "2021-08-02T07:00:00Z",
         "2021-09-28T14:41:15Z",
         "1.4",
         "0.0",
         "USD",
         "True",
         "1589033856",
         "TRAN THANH NHAT",
         null,
         "0.0",
         "0",
         "0.0",
         "0"
        ],
        [
         "71863",
         "com.mobil2b.app.delby",
         "DELBY",
         "https://apps.apple.com/us/app/delby/id1550930658?uo=4",
         "Business",
         "4+",
         "48815104.0",
         "12.0",
         "2021-02-01T08:00:00Z",
         "2021-07-31T19:09:19Z",
         "1.0.16",
         "0.0",
         "USD",
         "True",
         "1588858496",
         "SKOROST RESHENI, OOO",
         null,
         "0.0",
         "0",
         "0.0",
         "0"
        ],
        [
         "74049",
         "SMA.ITP.com.vn",
         "Carbro HDBH",
         "https://apps.apple.com/us/app/carbro-hdbh/id1247428449?uo=4",
         "Business",
         "4+",
         "28141568.0",
         "9.0",
         "2017-09-02T21:45:48Z",
         "2021-05-14T14:00:53Z",
         "1.3.8",
         "0.0",
         "USD",
         "True",
         "1590072047",
         "PHUC LAI - FLIX COMMUNICATIONS CO., LTD",
         null,
         "5.0",
         "1",
         "5.0",
         "1"
        ],
        [
         "75955",
         "com.deliverybasics.merchant",
         "Delivery Basics Merchant",
         "https://apps.apple.com/us/app/delivery-basics-merchant/id1557316905?uo=4",
         "Business",
         "12+",
         "139853824.0",
         "12.0",
         "2021-07-19T07:00:00Z",
         "2021-09-16T17:23:42Z",
         "1.5",
         "0.0",
         "USD",
         "True",
         "1589137367",
         "Delivery Basics LLC",
         null,
         "0.0",
         "0",
         "0.0",
         "0"
        ],
        [
         "76702",
         "com.hamiltonschools",
         "Hamilton School District 328",
         "https://apps.apple.com/us/app/hamilton-school-district-328/id1474831203?uo=4",
         "Education",
         "17+",
         "53828608.0",
         "11.0",
         "2019-08-10T07:00:00Z",
         "2019-08-23T01:39:42Z",
         "1.1",
         "0.0",
         "USD",
         "True",
         "1474831202",
         "Hamilton Cmty Cons SD 328",
         null,
         "3.75",
         "4",
         "3.75",
         "4"
        ],
        [
         "80207",
         "com.essntm.vmbasic",
         "Vaikuseminutid",
         "https://apps.apple.com/us/app/vaikuseminutid/id1313987778?uo=4",
         "Education",
         "4+",
         "93904896.0",
         "11.0",
         "2017-12-28T21:33:08Z",
         "2021-05-15T16:18:00Z",
         "2.6.12",
         "0.0",
         "USD",
         "True",
         "1588230200",
         "Vaikuseminutid MTU",
         null,
         "0.0",
         "0",
         "0.0",
         "0"
        ],
        [
         "80312",
         "Homeowner",
         "OneGuard Homeowners",
         "https://apps.apple.com/us/app/oneguard-homeowners/id1397571409?uo=4",
         "Business",
         "4+",
         "17616896.0",
         "9.0",
         "2018-08-04T02:01:59Z",
         "2018-09-19T19:26:34Z",
         "1.0.11",
         "0.0",
         "USD",
         "True",
         "1588145459",
         "OneGuard, LLC",
         null,
         "3.53846",
         "13",
         "3.53846",
         "13"
        ],
        [
         "80313",
         "net.oneguard.mechanicalinspections",
         "OneGuard Inspections",
         "https://apps.apple.com/us/app/oneguard-inspections/id1136015056?uo=4",
         "Business",
         "4+",
         "31867904.0",
         "8.0",
         "2016-07-24T03:19:46Z",
         "2016-09-10T19:53:27Z",
         "1.2.1",
         "0.0",
         "USD",
         "True",
         "1588145459",
         "OneGuard, LLC",
         null,
         "1.0",
         "1",
         "1.0",
         "1"
        ]
       ],
       "shape": {
        "columns": 20,
        "rows": 1109
       }
      },
      "text/html": [
       "<div>\n",
       "<style scoped>\n",
       "    .dataframe tbody tr th:only-of-type {\n",
       "        vertical-align: middle;\n",
       "    }\n",
       "\n",
       "    .dataframe tbody tr th {\n",
       "        vertical-align: top;\n",
       "    }\n",
       "\n",
       "    .dataframe thead th {\n",
       "        text-align: right;\n",
       "    }\n",
       "</style>\n",
       "<table border=\"1\" class=\"dataframe\">\n",
       "  <thead>\n",
       "    <tr style=\"text-align: right;\">\n",
       "      <th></th>\n",
       "      <th>App_Id</th>\n",
       "      <th>App_Name</th>\n",
       "      <th>AppStore_Url</th>\n",
       "      <th>Primary_Genre</th>\n",
       "      <th>Content_Rating</th>\n",
       "      <th>Size_Bytes</th>\n",
       "      <th>Required_IOS_Version</th>\n",
       "      <th>Released</th>\n",
       "      <th>Updated</th>\n",
       "      <th>Version</th>\n",
       "      <th>Price</th>\n",
       "      <th>Currency</th>\n",
       "      <th>Free</th>\n",
       "      <th>DeveloperId</th>\n",
       "      <th>Developer</th>\n",
       "      <th>Developer_Url</th>\n",
       "      <th>Average_User_Rating</th>\n",
       "      <th>Reviews</th>\n",
       "      <th>Current_Version_Score</th>\n",
       "      <th>Current_Version_Reviews</th>\n",
       "    </tr>\n",
       "  </thead>\n",
       "  <tbody>\n",
       "    <tr>\n",
       "      <th>2382</th>\n",
       "      <td>com.TroopAdmin2</td>\n",
       "      <td>C&amp;S Troop Admin</td>\n",
       "      <td>https://apps.apple.com/us/app/c-s-troop-admin/...</td>\n",
       "      <td>Business</td>\n",
       "      <td>4+</td>\n",
       "      <td>87355392.0</td>\n",
       "      <td>10.0</td>\n",
       "      <td>2021-06-04T07:00:00Z</td>\n",
       "      <td>2021-06-05T03:40:31Z</td>\n",
       "      <td>1.0</td>\n",
       "      <td>0.0</td>\n",
       "      <td>USD</td>\n",
       "      <td>True</td>\n",
       "      <td>1569780624</td>\n",
       "      <td>Hunter Biscuit &amp; Wolf Limited</td>\n",
       "      <td>NaN</td>\n",
       "      <td>0.00000</td>\n",
       "      <td>0</td>\n",
       "      <td>0.00000</td>\n",
       "      <td>0</td>\n",
       "    </tr>\n",
       "    <tr>\n",
       "      <th>2827</th>\n",
       "      <td>com.dhrubajyoti.bangla</td>\n",
       "      <td>Bangla Rhymes</td>\n",
       "      <td>https://apps.apple.com/us/app/bangla-rhymes/id...</td>\n",
       "      <td>Education</td>\n",
       "      <td>4+</td>\n",
       "      <td>56445952.0</td>\n",
       "      <td>9.1</td>\n",
       "      <td>2019-03-23T18:27:49Z</td>\n",
       "      <td>2019-03-23T18:27:49Z</td>\n",
       "      <td>1.0.1</td>\n",
       "      <td>0.0</td>\n",
       "      <td>USD</td>\n",
       "      <td>True</td>\n",
       "      <td>1452131894</td>\n",
       "      <td>Dhrubajyoti Dey</td>\n",
       "      <td>NaN</td>\n",
       "      <td>5.00000</td>\n",
       "      <td>5</td>\n",
       "      <td>5.00000</td>\n",
       "      <td>5</td>\n",
       "    </tr>\n",
       "    <tr>\n",
       "      <th>3498</th>\n",
       "      <td>com.f1rstmotors.f1rstmotors</td>\n",
       "      <td>F1RST MOTORS</td>\n",
       "      <td>https://apps.apple.com/us/app/f1rst-motors/id1...</td>\n",
       "      <td>Business</td>\n",
       "      <td>4+</td>\n",
       "      <td>77185024.0</td>\n",
       "      <td>13.0</td>\n",
       "      <td>2021-10-06T07:00:00Z</td>\n",
       "      <td>2021-10-06T12:15:27Z</td>\n",
       "      <td>1.0</td>\n",
       "      <td>0.0</td>\n",
       "      <td>USD</td>\n",
       "      <td>True</td>\n",
       "      <td>1588267041</td>\n",
       "      <td>F1RST MOTORS LLC</td>\n",
       "      <td>NaN</td>\n",
       "      <td>0.00000</td>\n",
       "      <td>0</td>\n",
       "      <td>0.00000</td>\n",
       "      <td>0</td>\n",
       "    </tr>\n",
       "    <tr>\n",
       "      <th>5820</th>\n",
       "      <td>tr.com.okuvaryum.mobil</td>\n",
       "      <td>Okuvaryum</td>\n",
       "      <td>https://apps.apple.com/us/app/okuvaryum/id1493...</td>\n",
       "      <td>Education</td>\n",
       "      <td>4+</td>\n",
       "      <td>79869952.0</td>\n",
       "      <td>11.0</td>\n",
       "      <td>2020-01-17T08:00:00Z</td>\n",
       "      <td>2021-05-29T15:20:58Z</td>\n",
       "      <td>1.0.21</td>\n",
       "      <td>0.0</td>\n",
       "      <td>USD</td>\n",
       "      <td>True</td>\n",
       "      <td>1589915483</td>\n",
       "      <td>OKUVARYUM EGITIM VE TEKNOLOJI ANONIM SIRKETI</td>\n",
       "      <td>NaN</td>\n",
       "      <td>4.44444</td>\n",
       "      <td>9</td>\n",
       "      <td>4.44444</td>\n",
       "      <td>9</td>\n",
       "    </tr>\n",
       "    <tr>\n",
       "      <th>5821</th>\n",
       "      <td>tr.com.okuvaryum.okul</td>\n",
       "      <td>Okuvaryum Okul</td>\n",
       "      <td>https://apps.apple.com/us/app/okuvaryum-okul/i...</td>\n",
       "      <td>Education</td>\n",
       "      <td>4+</td>\n",
       "      <td>39526400.0</td>\n",
       "      <td>11.0</td>\n",
       "      <td>2021-08-25T07:00:00Z</td>\n",
       "      <td>2021-10-08T17:07:59Z</td>\n",
       "      <td>1.0.2</td>\n",
       "      <td>0.0</td>\n",
       "      <td>USD</td>\n",
       "      <td>True</td>\n",
       "      <td>1589915483</td>\n",
       "      <td>OKUVARYUM EGITIM VE TEKNOLOJI ANONIM SIRKETI</td>\n",
       "      <td>NaN</td>\n",
       "      <td>0.00000</td>\n",
       "      <td>0</td>\n",
       "      <td>0.00000</td>\n",
       "      <td>0</td>\n",
       "    </tr>\n",
       "    <tr>\n",
       "      <th>...</th>\n",
       "      <td>...</td>\n",
       "      <td>...</td>\n",
       "      <td>...</td>\n",
       "      <td>...</td>\n",
       "      <td>...</td>\n",
       "      <td>...</td>\n",
       "      <td>...</td>\n",
       "      <td>...</td>\n",
       "      <td>...</td>\n",
       "      <td>...</td>\n",
       "      <td>...</td>\n",
       "      <td>...</td>\n",
       "      <td>...</td>\n",
       "      <td>...</td>\n",
       "      <td>...</td>\n",
       "      <td>...</td>\n",
       "      <td>...</td>\n",
       "      <td>...</td>\n",
       "      <td>...</td>\n",
       "      <td>...</td>\n",
       "    </tr>\n",
       "    <tr>\n",
       "      <th>1224824</th>\n",
       "      <td>com.theronts.janus</td>\n",
       "      <td>Auto Rescue Solutions</td>\n",
       "      <td>https://apps.apple.com/us/app/auto-rescue-solu...</td>\n",
       "      <td>Utilities</td>\n",
       "      <td>4+</td>\n",
       "      <td>55939072.0</td>\n",
       "      <td>9.0</td>\n",
       "      <td>2019-11-28T08:00:00Z</td>\n",
       "      <td>2021-09-16T12:17:42Z</td>\n",
       "      <td>1.0.36</td>\n",
       "      <td>0.0</td>\n",
       "      <td>USD</td>\n",
       "      <td>True</td>\n",
       "      <td>1586172439</td>\n",
       "      <td>Auto Rescue Solutions</td>\n",
       "      <td>NaN</td>\n",
       "      <td>2.50909</td>\n",
       "      <td>55</td>\n",
       "      <td>2.50909</td>\n",
       "      <td>55</td>\n",
       "    </tr>\n",
       "    <tr>\n",
       "      <th>1225530</th>\n",
       "      <td>AvayoScanner</td>\n",
       "      <td>AvayoScanner</td>\n",
       "      <td>https://apps.apple.com/us/app/avayoscanner/id8...</td>\n",
       "      <td>Utilities</td>\n",
       "      <td>4+</td>\n",
       "      <td>15228928.0</td>\n",
       "      <td>8.0</td>\n",
       "      <td>2014-06-05T18:02:40Z</td>\n",
       "      <td>2018-11-09T19:31:42Z</td>\n",
       "      <td>1.3.0</td>\n",
       "      <td>0.0</td>\n",
       "      <td>USD</td>\n",
       "      <td>True</td>\n",
       "      <td>882335259</td>\n",
       "      <td>Avayo BV</td>\n",
       "      <td>NaN</td>\n",
       "      <td>0.00000</td>\n",
       "      <td>0</td>\n",
       "      <td>0.00000</td>\n",
       "      <td>0</td>\n",
       "    </tr>\n",
       "    <tr>\n",
       "      <th>1225605</th>\n",
       "      <td>com.pvpn.privatevpn</td>\n",
       "      <td>PrivateVPN</td>\n",
       "      <td>https://apps.apple.com/us/app/privatevpn/id116...</td>\n",
       "      <td>Utilities</td>\n",
       "      <td>4+</td>\n",
       "      <td>74066944.0</td>\n",
       "      <td>10.0</td>\n",
       "      <td>2016-10-27T04:35:03Z</td>\n",
       "      <td>2020-12-31T20:55:09Z</td>\n",
       "      <td>3.8.1</td>\n",
       "      <td>0.0</td>\n",
       "      <td>USD</td>\n",
       "      <td>True</td>\n",
       "      <td>1586972255</td>\n",
       "      <td>PrivateVPN Global AB</td>\n",
       "      <td>NaN</td>\n",
       "      <td>4.53672</td>\n",
       "      <td>1852</td>\n",
       "      <td>4.53672</td>\n",
       "      <td>1852</td>\n",
       "    </tr>\n",
       "    <tr>\n",
       "      <th>1228795</th>\n",
       "      <td>com.meteoville.meteometz</td>\n",
       "      <td>Météo Metz</td>\n",
       "      <td>https://apps.apple.com/us/app/m%C3%A9t%C3%A9o-...</td>\n",
       "      <td>Weather</td>\n",
       "      <td>17+</td>\n",
       "      <td>27754496.0</td>\n",
       "      <td>9.0</td>\n",
       "      <td>2010-12-21T02:58:20Z</td>\n",
       "      <td>2017-10-07T10:23:15Z</td>\n",
       "      <td>3.3</td>\n",
       "      <td>0.0</td>\n",
       "      <td>USD</td>\n",
       "      <td>True</td>\n",
       "      <td>1588881766</td>\n",
       "      <td>METEO-VILLES</td>\n",
       "      <td>NaN</td>\n",
       "      <td>0.00000</td>\n",
       "      <td>0</td>\n",
       "      <td>0.00000</td>\n",
       "      <td>0</td>\n",
       "    </tr>\n",
       "    <tr>\n",
       "      <th>1228799</th>\n",
       "      <td>com.meteoville.meteoparis</td>\n",
       "      <td>Météo Paris</td>\n",
       "      <td>https://apps.apple.com/us/app/m%C3%A9t%C3%A9o-...</td>\n",
       "      <td>Weather</td>\n",
       "      <td>17+</td>\n",
       "      <td>84976640.0</td>\n",
       "      <td>10.0</td>\n",
       "      <td>2010-01-13T11:15:27Z</td>\n",
       "      <td>2021-01-24T06:19:26Z</td>\n",
       "      <td>4.2.3</td>\n",
       "      <td>0.0</td>\n",
       "      <td>USD</td>\n",
       "      <td>True</td>\n",
       "      <td>1588881766</td>\n",
       "      <td>METEO-VILLES</td>\n",
       "      <td>NaN</td>\n",
       "      <td>4.55999</td>\n",
       "      <td>50</td>\n",
       "      <td>4.55999</td>\n",
       "      <td>50</td>\n",
       "    </tr>\n",
       "  </tbody>\n",
       "</table>\n",
       "<p>1109 rows × 20 columns</p>\n",
       "</div>"
      ],
      "text/plain": [
       "                              App_Id               App_Name  \\\n",
       "2382                 com.TroopAdmin2        C&S Troop Admin   \n",
       "2827          com.dhrubajyoti.bangla          Bangla Rhymes   \n",
       "3498     com.f1rstmotors.f1rstmotors           F1RST MOTORS   \n",
       "5820          tr.com.okuvaryum.mobil              Okuvaryum   \n",
       "5821           tr.com.okuvaryum.okul         Okuvaryum Okul   \n",
       "...                              ...                    ...   \n",
       "1224824           com.theronts.janus  Auto Rescue Solutions   \n",
       "1225530                 AvayoScanner           AvayoScanner   \n",
       "1225605          com.pvpn.privatevpn             PrivateVPN   \n",
       "1228795     com.meteoville.meteometz             Météo Metz   \n",
       "1228799    com.meteoville.meteoparis            Météo Paris   \n",
       "\n",
       "                                              AppStore_Url Primary_Genre  \\\n",
       "2382     https://apps.apple.com/us/app/c-s-troop-admin/...      Business   \n",
       "2827     https://apps.apple.com/us/app/bangla-rhymes/id...     Education   \n",
       "3498     https://apps.apple.com/us/app/f1rst-motors/id1...      Business   \n",
       "5820     https://apps.apple.com/us/app/okuvaryum/id1493...     Education   \n",
       "5821     https://apps.apple.com/us/app/okuvaryum-okul/i...     Education   \n",
       "...                                                    ...           ...   \n",
       "1224824  https://apps.apple.com/us/app/auto-rescue-solu...     Utilities   \n",
       "1225530  https://apps.apple.com/us/app/avayoscanner/id8...     Utilities   \n",
       "1225605  https://apps.apple.com/us/app/privatevpn/id116...     Utilities   \n",
       "1228795  https://apps.apple.com/us/app/m%C3%A9t%C3%A9o-...       Weather   \n",
       "1228799  https://apps.apple.com/us/app/m%C3%A9t%C3%A9o-...       Weather   \n",
       "\n",
       "        Content_Rating  Size_Bytes Required_IOS_Version              Released  \\\n",
       "2382                4+  87355392.0                 10.0  2021-06-04T07:00:00Z   \n",
       "2827                4+  56445952.0                  9.1  2019-03-23T18:27:49Z   \n",
       "3498                4+  77185024.0                 13.0  2021-10-06T07:00:00Z   \n",
       "5820                4+  79869952.0                 11.0  2020-01-17T08:00:00Z   \n",
       "5821                4+  39526400.0                 11.0  2021-08-25T07:00:00Z   \n",
       "...                ...         ...                  ...                   ...   \n",
       "1224824             4+  55939072.0                  9.0  2019-11-28T08:00:00Z   \n",
       "1225530             4+  15228928.0                  8.0  2014-06-05T18:02:40Z   \n",
       "1225605             4+  74066944.0                 10.0  2016-10-27T04:35:03Z   \n",
       "1228795            17+  27754496.0                  9.0  2010-12-21T02:58:20Z   \n",
       "1228799            17+  84976640.0                 10.0  2010-01-13T11:15:27Z   \n",
       "\n",
       "                      Updated Version  Price Currency  Free  DeveloperId  \\\n",
       "2382     2021-06-05T03:40:31Z     1.0    0.0      USD  True   1569780624   \n",
       "2827     2019-03-23T18:27:49Z   1.0.1    0.0      USD  True   1452131894   \n",
       "3498     2021-10-06T12:15:27Z     1.0    0.0      USD  True   1588267041   \n",
       "5820     2021-05-29T15:20:58Z  1.0.21    0.0      USD  True   1589915483   \n",
       "5821     2021-10-08T17:07:59Z   1.0.2    0.0      USD  True   1589915483   \n",
       "...                       ...     ...    ...      ...   ...          ...   \n",
       "1224824  2021-09-16T12:17:42Z  1.0.36    0.0      USD  True   1586172439   \n",
       "1225530  2018-11-09T19:31:42Z   1.3.0    0.0      USD  True    882335259   \n",
       "1225605  2020-12-31T20:55:09Z   3.8.1    0.0      USD  True   1586972255   \n",
       "1228795  2017-10-07T10:23:15Z     3.3    0.0      USD  True   1588881766   \n",
       "1228799  2021-01-24T06:19:26Z   4.2.3    0.0      USD  True   1588881766   \n",
       "\n",
       "                                            Developer Developer_Url  \\\n",
       "2382                    Hunter Biscuit & Wolf Limited           NaN   \n",
       "2827                                  Dhrubajyoti Dey           NaN   \n",
       "3498                                 F1RST MOTORS LLC           NaN   \n",
       "5820     OKUVARYUM EGITIM VE TEKNOLOJI ANONIM SIRKETI           NaN   \n",
       "5821     OKUVARYUM EGITIM VE TEKNOLOJI ANONIM SIRKETI           NaN   \n",
       "...                                               ...           ...   \n",
       "1224824                         Auto Rescue Solutions           NaN   \n",
       "1225530                                      Avayo BV           NaN   \n",
       "1225605                          PrivateVPN Global AB           NaN   \n",
       "1228795                                  METEO-VILLES           NaN   \n",
       "1228799                                  METEO-VILLES           NaN   \n",
       "\n",
       "         Average_User_Rating  Reviews  Current_Version_Score  \\\n",
       "2382                 0.00000        0                0.00000   \n",
       "2827                 5.00000        5                5.00000   \n",
       "3498                 0.00000        0                0.00000   \n",
       "5820                 4.44444        9                4.44444   \n",
       "5821                 0.00000        0                0.00000   \n",
       "...                      ...      ...                    ...   \n",
       "1224824              2.50909       55                2.50909   \n",
       "1225530              0.00000        0                0.00000   \n",
       "1225605              4.53672     1852                4.53672   \n",
       "1228795              0.00000        0                0.00000   \n",
       "1228799              4.55999       50                4.55999   \n",
       "\n",
       "         Current_Version_Reviews  \n",
       "2382                           0  \n",
       "2827                           5  \n",
       "3498                           0  \n",
       "5820                           9  \n",
       "5821                           0  \n",
       "...                          ...  \n",
       "1224824                       55  \n",
       "1225530                        0  \n",
       "1225605                     1852  \n",
       "1228795                        0  \n",
       "1228799                       50  \n",
       "\n",
       "[1109 rows x 20 columns]"
      ]
     },
     "execution_count": 17,
     "metadata": {},
     "output_type": "execute_result"
    }
   ],
   "source": [
    "# view only those rows where a column has null values\n",
    "df[df['Developer_Url'].isnull()]"
   ]
  },
  {
   "cell_type": "code",
   "execution_count": 18,
   "id": "77c0f465",
   "metadata": {},
   "outputs": [
    {
     "data": {
      "application/vnd.microsoft.datawrangler.viewer.v0+json": {
       "columns": [
        {
         "name": "index",
         "rawType": "int64",
         "type": "integer"
        },
        {
         "name": "App_Id",
         "rawType": "object",
         "type": "string"
        },
        {
         "name": "App_Name",
         "rawType": "object",
         "type": "string"
        },
        {
         "name": "AppStore_Url",
         "rawType": "object",
         "type": "string"
        },
        {
         "name": "Primary_Genre",
         "rawType": "object",
         "type": "string"
        },
        {
         "name": "Content_Rating",
         "rawType": "object",
         "type": "string"
        },
        {
         "name": "Size_Bytes",
         "rawType": "float64",
         "type": "float"
        },
        {
         "name": "Required_IOS_Version",
         "rawType": "object",
         "type": "string"
        },
        {
         "name": "Released",
         "rawType": "object",
         "type": "string"
        },
        {
         "name": "Updated",
         "rawType": "object",
         "type": "string"
        },
        {
         "name": "Version",
         "rawType": "object",
         "type": "string"
        },
        {
         "name": "Price",
         "rawType": "float64",
         "type": "float"
        },
        {
         "name": "Currency",
         "rawType": "object",
         "type": "string"
        },
        {
         "name": "Free",
         "rawType": "bool",
         "type": "boolean"
        },
        {
         "name": "DeveloperId",
         "rawType": "int64",
         "type": "integer"
        },
        {
         "name": "Developer",
         "rawType": "object",
         "type": "string"
        },
        {
         "name": "Developer_Url",
         "rawType": "object",
         "type": "unknown"
        },
        {
         "name": "Average_User_Rating",
         "rawType": "float64",
         "type": "float"
        },
        {
         "name": "Reviews",
         "rawType": "int64",
         "type": "integer"
        },
        {
         "name": "Current_Version_Score",
         "rawType": "float64",
         "type": "float"
        },
        {
         "name": "Current_Version_Reviews",
         "rawType": "int64",
         "type": "integer"
        }
       ],
       "ref": "1044a2bb-9312-460e-a38c-75b86e2a7892",
       "rows": [
        [
         "2382",
         "com.TroopAdmin2",
         "C&S Troop Admin",
         "https://apps.apple.com/us/app/c-s-troop-admin/id1569780622?uo=4",
         "Business",
         "4+",
         "87355392.0",
         "10.0",
         "2021-06-04T07:00:00Z",
         "2021-06-05T03:40:31Z",
         "1.0",
         "0.0",
         "USD",
         "True",
         "1569780624",
         "Hunter Biscuit & Wolf Limited",
         null,
         "0.0",
         "0",
         "0.0",
         "0"
        ],
        [
         "2827",
         "com.dhrubajyoti.bangla",
         "Bangla Rhymes",
         "https://apps.apple.com/us/app/bangla-rhymes/id1455756332?uo=4",
         "Education",
         "4+",
         "56445952.0",
         "9.1",
         "2019-03-23T18:27:49Z",
         "2019-03-23T18:27:49Z",
         "1.0.1",
         "0.0",
         "USD",
         "True",
         "1452131894",
         "Dhrubajyoti Dey",
         null,
         "5.0",
         "5",
         "5.0",
         "5"
        ],
        [
         "3498",
         "com.f1rstmotors.f1rstmotors",
         "F1RST MOTORS",
         "https://apps.apple.com/us/app/f1rst-motors/id1588267039?uo=4",
         "Business",
         "4+",
         "77185024.0",
         "13.0",
         "2021-10-06T07:00:00Z",
         "2021-10-06T12:15:27Z",
         "1.0",
         "0.0",
         "USD",
         "True",
         "1588267041",
         "F1RST MOTORS LLC",
         null,
         "0.0",
         "0",
         "0.0",
         "0"
        ],
        [
         "5820",
         "tr.com.okuvaryum.mobil",
         "Okuvaryum",
         "https://apps.apple.com/us/app/okuvaryum/id1493919290?uo=4",
         "Education",
         "4+",
         "79869952.0",
         "11.0",
         "2020-01-17T08:00:00Z",
         "2021-05-29T15:20:58Z",
         "1.0.21",
         "0.0",
         "USD",
         "True",
         "1589915483",
         "OKUVARYUM EGITIM VE TEKNOLOJI ANONIM SIRKETI",
         null,
         "4.44444",
         "9",
         "4.44444",
         "9"
        ],
        [
         "5821",
         "tr.com.okuvaryum.okul",
         "Okuvaryum Okul",
         "https://apps.apple.com/us/app/okuvaryum-okul/id1528531378?uo=4",
         "Education",
         "4+",
         "39526400.0",
         "11.0",
         "2021-08-25T07:00:00Z",
         "2021-10-08T17:07:59Z",
         "1.0.2",
         "0.0",
         "USD",
         "True",
         "1589915483",
         "OKUVARYUM EGITIM VE TEKNOLOJI ANONIM SIRKETI",
         null,
         "0.0",
         "0",
         "0.0",
         "0"
        ]
       ],
       "shape": {
        "columns": 20,
        "rows": 5
       }
      },
      "text/html": [
       "<div>\n",
       "<style scoped>\n",
       "    .dataframe tbody tr th:only-of-type {\n",
       "        vertical-align: middle;\n",
       "    }\n",
       "\n",
       "    .dataframe tbody tr th {\n",
       "        vertical-align: top;\n",
       "    }\n",
       "\n",
       "    .dataframe thead th {\n",
       "        text-align: right;\n",
       "    }\n",
       "</style>\n",
       "<table border=\"1\" class=\"dataframe\">\n",
       "  <thead>\n",
       "    <tr style=\"text-align: right;\">\n",
       "      <th></th>\n",
       "      <th>App_Id</th>\n",
       "      <th>App_Name</th>\n",
       "      <th>AppStore_Url</th>\n",
       "      <th>Primary_Genre</th>\n",
       "      <th>Content_Rating</th>\n",
       "      <th>Size_Bytes</th>\n",
       "      <th>Required_IOS_Version</th>\n",
       "      <th>Released</th>\n",
       "      <th>Updated</th>\n",
       "      <th>Version</th>\n",
       "      <th>Price</th>\n",
       "      <th>Currency</th>\n",
       "      <th>Free</th>\n",
       "      <th>DeveloperId</th>\n",
       "      <th>Developer</th>\n",
       "      <th>Developer_Url</th>\n",
       "      <th>Average_User_Rating</th>\n",
       "      <th>Reviews</th>\n",
       "      <th>Current_Version_Score</th>\n",
       "      <th>Current_Version_Reviews</th>\n",
       "    </tr>\n",
       "  </thead>\n",
       "  <tbody>\n",
       "    <tr>\n",
       "      <th>2382</th>\n",
       "      <td>com.TroopAdmin2</td>\n",
       "      <td>C&amp;S Troop Admin</td>\n",
       "      <td>https://apps.apple.com/us/app/c-s-troop-admin/...</td>\n",
       "      <td>Business</td>\n",
       "      <td>4+</td>\n",
       "      <td>87355392.0</td>\n",
       "      <td>10.0</td>\n",
       "      <td>2021-06-04T07:00:00Z</td>\n",
       "      <td>2021-06-05T03:40:31Z</td>\n",
       "      <td>1.0</td>\n",
       "      <td>0.0</td>\n",
       "      <td>USD</td>\n",
       "      <td>True</td>\n",
       "      <td>1569780624</td>\n",
       "      <td>Hunter Biscuit &amp; Wolf Limited</td>\n",
       "      <td>NaN</td>\n",
       "      <td>0.00000</td>\n",
       "      <td>0</td>\n",
       "      <td>0.00000</td>\n",
       "      <td>0</td>\n",
       "    </tr>\n",
       "    <tr>\n",
       "      <th>2827</th>\n",
       "      <td>com.dhrubajyoti.bangla</td>\n",
       "      <td>Bangla Rhymes</td>\n",
       "      <td>https://apps.apple.com/us/app/bangla-rhymes/id...</td>\n",
       "      <td>Education</td>\n",
       "      <td>4+</td>\n",
       "      <td>56445952.0</td>\n",
       "      <td>9.1</td>\n",
       "      <td>2019-03-23T18:27:49Z</td>\n",
       "      <td>2019-03-23T18:27:49Z</td>\n",
       "      <td>1.0.1</td>\n",
       "      <td>0.0</td>\n",
       "      <td>USD</td>\n",
       "      <td>True</td>\n",
       "      <td>1452131894</td>\n",
       "      <td>Dhrubajyoti Dey</td>\n",
       "      <td>NaN</td>\n",
       "      <td>5.00000</td>\n",
       "      <td>5</td>\n",
       "      <td>5.00000</td>\n",
       "      <td>5</td>\n",
       "    </tr>\n",
       "    <tr>\n",
       "      <th>3498</th>\n",
       "      <td>com.f1rstmotors.f1rstmotors</td>\n",
       "      <td>F1RST MOTORS</td>\n",
       "      <td>https://apps.apple.com/us/app/f1rst-motors/id1...</td>\n",
       "      <td>Business</td>\n",
       "      <td>4+</td>\n",
       "      <td>77185024.0</td>\n",
       "      <td>13.0</td>\n",
       "      <td>2021-10-06T07:00:00Z</td>\n",
       "      <td>2021-10-06T12:15:27Z</td>\n",
       "      <td>1.0</td>\n",
       "      <td>0.0</td>\n",
       "      <td>USD</td>\n",
       "      <td>True</td>\n",
       "      <td>1588267041</td>\n",
       "      <td>F1RST MOTORS LLC</td>\n",
       "      <td>NaN</td>\n",
       "      <td>0.00000</td>\n",
       "      <td>0</td>\n",
       "      <td>0.00000</td>\n",
       "      <td>0</td>\n",
       "    </tr>\n",
       "    <tr>\n",
       "      <th>5820</th>\n",
       "      <td>tr.com.okuvaryum.mobil</td>\n",
       "      <td>Okuvaryum</td>\n",
       "      <td>https://apps.apple.com/us/app/okuvaryum/id1493...</td>\n",
       "      <td>Education</td>\n",
       "      <td>4+</td>\n",
       "      <td>79869952.0</td>\n",
       "      <td>11.0</td>\n",
       "      <td>2020-01-17T08:00:00Z</td>\n",
       "      <td>2021-05-29T15:20:58Z</td>\n",
       "      <td>1.0.21</td>\n",
       "      <td>0.0</td>\n",
       "      <td>USD</td>\n",
       "      <td>True</td>\n",
       "      <td>1589915483</td>\n",
       "      <td>OKUVARYUM EGITIM VE TEKNOLOJI ANONIM SIRKETI</td>\n",
       "      <td>NaN</td>\n",
       "      <td>4.44444</td>\n",
       "      <td>9</td>\n",
       "      <td>4.44444</td>\n",
       "      <td>9</td>\n",
       "    </tr>\n",
       "    <tr>\n",
       "      <th>5821</th>\n",
       "      <td>tr.com.okuvaryum.okul</td>\n",
       "      <td>Okuvaryum Okul</td>\n",
       "      <td>https://apps.apple.com/us/app/okuvaryum-okul/i...</td>\n",
       "      <td>Education</td>\n",
       "      <td>4+</td>\n",
       "      <td>39526400.0</td>\n",
       "      <td>11.0</td>\n",
       "      <td>2021-08-25T07:00:00Z</td>\n",
       "      <td>2021-10-08T17:07:59Z</td>\n",
       "      <td>1.0.2</td>\n",
       "      <td>0.0</td>\n",
       "      <td>USD</td>\n",
       "      <td>True</td>\n",
       "      <td>1589915483</td>\n",
       "      <td>OKUVARYUM EGITIM VE TEKNOLOJI ANONIM SIRKETI</td>\n",
       "      <td>NaN</td>\n",
       "      <td>0.00000</td>\n",
       "      <td>0</td>\n",
       "      <td>0.00000</td>\n",
       "      <td>0</td>\n",
       "    </tr>\n",
       "  </tbody>\n",
       "</table>\n",
       "</div>"
      ],
      "text/plain": [
       "                           App_Id         App_Name  \\\n",
       "2382              com.TroopAdmin2  C&S Troop Admin   \n",
       "2827       com.dhrubajyoti.bangla    Bangla Rhymes   \n",
       "3498  com.f1rstmotors.f1rstmotors     F1RST MOTORS   \n",
       "5820       tr.com.okuvaryum.mobil        Okuvaryum   \n",
       "5821        tr.com.okuvaryum.okul   Okuvaryum Okul   \n",
       "\n",
       "                                           AppStore_Url Primary_Genre  \\\n",
       "2382  https://apps.apple.com/us/app/c-s-troop-admin/...      Business   \n",
       "2827  https://apps.apple.com/us/app/bangla-rhymes/id...     Education   \n",
       "3498  https://apps.apple.com/us/app/f1rst-motors/id1...      Business   \n",
       "5820  https://apps.apple.com/us/app/okuvaryum/id1493...     Education   \n",
       "5821  https://apps.apple.com/us/app/okuvaryum-okul/i...     Education   \n",
       "\n",
       "     Content_Rating  Size_Bytes Required_IOS_Version              Released  \\\n",
       "2382             4+  87355392.0                 10.0  2021-06-04T07:00:00Z   \n",
       "2827             4+  56445952.0                  9.1  2019-03-23T18:27:49Z   \n",
       "3498             4+  77185024.0                 13.0  2021-10-06T07:00:00Z   \n",
       "5820             4+  79869952.0                 11.0  2020-01-17T08:00:00Z   \n",
       "5821             4+  39526400.0                 11.0  2021-08-25T07:00:00Z   \n",
       "\n",
       "                   Updated Version  Price Currency  Free  DeveloperId  \\\n",
       "2382  2021-06-05T03:40:31Z     1.0    0.0      USD  True   1569780624   \n",
       "2827  2019-03-23T18:27:49Z   1.0.1    0.0      USD  True   1452131894   \n",
       "3498  2021-10-06T12:15:27Z     1.0    0.0      USD  True   1588267041   \n",
       "5820  2021-05-29T15:20:58Z  1.0.21    0.0      USD  True   1589915483   \n",
       "5821  2021-10-08T17:07:59Z   1.0.2    0.0      USD  True   1589915483   \n",
       "\n",
       "                                         Developer Developer_Url  \\\n",
       "2382                 Hunter Biscuit & Wolf Limited           NaN   \n",
       "2827                               Dhrubajyoti Dey           NaN   \n",
       "3498                              F1RST MOTORS LLC           NaN   \n",
       "5820  OKUVARYUM EGITIM VE TEKNOLOJI ANONIM SIRKETI           NaN   \n",
       "5821  OKUVARYUM EGITIM VE TEKNOLOJI ANONIM SIRKETI           NaN   \n",
       "\n",
       "      Average_User_Rating  Reviews  Current_Version_Score  \\\n",
       "2382              0.00000        0                0.00000   \n",
       "2827              5.00000        5                5.00000   \n",
       "3498              0.00000        0                0.00000   \n",
       "5820              4.44444        9                4.44444   \n",
       "5821              0.00000        0                0.00000   \n",
       "\n",
       "      Current_Version_Reviews  \n",
       "2382                        0  \n",
       "2827                        5  \n",
       "3498                        0  \n",
       "5820                        9  \n",
       "5821                        0  "
      ]
     },
     "execution_count": 18,
     "metadata": {},
     "output_type": "execute_result"
    }
   ],
   "source": [
    "df[df['Developer_Url'].isnull()].head(5)"
   ]
  },
  {
   "cell_type": "code",
   "execution_count": 21,
   "id": "0bfa2960",
   "metadata": {},
   "outputs": [],
   "source": [
    "# Create a mapping dictionary based on either App_Id or App_Name\n",
    "# if 'App_Id' in df.columns:\n",
    "#     app_map = df.dropna(subset=['Developer_Url', 'App_Id']).set_index('App_Id')['Developer_Url'].to_dict()\n",
    "# else:\n",
    "#     app_map = df.dropna(subset=['Developer_Url', 'App_Name']).set_index('App_Name')['Developer_Url'].to_dict()\n",
    "\n",
    "# # Replace NaN values with released date from app_map using app_id or app_name\n",
    "# if 'App_Id' in df.columns:\n",
    "#     df['Developer_Url'] = df.apply(lambda row: app_map[row['App_Id']] if pd.isna(row['Developer_Url']) else row['Developer_Url'], axis=1)\n",
    "# else:\n",
    "#     df['Developer_Url'] = df.apply(lambda row: app_map[row['App_Name']] if pd.isna(row['Developer_Url']) else row['Developer_Url'], axis=1)\n",
    "\n",
    "\n",
    "\n",
    "df.dropna(subset=['Developer_Url'], inplace=True)\n",
    "\n",
    "df.dropna(subset=['Released'], inplace=True)\n",
    "\n",
    "df.dropna(subset=['App_Name'], inplace=True)"
   ]
  },
  {
   "cell_type": "code",
   "execution_count": 22,
   "id": "3fb6e928",
   "metadata": {},
   "outputs": [
    {
     "data": {
      "application/vnd.microsoft.datawrangler.viewer.v0+json": {
       "columns": [
        {
         "name": "index",
         "rawType": "object",
         "type": "string"
        },
        {
         "name": "0",
         "rawType": "int64",
         "type": "integer"
        }
       ],
       "ref": "6d9333a4-c403-42b2-abcf-fe549d85f44a",
       "rows": [
        [
         "App_Id",
         "0"
        ],
        [
         "App_Name",
         "0"
        ],
        [
         "AppStore_Url",
         "0"
        ],
        [
         "Primary_Genre",
         "0"
        ],
        [
         "Content_Rating",
         "0"
        ],
        [
         "Size_Bytes",
         "0"
        ],
        [
         "Required_IOS_Version",
         "0"
        ],
        [
         "Released",
         "0"
        ],
        [
         "Updated",
         "0"
        ],
        [
         "Version",
         "0"
        ],
        [
         "Price",
         "0"
        ],
        [
         "Currency",
         "0"
        ],
        [
         "Free",
         "0"
        ],
        [
         "DeveloperId",
         "0"
        ],
        [
         "Developer",
         "0"
        ],
        [
         "Developer_Url",
         "0"
        ],
        [
         "Average_User_Rating",
         "0"
        ],
        [
         "Reviews",
         "0"
        ],
        [
         "Current_Version_Score",
         "0"
        ],
        [
         "Current_Version_Reviews",
         "0"
        ]
       ],
       "shape": {
        "columns": 1,
        "rows": 20
       }
      },
      "text/plain": [
       "App_Id                     0\n",
       "App_Name                   0\n",
       "AppStore_Url               0\n",
       "Primary_Genre              0\n",
       "Content_Rating             0\n",
       "Size_Bytes                 0\n",
       "Required_IOS_Version       0\n",
       "Released                   0\n",
       "Updated                    0\n",
       "Version                    0\n",
       "Price                      0\n",
       "Currency                   0\n",
       "Free                       0\n",
       "DeveloperId                0\n",
       "Developer                  0\n",
       "Developer_Url              0\n",
       "Average_User_Rating        0\n",
       "Reviews                    0\n",
       "Current_Version_Score      0\n",
       "Current_Version_Reviews    0\n",
       "dtype: int64"
      ]
     },
     "execution_count": 22,
     "metadata": {},
     "output_type": "execute_result"
    }
   ],
   "source": [
    "df.isnull().sum().sort_values(ascending = False)"
   ]
  },
  {
   "cell_type": "markdown",
   "id": "89f22f04",
   "metadata": {},
   "source": [
    "## Data Now the dataset has no missing values"
   ]
  },
  {
   "cell_type": "code",
   "execution_count": 23,
   "id": "37a5dd30",
   "metadata": {},
   "outputs": [
    {
     "data": {
      "text/plain": [
       "np.False_"
      ]
     },
     "execution_count": 23,
     "metadata": {},
     "output_type": "execute_result"
    }
   ],
   "source": [
    "df.duplicated().any()"
   ]
  },
  {
   "cell_type": "code",
   "execution_count": 24,
   "id": "5abdf966",
   "metadata": {},
   "outputs": [
    {
     "data": {
      "text/plain": [
       "Index(['App_Id', 'App_Name', 'AppStore_Url', 'Primary_Genre', 'Content_Rating',\n",
       "       'Size_Bytes', 'Required_IOS_Version', 'Released', 'Updated', 'Version',\n",
       "       'Price', 'Currency', 'Free', 'DeveloperId', 'Developer',\n",
       "       'Developer_Url', 'Average_User_Rating', 'Reviews',\n",
       "       'Current_Version_Score', 'Current_Version_Reviews'],\n",
       "      dtype='object')"
      ]
     },
     "execution_count": 24,
     "metadata": {},
     "output_type": "execute_result"
    }
   ],
   "source": [
    "df.columns"
   ]
  },
  {
   "cell_type": "markdown",
   "id": "217531a8",
   "metadata": {},
   "source": [
    "## 2. Finding Duplicates"
   ]
  },
  {
   "cell_type": "code",
   "execution_count": 25,
   "id": "79edfca9",
   "metadata": {},
   "outputs": [],
   "source": [
    "any_duplicates = df.duplicated(subset=['App_Id', 'App_Name', 'AppStore_Url', 'Primary_Genre', 'Content_Rating',\n",
    "       'Size_Bytes', 'Required_IOS_Version', 'Released', 'Updated', 'Version',\n",
    "       'Price', 'Currency', 'Free', 'DeveloperId', 'Developer',\n",
    "       'Developer_Url', 'Average_User_Rating', 'Reviews',\n",
    "       'Current_Version_Score', 'Current_Version_Reviews']).any()"
   ]
  },
  {
   "cell_type": "code",
   "execution_count": 26,
   "id": "cb73604f",
   "metadata": {},
   "outputs": [
    {
     "data": {
      "text/plain": [
       "np.True_"
      ]
     },
     "execution_count": 26,
     "metadata": {},
     "output_type": "execute_result"
    }
   ],
   "source": [
    "boolean = df['App_Name'].duplicated().any()\n",
    "boolean"
   ]
  },
  {
   "cell_type": "code",
   "execution_count": 27,
   "id": "71d23928",
   "metadata": {},
   "outputs": [
    {
     "data": {
      "application/vnd.microsoft.datawrangler.viewer.v0+json": {
       "columns": [
        {
         "name": "App_Name",
         "rawType": "object",
         "type": "string"
        },
        {
         "name": "count",
         "rawType": "int64",
         "type": "integer"
        }
       ],
       "ref": "f30bad77-4498-4fde-b6e2-5866626fb84d",
       "rows": [
        [
         "Vanguard",
         "6"
        ],
        [
         "Linker",
         "5"
        ],
        [
         "Bloom",
         "5"
        ],
        [
         "Event Manager",
         "4"
        ],
        [
         "Lokal",
         "4"
        ],
        [
         "Settle",
         "4"
        ],
        [
         "Pizza Max",
         "4"
        ],
        [
         "Hub",
         "4"
        ],
        [
         "Atelier",
         "4"
        ],
        [
         "Bright",
         "4"
        ],
        [
         "Lume",
         "4"
        ],
        [
         "Onboard",
         "4"
        ],
        [
         "Lynx",
         "4"
        ],
        [
         "Momentum",
         "4"
        ],
        [
         "Simply",
         "4"
        ],
        [
         "Atria",
         "4"
        ],
        [
         "Awaken",
         "4"
        ],
        [
         "Currency Converter",
         "4"
        ],
        [
         "Fresco",
         "4"
        ],
        [
         "PinApp",
         "4"
        ],
        [
         "AVS",
         "4"
        ],
        [
         "Donna",
         "4"
        ],
        [
         "Sketch",
         "4"
        ],
        [
         "Flow",
         "4"
        ],
        [
         "E-Smart",
         "4"
        ],
        [
         "Delivery App",
         "4"
        ],
        [
         "KPS",
         "4"
        ],
        [
         "GPS Tracker",
         "4"
        ],
        [
         "Bingo",
         "4"
        ],
        [
         "SMA",
         "4"
        ],
        [
         "Light",
         "4"
        ],
        [
         "Vibe",
         "4"
        ],
        [
         "Happy House",
         "4"
        ],
        [
         "OBS",
         "3"
        ],
        [
         "Harmony",
         "3"
        ],
        [
         "Artify",
         "3"
        ],
        [
         "Sherlock",
         "3"
        ],
        [
         "Charlie",
         "3"
        ],
        [
         "Velocity",
         "3"
        ],
        [
         "Schooly",
         "3"
        ],
        [
         "Villa Verde",
         "3"
        ],
        [
         "Chilll",
         "3"
        ],
        [
         "INC",
         "3"
        ],
        [
         "Shade",
         "3"
        ],
        [
         "Lexical",
         "3"
        ],
        [
         "EventPass",
         "3"
        ],
        [
         "Bitte",
         "3"
        ],
        [
         "Simple Mobile",
         "3"
        ],
        [
         "Budy",
         "3"
        ],
        [
         "ASA",
         "3"
        ]
       ],
       "shape": {
        "columns": 1,
        "rows": 1222413
       }
      },
      "text/plain": [
       "App_Name\n",
       "Vanguard                      6\n",
       "Linker                        5\n",
       "Bloom                         5\n",
       "Event Manager                 4\n",
       "Lokal                         4\n",
       "                             ..\n",
       "Sесurity АdBlосkеr            1\n",
       "SесurеХ VРN - Wifi Proxy      1\n",
       "Sổ tay Xây dựng               1\n",
       "Sổ tay đảng viên Thái Bình    1\n",
       "AAB Mobile                    1\n",
       "Name: count, Length: 1222413, dtype: int64"
      ]
     },
     "execution_count": 27,
     "metadata": {},
     "output_type": "execute_result"
    }
   ],
   "source": [
    "df['App_Name'].value_counts().sort_values(ascending=False)"
   ]
  },
  {
   "cell_type": "markdown",
   "id": "15eebba4",
   "metadata": {},
   "source": [
    "## 3. Finding Unique Values"
   ]
  },
  {
   "cell_type": "code",
   "execution_count": 28,
   "id": "e3abd6f2",
   "metadata": {},
   "outputs": [
    {
     "data": {
      "text/plain": [
       "array([2.19934720e+07, 1.31358720e+07, 2.19432960e+07, ...,\n",
       "       1.19404544e+08, 5.96570000e+05, 5.06896000e+05])"
      ]
     },
     "execution_count": 28,
     "metadata": {},
     "output_type": "execute_result"
    }
   ],
   "source": [
    "df['Size_Bytes'].unique()"
   ]
  },
  {
   "cell_type": "code",
   "execution_count": 29,
   "id": "e0a01823",
   "metadata": {},
   "outputs": [
    {
     "data": {
      "text/plain": [
       "array([0.00000000e+00, 2.99000000e+00, 1.99000000e+00, 9.90000000e-01,\n",
       "       4.99000000e+00, 9.99000000e+00, 5.99000000e+00, 6.99000000e+00,\n",
       "       1.69900000e+01, 1.99900000e+01, 3.99900000e+01, 5.99900000e+01,\n",
       "       8.99000000e+00, 7.99000000e+00, 1.89900000e+01, 3.99000000e+00,\n",
       "       2.49900000e+01, 1.49900000e+01, 2.89900000e+01, 2.19900000e+01,\n",
       "       1.39900000e+01, 1.09900000e+01, 1.19900000e+01, 1.29990000e+02,\n",
       "       2.29900000e+01, 1.39990000e+02, 2.59900000e+01, 1.29900000e+01,\n",
       "       4.99900000e+01, 2.39900000e+01, 1.19990000e+02, 7.99900000e+01,\n",
       "       1.79900000e+01, 4.99990000e+02, 2.49990000e+02, 1.99990000e+02,\n",
       "       2.29990000e+02, 3.49900000e+01, 2.09900000e+01, 9.99900000e+01,\n",
       "       3.39900000e+01, 5.49900000e+01, 4.59900000e+01, 4.49900000e+01,\n",
       "       2.99900000e+01, 6.99900000e+01, 2.79900000e+01, 8.49900000e+01,\n",
       "       6.49900000e+01, 1.59900000e+01, 2.69900000e+01, 3.59900000e+01,\n",
       "       4.09900000e+01, 1.74990000e+02, 1.49990000e+02, 9.49900000e+01,\n",
       "       7.49900000e+01, 3.49990000e+02, 4.89900000e+01, 1.09990000e+02,\n",
       "       3.89900000e+01, 3.19900000e+01, 3.69900000e+01, 8.99900000e+01,\n",
       "       1.69990000e+02, 1.24990000e+02, 5.04126382e-01, 3.99990000e+02,\n",
       "       2.19990000e+02, 4.39900000e+01, 6.99990000e+02, 4.29900000e+01,\n",
       "       3.79900000e+01, 2.99990000e+02, 4.49990000e+02, 1.59990000e+02,\n",
       "       4.19900000e+01, 3.29900000e+01, 3.09900000e+01, 7.99990000e+02,\n",
       "       9.99990000e+02, 4.79900000e+01, 1.79990000e+02, 2.09990000e+02,\n",
       "       2.39990000e+02, 5.99990000e+02, 4.69900000e+01, 8.99990000e+02,\n",
       "       1.89990000e+02])"
      ]
     },
     "execution_count": 29,
     "metadata": {},
     "output_type": "execute_result"
    }
   ],
   "source": [
    "df['Price'].unique()"
   ]
  },
  {
   "cell_type": "code",
   "execution_count": 30,
   "id": "4598b669",
   "metadata": {},
   "outputs": [
    {
     "data": {
      "text/plain": [
       "array([0.     , 5.     , 4.78132, ..., 4.00352, 3.91608, 4.82733])"
      ]
     },
     "execution_count": 30,
     "metadata": {},
     "output_type": "execute_result"
    }
   ],
   "source": [
    "df['Average_User_Rating'].unique()"
   ]
  },
  {
   "cell_type": "code",
   "execution_count": 31,
   "id": "e718058f",
   "metadata": {},
   "outputs": [
    {
     "data": {
      "text/plain": [
       "array([    0,     1,  1285, ..., 12691, 35476, 10481])"
      ]
     },
     "execution_count": 31,
     "metadata": {},
     "output_type": "execute_result"
    }
   ],
   "source": [
    "df['Reviews'].unique()"
   ]
  },
  {
   "cell_type": "code",
   "execution_count": 32,
   "id": "ba91f53a",
   "metadata": {},
   "outputs": [
    {
     "data": {
      "text/plain": [
       "array([0.     , 5.     , 4.78132, ..., 4.00352, 3.91608, 4.82733])"
      ]
     },
     "execution_count": 32,
     "metadata": {},
     "output_type": "execute_result"
    }
   ],
   "source": [
    "df['Current_Version_Score'].unique()"
   ]
  },
  {
   "cell_type": "code",
   "execution_count": 33,
   "id": "a53a66d3",
   "metadata": {},
   "outputs": [
    {
     "data": {
      "text/plain": [
       "array(['USD'], dtype=object)"
      ]
     },
     "execution_count": 33,
     "metadata": {},
     "output_type": "execute_result"
    }
   ],
   "source": [
    "df['Currency'].unique()"
   ]
  },
  {
   "cell_type": "code",
   "execution_count": 34,
   "id": "87c7b305",
   "metadata": {},
   "outputs": [
    {
     "data": {
      "text/plain": [
       "array(['4+', '17+', '9+', '12+', 'Not yet rated'], dtype=object)"
      ]
     },
     "execution_count": 34,
     "metadata": {},
     "output_type": "execute_result"
    }
   ],
   "source": [
    "df['Content_Rating'].unique()"
   ]
  },
  {
   "cell_type": "code",
   "execution_count": 35,
   "id": "89b48947",
   "metadata": {},
   "outputs": [],
   "source": [
    "df['Size_MB'] = 0"
   ]
  },
  {
   "cell_type": "code",
   "execution_count": 36,
   "id": "fa9f90c4",
   "metadata": {},
   "outputs": [],
   "source": [
    "# convert bytes to MB\n",
    "df['Size_MB'] = df['Size_Bytes'].apply(lambda x: (float(x) / 1024)/1024)"
   ]
  },
  {
   "cell_type": "code",
   "execution_count": 37,
   "id": "152031b7",
   "metadata": {},
   "outputs": [
    {
     "data": {
      "application/vnd.microsoft.datawrangler.viewer.v0+json": {
       "columns": [
        {
         "name": "index",
         "rawType": "object",
         "type": "string"
        },
        {
         "name": "Average_User_Rating",
         "rawType": "float64",
         "type": "float"
        }
       ],
       "ref": "bf580a59-04d6-4171-a69c-fb6fa4640e45",
       "rows": [
        [
         "count",
         "1229263.0"
        ],
        [
         "mean",
         "1.7888478591074486"
        ],
        [
         "std",
         "2.154178668981258"
        ],
        [
         "min",
         "0.0"
        ],
        [
         "25%",
         "0.0"
        ],
        [
         "50%",
         "0.0"
        ],
        [
         "75%",
         "4.33333"
        ],
        [
         "max",
         "5.0"
        ]
       ],
       "shape": {
        "columns": 1,
        "rows": 8
       }
      },
      "text/plain": [
       "count    1.229263e+06\n",
       "mean     1.788848e+00\n",
       "std      2.154179e+00\n",
       "min      0.000000e+00\n",
       "25%      0.000000e+00\n",
       "50%      0.000000e+00\n",
       "75%      4.333330e+00\n",
       "max      5.000000e+00\n",
       "Name: Average_User_Rating, dtype: float64"
      ]
     },
     "execution_count": 37,
     "metadata": {},
     "output_type": "execute_result"
    }
   ],
   "source": [
    "df.Average_User_Rating.describe()"
   ]
  },
  {
   "cell_type": "code",
   "execution_count": 38,
   "id": "607abb48",
   "metadata": {},
   "outputs": [],
   "source": [
    "df['Type'] = np.where(df['Free'] == True,'Free','Paid')\n",
    "df.drop(['Free'],axis=1, inplace= True )"
   ]
  },
  {
   "cell_type": "code",
   "execution_count": 39,
   "id": "b939b89c",
   "metadata": {},
   "outputs": [
    {
     "data": {
      "application/vnd.microsoft.datawrangler.viewer.v0+json": {
       "columns": [
        {
         "name": "index",
         "rawType": "object",
         "type": "string"
        },
        {
         "name": "Reviews",
         "rawType": "float64",
         "type": "float"
        }
       ],
       "ref": "cb8e0784-cc41-4142-9bf0-a239398b45ae",
       "rows": [
        [
         "count",
         "1229263.0"
        ],
        [
         "mean",
         "826.6250086433904"
        ],
        [
         "std",
         "50183.19694515956"
        ],
        [
         "min",
         "0.0"
        ],
        [
         "25%",
         "0.0"
        ],
        [
         "50%",
         "0.0"
        ],
        [
         "75%",
         "3.0"
        ],
        [
         "max",
         "22685334.0"
        ]
       ],
       "shape": {
        "columns": 1,
        "rows": 8
       }
      },
      "text/plain": [
       "count    1.229263e+06\n",
       "mean     8.266250e+02\n",
       "std      5.018320e+04\n",
       "min      0.000000e+00\n",
       "25%      0.000000e+00\n",
       "50%      0.000000e+00\n",
       "75%      3.000000e+00\n",
       "max      2.268533e+07\n",
       "Name: Reviews, dtype: float64"
      ]
     },
     "execution_count": 39,
     "metadata": {},
     "output_type": "execute_result"
    }
   ],
   "source": [
    "df.Reviews.describe()"
   ]
  },
  {
   "cell_type": "code",
   "execution_count": 40,
   "id": "f8354dcf",
   "metadata": {},
   "outputs": [
    {
     "name": "stdout",
     "output_type": "stream",
     "text": [
      "4+\n",
      "17+\n",
      "9+\n",
      "12+\n",
      "Not yet rated\n"
     ]
    }
   ],
   "source": [
    "for i in df.Content_Rating.unique():\n",
    "    print(i)"
   ]
  },
  {
   "cell_type": "code",
   "execution_count": 41,
   "id": "047e1d3d",
   "metadata": {},
   "outputs": [],
   "source": [
    "df[\"Content_Rating\"]=df[\"Content_Rating\"].replace(\"4+\",\"Children\")\n",
    "df[\"Content_Rating\"]=df[\"Content_Rating\"].replace(\"9+\",\"Children\")\n",
    "df[\"Content_Rating\"]=df[\"Content_Rating\"].replace(\"12+\",\"Teens\")\n",
    "df[\"Content_Rating\"]=df[\"Content_Rating\"].replace(\"17+\",\"Adults\")\n",
    "df[\"Content_Rating\"]=df[\"Content_Rating\"].replace(\"Not yet rated\",\"Everyone\")"
   ]
  },
  {
   "cell_type": "code",
   "execution_count": 42,
   "id": "87556dba",
   "metadata": {},
   "outputs": [
    {
     "name": "stdout",
     "output_type": "stream",
     "text": [
      "['Children', 'Teens', 'Everyone', 'Adults']\n"
     ]
    }
   ],
   "source": [
    "agegroup = df['Content_Rating'].unique()\n",
    "\n",
    "# define the order in which you want to print the values\n",
    "custom_order = ['Children', 'Teens', 'Everyone', 'Adults']\n",
    "\n",
    "# sort the array in the custom order\n",
    "sorted_array = sorted(['Children', 'Adults', 'Teens', 'Everyone'], key=lambda x: custom_order.index(x))\n",
    "\n",
    "# print the sorted array\n",
    "print(sorted_array)"
   ]
  },
  {
   "cell_type": "code",
   "execution_count": 43,
   "id": "2d99e961",
   "metadata": {},
   "outputs": [
    {
     "data": {
      "application/vnd.microsoft.datawrangler.viewer.v0+json": {
       "columns": [
        {
         "name": "index",
         "rawType": "int64",
         "type": "integer"
        },
        {
         "name": "App_Id",
         "rawType": "object",
         "type": "string"
        },
        {
         "name": "App_Name",
         "rawType": "object",
         "type": "string"
        },
        {
         "name": "AppStore_Url",
         "rawType": "object",
         "type": "string"
        },
        {
         "name": "Primary_Genre",
         "rawType": "object",
         "type": "string"
        },
        {
         "name": "Content_Rating",
         "rawType": "object",
         "type": "string"
        },
        {
         "name": "Size_Bytes",
         "rawType": "float64",
         "type": "float"
        },
        {
         "name": "Required_IOS_Version",
         "rawType": "object",
         "type": "string"
        },
        {
         "name": "Released",
         "rawType": "object",
         "type": "string"
        },
        {
         "name": "Updated",
         "rawType": "object",
         "type": "string"
        },
        {
         "name": "Version",
         "rawType": "object",
         "type": "string"
        },
        {
         "name": "Price",
         "rawType": "float64",
         "type": "float"
        },
        {
         "name": "Currency",
         "rawType": "object",
         "type": "string"
        },
        {
         "name": "DeveloperId",
         "rawType": "int64",
         "type": "integer"
        },
        {
         "name": "Developer",
         "rawType": "object",
         "type": "string"
        },
        {
         "name": "Developer_Url",
         "rawType": "object",
         "type": "string"
        },
        {
         "name": "Average_User_Rating",
         "rawType": "float64",
         "type": "float"
        },
        {
         "name": "Reviews",
         "rawType": "int64",
         "type": "integer"
        },
        {
         "name": "Current_Version_Score",
         "rawType": "float64",
         "type": "float"
        },
        {
         "name": "Current_Version_Reviews",
         "rawType": "int64",
         "type": "integer"
        },
        {
         "name": "Size_MB",
         "rawType": "float64",
         "type": "float"
        },
        {
         "name": "Type",
         "rawType": "object",
         "type": "string"
        }
       ],
       "ref": "543ce160-fb52-4b9a-8305-9cd822fece44",
       "rows": [
        [
         "0",
         "com.hkbu.arc.apaper",
         "A+ Paper Guide",
         "https://apps.apple.com/us/app/a-paper-guide/id1277517387?uo=4",
         "Education",
         "Children",
         "21993472.0",
         "8.0",
         "2017-09-28T03:02:41Z",
         "2018-12-21T21:30:36Z",
         "1.1.2",
         "0.0",
         "USD",
         "1375410542",
         "HKBU ARC",
         "https://apps.apple.com/us/developer/hkbu-arc/id1375410542?uo=4",
         "0.0",
         "0",
         "0.0",
         "0",
         "20.974609375",
         "Free"
        ],
        [
         "1",
         "com.dmitriev.abooks",
         "A-Books",
         "https://apps.apple.com/us/app/a-books/id1031572002?uo=4",
         "Book",
         "Children",
         "13135872.0",
         "10.0",
         "2015-08-31T19:31:32Z",
         "2019-07-23T20:31:09Z",
         "1.3",
         "0.0",
         "USD",
         "1031572001",
         "Roman Dmitriev",
         "https://apps.apple.com/us/developer/roman-dmitriev/id1031572001?uo=4",
         "5.0",
         "1",
         "5.0",
         "1",
         "12.52734375",
         "Free"
        ],
        [
         "2",
         "no.terp.abooks",
         "A-books",
         "https://apps.apple.com/us/app/a-books/id1457024164?uo=4",
         "Book",
         "Children",
         "21943296.0",
         "9.0",
         "2021-04-14T07:00:00Z",
         "2021-05-30T21:08:54Z",
         "1.3.1",
         "0.0",
         "USD",
         "1457024163",
         "Terp AS",
         "https://apps.apple.com/us/developer/terp-as/id1457024163?uo=4",
         "0.0",
         "0",
         "0.0",
         "0",
         "20.9267578125",
         "Free"
        ],
        [
         "3",
         "fr.antoinettefleur.Book1",
         "A-F Book #1",
         "https://apps.apple.com/us/app/a-f-book-1/id500454885?uo=4",
         "Book",
         "Children",
         "81851392.0",
         "8.0",
         "2012-02-10T03:40:07Z",
         "2019-10-29T12:40:37Z",
         "1.2",
         "2.99",
         "USD",
         "439568839",
         "i-editeur.com",
         "https://apps.apple.com/us/developer/i-editeur-com/id439568839?uo=4",
         "0.0",
         "0",
         "0.0",
         "0",
         "78.0595703125",
         "Paid"
        ],
        [
         "4",
         "com.imonstersoft.azdictionaryios",
         "A-Z Synonyms Dictionary",
         "https://apps.apple.com/us/app/a-z-synonyms-dictionary/id1545096265?uo=4",
         "Reference",
         "Children",
         "64692224.0",
         "9.0",
         "2020-12-16T08:00:00Z",
         "2020-12-18T21:36:11Z",
         "1.0.1",
         "0.0",
         "USD",
         "656731821",
         "Ngov chiheang",
         "https://apps.apple.com/us/developer/ngov-chiheang/id656731821?uo=4",
         "0.0",
         "0",
         "0.0",
         "0",
         "61.6953125",
         "Free"
        ]
       ],
       "shape": {
        "columns": 21,
        "rows": 5
       }
      },
      "text/html": [
       "<div>\n",
       "<style scoped>\n",
       "    .dataframe tbody tr th:only-of-type {\n",
       "        vertical-align: middle;\n",
       "    }\n",
       "\n",
       "    .dataframe tbody tr th {\n",
       "        vertical-align: top;\n",
       "    }\n",
       "\n",
       "    .dataframe thead th {\n",
       "        text-align: right;\n",
       "    }\n",
       "</style>\n",
       "<table border=\"1\" class=\"dataframe\">\n",
       "  <thead>\n",
       "    <tr style=\"text-align: right;\">\n",
       "      <th></th>\n",
       "      <th>App_Id</th>\n",
       "      <th>App_Name</th>\n",
       "      <th>AppStore_Url</th>\n",
       "      <th>Primary_Genre</th>\n",
       "      <th>Content_Rating</th>\n",
       "      <th>Size_Bytes</th>\n",
       "      <th>Required_IOS_Version</th>\n",
       "      <th>Released</th>\n",
       "      <th>Updated</th>\n",
       "      <th>Version</th>\n",
       "      <th>...</th>\n",
       "      <th>Currency</th>\n",
       "      <th>DeveloperId</th>\n",
       "      <th>Developer</th>\n",
       "      <th>Developer_Url</th>\n",
       "      <th>Average_User_Rating</th>\n",
       "      <th>Reviews</th>\n",
       "      <th>Current_Version_Score</th>\n",
       "      <th>Current_Version_Reviews</th>\n",
       "      <th>Size_MB</th>\n",
       "      <th>Type</th>\n",
       "    </tr>\n",
       "  </thead>\n",
       "  <tbody>\n",
       "    <tr>\n",
       "      <th>0</th>\n",
       "      <td>com.hkbu.arc.apaper</td>\n",
       "      <td>A+ Paper Guide</td>\n",
       "      <td>https://apps.apple.com/us/app/a-paper-guide/id...</td>\n",
       "      <td>Education</td>\n",
       "      <td>Children</td>\n",
       "      <td>21993472.0</td>\n",
       "      <td>8.0</td>\n",
       "      <td>2017-09-28T03:02:41Z</td>\n",
       "      <td>2018-12-21T21:30:36Z</td>\n",
       "      <td>1.1.2</td>\n",
       "      <td>...</td>\n",
       "      <td>USD</td>\n",
       "      <td>1375410542</td>\n",
       "      <td>HKBU ARC</td>\n",
       "      <td>https://apps.apple.com/us/developer/hkbu-arc/i...</td>\n",
       "      <td>0.0</td>\n",
       "      <td>0</td>\n",
       "      <td>0.0</td>\n",
       "      <td>0</td>\n",
       "      <td>20.974609</td>\n",
       "      <td>Free</td>\n",
       "    </tr>\n",
       "    <tr>\n",
       "      <th>1</th>\n",
       "      <td>com.dmitriev.abooks</td>\n",
       "      <td>A-Books</td>\n",
       "      <td>https://apps.apple.com/us/app/a-books/id103157...</td>\n",
       "      <td>Book</td>\n",
       "      <td>Children</td>\n",
       "      <td>13135872.0</td>\n",
       "      <td>10.0</td>\n",
       "      <td>2015-08-31T19:31:32Z</td>\n",
       "      <td>2019-07-23T20:31:09Z</td>\n",
       "      <td>1.3</td>\n",
       "      <td>...</td>\n",
       "      <td>USD</td>\n",
       "      <td>1031572001</td>\n",
       "      <td>Roman Dmitriev</td>\n",
       "      <td>https://apps.apple.com/us/developer/roman-dmit...</td>\n",
       "      <td>5.0</td>\n",
       "      <td>1</td>\n",
       "      <td>5.0</td>\n",
       "      <td>1</td>\n",
       "      <td>12.527344</td>\n",
       "      <td>Free</td>\n",
       "    </tr>\n",
       "    <tr>\n",
       "      <th>2</th>\n",
       "      <td>no.terp.abooks</td>\n",
       "      <td>A-books</td>\n",
       "      <td>https://apps.apple.com/us/app/a-books/id145702...</td>\n",
       "      <td>Book</td>\n",
       "      <td>Children</td>\n",
       "      <td>21943296.0</td>\n",
       "      <td>9.0</td>\n",
       "      <td>2021-04-14T07:00:00Z</td>\n",
       "      <td>2021-05-30T21:08:54Z</td>\n",
       "      <td>1.3.1</td>\n",
       "      <td>...</td>\n",
       "      <td>USD</td>\n",
       "      <td>1457024163</td>\n",
       "      <td>Terp AS</td>\n",
       "      <td>https://apps.apple.com/us/developer/terp-as/id...</td>\n",
       "      <td>0.0</td>\n",
       "      <td>0</td>\n",
       "      <td>0.0</td>\n",
       "      <td>0</td>\n",
       "      <td>20.926758</td>\n",
       "      <td>Free</td>\n",
       "    </tr>\n",
       "    <tr>\n",
       "      <th>3</th>\n",
       "      <td>fr.antoinettefleur.Book1</td>\n",
       "      <td>A-F Book #1</td>\n",
       "      <td>https://apps.apple.com/us/app/a-f-book-1/id500...</td>\n",
       "      <td>Book</td>\n",
       "      <td>Children</td>\n",
       "      <td>81851392.0</td>\n",
       "      <td>8.0</td>\n",
       "      <td>2012-02-10T03:40:07Z</td>\n",
       "      <td>2019-10-29T12:40:37Z</td>\n",
       "      <td>1.2</td>\n",
       "      <td>...</td>\n",
       "      <td>USD</td>\n",
       "      <td>439568839</td>\n",
       "      <td>i-editeur.com</td>\n",
       "      <td>https://apps.apple.com/us/developer/i-editeur-...</td>\n",
       "      <td>0.0</td>\n",
       "      <td>0</td>\n",
       "      <td>0.0</td>\n",
       "      <td>0</td>\n",
       "      <td>78.059570</td>\n",
       "      <td>Paid</td>\n",
       "    </tr>\n",
       "    <tr>\n",
       "      <th>4</th>\n",
       "      <td>com.imonstersoft.azdictionaryios</td>\n",
       "      <td>A-Z Synonyms Dictionary</td>\n",
       "      <td>https://apps.apple.com/us/app/a-z-synonyms-dic...</td>\n",
       "      <td>Reference</td>\n",
       "      <td>Children</td>\n",
       "      <td>64692224.0</td>\n",
       "      <td>9.0</td>\n",
       "      <td>2020-12-16T08:00:00Z</td>\n",
       "      <td>2020-12-18T21:36:11Z</td>\n",
       "      <td>1.0.1</td>\n",
       "      <td>...</td>\n",
       "      <td>USD</td>\n",
       "      <td>656731821</td>\n",
       "      <td>Ngov chiheang</td>\n",
       "      <td>https://apps.apple.com/us/developer/ngov-chihe...</td>\n",
       "      <td>0.0</td>\n",
       "      <td>0</td>\n",
       "      <td>0.0</td>\n",
       "      <td>0</td>\n",
       "      <td>61.695312</td>\n",
       "      <td>Free</td>\n",
       "    </tr>\n",
       "  </tbody>\n",
       "</table>\n",
       "<p>5 rows × 21 columns</p>\n",
       "</div>"
      ],
      "text/plain": [
       "                             App_Id                 App_Name  \\\n",
       "0               com.hkbu.arc.apaper           A+ Paper Guide   \n",
       "1               com.dmitriev.abooks                  A-Books   \n",
       "2                    no.terp.abooks                  A-books   \n",
       "3          fr.antoinettefleur.Book1              A-F Book #1   \n",
       "4  com.imonstersoft.azdictionaryios  A-Z Synonyms Dictionary   \n",
       "\n",
       "                                        AppStore_Url Primary_Genre  \\\n",
       "0  https://apps.apple.com/us/app/a-paper-guide/id...     Education   \n",
       "1  https://apps.apple.com/us/app/a-books/id103157...          Book   \n",
       "2  https://apps.apple.com/us/app/a-books/id145702...          Book   \n",
       "3  https://apps.apple.com/us/app/a-f-book-1/id500...          Book   \n",
       "4  https://apps.apple.com/us/app/a-z-synonyms-dic...     Reference   \n",
       "\n",
       "  Content_Rating  Size_Bytes Required_IOS_Version              Released  \\\n",
       "0       Children  21993472.0                  8.0  2017-09-28T03:02:41Z   \n",
       "1       Children  13135872.0                 10.0  2015-08-31T19:31:32Z   \n",
       "2       Children  21943296.0                  9.0  2021-04-14T07:00:00Z   \n",
       "3       Children  81851392.0                  8.0  2012-02-10T03:40:07Z   \n",
       "4       Children  64692224.0                  9.0  2020-12-16T08:00:00Z   \n",
       "\n",
       "                Updated Version  ...  Currency DeveloperId       Developer  \\\n",
       "0  2018-12-21T21:30:36Z   1.1.2  ...       USD  1375410542        HKBU ARC   \n",
       "1  2019-07-23T20:31:09Z     1.3  ...       USD  1031572001  Roman Dmitriev   \n",
       "2  2021-05-30T21:08:54Z   1.3.1  ...       USD  1457024163         Terp AS   \n",
       "3  2019-10-29T12:40:37Z     1.2  ...       USD   439568839   i-editeur.com   \n",
       "4  2020-12-18T21:36:11Z   1.0.1  ...       USD   656731821   Ngov chiheang   \n",
       "\n",
       "                                       Developer_Url Average_User_Rating  \\\n",
       "0  https://apps.apple.com/us/developer/hkbu-arc/i...                 0.0   \n",
       "1  https://apps.apple.com/us/developer/roman-dmit...                 5.0   \n",
       "2  https://apps.apple.com/us/developer/terp-as/id...                 0.0   \n",
       "3  https://apps.apple.com/us/developer/i-editeur-...                 0.0   \n",
       "4  https://apps.apple.com/us/developer/ngov-chihe...                 0.0   \n",
       "\n",
       "   Reviews  Current_Version_Score  Current_Version_Reviews    Size_MB  Type  \n",
       "0        0                    0.0                        0  20.974609  Free  \n",
       "1        1                    5.0                        1  12.527344  Free  \n",
       "2        0                    0.0                        0  20.926758  Free  \n",
       "3        0                    0.0                        0  78.059570  Paid  \n",
       "4        0                    0.0                        0  61.695312  Free  \n",
       "\n",
       "[5 rows x 21 columns]"
      ]
     },
     "execution_count": 43,
     "metadata": {},
     "output_type": "execute_result"
    }
   ],
   "source": [
    "df.head(5)"
   ]
  },
  {
   "cell_type": "code",
   "execution_count": 44,
   "id": "4a18a678",
   "metadata": {},
   "outputs": [
    {
     "data": {
      "text/plain": [
       "np.int64(0)"
      ]
     },
     "execution_count": 44,
     "metadata": {},
     "output_type": "execute_result"
    }
   ],
   "source": [
    "df.Reviews.min()"
   ]
  },
  {
   "cell_type": "code",
   "execution_count": 45,
   "id": "c79a9951",
   "metadata": {},
   "outputs": [
    {
     "data": {
      "text/plain": [
       "np.int64(22685334)"
      ]
     },
     "execution_count": 45,
     "metadata": {},
     "output_type": "execute_result"
    }
   ],
   "source": [
    "df.Reviews.max()"
   ]
  },
  {
   "cell_type": "code",
   "execution_count": 46,
   "id": "7d3e8c71",
   "metadata": {},
   "outputs": [
    {
     "data": {
      "application/vnd.microsoft.datawrangler.viewer.v0+json": {
       "columns": [
        {
         "name": "index",
         "rawType": "object",
         "type": "string"
        },
        {
         "name": "Reviews",
         "rawType": "float64",
         "type": "float"
        }
       ],
       "ref": "0d5181b1-8e49-40e9-b901-c6e29f57b2bf",
       "rows": [
        [
         "count",
         "1229263.0"
        ],
        [
         "mean",
         "826.6250086433904"
        ],
        [
         "std",
         "50183.19694515956"
        ],
        [
         "min",
         "0.0"
        ],
        [
         "25%",
         "0.0"
        ],
        [
         "50%",
         "0.0"
        ],
        [
         "75%",
         "3.0"
        ],
        [
         "max",
         "22685334.0"
        ]
       ],
       "shape": {
        "columns": 1,
        "rows": 8
       }
      },
      "text/plain": [
       "count    1.229263e+06\n",
       "mean     8.266250e+02\n",
       "std      5.018320e+04\n",
       "min      0.000000e+00\n",
       "25%      0.000000e+00\n",
       "50%      0.000000e+00\n",
       "75%      3.000000e+00\n",
       "max      2.268533e+07\n",
       "Name: Reviews, dtype: float64"
      ]
     },
     "execution_count": 46,
     "metadata": {},
     "output_type": "execute_result"
    }
   ],
   "source": [
    "df.Reviews.describe()"
   ]
  },
  {
   "cell_type": "code",
   "execution_count": 47,
   "id": "bd1386f6",
   "metadata": {},
   "outputs": [
    {
     "data": {
      "application/vnd.microsoft.datawrangler.viewer.v0+json": {
       "columns": [
        {
         "name": "ReviewCategory",
         "rawType": "object",
         "type": "string"
        },
        {
         "name": "count",
         "rawType": "int64",
         "type": "integer"
        }
       ],
       "ref": "a581b3f8-181f-4e0a-a475-0b6d7503d813",
       "rows": [
        [
         "NoReviewsProvided",
         "683549"
        ],
        [
         "Less than 10K",
         "538691"
        ],
        [
         "Between 10K and 500K",
         "6725"
        ],
        [
         "Million Plus",
         "152"
        ],
        [
         "Between 500K and 1Mil",
         "146"
        ]
       ],
       "shape": {
        "columns": 1,
        "rows": 5
       }
      },
      "text/plain": [
       "ReviewCategory\n",
       "NoReviewsProvided        683549\n",
       "Less than 10K            538691\n",
       "Between 10K and 500K       6725\n",
       "Million Plus                152\n",
       "Between 500K and 1Mil       146\n",
       "Name: count, dtype: int64"
      ]
     },
     "execution_count": 47,
     "metadata": {},
     "output_type": "execute_result"
    }
   ],
   "source": [
    "df['ReviewCategory'] = 'NoReviewsProvided'\n",
    "df.loc[(df['Reviews'] > 0) & (df['Reviews'] <= 10000.0),'ReviewCategory'] = 'Less than 10K'\n",
    "df.loc[(df['Reviews'] > 10000) & (df['Reviews'] <= 500000.0),'ReviewCategory'] = 'Between 10K and 500K'\n",
    "df.loc[(df['Reviews'] > 500000) & (df['Reviews'] <= 1000000),'ReviewCategory'] = 'Between 500K and 1Mil'\n",
    "df.loc[(df['Reviews'] > 1000000) & (df['Reviews'] <= 22685334),'ReviewCategory'] = 'Million Plus'\n",
    "df['ReviewCategory'].value_counts()"
   ]
  },
  {
   "cell_type": "code",
   "execution_count": 48,
   "id": "e2ebe363",
   "metadata": {},
   "outputs": [
    {
     "name": "stdout",
     "output_type": "stream",
     "text": [
      "<class 'pandas.core.frame.DataFrame'>\n",
      "Index: 1229263 entries, 0 to 1230375\n",
      "Data columns (total 22 columns):\n",
      " #   Column                   Non-Null Count    Dtype  \n",
      "---  ------                   --------------    -----  \n",
      " 0   App_Id                   1229263 non-null  object \n",
      " 1   App_Name                 1229263 non-null  object \n",
      " 2   AppStore_Url             1229263 non-null  object \n",
      " 3   Primary_Genre            1229263 non-null  object \n",
      " 4   Content_Rating           1229263 non-null  object \n",
      " 5   Size_Bytes               1229263 non-null  float64\n",
      " 6   Required_IOS_Version     1229263 non-null  object \n",
      " 7   Released                 1229263 non-null  object \n",
      " 8   Updated                  1229263 non-null  object \n",
      " 9   Version                  1229263 non-null  object \n",
      " 10  Price                    1229263 non-null  float64\n",
      " 11  Currency                 1229263 non-null  object \n",
      " 12  DeveloperId              1229263 non-null  int64  \n",
      " 13  Developer                1229263 non-null  object \n",
      " 14  Developer_Url            1229263 non-null  object \n",
      " 15  Average_User_Rating      1229263 non-null  float64\n",
      " 16  Reviews                  1229263 non-null  int64  \n",
      " 17  Current_Version_Score    1229263 non-null  float64\n",
      " 18  Current_Version_Reviews  1229263 non-null  int64  \n",
      " 19  Size_MB                  1229263 non-null  float64\n",
      " 20  Type                     1229263 non-null  object \n",
      " 21  ReviewCategory           1229263 non-null  object \n",
      "dtypes: float64(5), int64(3), object(14)\n",
      "memory usage: 215.7+ MB\n"
     ]
    }
   ],
   "source": [
    "df.info()"
   ]
  },
  {
   "cell_type": "code",
   "execution_count": 49,
   "id": "ddca0b6e",
   "metadata": {},
   "outputs": [],
   "source": [
    "df[\"Average_User_Rating\"] = df[\"Average_User_Rating\"].round().astype(int)"
   ]
  },
  {
   "cell_type": "code",
   "execution_count": 50,
   "id": "782d76ff",
   "metadata": {},
   "outputs": [
    {
     "data": {
      "application/vnd.microsoft.datawrangler.viewer.v0+json": {
       "columns": [
        {
         "name": "index",
         "rawType": "int64",
         "type": "integer"
        },
        {
         "name": "App_Id",
         "rawType": "object",
         "type": "string"
        },
        {
         "name": "App_Name",
         "rawType": "object",
         "type": "string"
        },
        {
         "name": "AppStore_Url",
         "rawType": "object",
         "type": "string"
        },
        {
         "name": "Primary_Genre",
         "rawType": "object",
         "type": "string"
        },
        {
         "name": "Content_Rating",
         "rawType": "object",
         "type": "string"
        },
        {
         "name": "Size_Bytes",
         "rawType": "float64",
         "type": "float"
        },
        {
         "name": "Required_IOS_Version",
         "rawType": "object",
         "type": "string"
        },
        {
         "name": "Released",
         "rawType": "object",
         "type": "string"
        },
        {
         "name": "Updated",
         "rawType": "object",
         "type": "string"
        },
        {
         "name": "Version",
         "rawType": "object",
         "type": "string"
        },
        {
         "name": "Price",
         "rawType": "float64",
         "type": "float"
        },
        {
         "name": "Currency",
         "rawType": "object",
         "type": "string"
        },
        {
         "name": "DeveloperId",
         "rawType": "int64",
         "type": "integer"
        },
        {
         "name": "Developer",
         "rawType": "object",
         "type": "string"
        },
        {
         "name": "Developer_Url",
         "rawType": "object",
         "type": "string"
        },
        {
         "name": "Average_User_Rating",
         "rawType": "int64",
         "type": "integer"
        },
        {
         "name": "Reviews",
         "rawType": "int64",
         "type": "integer"
        },
        {
         "name": "Current_Version_Score",
         "rawType": "float64",
         "type": "float"
        },
        {
         "name": "Current_Version_Reviews",
         "rawType": "int64",
         "type": "integer"
        },
        {
         "name": "Size_MB",
         "rawType": "float64",
         "type": "float"
        },
        {
         "name": "Type",
         "rawType": "object",
         "type": "string"
        },
        {
         "name": "ReviewCategory",
         "rawType": "object",
         "type": "string"
        }
       ],
       "ref": "09aba976-1c34-4717-ab35-905c3d62d89b",
       "rows": [
        [
         "0",
         "com.hkbu.arc.apaper",
         "A+ Paper Guide",
         "https://apps.apple.com/us/app/a-paper-guide/id1277517387?uo=4",
         "Education",
         "Children",
         "21993472.0",
         "8.0",
         "2017-09-28T03:02:41Z",
         "2018-12-21T21:30:36Z",
         "1.1.2",
         "0.0",
         "USD",
         "1375410542",
         "HKBU ARC",
         "https://apps.apple.com/us/developer/hkbu-arc/id1375410542?uo=4",
         "0",
         "0",
         "0.0",
         "0",
         "20.974609375",
         "Free",
         "NoReviewsProvided"
        ],
        [
         "1",
         "com.dmitriev.abooks",
         "A-Books",
         "https://apps.apple.com/us/app/a-books/id1031572002?uo=4",
         "Book",
         "Children",
         "13135872.0",
         "10.0",
         "2015-08-31T19:31:32Z",
         "2019-07-23T20:31:09Z",
         "1.3",
         "0.0",
         "USD",
         "1031572001",
         "Roman Dmitriev",
         "https://apps.apple.com/us/developer/roman-dmitriev/id1031572001?uo=4",
         "5",
         "1",
         "5.0",
         "1",
         "12.52734375",
         "Free",
         "Less than 10K"
        ],
        [
         "2",
         "no.terp.abooks",
         "A-books",
         "https://apps.apple.com/us/app/a-books/id1457024164?uo=4",
         "Book",
         "Children",
         "21943296.0",
         "9.0",
         "2021-04-14T07:00:00Z",
         "2021-05-30T21:08:54Z",
         "1.3.1",
         "0.0",
         "USD",
         "1457024163",
         "Terp AS",
         "https://apps.apple.com/us/developer/terp-as/id1457024163?uo=4",
         "0",
         "0",
         "0.0",
         "0",
         "20.9267578125",
         "Free",
         "NoReviewsProvided"
        ],
        [
         "3",
         "fr.antoinettefleur.Book1",
         "A-F Book #1",
         "https://apps.apple.com/us/app/a-f-book-1/id500454885?uo=4",
         "Book",
         "Children",
         "81851392.0",
         "8.0",
         "2012-02-10T03:40:07Z",
         "2019-10-29T12:40:37Z",
         "1.2",
         "2.99",
         "USD",
         "439568839",
         "i-editeur.com",
         "https://apps.apple.com/us/developer/i-editeur-com/id439568839?uo=4",
         "0",
         "0",
         "0.0",
         "0",
         "78.0595703125",
         "Paid",
         "NoReviewsProvided"
        ],
        [
         "4",
         "com.imonstersoft.azdictionaryios",
         "A-Z Synonyms Dictionary",
         "https://apps.apple.com/us/app/a-z-synonyms-dictionary/id1545096265?uo=4",
         "Reference",
         "Children",
         "64692224.0",
         "9.0",
         "2020-12-16T08:00:00Z",
         "2020-12-18T21:36:11Z",
         "1.0.1",
         "0.0",
         "USD",
         "656731821",
         "Ngov chiheang",
         "https://apps.apple.com/us/developer/ngov-chiheang/id656731821?uo=4",
         "0",
         "0",
         "0.0",
         "0",
         "61.6953125",
         "Free",
         "NoReviewsProvided"
        ]
       ],
       "shape": {
        "columns": 22,
        "rows": 5
       }
      },
      "text/html": [
       "<div>\n",
       "<style scoped>\n",
       "    .dataframe tbody tr th:only-of-type {\n",
       "        vertical-align: middle;\n",
       "    }\n",
       "\n",
       "    .dataframe tbody tr th {\n",
       "        vertical-align: top;\n",
       "    }\n",
       "\n",
       "    .dataframe thead th {\n",
       "        text-align: right;\n",
       "    }\n",
       "</style>\n",
       "<table border=\"1\" class=\"dataframe\">\n",
       "  <thead>\n",
       "    <tr style=\"text-align: right;\">\n",
       "      <th></th>\n",
       "      <th>App_Id</th>\n",
       "      <th>App_Name</th>\n",
       "      <th>AppStore_Url</th>\n",
       "      <th>Primary_Genre</th>\n",
       "      <th>Content_Rating</th>\n",
       "      <th>Size_Bytes</th>\n",
       "      <th>Required_IOS_Version</th>\n",
       "      <th>Released</th>\n",
       "      <th>Updated</th>\n",
       "      <th>Version</th>\n",
       "      <th>...</th>\n",
       "      <th>DeveloperId</th>\n",
       "      <th>Developer</th>\n",
       "      <th>Developer_Url</th>\n",
       "      <th>Average_User_Rating</th>\n",
       "      <th>Reviews</th>\n",
       "      <th>Current_Version_Score</th>\n",
       "      <th>Current_Version_Reviews</th>\n",
       "      <th>Size_MB</th>\n",
       "      <th>Type</th>\n",
       "      <th>ReviewCategory</th>\n",
       "    </tr>\n",
       "  </thead>\n",
       "  <tbody>\n",
       "    <tr>\n",
       "      <th>0</th>\n",
       "      <td>com.hkbu.arc.apaper</td>\n",
       "      <td>A+ Paper Guide</td>\n",
       "      <td>https://apps.apple.com/us/app/a-paper-guide/id...</td>\n",
       "      <td>Education</td>\n",
       "      <td>Children</td>\n",
       "      <td>21993472.0</td>\n",
       "      <td>8.0</td>\n",
       "      <td>2017-09-28T03:02:41Z</td>\n",
       "      <td>2018-12-21T21:30:36Z</td>\n",
       "      <td>1.1.2</td>\n",
       "      <td>...</td>\n",
       "      <td>1375410542</td>\n",
       "      <td>HKBU ARC</td>\n",
       "      <td>https://apps.apple.com/us/developer/hkbu-arc/i...</td>\n",
       "      <td>0</td>\n",
       "      <td>0</td>\n",
       "      <td>0.0</td>\n",
       "      <td>0</td>\n",
       "      <td>20.974609</td>\n",
       "      <td>Free</td>\n",
       "      <td>NoReviewsProvided</td>\n",
       "    </tr>\n",
       "    <tr>\n",
       "      <th>1</th>\n",
       "      <td>com.dmitriev.abooks</td>\n",
       "      <td>A-Books</td>\n",
       "      <td>https://apps.apple.com/us/app/a-books/id103157...</td>\n",
       "      <td>Book</td>\n",
       "      <td>Children</td>\n",
       "      <td>13135872.0</td>\n",
       "      <td>10.0</td>\n",
       "      <td>2015-08-31T19:31:32Z</td>\n",
       "      <td>2019-07-23T20:31:09Z</td>\n",
       "      <td>1.3</td>\n",
       "      <td>...</td>\n",
       "      <td>1031572001</td>\n",
       "      <td>Roman Dmitriev</td>\n",
       "      <td>https://apps.apple.com/us/developer/roman-dmit...</td>\n",
       "      <td>5</td>\n",
       "      <td>1</td>\n",
       "      <td>5.0</td>\n",
       "      <td>1</td>\n",
       "      <td>12.527344</td>\n",
       "      <td>Free</td>\n",
       "      <td>Less than 10K</td>\n",
       "    </tr>\n",
       "    <tr>\n",
       "      <th>2</th>\n",
       "      <td>no.terp.abooks</td>\n",
       "      <td>A-books</td>\n",
       "      <td>https://apps.apple.com/us/app/a-books/id145702...</td>\n",
       "      <td>Book</td>\n",
       "      <td>Children</td>\n",
       "      <td>21943296.0</td>\n",
       "      <td>9.0</td>\n",
       "      <td>2021-04-14T07:00:00Z</td>\n",
       "      <td>2021-05-30T21:08:54Z</td>\n",
       "      <td>1.3.1</td>\n",
       "      <td>...</td>\n",
       "      <td>1457024163</td>\n",
       "      <td>Terp AS</td>\n",
       "      <td>https://apps.apple.com/us/developer/terp-as/id...</td>\n",
       "      <td>0</td>\n",
       "      <td>0</td>\n",
       "      <td>0.0</td>\n",
       "      <td>0</td>\n",
       "      <td>20.926758</td>\n",
       "      <td>Free</td>\n",
       "      <td>NoReviewsProvided</td>\n",
       "    </tr>\n",
       "    <tr>\n",
       "      <th>3</th>\n",
       "      <td>fr.antoinettefleur.Book1</td>\n",
       "      <td>A-F Book #1</td>\n",
       "      <td>https://apps.apple.com/us/app/a-f-book-1/id500...</td>\n",
       "      <td>Book</td>\n",
       "      <td>Children</td>\n",
       "      <td>81851392.0</td>\n",
       "      <td>8.0</td>\n",
       "      <td>2012-02-10T03:40:07Z</td>\n",
       "      <td>2019-10-29T12:40:37Z</td>\n",
       "      <td>1.2</td>\n",
       "      <td>...</td>\n",
       "      <td>439568839</td>\n",
       "      <td>i-editeur.com</td>\n",
       "      <td>https://apps.apple.com/us/developer/i-editeur-...</td>\n",
       "      <td>0</td>\n",
       "      <td>0</td>\n",
       "      <td>0.0</td>\n",
       "      <td>0</td>\n",
       "      <td>78.059570</td>\n",
       "      <td>Paid</td>\n",
       "      <td>NoReviewsProvided</td>\n",
       "    </tr>\n",
       "    <tr>\n",
       "      <th>4</th>\n",
       "      <td>com.imonstersoft.azdictionaryios</td>\n",
       "      <td>A-Z Synonyms Dictionary</td>\n",
       "      <td>https://apps.apple.com/us/app/a-z-synonyms-dic...</td>\n",
       "      <td>Reference</td>\n",
       "      <td>Children</td>\n",
       "      <td>64692224.0</td>\n",
       "      <td>9.0</td>\n",
       "      <td>2020-12-16T08:00:00Z</td>\n",
       "      <td>2020-12-18T21:36:11Z</td>\n",
       "      <td>1.0.1</td>\n",
       "      <td>...</td>\n",
       "      <td>656731821</td>\n",
       "      <td>Ngov chiheang</td>\n",
       "      <td>https://apps.apple.com/us/developer/ngov-chihe...</td>\n",
       "      <td>0</td>\n",
       "      <td>0</td>\n",
       "      <td>0.0</td>\n",
       "      <td>0</td>\n",
       "      <td>61.695312</td>\n",
       "      <td>Free</td>\n",
       "      <td>NoReviewsProvided</td>\n",
       "    </tr>\n",
       "  </tbody>\n",
       "</table>\n",
       "<p>5 rows × 22 columns</p>\n",
       "</div>"
      ],
      "text/plain": [
       "                             App_Id                 App_Name  \\\n",
       "0               com.hkbu.arc.apaper           A+ Paper Guide   \n",
       "1               com.dmitriev.abooks                  A-Books   \n",
       "2                    no.terp.abooks                  A-books   \n",
       "3          fr.antoinettefleur.Book1              A-F Book #1   \n",
       "4  com.imonstersoft.azdictionaryios  A-Z Synonyms Dictionary   \n",
       "\n",
       "                                        AppStore_Url Primary_Genre  \\\n",
       "0  https://apps.apple.com/us/app/a-paper-guide/id...     Education   \n",
       "1  https://apps.apple.com/us/app/a-books/id103157...          Book   \n",
       "2  https://apps.apple.com/us/app/a-books/id145702...          Book   \n",
       "3  https://apps.apple.com/us/app/a-f-book-1/id500...          Book   \n",
       "4  https://apps.apple.com/us/app/a-z-synonyms-dic...     Reference   \n",
       "\n",
       "  Content_Rating  Size_Bytes Required_IOS_Version              Released  \\\n",
       "0       Children  21993472.0                  8.0  2017-09-28T03:02:41Z   \n",
       "1       Children  13135872.0                 10.0  2015-08-31T19:31:32Z   \n",
       "2       Children  21943296.0                  9.0  2021-04-14T07:00:00Z   \n",
       "3       Children  81851392.0                  8.0  2012-02-10T03:40:07Z   \n",
       "4       Children  64692224.0                  9.0  2020-12-16T08:00:00Z   \n",
       "\n",
       "                Updated Version  ...  DeveloperId       Developer  \\\n",
       "0  2018-12-21T21:30:36Z   1.1.2  ...   1375410542        HKBU ARC   \n",
       "1  2019-07-23T20:31:09Z     1.3  ...   1031572001  Roman Dmitriev   \n",
       "2  2021-05-30T21:08:54Z   1.3.1  ...   1457024163         Terp AS   \n",
       "3  2019-10-29T12:40:37Z     1.2  ...    439568839   i-editeur.com   \n",
       "4  2020-12-18T21:36:11Z   1.0.1  ...    656731821   Ngov chiheang   \n",
       "\n",
       "                                       Developer_Url Average_User_Rating  \\\n",
       "0  https://apps.apple.com/us/developer/hkbu-arc/i...                   0   \n",
       "1  https://apps.apple.com/us/developer/roman-dmit...                   5   \n",
       "2  https://apps.apple.com/us/developer/terp-as/id...                   0   \n",
       "3  https://apps.apple.com/us/developer/i-editeur-...                   0   \n",
       "4  https://apps.apple.com/us/developer/ngov-chihe...                   0   \n",
       "\n",
       "  Reviews  Current_Version_Score  Current_Version_Reviews    Size_MB  Type  \\\n",
       "0       0                    0.0                        0  20.974609  Free   \n",
       "1       1                    5.0                        1  12.527344  Free   \n",
       "2       0                    0.0                        0  20.926758  Free   \n",
       "3       0                    0.0                        0  78.059570  Paid   \n",
       "4       0                    0.0                        0  61.695312  Free   \n",
       "\n",
       "      ReviewCategory  \n",
       "0  NoReviewsProvided  \n",
       "1      Less than 10K  \n",
       "2  NoReviewsProvided  \n",
       "3  NoReviewsProvided  \n",
       "4  NoReviewsProvided  \n",
       "\n",
       "[5 rows x 22 columns]"
      ]
     },
     "execution_count": 50,
     "metadata": {},
     "output_type": "execute_result"
    }
   ],
   "source": [
    "df.head(5)"
   ]
  },
  {
   "cell_type": "code",
   "execution_count": 51,
   "id": "1c64be80",
   "metadata": {},
   "outputs": [
    {
     "data": {
      "text/plain": [
       "array([0, 5, 3, 4, 2, 1])"
      ]
     },
     "execution_count": 51,
     "metadata": {},
     "output_type": "execute_result"
    }
   ],
   "source": [
    "df.Average_User_Rating.unique()"
   ]
  }
 ],
 "metadata": {
  "kernelspec": {
   "display_name": "Python 3",
   "language": "python",
   "name": "python3"
  },
  "language_info": {
   "codemirror_mode": {
    "name": "ipython",
    "version": 3
   },
   "file_extension": ".py",
   "mimetype": "text/x-python",
   "name": "python",
   "nbconvert_exporter": "python",
   "pygments_lexer": "ipython3",
   "version": "3.12.9"
  }
 },
 "nbformat": 4,
 "nbformat_minor": 5
}

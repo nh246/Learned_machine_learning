{
 "cells": [
  {
   "cell_type": "markdown",
   "id": "bcc04d63",
   "metadata": {},
   "source": [
    "## Find how may survived in the binned age groups"
   ]
  },
  {
   "cell_type": "code",
   "execution_count": null,
   "id": "dd0cfe30",
   "metadata": {
    "vscode": {
     "languageId": "plaintext"
    }
   },
   "outputs": [],
   "source": []
  }
 ],
 "metadata": {
  "language_info": {
   "name": "python"
  }
 },
 "nbformat": 4,
 "nbformat_minor": 5
}
